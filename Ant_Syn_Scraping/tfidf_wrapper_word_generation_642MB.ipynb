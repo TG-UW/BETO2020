{
 "cells": [
  {
   "cell_type": "code",
   "execution_count": 1,
   "metadata": {},
   "outputs": [],
   "source": [
    "import numpy as np\n",
    "import pandas as pd\n",
    "import os\n",
    "import random\n",
    "import sklearn\n",
    "from sklearn.linear_model import SGDClassifier # support vector machine\n",
    "from sklearn.feature_extraction.text import TfidfVectorizer"
   ]
  },
  {
   "cell_type": "code",
   "execution_count": 2,
   "metadata": {},
   "outputs": [],
   "source": [
    "beto = '/Users/Thomas/Desktop/BETO2020-master/Ant_Syn_Scraping/'\n",
    "google = \"/Users/Thomas/Desktop/BETO2020-master/Ant_Syn_Scraping/\""
   ]
  },
  {
   "cell_type": "code",
   "execution_count": 3,
   "metadata": {},
   "outputs": [],
   "source": [
    "os.chdir('/Users/Thomas/Desktop/BETO2020-master/Ant_Syn_Scraping/')\n",
    "import tfidf_wrapper_Copy1\n",
    "from tfidf_wrapper_Copy1 import tfidf_model"
   ]
  },
  {
   "cell_type": "code",
   "execution_count": 4,
   "metadata": {},
   "outputs": [],
   "source": [
    "os.chdir(google)\n",
    "file = open('Carbon.json','r')"
   ]
  },
  {
   "cell_type": "code",
   "execution_count": 5,
   "metadata": {},
   "outputs": [],
   "source": [
    "os.chdir(beto)"
   ]
  },
  {
   "cell_type": "code",
   "execution_count": 6,
   "metadata": {},
   "outputs": [],
   "source": [
    "#Finding a way to create the corpus from the imported json file"
   ]
  },
  {
   "cell_type": "code",
   "execution_count": 7,
   "metadata": {},
   "outputs": [],
   "source": [
    "import json\n",
    "raw_corpus = json.load(file)"
   ]
  },
  {
   "cell_type": "code",
   "execution_count": 8,
   "metadata": {},
   "outputs": [],
   "source": [
    "dates = ['1995','1996','1997','1998','1999','2000','2001','2002','2003','2004','2005','2006','2007','2008','2009','2010','2011','2012','2013','2014','2015','2016','2017','2018','2019','2020']\n",
    "nbr_pubs = []\n",
    "for date in dates:\n",
    "    nbr = str(len(raw_corpus[date]))\n",
    "    nbr_pubs.append([date,nbr])\n",
    "                  \n",
    "nbr_pubs = pd.DataFrame(nbr_pubs)\n",
    "        "
   ]
  },
  {
   "cell_type": "code",
   "execution_count": 9,
   "metadata": {},
   "outputs": [],
   "source": [
    "# make a list of publications from the file. tfidf_wrapper likes lists\n",
    "corpus = []\n",
    "for i in range(len(nbr_pubs)):\n",
    "    if nbr_pubs.iloc[i,1] != str(0):\n",
    "        for u in range(0,(int(nbr_pubs.iloc[i,1])-1)):\n",
    "            str_pub = str(raw_corpus[str(nbr_pubs.iloc[i,0])][str(u)]['fulltext'])\n",
    "            corpus.append(str_pub)\n",
    "file.close()\n"
   ]
  },
  {
   "cell_type": "code",
   "execution_count": 10,
   "metadata": {},
   "outputs": [
    {
     "data": {
      "text/plain": [
       "13370"
      ]
     },
     "execution_count": 10,
     "metadata": {},
     "output_type": "execute_result"
    }
   ],
   "source": [
    "# so there are now 3346 full texts in this list\n",
    "len(corpus)"
   ]
  },
  {
   "cell_type": "code",
   "execution_count": 11,
   "metadata": {},
   "outputs": [],
   "source": [
    "def scrambled(orig):\n",
    "    dest = orig[:]\n",
    "    random.shuffle(dest)\n",
    "    return dest"
   ]
  },
  {
   "cell_type": "code",
   "execution_count": 12,
   "metadata": {},
   "outputs": [],
   "source": [
    "# shake things up to be statistically fair.\n",
    "corpus = scrambled(corpus)"
   ]
  },
  {
   "cell_type": "code",
   "execution_count": 13,
   "metadata": {},
   "outputs": [],
   "source": [
    "# if you need documentation of how to use tfidf_wrapper, or you can just look at the source code\n",
    "# help(tfidf_wrapper_Copy1)"
   ]
  },
  {
   "cell_type": "code",
   "execution_count": 14,
   "metadata": {},
   "outputs": [],
   "source": [
    "# This is the first call made for a tfidf_model class, create the object, which requires input corpus\n",
    "model = tfidf_model(corpus)"
   ]
  },
  {
   "cell_type": "code",
   "execution_count": 15,
   "metadata": {},
   "outputs": [],
   "source": [
    "# Now we make the tfidf matrix. This is a matrix that will contain vectors for each paper.\n",
    "# Each vector will have the unique tfidf information for every word\n",
    "model.tfidf_matrix()"
   ]
  },
  {
   "cell_type": "code",
   "execution_count": 17,
   "metadata": {},
   "outputs": [],
   "source": [
    "# the array attribute of the model contains all of the tfidf information\n",
    "mat = model.array\n",
    "vocab = model.vocab"
   ]
  },
  {
   "cell_type": "code",
   "execution_count": 18,
   "metadata": {},
   "outputs": [
    {
     "data": {
      "text/plain": [
       "(13370, 1099396)"
      ]
     },
     "execution_count": 18,
     "metadata": {},
     "output_type": "execute_result"
    }
   ],
   "source": [
    "# looks like this tfidf matrix has 3346 rows, corresponding to each individual paper \n",
    "# 255764 corresponds to the length of each tfidf vector for each paper.\n",
    "# There are apparently 255764 unique words in the corpus \n",
    "mat.shape"
   ]
  },
  {
   "cell_type": "code",
   "execution_count": 19,
   "metadata": {},
   "outputs": [
    {
     "data": {
      "text/plain": [
       "array([0.00881074, 0.        , 0.        , ..., 0.        , 0.        ,\n",
       "       0.        ])"
      ]
     },
     "execution_count": 19,
     "metadata": {},
     "output_type": "execute_result"
    }
   ],
   "source": [
    "# here is a single tfidf vector for a paper, each input corresponds to each word in the vocabulary\n",
    "mat[62]"
   ]
  },
  {
   "cell_type": "code",
   "execution_count": 20,
   "metadata": {},
   "outputs": [],
   "source": [
    "# I just found this method by Googling. This finds the 4 highest numbers in a numpy array. \n",
    "# We can use this to get the highest tfidf scores from any paper\n",
    "ind = np.argpartition(mat[0], -2000)[-2000:]"
   ]
  },
  {
   "cell_type": "code",
   "execution_count": 21,
   "metadata": {},
   "outputs": [],
   "source": [
    "# method to make sure we don't get words with numbers\n",
    "def hasNumbers(inputString):\n",
    "    import re\n",
    "    return bool(re.search(r'\\d', inputString))"
   ]
  },
  {
   "cell_type": "code",
   "execution_count": 22,
   "metadata": {},
   "outputs": [],
   "source": [
    "def good_words(matrix,vocab,n,stopcount):\n",
    "    \"\"\"\n",
    "    This method finds the most relevant words in a corpus, as calculated by tfidf scores.\n",
    "    \n",
    "    Parameters:\n",
    "    -----------\n",
    "    matrix (object, required): The object corresponding to the array attribute of a tfidf_wrapper model\n",
    "    \n",
    "    vocab (object, required): The object corresponding to the vocab attribute of a tfidf_wrapper model\n",
    "    \n",
    "    n (int,required): This integer describes \n",
    "    \"\"\"\n",
    "    goodwords = []\n",
    "    for i in range(mat.shape[0]):\n",
    "        highscore_indices = np.argpartition(mat[i], -n)[-n:]\n",
    "        \n",
    "        for j in range(n):\n",
    "            word = vocab[highscore_indices[j]]\n",
    "            \n",
    "            if not hasNumbers(word) and word not in goodwords:\n",
    "                goodwords.append(word)\n",
    "        \n",
    "        if len(goodwords) >= stopcount:\n",
    "            return goodwords\n",
    "            break\n",
    "               \n",
    "               \n",
    "        \n",
    "                \n",
    "        "
   ]
  },
  {
   "cell_type": "code",
   "execution_count": 23,
   "metadata": {},
   "outputs": [
    {
     "name": "stdout",
     "output_type": "stream",
     "text": [
      "['frictional', 'fig', 'carbon', 'nanotubes', 'amazonaws', 'prod', 'rolling', 'as', 'com', 'ucs', 'resin', 'https', 'store', 'axis', 'sliding', 'mylvaganam', 'content', 'track', 'load', 'pii', 'sml', 'image', 'on', 'horizontally', 'and', 'zarudi', 'in', 'eu', 'row', 'of', 'coefficient', 'normal', 'tribological', 'cnts', 'tool', 'jpg', 'diamond', 'friction', 'to', 'longitudinal', 'that', 'cnt', 'west', 'film', 'the', 'is', 'spectra', 'can', 'decline', 'at', 'we', 'are', 'temperature', 'with', 'second', 'antunes', 'laser', 'cnf', 'order', 'bands', 'band', 'this', 'crystallinity', 'fitting', 'gif', 'fwhm', 'mwcnt', 'samples', 'be', 'for', 'growth', 'raman', 'structure', 'torus', 'woy', 'cage', 'cowley', 'wc', 'closed', 'stimulation', 'kang', 'electron', 'graphitic', 'rings', 'pentagonal', 'shell', 'by', 'toroidal', 'iijima', 'mvocc', 'sphere', 'spheres', 'atoms', 'spiral', 'clusters', 'wo', 'nanosize', 'cgo', 'maga', 'onion', 'heptagonal', 'flakes', 'unclosed', 'surface', 'hrtem', 'fullerenes', 'beam', 'polymer', 'transport', 'selectivity', 'btda', 'polymeric', 'gas', 'separation', 'ipn', 'ipns', 'barrer', 'permselectivity', 'membr', 'permeability', 'cmsms', 'cmsm', 'pyrolysis', 'azide', 'matrimid', 'pseudo', 'tmpda', 'polyimide', 'membranes', 'composite', 'electrochemical', 'leds', 'was', 'gunasekaran', 'ma', 'eg', 'supercapacitors', 'supercapacitor', 'device', 'prathap', 'graphene', 'cm', 'gcd', 'gce', 'high', 'wisconsin', 'density', 'sasc', 'capacitance', 'mf', 'performance', 'sadak', 'μwh', 'cv', 'pani', 'polyaniline', 'wang', 'electrode', 'madison', 'current', 'infinite', 'papior', 'siesta', 'falkenberg', 'relaxed', 'zzs', 'base', 'principal', 'danish', 'junctions', 'junction', 'structures', 'ørsteds', 'dk', 'zz', 'armchair', 'ribbon', 'ribbons', 'lyngby', 'cng', 'zig', 'mid', 'calculations', 'hbn', 'bldg', 'zag', 'terminal', 'denmark', 'right', 'left', 'transmission', 'plads', 'sheet', 'brandbyge', 'kongens', 'tin', 'zinc', 'light', 'trapping', 'ppf', 'koelmans', 'cox', 'computing', 'switching', 'murdoch', 'strukov', 'zto', 'ta', 'memristor', 'sebastian', 'resistive', 'amorphous', 'pt', 'raeber', 'memristive', 'memristors', 'potentiation', 'partridge', 'mckenzie', 'pulses', 'synaptic', 'optogenetics', 'neuromorphic', 'synapses', 'mcculloch', 'eleftheriou', 'memory', 'photonic', 'devices', 'particle', 'suspension', 'electro', 'exponential', 'kerr', 'donovan', 'refractive', 'orientation', 'optical', 'mantegazza', 'dwnts', 'altimg', 'dichroism', 'birefringence', 'particles', 'swnts', 'field', 'us', 'anisotropy', 'eb', 'east', 'stripin', 'polarizability', 'bellini', 'electric', 'potassium', 'ion', 'ionic', 'capacity', 'adsorption', 'nanospheres', 'exchange', 'capture', 'materials', 'carboxyl', 'glucose', 'pore', 'hcx', 'activation', 'hc', 'ca', 'carbons', 'ultramicropore', 'ultramicropores', 'ultramicroporosity', 'ultramicroporous', 'sorption', 'mmol', 'carbonaceous', 'groups', 'ie', 'tafel', 'guangdong', 'tu', 'oxygen', 'catalyst', 'oer', 'co', 'water', 'evolution', 'mv', 'li', 'cobalt', 'fnc', 'electrocatalytic', 'electrocatalysts', 'microflowers', 'electrocatalyst', 'her', 'efficient', 'en', 'sulfide', 'tfr', 'splitting', 'bifunctional', 'china', 'petrochemical', 'zhang', 'membrane', 'conductivity', 'oxide', 'defects', 'size', 'inter', 'mean', 'level', 'proton', 'flake', 'oxidation', 'go', 'methanol', 'laminates', 'laminate', 'mgo', 'hgo', 'model', 'turbidity', 'phenantharene', 'humic', 'nanoscaled', 'dispersion', 'freundlich', 'spaoms', 'spaom', 'dinitrobenzene', 'nitrobenzene', 'jb', 'solution', 'titration', 'hcro', 'anodic', 'donnet', 'cr', 'vi', 'mam', 'acidity', 'acfs', 'thiourea', 'pvp', 'nanoparticles', 'spray', 'sibs', 'lithium', 'storage', 'sodium', 'powder', 'anode', 'na', 'bare', 'powders', 'batteries', 'were', 'magnetic', 'release', 'cancer', 'loading', 'mcf', 'physiological', 'chloroform', 'viability', 'aqueous', 'hydrophobic', 'ucnp', 'ucnpgreen', 'ucnpred', 'ucnps', 'ucnpsgreen', 'coated', 'luminescence', 'delivery', 'imaging', 'upconversion', 'pei', 'dox', 'oa', 'nanocrystals', 'drug', 'therapy', 'tanaka', 'gusev', 'tsai', 'uemura', 'ft', 'pbo', 'fiber', 'unidirectional', 'dma', 'specimen', 'miyagawa', 'mori', 'tensile', 'matrix', 'strain', 'epoxy', 'fibers', 'fem', 'macroscopic', 'cfrp', 'nanoindentation', 'transverse', 'halpin', 'elastic', 'modulus', 'sample', 'hierarchical', 'microcubes', 'doped', 'jiangxi', 'libs', 'hydrothermal', 'nanchang', 'derived', 'energy', 'scs', 'discharge', 'dongguan', 'mno', 'from', 'pcm', 'biomass', 'agaric', 'porous', 'standing', 'buckypaper', 'steel', 'dickerson', 'liberation', 'liberated', 'thickness', 'electrophoretically', 'strength', 'vanderbilt', 'nanotube', 'electrodes', 'failure', 'stainless', 'deposition', 'bp', 'deposited', 'films', 'electrophoretic', 'epd', 'bps', 'depositions', 'buckypapers', 'mwcnts', 'methane', 'isotherms', 'combustion', 'crnl', 'binary', 'msc', 'mixture', 'pressures', 'simulation', 'maxsorb', 'selectivities', 'dioxide', 'activated', 'mixtures', 'krawiec', 'precursor', 'pyrolized', 'kaskel', 'nanocasting', 'borchardt', 'mesopores', 'silicon', 'carbide', 'gogotsi', 'mesoporous', 'chlorine', 'sic', 'cdcs', 'cdc', 'ordered', 'kockrick', 'cdcref', 'citrate', 'ssa', 'titanium', 'tic', 'om', 'nano', 'titrations', 'drifts', 'boehm', 'functional', 'ozonides', 'toabr', 'cno', 'cnos', 'onions', 'ozone', 'ozonolysis', 'dms', 'oz', 'ozonized', 'blending', 'deitz', 'against', 'koh', 'deodorant', 'deodorization', 'deodorized', 'acf', 'air', 'humidity', 'khs', 'pitch', 'sulphur', 'micropores', 'epma', 'test', 'changchun', 'cmk', 'jilin', 'rate', 'charge', 'dli', 'lfs', 'cathode', 'composites', 'hemispherical', 'manara', 'uncoated', 'pbn', 'coating', 'emissivity', 'reflectivity', 'spectral', 'promes', 'absorptivity', 'blackbody', 'cemhti', 'solar', 'cube', 'bundles', 'ferrocene', 'regions', 'branches', 'crystal', 'hybrid', 'alumina', 'microparticles', 'branch', 'six', 'microparticle', 'laboratório', 'solvent', 'catalysts', 'incorporation', 'decomposition', 'lcm', 'functionalities', 'loss', 'ball', 'melamine', 'milling', 'thermal', 'urea', 'figueiredo', 'milled', 'bm', 'nitrogen', 'doping', 'treatment', 'treatments', 'tga', 'wt', 'soares', 'dt', 'grafted', 'reaction', 'polyamide', 'hydroxyl', 'acid', 'caprolactam', 'polymerization', 'ftir', 'tdi', 'caprolactamate', 'functionalized', 'formic', 'initiator', 'solubility', 'toluene', 'anionic', 'feed', 'functionalization', 'vial', 'acyl', 'oh', 'isocyanate', 'protein', 'aptamers', 'bioelectron', 'biosens', 'assay', 'ultrasensitive', 'recognition', 'wuhan', 'anal', 'guest', 'cs', 'incubation', 'bsa', 'fc', 'bb', 'ml', 'dna', 'hubei', 'electrochemiluminescence', 'cd', 'aptamer', 'detection', 'aptasensor', 'electrochemiluminescent', 'ad', 'ecl', 'cyclodextrin', 'pdgf', 'pristine', 'polyether', 'neat', 'ep', 'gonrs', 'unfolded', 'wear', 'cps', 'moieties', 'electropolymerization', 'δm', 'cp', 'pakuła', 'ht', 'changes', 'świątkowski', 'ac', 'chlorophenol', 'chlorophenols', 'cb', 'powdered', 'chemistry', 'biniak', 'cyclization', 'suzhou', 'gpa', 'sers', 'loosening', 'assisted', 'zhao', 'nda', 'tpa', 'vibration', 'au', 'bmi', 'strengthening', 'phba', 'infiltration', 'tsoh', 'hybridisation', 'etoh', 'hydrogen', 'ternary', 'tosti', 'ethanol', 'mixed', 'see', 'turbostratic', 'vol', 'pressure', 'reforming', 'hannover', 'steam', 'permeation', 'permeate', 'permeances', 'permeance', 'pa', 'crystalline', 'tension', 'molecules', 'defocus', 'garik', 'thickening', 'growing', 'branching', 'laplacian', 'charges', 'hydrocarbon', 'tem', 'copper', 'side', 'irradiation', 'fractal', 'rod', 'like', 'aggregates', 'mushroom', 'tree', 'fir', 'spindle', 'morphologies', 'filaments', 'electrolyte', 'estonia', 'edl', 'sild', 'perkson', 'kaarik', 'arulepp', 'leis', 'models', 'cathodic', 'svg', 'descriptors', 'descriptor', 'käärik', 'sbp', 'maran', 'tartu', 'qnspr', 'xml', 'qsar', 'nanoporous', 'qsardb', 'qspr', 'volumetric', 'hwhm', 'viscous', 'highly', 'tube', 'fringes', 'cooling', 'blurred', 'arcing', 'purity', 'endo', 'magnetoresistance', 'treated', 'thermally', 'facetted', 'hollow', 'arc', 'tape', 'tubes', 'spd', 'nsd', 'reinforced', 'extrusion', 'uniform', 'bakshi', 'hebm', 'incompatibilities', 'nanoflakes', 'pm', 'al', 'pva', 'formation', 'compounds', 'species', 'dalton', 'weilmünster', 'maldi', 'fullerene', 'cl', 'ionization', 'mass', 'louvain', 'institute', 'pope', 'baum', 'löffler', 'gerhardt', 'burner', 'th', 'br', 'tute', 'symposium', 'benzene', 'bromine', 'richter', 'hbr', 'twenty', 'vandooren', 'international', 'howard', 'homann', 'flame', 'soot', 'tiggelen', 'insti', 'eighteenth', 'flames', 'interdigitated', 'schottky', 'scagliotti', 'egi', 'pc', 'photodetector', 'pd', 'komissarov', 'eqe', 'salvato', 'ryzhii', 'response', 'responsivity', 'pv', 'roma', 'photocharges', 'si', 'pds', 'photodetectors', 'activity', 'capping', 'jpeg', 'xi', 'rgo', 'platinum', 'nps', 'nss', 'shaanxi', 'molten', 'heterojunctions', 'rgos', 'zhejiang', 'rhb', 'photogenerated', 'phenol', 'photodegradation', 'bioi', 'visible', 'hangzhou', 'photocatalytic', 'photocatalysts', 'photocatalyst', 'printing', 'printed', 'interconnects', 'print', 'process', 'microdeposition', 'ec', 'inkjet', 'terpineol', 'resistivity', 'atomizer', 'jet', 'atomization', 'patterns', 'wafers', 'annealed', 'jabari', 'aerosol', 'ink', 'takamura', 'hydrophilic', 'cycle', 'cycling', 'reversible', 'passivating', 'electrochem', 'ag', 'ppm', 'intercalation', 'graphite', 'natural', 'silver', 'elf', 'orbits', 'asset', 'multithreaded', 'swcnts', 'page', 'sp', 'tori', 'smts', 'radius', 'jpn', 'toroid', 'toroids', 'hos', 'ajiki', 'shyu', 'lin', 'states', 'zigzag', 'cts', 'degeneracy', 'electronic', 'phys', 'ct', 'smt', 'gap', 'magnetoelectronic', 'contents', 'absorption', 'buckling', 'ghz', 'ecoflex', 'db', 'absorbing', 'cnpf', 'shielding', 'foam', 'liu', 'stretching', 'interference', 'mm', 'reflection', 'ucnpf', 'electromagnetic', 'emi', 'pu', 'se', 'stretchable', 'foams', 'cnpfs', 'rl', 'cnpfes', 'mxene', 'cnpfe', 'stretch', 'microwave', 'conductive', 'pulsed', 'have', 'glass', 'kitahama', 'rheed', 'scratched', 'pld', 'dlc', 'bourden', 'arf', 'afm', 'substrate', 'faceted', 'schiroky', 'drybox', 'vinyl', 'ofpoly', 'reactivity', 'donnett', 'noth', 'homopolymers', 'hours', 'tudos', 'mckee', 'catechol', 'carbonization', 'thf', 'containing', 'monomer', 'stabilization', 'copolymerization', 'vinylcatecholborane', 'boron', 'chung', 'vcb', 'pvcb', 'kelen', 'oxidative', 'acrylonitrile', 'pan', 'copolymers', 'nmr', 'copolymer', 'poly', 'catecholborane', 'borane', 'psoc', 'alche', 'area', 'rav', 'char', 'earlier', 'exact', 'length', 'ofmicroporous', 'pav', 'perlmutter', 'vartak', 'eqns', 'parameter', 'chars', 'poo', 'po', 'pdem', 'distribution', 'discrete', 'caem', 'dimensionless', 'discreteness', 'rayleigh', 'gavalas', 'bhatia', 'initial', 'random', 'pvsd', 'eqn', 'vis', 'krishnan', 'uv', 'india', 'synthesis', 'emission', 'delhi', 'fluorescence', 'lifetime', 'quenching', 'gupta', 'excitation', 'photoluminescence', 'gcnt', 'csir', 'pillared', 'rhodamine', 'dye', 'pl', 'downsampled', 'thumbnail', 'taoyuan', 'shape', 'fillers', 'phase', 'paraffin', 'nanographite', 'latent', 'dropping', 'pcms', 'energ', 'heat', 'electrical', 'xgnp', 'mang', 'martínez', 'apteijn', 'kurasawa', 'miura', 'impregnating', 'texture', 'impregnated', 'torregrosa', 'mercury', 'martín', 'original', 'sellés', 'gasification', 'macropore', 'amsterdam', 'poro', 'macroporosity', 'hazeleger', 'glucosamine', 'reactivated', 'simetry', 'modified', 'martin', 'martinez', 'sing', 'singoredjo', 'carbohydrates', 'mittelmeijer', 'meso', 'gm', 'vacuum', 'graphitization', 'annealing', 'osswald', 'porosity', 'schmirler', 'temperatures', 'beijing', 'ahmadpour', 'agent', 'bet', 'ariyadejwanich', 'products', 'volume', 'softening', 'micro', 'burchell', 'acs', 'klett', 'activating', 'mcmbs', 'mesophase', 'foaming', 'mp', 'fermi', 'orbitals', 'double', 'pπ', 'valence', 'edge', 'conduction', 'walled', 'subband', 'subbands', 'dwcnts', 'intertube', 'mg', 'imamura', 'hydriding', 'dsc', 'hydride', 'kinetics', 'compd', 'dehydriding', 'magnesium', 'jorio', 'disorder', 'dresselhaus', 'resonance', 'peak', 'phonon', 'intensity', 'maciel', 'sulfur', 'ig', 'id', 'itola', 'lola', 'ii', 'mwnts', 'mode', 'ic', 'mwnt', 'interlaminar', 'initiation', 'precracked', 'crack', 'fracture', 'specimens', 'senb', 'toughness', 'dcb', 'toughening', 'delamination', 'haik', 'transition', 'camponeschi', 'cf', 'moduli', 'alignment', 'swcnt', 'aeropoxy', 'external', 'garmestani', 'wall', 'ap', 'mechanical', 'chains', 'ruthenium', 'hydrous', 'capacitors', 'moll', 'aao', 'tgc', 'stokes', 'microcrystal', 'microcrystals', 'needle', 'scattering', 'gray', 'bent', 'remnant', 'frill', 'cones', 'tubular', 'spectrum', 'cone', 'tgcs', 'layers', 'whiskers', 'gms', 'whisker', 'modes', 'tan', 'epr', 'yudin', 'gubanova', 'curing', 'kudriavtsev', 'diamines', 'balik', 'flexural', 'pi', 'based', 'acetyl', 'glogar', 'fibre', 'fibres', 'graphitised', 'elur', 'graphitisation', 'shear', 'carbonisation', 'manocha', 'resins', 'goykhman', 'hydrocarbons', 'combust', 'premixed', 'barbella', 'polycyclic', 'odd', 'tregrossi', 'aromatic', 'peaks', 'ciajolo', 'sequence', 'apicella', 'numbered', 'ms', 'ldi', 'nmp', 'sec', 'mw', 'pah', 'dcm', 'extract', 'total', 'becker', 'yields', 'slice', 'influence', 'saturation', 'rates', 'benzinger', 'pahs', 'ratio', 'hüttinger', 'pyrocarbon', 'residence', 'kpa', 'prieve', 'plane', 'mpg', 'flv', 'edges', 'wrinkling', 'video', 'simulations', 'continuum', 'wavelength', 'wrinkle', 'wrinkles', 'amplitude', 'coarse', 'cg', 'microstructural', 'cgmd', 'yarns', 'ps', 'grained', 'iso', 'plm', 'sl', 'cnfs', 'preforms', 'cvi', 'clvi', 'cah', 'solano', 'cazorla', 'redox', 'linares', 'complexes', 'caho', 'anan', 'akn', 'anhydrides', 'tpd', 'grown', 'anodes', 'nanofibers', 'coulombic', 'bed', 'fluidized', 'herringbone', 'reactor', 'ni', 'ldh', 'ldo', 'ldhs', 'stick', 'compressive', 'abruptly', 'cretu', 'iron', 'system', 'uchoa', 'fefe', 'atom', 'tm', 'moments', 'embedded', 'perforation', 'hole', 'spin', 'fe', 'magnetism', 'moment', 'spintronic', 'metropolis', 'expansion', 'triple', 'carlo', 'chain', 'mpf', 'monte', 'carbyne', 'bond', 'dec', 'oligomers', 'phenanthrene', 'naphthalene', 'coronene', 'oligomerization', 'acenaphthene', 'mantle', 'litasov', 'earth', 'pyrene', 'tade', 'chen', 'phosphide', 'fenton', 'radical', 'rhe', 'catalytic', 'cc', 'degradation', 'peroxymonosulfate', 'pms', 'ppy', 'nc', 'thermodynamic', 'eos', 'calibration', 'pole', 'pineau', 'zta', 'zhugin', 'uncertainty', 'experimental', 'parametric', 'shocked', 'eoss', 'data', 'erskine', 'atj', 'khishchenko', 'hugoniot', 'bayesian', 'charakhchyan', 'shock', 'rotating', 'manually', 'unaligned', 'scraped', 'direction', 'scratch', 'mark', 'aligned', 'nickel', 'scraper', 'scraping', 'marks', 'grecov', 'sign', 'mesophases', 'farhoudi', 'viscoelastic', 'discotic', 'elasticity', 'landau', 'theory', 'director', 'gennes', 'rheology', 'rey', 'nematic', 'aligning', 'flow', 'viscosity', 'rheological', 'er', 'stress', 'ericksen', 'dnlcs', 'tensor', 'ripalda', 'bonding', 'substitutional', 'krasheninnikov', 'vacancy', 'pyridine', 'nordlund', 'implantation', 'ro', 'smart', 'zimmennann', 'fall', 'radial', 'hirschvogel', 'damage', 'buffalo', 'electromechanical', 'intercalated', 'bodies', 'actuation', 'bsus', 'salib', 'nanometric', 'concentric', 'optomechanical', 'irreversible', 'textures', 'oily', 'desorption', 'neutral', 'adsorb', 'sponge', 'protonation', 'atms', 'responsive', 'oils', 'bromoisobutyryl', 'wettability', 'switchable', 'recovery', 'ph', 'oil', 'power', 'golovin', 'plasma', 'tools', 'dynamic', 'impulse', 'hipims', 'creep', 'kouznetsov', 'inclusions', 'grain', 'cnx', 'magnetron', 'damping', 'sputtering', 'cucnx', 'cu', 'hardness', 'machining', 'indentation', 'chatter', 'stiffness', 'coatings', 'ovsienko', 'ferromagnetic', 'coercive', 'prylutskyy', 'nanoclusters', 'paramagnetic', 'zfc', 'magnetization', 'core', 'birnessite', 'asymmetric', 'fasc', 'fascs', 'uea', 'macau', 'flexible', 'gcs', 'nanosheets', 'paak', 'gcm', 'pdda', 'kg', 'wh', 'degree', 'spinning', 'average', 'sheath', 'μm', 'stabilised', 'diameter', 'preferred', 'stabilisation', 'spun', 'carbonised', 'polyiodine', 'tsukada', 'bombyx', 'japanese', 'multi', 'koho', 'tokkyo', 'yield', 'step', 'sf', 'untreated', 'iodine', 'magoshi', 'iodinated', 'silk', 'fibroin', 'design', 'ce', 'situ', 'electroactive', 'lib', 'yoshio', 'battery', 'cyclability', 'urchin', 'ng', 'photophysical', 'trans', 'sidewall', 'polymers', 'decaying', 'reactive', 'isomerization', 'nm', 'isomer', 'distorted', 'photoexcitons', 'island', 'cis', 'pdtadbq', 'pdtaabq', 'azobenzene', 'bead', 'isomers', 'swnt', 'kraft', 'cluster', 'lindemann', 'intermolecular', 'totton', 'configurations', 'melting', 'σcnt', 'threshold', 'filler', 'dose', 'irradiated', 'ray', 'percolation', 'monteiro', 'filling', 'ef', 'rules', 'golberg', 'berthelot', 'portugal', 'gautam', 'axial', 'critical', 'cachim', 'force', 'costa', 'aveiro', 'filled', 'empty', 'zns', 'hybrids', 'orr', 'exfoliation', 'cenide', 'moene', 'crush', 'essen', 'duisburg', 'tms', 'infiltrated', 'edx', 'lotharstr', 'curves', 'asc', 'specific', 'elshahawy', 'nsg', 'mn', 'scan', 'sulfurization', 'sulfides', 'interconnected', 'nldft', 'ammc', 'macro', 'walls', 'macroporous', 'gmc', 'gmmc', 'polyurethane', 'mesopore', 'graphitized', 'australia', 'fluence', 'mol', 'sydney', 'eda', 'kcl', 'ions', 'valent', 'sieving', 'nsw', 'permeabilities', 'macquarie', 'sections', 'cross', 'polarized', 'nσt', 'polarization', 'radiation', 'depolarization', 'dlp', 'transmitted', 'absorbance', 'tion', 'rf', 'huisken', 'cojocaru', 'botti', 'run', 'romania', 'exhaust', 'radicals', 'absorp', 'crunteanu', 'nitrous', 'petcu', 'cireasa', 'alexandrescu', 'sfg', 'bucharest', 'ir', 'morjan', 'sensitizer', 'dissociation', 'sensitizers', 'vw', 'borsella', 'cn', 'naphthalide', 'residue', 'impurities', 'inorganic', 'hcl', 'dmac', 'purifications', 'purification', 'nanp', 'reductive', 'stz', 'oturan', 'yp', 'mgcm', 'commercial', 'fg', 'gravimetric', 'electrolytes', 'cotton', 'whkg', 'alkyl', 'carboxylic', 'reduction', 'solubilized', 'amide', 'chx', 'ev', 'shifts', 'waugh', 'shift', 'tourkow', 'magic', 'transients', 'harris', 'adsorbate', 'adsorbed', 'thompson', 'frequency', 'adsorbent', 'norman', 'mas', 'hz', 'pottage', 'nutshell', 'unactivated', 'deuterium', 'durham', 'ring', 'bpl', 'crystallite', 'coefficients', 'effect', 'conor', 'negative', 'murday', 'baden', 'cracow', 'touzain', 'resistance', 'loos', 'pampuch', 'blazewicz', 'owston', 'met', 'gy', 'synth', 'fischbach', 'piezoresistance', 'kato', 'symp', 'fractions', 'tsukuba', 'fa', 'murakami', 'hß', 'procintsympcarbontsukuba', 'aromaticity', 'fraction', 'naphthenic', 'sawa', 'structural', 'soluble', 'aliphatic', 'sanada', 'ofmesophase', 'ladner', 'nishizawa', 'insoluble', 'stream', 'deming', 'methylethylketone', 'purified', 'breakthrough', 'mek', 'characteristics', 'components', 'component', 'amount', 'concentration', 'desorbed', 'vocs', 'circularity', 'dmso', 'smooth', 'chinese', 'ziabicki', 'draw', 'coal', 'academy', 'bath', 'dope', 'taiyuan', 'topographies', 'gelation', 'cfs', 'dry', 'wet', 'esi', 'grooves', 'gel', 'polar', 'epitaxial', 'ab', 'terraces', 'aa', 'tunneling', 'schoelz', 'twisted', 'height', 'pattern', 'moiré', 'stm', 'corrugation', 'terrace', 'carbonizing', 'capacitive', 'mussel', 'songling', 'qingdao', 'fibrous', 'freezing', 'nanomaterials', 'shandong', 'dimensionality', 'nanofibrils', 'kevlar', 'anfs', 'dopamine', 'rdopamine', 'rglucose', 'anf', 'semiconducting', 'intratube', 'odv', 'divacancies', 'pdv', 'mono', 'passivated', 'passivation', 'di', 'vacancies', 'jhi', 'isothermal', 'shrinkage', 'bioproducts', 'heating', 'rerun', 'energies', 'softwood', 'kj', 'antiplasticization', 'constants', 'georgia', 'ozawa', 'kissinger', 'crosslinking', 'tma', 'mpa', 'tensions', 'polyacrylonitrile', 'swl', 'lignin', 'interlayer', 'varying', 'dangling', 'superlubricity', 'stage', 'slip', 'lubrication', 'rh', 'humidities', 'berman', 'rubbing', 'bonds', 'alternating', 'under', 'layered', 'pyridinic', 'porogen', 'dalian', 'npc', 'licl', 'npcs', 'pyrrolic', 'bandosz', 'salt', 'cultivating', 'enquist', 'heteroatom', 'overall', 'ngcs', 'vascular', 'veins', 'engl', 'roses', 'ngc', 'murray', 'rose', 'petal', 'petals', 'function', 'ifw', 'kev', 'peem', 'dresden', 'ups', 'escher', 'spot', 'spectroscopy', 'sts', 'μcμm', 'tetrahedral', 'iws', 'local', 'virgin', 'liquid', 'khan', 'inset', 'fom', 'coleman', 'swedish', 'scalable', 'tcfs', 'dc', 'prints', 'transparent', 'uppsala', 'opto', 'kω', 'stabilizer', 'acids', 'seredych', 'em', 'conditions', 'petit', 'pores', 'visibly', 'ammonia', 'moist', 'pk', 'smirnov', 'scorsone', 'voltammetry', 'vacnt', 'layer', 'window', 'impedance', 'bdd', 'vacnts', 'praha', 'planes', 'brentano', 'carbonxs', 'coherent', 'czech', 'geometry', 'profile', 'valvoda', 'blocks', 'young', 'weave', 'profiles', 'bragg', 'htt', 'fabric', 'diffraction', 'chehimi', 'carbonnier', 'line', 'tomsk', 'patterning', 'sheremet', 'rodriguez', 'zahn', 'xps', 'reduced', 'ablated', 'sps', 'sintering', 'ceramics', 'ceramic', 'densification', 'sheets', 'gnp', 'gnps', 'positively', 'distance', 'negatively', 'flue', 'bar', 'bundle', 'electrostatic', 'lj', 'charged', 'interactions', 'ketone', 'gh', 'hydroxide', 'epoxides', 'rourke', 'erickson', 'debris', 'hydroxyls', 'attacks', 'ladder', 'polson', 'opposite', 'basal', 'cracking', 'dimiev', 'epoxide', 'tri', 'uncondensed', 'amine', 'hunan', 'triazine', 'synergetic', 'nitride', 'hccp', 'sites', 'cycloaddition', 'type', 'channel', 'substrates', 'photosensitivity', 'photo', 'ratios', 'tfts', 'off', 'sd', 'ferritin', 'gate', 'metallic', 'breakdown', 'systems', 'gemini', 'catanionic', 'surfactants', 'viscoelasticity', 'forestry', 'opalescent', 'micellar', 'micelles', 'ctab', 'astps', 'astp', 'solutions', 'wormlike', 'cryo', 'surfactant', 'vesicles', 'neves', 'zhengzhou', 'encapsulated', 'confined', 'inner', 'wanko', 'superhard', 'rev', 'san', 'machon', 'linear', 'andrade', 'pichler', 'aguiar', 'miguel', 'collapse', 'filho', 'llccs', 'rohringer', 'lcc', 'ayala', 'souza', 'molecule', 'naphthacene', 'population', 'ts', 'no', 'kmc', 'nitric', 'pathway', 'sulfenic', 'heats', 'thiophenic', 'sulfonic', 'might', 'bax', 'sulfinic', 'oxidized', 'sulfones', 'concentrations', 'sotzing', 'acetate', 'organic', 'tsubokawa', 'sensor', 'δδ', 'pbma', 'black', 'responses', 'doleman', 'vapors', 'vapor', 'modena', 'lubricant', 'abs', 'journal', 'restuccia', 'link', 'physrevb', 'aps', 'qm', 'physrevlett', 'righi', 'pubs', 'doi', 'sciencedirect', 'http', 'url', 'org', 'www', 'properties', 'stuttgart', 'rühle', 'suppres', 'pure', 'redlich', 'blase', 'clemson', 'feenstra', 'carroll', 'tip', 'inhomo', 'ldos', 'charlier', 'vita', 'mev', 'bandgap', 'bill', 'ajayan', 'spatial', 'tips', 'variations', 'yaakobovitz', 'hart', 'voltage', 'youngs', 'top', 'pillar', 'forests', 'forest', 'bearing', 'pillinger', 'reusability', 'aryl', 'dias', 'dehydration', 'sulfonated', 'sg', 'furfural', 'xylose', 'sgo', 'marjanović', 'ćirić', 'gavrilov', 'anhui', 'mentus', 'sc', 'cnss', 'ecs', 'ultrathin', 'glycol', 'ethylene', 'ppeg', 'cathodes', 'mfcs', 'living', 'encrustation', 'mfc', 'bacteria', 'microbial', 'oneidensis', 'shewanella', 'mineral', 'bc', 'hematite', 'tof', 'pie', 'southard', 'mws', 'cca', 'noise', 'pitches', 'spotting', 'przybilla', 'spectrometry', 'petroleum', 'target', 'delay', 'anthracene', 'dithranol', 'da', 'conoco', 'tcnq', 'edlcs', 'solvothermal', 'rgsc', 'benzimidazole', 'opd', 'ngsc', 'phenazine', 'langfang', 'rg', 'vietnam', 'street', 'raster', 'induced', 'induction', 'pulse', 'houston', 'tx', 'tour', 'ppi', 'ligf', 'mscs', 'rice', 'lig', 'braking', 'doerner', 'newey', 'indents', 'isotroplc', 'propemes', 'icvd', 'berkovlch', 'rwster', 'displacement', 'indent', 'indenter', 'oliver', 'carbondale', 'marx', 'acvd', 'cvd', 'ohver', 'bolshakov', 'pharr', 'unloading', 'conversion', 'initiated', 'korolev', 'zgonnik', 'gcg', 'constancy', 'centers', 'erenburg', 'yakubovich', 'khgcg', 'arest', 'levengagen', 'melenevskaya', 'szwarz', 'styrène', 'erusalimski', 'visokomolec', 'isaev', 'nahmanovich', 'filipov', 'presence', 'novikov', 'eremina', 'soed', 'period', 'itzikson', 'gic', 'gics', 'lenenko', 'initiators', 'mmd', 'md', 'resistances', 'nanoconstrictions', 'convex', 'width', 'staggered', 'ballistic', 'interval', 'constriction', 'constrictions', 'tj', 'acidic', 'washing', 'potentiometric', 'turk', 'jagiełło', 'westvaco', 'dielectrophoresis', 'mushroomed', 'sectional', 'rutherglen', 'joung', 'array', 'khondaker', 'transformed', 'fib', 'transformation', 'kocabas', 'shekhar', 'arrays', 'sweep', 'sweeping', 'swollen', 'calabashes', 'indexed', 'hexapod', 'flower', 'fsem', 'ea', 'prepared', 'hx', 'pcp', 'bx', 'hcb', 'pp', 'es', 'signals', 'pumping', 'enoki', 'triplet', 'localized', 'circles', 'curie', 'dcno', 'signal', 'entities', 'nme', 'spins', 'nmes', 'tvac', 'couzi', 'nanocyl', 'situated', 'arkema', 'phonons', 'pyrograph', 'la', 'afs', 'flowers', 'albizia', 'microrods', 'af', 'pcmrst', 'naqvi', 'phosphorene', 'szpunar', 'graphdiyne', 'hydrog', 'cns', 'hussain', 'metal', 'dft', 'graphyne', 'bgdy', 'dopants', 'dopant', 'monolayer', 'monolayers', 'binding', 'valerio', 'batzill', 'photoemission', 'anatase', 'lizzit', 'wf', 'italy', 'omiciuolo', 'lacovig', 'titania', 'ti', 'gtm', 'tgtm', 'tgm', 'selloni', 'gr', 'baraldi', 'trieste', 'diffusion', 'bulk', 'sputtered', 'esconjauregui', 'ptsi', 'ald', 'native', 'mbar', 'nanoparticle', 'after', 'matt', 'matted', 'baik', 'reflector', 'drain', 'network', 'strano', 'exposure', 'neutralized', 'fluorine', 'wood', 'tomsia', 'chiang', 'delattre', 'davoodabadi', 'freeze', 'tortuosity', 'casting', 'tortuous', 'od', 'calendered', 'calendering', 'drying', 'fd', 'michelbacher', 'charging', 'uncalendered', 'amin', 'transfer', 'blowing', 'rosseland', 'insulation', 'solid', 'radiative', 'nanocellular', 'nanocomposites', 'cell', 'glicksman', 'mk', 'λrad', 'transmittance', 'diesel', 'dibenzothiophenes', 'dibenzothiophene', 'vl', 'photoactivity', 'fuel', 'desulfurization', 'fuels', 'dmdbt', 'pka', 'dbt', 'marafi', 'lodz', 'coking', 'tpsr', 'coked', 'coke', 'tpo', 'catal', 'deposit', 'duprez', 'deactivation', 'goralski', 'paryjczak', 'trimm', 'demichel', 'propane', 'querini', 'rzeznicka', 'isis', 'langevin', 'laue', 'broadening', 'osiris', 'aerogel', 'quasi', 'lorentzian', 'grenoble', 'para', 'ortho', 'neutron', 'nanoporosity', 'αs', 'pyb', 'pycho', 'derivative', 'derivatives', 'kaneko', 'colloids', 'pycooh', 'eiken', 'bactometer', 'japan', 'antifung', 'antibact', 'peptidoglycan', 'saline', 'sasamoto', 'zno', 'bacterial', 'aureus', 'sawai', 'coli', 'cz', 'antibacterial', 'kojima', 'yamamoto', 'cfu', 'dtcont', 'endurance', 'engines', 'severity', 'groove', 'thermo', 'lubricating', 'piston', 'egr', 'sump', 'deposits', 'engine', 'tests', 'duration', 'non', 'oberlin', 'mgbs', 'lmos', 'lmo', 'atds', 'flattening', 'nads', 'lingering', 'graphitizable', 'graphitizability', 'merging', 'eq', 'reorganisation', 'ouzilleau', 'absorber', 'wave', 'alloy', 'coni', 'huang', 'phenolic', 'prm', 'dielectric', 'manganese', 'nanobeads', 'rechargeable', 'korea', 'mnco', 'coo', 'microspheres', 'mncoo', 'ipcc', 'kent', 'jaroniec', 'microporosity', 'mi', 'wickramaratne', 'post', 'stöber', 'microporous', 'umi', 'oxalate', 'uptakes', 'uptake', 'analysis', 'location', 'ρuz', 'sat', 'mole', 'bromley', 'boiling', 'reagent', 'gaseous', 'nasibulin', 'condensate', 'outlet', 'shandakov', 'xylene', 'pss', 'overpotential', 'polystyrene', 'nixsy', 'pcns', 'sulfonation', 'coxniysz', 'chalcogenides', 'coxsy', 'sacrificing', 'cytotoxicity', 'kidney', 'tissues', 'vitro', 'caramelized', 'mice', 'organs', 'blood', 'gd', 'relaxivity', 'caramelization', 'agents', 'liver', 'vivo', 'mr', 'cnps', 'mri', 'injection', 'contrast', 'csv', 'weighted', 'setton', 'alkali', 'goldmann', 'pilliere', 'csc', 'cyclopentane', 'graphitide', 'hexane', 'graphitides', 'pillière', 'cesium', 'pentane', 'béguin', 'ternarization', 'phases', 'butane', 'alkanes', 'first', 'alkane', 'domains', 'brake', 'pic', 'vic', 'dynamometer', 'iii', 'chopped', 'staining', 'tris', 'kinase', 'ganjingzi', 'nuclei', 'equiv', 'linggong', 'cells', 'rna', 'live', 'stankovich', 'solvents', 'chemically', 'hydroquinone', 'rippled', 'nanosheet', 'functionalisation', 'functionalised', 'gons', 'oda', 'gns', 'octadecylamine', 'organophilic', 'hcp', 'green', 'section', 'pressed', 'golman', 'probability', 'limiting', 'packing', 'shinohara', 'void', 'voidage', 'tapes', 'voidages', 'voids', 'cast', 'peripheral', 'indices', 'median', 'index', 'microstructure', 'spherical', 'ohzeki', 'production', 'input', 'flamant', 'chibante', 'helium', 'ravary', 'pipe', 'sucking', 'schwob', 'grades', 'acetylene', 'fulcheri', 'equation', 'table', 'adsorbents', 'δh', 'agnihotri', 'cyclohexane', 'capacities', 'isotherm', 'hipco', 'monolith', 'extraction', 'micrometer', 'knorr', 'etzold', 'biomorphous', 'erlangen', 'fey', 'germany', 'sisic', 'dmy', 'pet', 'pr', 'bakelite', 'engraving', 'ethnic', 'ligs', 'fccooh', 'lasers', 'kaviany', 'defected', 'defect', 'people', 'republic', 'κg', 'κdeg', 'accumulative', 'tongji', 'relaxation', 'dependence', 'suppressed', 'mfp', 'interface', 'snapshots', 'brittle', 'sword', 'dwcnt', 'fails', 'propagates', 'potential', 'agcldiffusion', 'approx', 'ltmdcs', 'rhediffusion', 'rpmelectron', 'saturated', 'supported', 'vs', 'rde', 'lsv', 'lattice', 'acharya', 'portet', 'drexel', 'nd', 'deionisation', 'zou', 'brackish', 'deionization', 'desalination', 'cdi', 'nacl', 'mossad', 'electrosorption', 'will', 'predicted', 'which', 'intercept', 'grips', 'grip', 'yarn', 'venant', 'gauge', 'som', 'fea', 'highres', 'sivadas', 'sucrose', 'su', 'parabolic', 'curvature', 'zgr', 'zgrs', 'ripples', 'ripple', 'fract', 'berto', 'blunt', 'cbd', 'notch', 'notched', 'notches', 'polycrystalline', 'lazzarin', 'criterion', 'sed', 'loads', 'ayatollahi', 'vbd', 'pseudocapacitive', 'fec', 'ac_k', 'μf', 'diglyme', 'litfms', 'lics', 'control', 'dimension', 'media', 'uri', 'dermal', 'hel', 'culture', 'cellular', 'mobilization', 'keratinocytes', 'human', 'toxicol', 'ros', 'mtt', 'mitochondrial', 'toxicity', 'brennan', 'gravelle', 'present', 'basic', 'rivin', 'equilibrium', 'microcalorimetry', 'menendez', 'palma', 'phillips', 'site', 'pzc', 'calorimetric', 'bdh', 'calorimetry', 'optimisation', 'supply', 'modelling', 'apparatus', 'inlet', 'hercynite', 'pecvd', 'splitter', 'dz', 'mz', 'reflected', 'interferometer', 'mx', 'mirrors', 'mxmz', 'mirror', 'nanostructures', 'finqueneisel', 'linders', 'taqvi', 'limit', 'amino', 'produced', 'tribromobenzoic', 'precursors', 'monodisperse', 'debromination', 'trichlorophenol', 'tribromophenol', 'hcms', 'wei', 'printer', 'transparency', 'butenko', 'saint', 'osipov', 'ferrari', 'kuznetsov', 'detonation', 'petersburg', 'shells', 'nanodiamonds', 'nanodiamond', 'max', 'struzzi', 'recorded', 'scardamaglia', 'sidewalls', 'grafting', 'bittencourt', 'elettra', 'snyders', 'spem', 'aam', 'shuwen_wang_high_surface', 'monoliths', 'nir', 'ssdna', 'dsdna', 'rbm', 'ox', 'naddbs', 'biris', 'raw', 'raymo', 'fluoropore', 'giordani', 'merocyanine', 'spiropyran', 'spiropyrans', 'dmf', 'lifshitz', 'schittenhelm', 'wings', 'graphenes', 'etching', 'trasobares', 'stacked', 'stacks', 'biomedical', 'biosystems', 'clathrin', 'macrophages', 'cytoskeleton', 'actin', 'exocytosis', 'tumor', 'proteins', 'biological', 'cnms', 'endocytosis', 'decontaminants', 'oximate', 'buncel', 'diethylphosphate', 'cyclohexyl', 'simulant', 'chlorophenyl', 'sarin', 'oximes', 'decontamination', 'oxime', 'hydroxymethanimine', 'toxicants', 'gb', 'hydrolysis', 'atc', 'isopropylmethylphosphonic', 'declp', 'saxena', 'diethylchlorophosphate', 'nucleophilic', 'nucleophiles', 'impregnants', 'superconductor', 'ginzburg', 'zhong', 'meissner', 'oligophenyls', 'susceptibility', 'terphenyl', 'superconductors', 'bipolarons', 'superconductivity', 'superconducting', 'oe', 'quinquephenyl', 'michigan', 'coverage', 'arbor', 'ok', 'department', 'vertically', 'engineering', 'south', 'attenuation', 'nanoimprint', 'seoul', 'bedewy', 'nextgen', 'unpatterned', 'darpa', 'patterned', 'nil', 'daem', 'movie', 'wrgo', 'retardant', 'pn', 'phosphorus', 'fire', 'hto', 'it', 'chemical', 'anthracite', 'micropore', 'shadowing', 'element', 'ecr', 'nanocrystallite', 'roughening', 'nanocrystalline', 'downhill', 'gnc', 'nanocrystallites', 'roughness', 'diao', 'ultrasmooth', 'conductance', 'pdos', 'zzyn', 'ij', 'ptc', 'scatted', 'zayn', 'za', 'phds', 'phd', 'gnrs', 'gnr', 'aayn', 'stripe', 'ogino', 'surfaces', 'atomic', 'directional', 'sapphire', 'polished', 'trenches', 'controllability', 'tsukamoto', 'etched', 'between', 'corner', 'self', 'interaction', 'assembly', 'wrapping', 'scrolled', 'scrolling', 'ligands', 'porphyrins', 'korin', 'bettelheim', 'porphyrin', 'zagal', 'ligand', 'rrde', 'peroxide', 'bim', 'elbaz', 'fetmpyp', 'israeli', 'imidazole', 'reacts', 'exeter', 'micrograph', 'polyarylamide', 'localised', 'nomex', 'tomlinson', 'offs', 'cyprus', 'scanning', 'gimblett', 'whitbread', 'wigmans', 'uxbridge', 'theocharis', 'brunei', 'burn', 'freeman', 'pitting', 'pits', 'residues', 'oxidizing', 'dtg', 'disulfide', 'isopropyl', 'boulinguiez', 'mercaptans', 'ethyl', 'mercaptan', 'organosulfurs', 'bashkova', 'tht', 'bagreev', 'organosulfur', 'somani', 'expanded', 'micrographs', 'wherein', 'unzipping', 'smoke', 'windle', 'synthesized', 'marconnet', 'pdms', 'rohacell', 'aerogels', 'ultralight', 'dx', 'material', 'magnetically', 'fhpc', 'mo', 'separable', 'basso', 'celzard', 'peg', 'skeletal', 'triton', 'imorph', 'pizzi', 'pppt', 'formulation', 'formulations', 'pluro', 'pmdi', 'vitreous', 'tannin', 'furanic', 'std', 'stereology', 'fccvd', 'barsema', 'molecular', 'barrers', 'adsorbable', 'kapton', 'ultem', 'ffv', 'sieve', 'polyimides', 'finding', 'different', 'beck', 'cyclohexadiene', 'dienes', 'cpd', 'retro', 'diels', 'guhr', 'debrecen', 'sugar', 'alder', 'tg', 'cyclopentadiene', 'legends', 'within', 'across', 'drops', 'kfm', 'drop', 'cdg', 'ann', 'kelvin', 'sensing', 'semiconductor', 'activities', 'fluorescent', 'flqy', 'polyamine', 'dots', 'bpei', 'cqds', 'cqd', 'quantum', 'fl', 'qds', 'chamber', 'backscattered', 'gases', 'adsorbates', 'uhv', 'graphane', 'phg', 'exposed', 'rt', 'hydrogenation', 'dosage', 'patel', 'nodulated', 'key', 'road', 'monthioux', 'north', 'grains', 'lab', 'pyrolytic', 'bayview', 'crenulated', 'allouche', 'csiro', 'normanby', 'victoria', 'clayton', 'liaoning', 'swabbing', 'net', 'electrodeposition', 'fish', 'agnps', 'hotspots', 'nanogap', 'agnfs', 'nanofiber', 'simpson', 'etch', 'taper', 'crystallographic', 'bias', 'lowndes', 'thin', 'oak', 'xrd', 'melechko', 'guillorn', 'mcknight', 'vacnf', 'merkulov', 'fauth', 'albero', 'sxrpd', 'silvestre', 'narrow', 'iiyama', 'stimulus', 'enthalpy', 'ppac', 'ice', 'ins', 'freezable', 'cavities', 'casco', 'hydrate', 'hydrates', 'nanospace', 'rw', 'synchrotron', 'bello', 'safety', 'occupational', 'occup', 'aerosolized', 'health', 'assessment', 'filter', 'niosh', 'sampling', 'smps', 'eaaa', 'aethalometer', 'workplace', 'workplaces', 'oc', 'measurement', 'relative', 'serpinsky', 'dubinin', 'activant', 'cap', 'ohta', 'feo', 'chirality', 'morokuma', 'trajectories', 'nucleation', 'mobility', 'irle', 'during', 'microphotographs', 'mesh', 'nanofibres', 'ethane', 'quah', 'xc', 'carbonate', 'debart', 'vulcan', 'gnss', 'jeonbuk', 'jellinek', 'polym', 'uvb', 'esr', 'linking', 'min', 'uva', 'grade', 'uvc', 'textile', 'crumpled', 'pouch', 'kim', 'incheon', 'uogps', 'mah', 'thionyl', 'paper', 'yun', 'nibs', 'rogps', 'rogp', 'uogp', 'zg', 'dragoman', 'coaxial', 'pmma', 'kubo', 'mlg', 'connectors', 'apc', 'cpw', 'teflon', 'months', 'hydrazine', 'stable', 'sayyar', 'zeta', 'foils', 'rccg', 'dispersions', 'anhydrous', 'hrccg', 'ccg', 'vct', 'volatile', 'esters', 'hemicellulose', 'white', 'jagtoyen', 'solum', 'cellulose', 'derbyshire', 'phosphoric', 'resonances', 'pugmire', 'makarova', 'stamenov', 'esquinazi', 'ferromagnetism', 'coey', 'allylamine', 'diaminopropane', 'scroll', 'scrolls', 'murata', 'diamagnetic', 'fujiura', 'binders', 'baking', 'thermoset', 'nv', 'apparent', 'rs', 'brick', 'bd', 'kanno', 'baked', 'bricks', 'thermosetting', 'blend', 'binder', 'mochida', 'quaterrary', 'lficp', 'along', 'nanoribbons', 'honeycombs', 'honeycomb', 'oscillators', 'kink', 'deformed', 'helicoidal', 'paddle', 'regime', 'twcnt', 'torque', 'qwcnts', 'qwcnt', 'torsion', 'torsional', 'ridges', 'outermost', 'buckled', 'stiffened', 'spr', 'furrows', 'springs', 'nems', 'joo', 'bjh', 'vitamins', 'sieves', 'vitamin', 'ryoo', 'ageing', 'dedoped', 'aniline', 'bds', 'illumination', 'sulfite', 'mb', 'lactic', 'dcda', 'shinde', 'sensors', 'actuator', 'gis', 'nanocomposite', 'komatsubara', 'gomi', 'mist', 'sulfuric', 'removal', 'so', 'limestone', 'de', 'rain', 'time', 'asai', 'vgcf', 'sumita', 'tp', 'vgcfs', 'pvdf', 'slab', 'adhesion', 'adhesive', 'wrap', 'cycles', 'tank', 'compression', 'amorós', 'marco', 'vdr', 'kunowsky', 'lozar', 'cyclo', 'potentials', 'ik', 'dimer', 'dimerized', 'brenner', 'jindal', 'dumbbell', 'monoclinic', 'intercage', 'tersoff', 'peanut', 'scaling', 'squares', 'platelet', 'henry', 'platelets', 'projection', 'eef', 'xas', 'silicate', 'adlayer', 'adatoms', 'nanoscrolls', 'tearing', 'fet', 'exfoliated', 'ruptured', 'pieces', 'gunko', 'δg', 'frozen', 'wetted', 'turov', 'saw', 'sbw', 'or', 'hydration', 'slgo', 'cryoporometry', 'unfrozen', 'mlgo', 'uw', 'waw', 'bound', 'auto', 'threefold', 'coordination', 'networks', 'neighboring', 'coordinated', 'simulated', 'dos', 'isolated', 'fourfold', 'hybridized', 'incorporated', 'membered', 'gain', 'immobilised', 'diisocyanate', 'richner', 'pearls', 'prepolymer', 'ppg', 'extruded', 'butylamine', 'prepolymers', 'slurry', 'pbg', 'crosslinked', 'ncx', 'uk', 'photochemical', 'photoanodes', 'agcl', 'tungsten', 'ania', 'semiconductors', 'photooxidation', 'hub', 'velasco', 'values', 'recombination', 'additive', 'photocurrent', 'photoelectrochemical', 'ipce', 'compos', 'mats', 'mat', 'plasmid', 'division', 'expression', 'medium', 'μg', 'plyss', 'gfp', 'akhavan', 'recombinant', 'pegylation', 'ngo', 'pegs', 'lb', 'ftsz', 'agar', 'eps', 'kiss', 'steady', 'ares', 'rheometer', 'tumbling', 'sheared', 'fixtures', 'domain', 'rds', 'scale', 'dust', 'sats', 'scribed', 'wafer', 'daf', 'vapours', 'jasieńko', 'coals', 'widths', 'hałat', 'preoxidation', 'volumes', 'bituminous', 'senyshyn', 'johnsen', 'pxrd', 'upon', 'operando', 'lithiated', 'lithiation', 'staging', 'operation', 'energetically', 'unrelaxed', 'avdeeva', 'interstitial', 'fm', 'dissolution', 'fishbone', 'supercell', 'mep', 'state', 'voxel', 'bending', 'orientational', 'vdw', 'poisson', 'beads', 'multibead', 'bundling', 'entanglement', 'avi', 'rves', 'rve', 'stabilizing', 'into', 'ascribes', 'ethylenedioxythiophene', 'embedding', 'napss', 'pedot', 'hydrogel', 'hydrogels', 'conducting', 'supercritical', 'resulting', 'edot', 'filament', 'bombardment', 'sides', 'sigmund', 'nanotip', 'nanotips', 'ssra', 'nanoscience', 'cas', 'ssar', 'restrain', 'tianjin', 'fda', 'knitting', 'kbf', 'bilayers', 'campi', 'pmid', 'levita', 'ataca', 'panel', 'reconstructed', 'increment', 'mems', 'gsec', 'magnetostrictive', 'electromagnet', 'mt', 'nn', 'chronoamperometry', 'deconvolution', 'aoe', 'thioethers', 'bo', 'adelaide', 'sulfoxides', 'ao', 'wetting', 'nakajima', 'kyushu', 'covalent', 'kgn', 'semi', 'fluorination', 'fluorinated', 'tougher', 'underwent', 'reinforcement', 'pullout', 'cantilever', 'sb', 'iodixanol', 'sorted', 'sorting', 'unsorted', 'sensitivity', 'bondavalli', 'battie', 'tlm', 'received', 'measurements', 'impregnant', 'moisture', 'lateral', 'tcs', 'song', 'nfc', 'gs', 'tc', 'balandin', 'gss', 'nanofibrillated', 'spreaders', 'pre', 'free', 'mic', 'solvation', 'provencher', 'interfacial', 'nitroaromatics', 'leboda', 'cdnb', 'egh', 'tnt', 'ziȩba', 'skubiszewska', 'egox', 'egin', 'elements', 'agglomerates', 'agglomerated', 'romanov', 'gorbatikh', 'lomov', 'assemblies', 'verpoest', 'waviness', 'leuven', 'stresses', 'vertex', 'interleaved', 'impregnation', 'prepregs', 'starter', 'sbs', 'ilss', 'enf', 'bucky', 'multiscale', 'interleaf', 'interleaves', 'mostoles', 'agharkara', 'pseudoms', 'santamaría', 'ss', 'ramp', 'granda', 'single', 'blanco', 'entries', 'yes', 'botas', 'repsol', 'flash', 'incar', 'factor', 'piezoresistive', 'piezoresistivity', 'synergistic', 'chongqing', 'dlt', 'hfp', 'nanofiller', 'nanofillers', 'electrets', 'electret', 'piezoelectret', 'ddl', 'carriers', 'permittivity', 'participate', 'completion', 'participating', 'reversal', 'dissolved', 'adh', 'individual', 'diffusivity', 'hexagons', 'slow', 'choubak', 'foil', 'contaminants', 'ar', 'residual', 'apcvd', 'dairy', 'henle', 'wilczak', 'eluate', 'enzyme', 'norit', 'dipeptides', 'hippauf', 'lactalbumin', 'trp', 'enrichment', 'food', 'rox', 'batch', 'hypertension', 'lunow', 'column', 'peptides', 'peptide', 'tryptophan', 'angiotensin', 'hydrolysate', 'hydrolysates', 'ace', 'ile', 'outflow', 'aat', 'islands', 'quartz', 'tcgpcb', 'ptfe', 'sea', 'tgpc', 'bionics', 'gc', 'gpc', 'ocnts', 'cgpc', 'cake', 'cgc', 'tcgc', 'tcgpc', 'spectroscopic', 'keogh', 'bluetm', 'alamar', 'hedderman', 'assays', 'casey', 'nr', 'formazan', 'commassie', 'dyes', 'wst', 'dublin', 'metals', 'coci', 'guay', 'cocl', 'tilquin', 'coclz', 'dodelet', 'inagaki', 'naci', 'mcl', 'lalande', 'bailey', 'dignard', 'tamizhmani', 'method', 'mixing', 'atm', 'metz', 'melt', 'synthetic', 'ohira', 'trudeau', 'sakakihara', 'nicolaus', 'terzyk', 'biogas', 'const', 'toruń', 'ias', 'mc', 'missing', 'maganov', 'fil', 'qin', 'hoffman', 'mulhouse', 'effler', 'pass', 'manufacture', 'tered', 'me', 'compatibilizing', 'pees', 'compatibilizers', 'ether', 'polysulfones', 'wrapped', 'impact', 'compatibilizer', 'charpy', 'compatibilized', 'incorporating', 'peek', 'lg', 'psf', 'zare', 'walk', 'equipotential', 'suhr', 'lds', 'events', 'ae', 'gds', 'debonding', 'ifss', 'particulate', 'gn', 'flechtner', 'mananghaya', 'eform', 'stw', 'zn', 'μn', 'metallicity', 'dstw', 'μb', 'motif', 'polyisoprene', 'absolute', 'rubber', 'platen', 'ecps', 'ecp', 'gage', 'cement', 'silicone', 'alv', 'tagmatarchis', 'atr', 'dyke', 'nanohorn', 'cnhs', 'diazonium', 'ethylcarbamate', 'ethoxy', 'cnh', 'pagona', 'nanohorns', 'yudasaka', 'aperture', 'phenyl', 'excited', 'ultrafast', 'philip', 'limiter', 'olt', 'sridharan', 'nonlinearity', 'μj', 'saturable', 'ns', 'rsa', 'nonlinear', 'wsg', 'fs', 'sa', 'unmodified', 'support', 'silica', 'supports', 'microcellular', 'microcells', 'paste', 'astrophys', 'arom', 'adjac', 'vibrations', 'condensed', 'extracts', 'condensation', 'fluoranthene', 'astrophysical', 'benzo', 'elbow', 'perrard', 'acc', 'joly', 'naocl', 'anhydride', 'cloth', 'densities', 'wearable', 'areal', 'fas', 'pptx', 'topographic', 'buffer', 'dipping', 'enzymatic', 'nicuo', 'ito', 'cunio', 'clustering', 'ssm', 'fcc', 'lavrentiev', 'oy', 'np', 'udm', 'intervals', 'rbs', 'hillocks', 'fulleride', 'naramoto', 'naoh', 'stimuli', 'cuo', 'opening', 'moh', 'fgs', 'upper', 'flat', 'unist', 'coupling', 'nanoribbon', 'mismatched', 'ising', 'antiferromagnetic', 'electrospinning', 'blends', 'yoon', 'electrospun', 'jang', 'mcnps', 'nanocarbon', 'mediated', 'phss', 'aos', 'lev', 'radiolysis', 'photolysis', 'lyso', 'ffa', 'tmpd', 'xtt', 'phs', 'riboflavin', 'psd', 'singlet', 'pib', 'performances', 'qiu', 'pibs', 'rank', 'france', 'cnrs', 'aix', 'concave', 'teschner', 'marseille', 'bichara', 'amara', 'ducastelle', 'magnin', 'decarbonized', 'borosilicate', 'healing', 'dta', 'additives', 'butyl', 'ptbma', 'pvbmn', 'tbma', 'vbmn', 'cms', 'graft', 'nylon', 'maa', 'sac', 'kinetic', 'agricultural', 'atsac', 'picoline', 'picolines', 'mohan', 'wastewater', 'bt', 'vt', 'dep', 'directed', 'egps', 'settled', 'spectrums', 'gnf', 'gnfs', 'azgnfs', 'parallelogram', 'helical', 'zzgnfs', 'cutting', 'two', 'kirigami', 'filtering', 'spark', 'conductivities', 'thermoelectric', 'vrh', 'hopping', 'qian', 'geldart', 'vermiculites', 'lamellar', 'among', 'fluidization', 'vermiculite', 'rhombuses', 'eight', 'leed', 'starke', 'dugerjav', 'zl', 'postannealed', 'postannealing', 'qfmlg', 'lkhagvasuren', 'zakharov', 'unitcell', 'pgss', 'pgs_iii', 'pgs_iv', 'pgs', 'pgs_ii', 'ogawa', 'new', 'jas', 'karamatsu', 'prepreg', 'cfrwood', 'glulams', 'glulam', 'cfr', 'sugi', 'nakamatsu', 'turn', 'coiled', 'tubule', 'αc', 'angle', 'angles', 'cncs', 'αm', 'handed', 'rising', 'radii', 'nanospring', 'nanosprings', 'nanocoils', 'spring', 'optimized', 'turns', 'mras', 'mra', 'jago', 'orlita', 'lls', 'polarizibility', 'winzer', 'malic', 'combined', 'multiphonon', 'rhys', 'lqg', 'wendler', 'organization', 'cyanuric', 'supramolecular', 'δα', 'spots', 'optics', 'fractional', 'dynamics', 'lifetimes', 'tcspc', 'shanxi', 'photoreduction', 'molkg', 'widening', 'mpsds', 'mpsd', 'anthracites', 'deliverable', 'pz', 'vc', 'catalysis', 'hot', 'spacings', 'dassios', 'gold', 'aunps', 'spacing', 'ubs', 'biomarkers', 'pil', 'transducers', 'tung', 'voc', 'spoilage', 'vapour', 'discrimination', 'chemo', 'snr', 'packaging', 'analytes', 'feller', 'nonpolar', 'dichloromethylene', 'rosca', 'lpo', 'hyperpolarizabilities', 'homo', 'gqd', 'hl', 'gqds', 'δe', 'nlo', 'third', 'hyperpolarizability', 'substituent', 'lumo', 'nanotubular', 'ammoxidized', 'ammoxidation', 'nt', 'frackowiak', 'alkaline', 'delpeux', 'poznań', 'jurewicz', 'hou', 'mater', 'sswb', 'interfaces', 'feco', 'interatomic', 'compton', 'hammersley', 'dore', 'template', 'esrf', 'proffen', 'kyotani', 'burian', 'channels', 'neighbour', 'koloczek', 'sz', 'block', 'peo', 'pdma', 'zwitterionic', 'hpc', 'toyoda', 'adsorptivity', 'tryba', 'konno', 'tsumura', 'photodecomposition', 'rutile', 'pretreatment', 'irabien', 'extensively', 'gwanggyo', 'tempo', 'ccnf', 'lco', 'visco', 'newtonian', 'lver', 'cheung', 'collett', 'processing', 'superposition', 'ferry', 'turpin', 'rad', 'behaviour', 'nazem', 'rheometry', 'rand', 'oscillatory', 'master', 'call', 'orbital', 'boxes', 'fractals', 'lumö', 'andl', 'benedek', 'aggregate', 'davidene', 'ground', 'displaying', 'oo', 'asymptotically', 'roman', 'orbitais', 'cantor', 'levels', 'df', 'aggre', 'cofe', 'aminophthalic', 'hydroxides', 'ccvd', 'active', 'wax', 'emulsion', 'alkylamine', 'janus', 'amphiphilic', 'tapioca', 'starch', 'ajn', 'catholyte', 'zifs', 'zif', 'xanes', 'polysulfides', 'polysulfide', 'cohc', 'nas', 'cnas', 'nanowires', 'nanowire', 'alcohol', 'dimensional', 'segregated', 'φc', 'hdpe', 'exponent', 'hertel', 'deformations', 'hanein', 'abrams', 'images', 'adjoining', 'adhering', 'deformation', 'an', 'ding', 'lou', 'aggregated', 'amelinckx', 'distributions', 'outer', 'escaping', 'microstructures', 'central', 'gamaly', 'diameters', 'ohkohchi', 'colbert', 'sustained', 'ebbesen', 'shimotani', 'tang', 'mcnts', 'region', 'fringe', 'cupped', 'amiinu', 'sep', 'jan', 'murugesan', 'samayanan', 'kou', 'nitrophenol', 'sonamuthu', 'nanocubes', 'supp', 'ils', 'bmim', 'pnf', 'bnf', 'velocity', 'motion', 'motors', 'fenp', 'cargo', 'microchannel', 'mmc', 'motor', 'libraries', 'bimodal', 'library', 'accvd', 'nonylphenol', 'calc', 'photoelectrocatalytic', 'fto', 'photoelectrocatalysis', 'rough', 'wenzel', 'contact', 'cos', 'protrutions', 'superhydrophilic', 'superhydrophilicity', 'superhydrophobic', 'superhydrophobicity', 'these', 'through', 'taif', 'recycling', 'notice', 'losic', 'degradable', 'anodization', 'naams', 'rosb', 'bpy', 'naam', 'ru', 'rhob', 'plastic', 'bags', 'units', 'lengths', 'styrene', 'bromo', 'repeat', 'methylpropionyl', 'cnp', 'pst', 'ismagilov', 'fenelonov', 'dbb', 'reshetenko', 'cfc', 'textural', 'hydrogasification', 'bilayer', 'twist', 'detector', 'map', 'caplins', 'mask', 'gwanak', 'decay', 'argonne', 'mullins', 'reflectance', 'ensemble', 'correlation', 'phenomenology', 'vro', 'shale', 'maturity', 'maturation', 'urbach', 'vitrinite', 'kerogen', 'kerogens', 'proxy', 'elimination', 'halide', 'chlorination', 'chromium', 'carbides', 'yano', 'apoh', 'aminopropyl', 'xys', 'mscss', 'mmss', 'mmsss', 'calcined', 'starburst', 'monodispersed', 'group', 'organically', 'jr', 'shoulders', 'kini', 'bale', 'janosi', 'lahiri', 'mandelbrot', 'guinier', 'evans', 'york', 'saxs', 'perry', 'academic', 'lyengar', 'mahajan', 'mitropoulos', 'cby', 'sby', 'allardice', 'bristol', 'edition', 'tonkikh', 'russia', 'moscow', 'ras', 'kharlamova', 'sq', 'polyiodide', 'iodination', 'thermochemical', 'grow', 'thermochemically', 'motojima', 'helix', 'helices', 'strands', 'microhelices', 'sio', 'ccfs', 'topological', 'durability', 'dmwnts', 'dmwnt', 'onset', 'waki', 'rta', 'icp', 'arizona', 'electrocoagulation', 'rbcl', 'dgu', 'reflux', 'electrolysis', 'promoters', 'soots', 'promoter', 'fes', 'lis', 'lipss', 'graphites', 'bisulphate', 'avdeev', 'nitrate', 'heavy', 'nazarov', 'fgics', 'fgic', 'egs', 'makotchenko', 'intercalant', 'heg', 'hegs', 'flexibility', 'polyol', 'nanoalloys', 'agpt', 'addition', 'crystals', 'serum', 'ecsa', 'nonenzymatic', 'nio', 'nanohybrid', 'dl', 'floating', 'nucleate', 'twcnts', 'eutectic', 'number', 'joseph', 'bode', 'gadhamshetty', 'city', 'day', 'abiotic', 'biofilm', 'rcorr', 'corrosion', 'united', 'mage', 'srb', 'dakota', 'microbiologically', 'blvd', 'mild', 'chilkoor', 'mag', 'mpy', 'maleic', 'mines', 'shanghai', 'hi', 'hydrophilicity', 'cnc', 'momentum', 'inertial', 'weber', 'sussman', 'peclet', 'numerical', 'movement', 'reynolds', 'bubble', 'bubbles', 'condition', 'hydroxymethyl', 'grenierloustalot', 'formaldehyde', 'five', 'thess', 'rope', 'fold', 'fee', 'lucas', 'twin', 'pirouz', 'reflections', 'shechtman', 'multishell', 'hevesi', 'ruca', 'haanstra', 'krekels', 'bruyninckx', 'dark', 'chiral', 'ges', 'luyten', 'hrem', 'ropes', 'tendeloo', 'hko', 'bernaerts', 'amelinekx', 'landuyt', 'van', 'washed', 'desilication', 'hf', 'ztc', 'zeolites', 'zeolite', 'beta', 'dmeda', 'ash', 'nishihara', 'templated', 'dealumination', 'framework', 'bright', 'cavity', 'edps', 'nanorods', 'nanorod', 'product', 'ctts', 'hdmg', 'dimethylglyoxime', 'hydrogenated', 'intrinsic', 'nonmagnetic', 'styles', 'nanjing', 'linyi', 'saed', 'abc', 'style', 'pgdy', 'stacking', 'multilayer', 'gdy', 'do', 'supercluster', 'aα', 'kμ', 'superclusters', 'aggregation', 'oven', 'joule', 'nanocarbons', 'repair', 'hardener', 'cured', 'cure', 'vilatela', 'nanoplatelets', 'agari', 'constant', 'text', 'doc', 'ﬂux', 'integral', 'trick', 'mechanism', 'probable', 'ln', 'pf', 'fepc', 'donghua', 'facility', 'xafs', 'kramm', 'tpp', 'copc', 'formed', 'circuiting', 'dahn', 'insertion', 'emu', 'carrier', 'mott', 'narayan', 'wal', 'orbit', 'bhaumik', 'undercooling', 'sachan', 'pla', 'localization', 'amana', 'pulikollu', 'penchina', 'tantalum', 'canada', 'freshly', 'aerosols', 'schrader', 'fresh', 'airborne', 'sandpaper', 'toronto', 'wca', 'wcas', 'mgg', 'hopg', 'grzyb', 'abraham', 'papirer', 'igc', 'burg', 'shuely', 'nitropropane', 'probes', 'ctp', 'dispersive', 'solute', 'mosaics', 'lser', 'cokes', 'internal', 'steele', 'mclachlan', 'canonical', 'commensurate', 'fluid', 'collision', 'ustinov', 'quadrupole', 'tangential', 'mediation', 'electrosprayed', 'cmss', 'kb', 'electrospraying', 'pmss', 'lsbs', 'novolac', 'hypothetic', 'misalignment', 'rdf', 'fragment', 'spinsg', 'fragments', 'tilting', 'parallel', 'prieto', 'etter', 'algrp', 'squeeze', 'preform', 'nonmetal', 'perpendicular', 'cvs', 'dilatometer', 'edlc', 'dilatation', 'cde', 'locally', 'motifs', 'lerf', 'gos', 'effluent', 'pe', 'orthogonal', 'adsorber', 'xiu', 'collocation', 'pb', 'intraparticle', 'lnd', 'alslcc', 'alshcc', 'sh', 'shcc', 'capacitances', 'hpcs', 'slcc', 'clr', 'rc', 'rga', 'neon', 'southampton', 'fused', 'fishlock', 'memsci', 'shubnikov', 'sciences', 'kudryavtsev', 'adamantane', 'russian', 'dibromoadamantane', 'lebedev', 'crystallography', 'diamonds', 'ekimov', 'troitsk', 'kuwana', 'cea', 'efficiency', 'mayne', 'carpet', 'generator', 'pinault', 'inha', 'wcsl', 'dough', 'tzc', 'mnpc', 'hirshfeld', 'fields', 'channelling', 'madrid', 'submitted', 'reox', 'brillouin', 'point', 'shears', 'symmetry', 'modulo', 'panels', 'contours', 'indirect', 'strains', 'gels', 'cx', 'xerogels', 'series', 'guangzhou', 'nco', 'chem', 'jy', 'mor', 'abdel', 'institutes', 'dual', 'hefei', 'absorbed', 'onto', 'cytochrome', 'thionine', 'basiuk', 'percentages', 'microemulsion', 'reverse', 'cancerous', 'endometrial', 'sterile', 'toxic', 'analogs', 'nagy', 'lhrh', 'receptors', 'confocal', 'survivals', 'luteinizing', 'incubated', 'gonadotrophin', 'cytotoxic', 'hela', 'prostate', 'cancers', 'pbs', 'releasing', 'schally', 'gnrh', 'hormone', 'isopropanol', 'superbase', 'chun', 'pinewood', 'acetone', 'basicity', 'δt', 'cracks', 'environments', 'atmosphere', 'fatigue', 'acquisition', 'sdia', 'pyramid', 'mochena', 'mogus', 'larsson', 'apex', 'symmetric', 'harutyunyan', 'face', 'tefera', 'icosahedral', 'nanocatalyst', 'carbonized', 'structuration', 'pom', 'sem', 'nanocoil', 'sn', 'bhf', 'bst', 'running', 'exothermic', 'cyclized', 'stabilized', 'reactions', 'aramid', 'identification', 'molybdenite', 'dgc', 'stibnite', 'residuum', 'diffractions', 'filip', 'lm', 'zircon', 'rol', 'stripes', 'flux', 'chips', 'chip', 'individually', 'large', 'kathyayini', 'low', 'acetylacetonate', 'engenharia', 'amounts', 'molcm', 'porto', 'monometallic', 'covering', 'grafoil', 'pcbs', 'sumfleth', 'kinds', 'wu', 'foamed', 'jiangsu', 'polylactide', 'bendable', 'jaronicc', 'dokko', 'protic', 'pci', 'pyrrole', 'watanbe', 'μw', 'yao', 'te', 'csa', 'singapore', 'seebeck', 'ngs', 'short', 'bend', 'sfgs', 'pressing', 'ff', 'entry', 'lif', 'pce', 'etls', 'etl', 'pscs', 'mastication', 'supplementary', 'benzothiazolyl', 'workability', 'resilience', 'sbr', 'nhcs', 'jis', 'vulcanization', 'mooney', 'disordered', 're', 'stages', 'primary', 'ruemmeli', 'falk', 'secondary', 'nerushev', 'dusting', 'schaeffel', 'eels', 'heterojunction', 'cya', 'coralloid', 'teoa', 'cnl', 'cnat', 'dess', 'nanocages', 'cnu', 'ifthikar', 'environmental', 'persulfates', 'superlattice', 'mgal', 'gl', 'nonradical', 'jawad', 'monolayered', 'persulfate', 'ch', 'birch', 'fluorographite', 'hhg', 'hglh', 'nak', 'ethylenediamine', 'mechanisms', 'minton', 'aiaa', 'poovathingal', 'fluxes', 'angular', 'psmm', 'td', 'dsmc', 'μe']\n"
     ]
    }
   ],
   "source": [
    "words = good_words(mat,vocab,50,5000)\n",
    "print(words)"
   ]
  },
  {
   "cell_type": "code",
   "execution_count": null,
   "metadata": {},
   "outputs": [],
   "source": [
    "import nltk\n",
    "tagged_words = nltk.pos_tag(words)\n",
    "print(tagged_words)\n",
    "nltk.download('tagsets') #to view different POS tags\n",
    "nltk.help.upenn_tagset()\n"
   ]
  },
  {
   "cell_type": "code",
   "execution_count": null,
   "metadata": {},
   "outputs": [],
   "source": [
    "filtered_list = []\n",
    "for i in range(len(tagged_words)):\n",
    "    word = tagged_words[i][0]\n",
    "    tag = tagged_words[i][1]\n",
    "    if tag == 'JJ':\n",
    "        filtered_list.append(word)\n",
    "    elif tag == 'JJR':\n",
    "        filtered_list.append(word)\n",
    "    elif tag == 'JJS':\n",
    "        filtered_list.append(word)\n",
    "print(filtered_list)"
   ]
  },
  {
   "cell_type": "code",
   "execution_count": null,
   "metadata": {},
   "outputs": [],
   "source": []
  }
 ],
 "metadata": {
  "kernelspec": {
   "display_name": "Python 3",
   "language": "python",
   "name": "python3"
  },
  "language_info": {
   "codemirror_mode": {
    "name": "ipython",
    "version": 3
   },
   "file_extension": ".py",
   "mimetype": "text/x-python",
   "name": "python",
   "nbconvert_exporter": "python",
   "pygments_lexer": "ipython3",
   "version": "3.7.6"
  }
 },
 "nbformat": 4,
 "nbformat_minor": 4
}
