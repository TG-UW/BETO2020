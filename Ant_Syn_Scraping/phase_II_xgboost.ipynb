{
 "cells": [
  {
   "cell_type": "code",
   "execution_count": 14,
   "metadata": {},
   "outputs": [
    {
     "name": "stdout",
     "output_type": "stream",
     "text": [
      "The autoreload extension is already loaded. To reload it, use:\n",
      "  %reload_ext autoreload\n"
     ]
    }
   ],
   "source": [
    "import os\n",
    "import sys\n",
    "import json\n",
    "import pandas as pd\n",
    "import numpy as np\n",
    "import matplotlib.pyplot as plt\n",
    "from sklearn.model_selection import train_test_split\n",
    "import xgboost as xgb\n",
    "from tqdm import tqdm\n",
    "from gensim.models import Word2Vec as wv\n",
    "\n",
    "%matplotlib inline\n",
    "%load_ext autoreload"
   ]
  },
  {
   "cell_type": "markdown",
   "metadata": {},
   "source": [
    "## This classifier is meant to take in:\n",
    "\n",
    "- pre-trained embeddings (w2v, but want to try syn and ant embeddings)\n",
    "- synonymy and antonymy scores\n"
   ]
  },
  {
   "cell_type": "code",
   "execution_count": 2,
   "metadata": {},
   "outputs": [
    {
     "name": "stdout",
     "output_type": "stream",
     "text": [
      "1    6534\n",
      "0    4696\n",
      "2    3002\n",
      "Name: label, dtype: int64\n"
     ]
    },
    {
     "data": {
      "text/html": [
       "<div>\n",
       "<style scoped>\n",
       "    .dataframe tbody tr th:only-of-type {\n",
       "        vertical-align: middle;\n",
       "    }\n",
       "\n",
       "    .dataframe tbody tr th {\n",
       "        vertical-align: top;\n",
       "    }\n",
       "\n",
       "    .dataframe thead th {\n",
       "        text-align: right;\n",
       "    }\n",
       "</style>\n",
       "<table border=\"1\" class=\"dataframe\">\n",
       "  <thead>\n",
       "    <tr style=\"text-align: right;\">\n",
       "      <th></th>\n",
       "      <th>word 1</th>\n",
       "      <th>word 2</th>\n",
       "      <th>label</th>\n",
       "    </tr>\n",
       "  </thead>\n",
       "  <tbody>\n",
       "    <tr>\n",
       "      <th>0</th>\n",
       "      <td>infinite</td>\n",
       "      <td>bounded</td>\n",
       "      <td>2</td>\n",
       "    </tr>\n",
       "    <tr>\n",
       "      <th>1</th>\n",
       "      <td>infinite</td>\n",
       "      <td>brief</td>\n",
       "      <td>2</td>\n",
       "    </tr>\n",
       "    <tr>\n",
       "      <th>2</th>\n",
       "      <td>infinite</td>\n",
       "      <td>calculable</td>\n",
       "      <td>0</td>\n",
       "    </tr>\n",
       "    <tr>\n",
       "      <th>3</th>\n",
       "      <td>infinite</td>\n",
       "      <td>ceasing</td>\n",
       "      <td>2</td>\n",
       "    </tr>\n",
       "    <tr>\n",
       "      <th>4</th>\n",
       "      <td>infinite</td>\n",
       "      <td>ending</td>\n",
       "      <td>2</td>\n",
       "    </tr>\n",
       "    <tr>\n",
       "      <th>...</th>\n",
       "      <td>...</td>\n",
       "      <td>...</td>\n",
       "      <td>...</td>\n",
       "    </tr>\n",
       "    <tr>\n",
       "      <th>14227</th>\n",
       "      <td>charm</td>\n",
       "      <td>fascinate</td>\n",
       "      <td>1</td>\n",
       "    </tr>\n",
       "    <tr>\n",
       "      <th>14228</th>\n",
       "      <td>charm</td>\n",
       "      <td>magical spell</td>\n",
       "      <td>1</td>\n",
       "    </tr>\n",
       "    <tr>\n",
       "      <th>14229</th>\n",
       "      <td>charm</td>\n",
       "      <td>appealingness</td>\n",
       "      <td>1</td>\n",
       "    </tr>\n",
       "    <tr>\n",
       "      <th>14230</th>\n",
       "      <td>charm</td>\n",
       "      <td>enchant</td>\n",
       "      <td>1</td>\n",
       "    </tr>\n",
       "    <tr>\n",
       "      <th>14231</th>\n",
       "      <td>embodying</td>\n",
       "      <td>substantiate</td>\n",
       "      <td>1</td>\n",
       "    </tr>\n",
       "  </tbody>\n",
       "</table>\n",
       "<p>14232 rows × 3 columns</p>\n",
       "</div>"
      ],
      "text/plain": [
       "          word 1         word 2  label\n",
       "0       infinite        bounded      2\n",
       "1       infinite          brief      2\n",
       "2       infinite     calculable      0\n",
       "3       infinite        ceasing      2\n",
       "4       infinite         ending      2\n",
       "...          ...            ...    ...\n",
       "14227      charm      fascinate      1\n",
       "14228      charm  magical spell      1\n",
       "14229      charm  appealingness      1\n",
       "14230      charm        enchant      1\n",
       "14231  embodying   substantiate      1\n",
       "\n",
       "[14232 rows x 3 columns]"
      ]
     },
     "execution_count": 2,
     "metadata": {},
     "output_type": "execute_result"
    }
   ],
   "source": [
    "word_pairs_df = pd.read_excel('/Users/wesleytatum/Desktop/post_doc/BETO/BETO2020/Ant_Syn_Scraping/data/new_syn_ant_list.xlsx')\n",
    "word_pairs_df = word_pairs_df.drop('Unnamed: 0', axis = 1)\n",
    "print(word_pairs_df['label'].value_counts())\n",
    "word_pairs_df"
   ]
  },
  {
   "cell_type": "code",
   "execution_count": 3,
   "metadata": {},
   "outputs": [
    {
     "name": "stdout",
     "output_type": "stream",
     "text": [
      "w2v vocab length: 358151\n",
      "number of word pair words: 9043\n",
      "number of missing words: 2322\n",
      "length of common vocab: 6733\n"
     ]
    }
   ],
   "source": [
    "#Vocabulary from Carbon corpus and Word2Vec model trained on all abstracts\n",
    "#Opening contents of Word2Vec model1\n",
    "\n",
    "w2v_model_path = '/Users/wesleytatum/Desktop/post_doc/data/w2v_models/200D_all_abstracts_model/full_corpus_w2v_mc5_s200_wdw10.model'\n",
    "model1 = wv.load(w2v_model_path)\n",
    "vocabulary1 = list(model1.wv.vocab)\n",
    "print(f'w2v vocab length: {len(vocabulary1)}')\n",
    "\n",
    "w2v_data_df = word_pairs_df.copy()\n",
    "\n",
    "#finding which words are in the pd but not in vocabulary1\n",
    "list1 = list(word_pairs_df['word 1'])\n",
    "list2 = list(word_pairs_df['word 2'])\n",
    "missing = list((set(list1).difference(vocabulary1))) + list((set(list2).difference(vocabulary1)))\n",
    "print(f'number of word pair words: {len(list(set(list1+list2)))}')\n",
    "print(f'number of missing words: {len(missing)}')\n",
    "\n",
    "#keeping only the rows in the pd that have words in vocabulary1\n",
    "w2v_data_df = w2v_data_df[~w2v_data_df['word 1'].isin(missing)]\n",
    "w2v_data_df = w2v_data_df[~w2v_data_df['word 2'].isin(missing)]\n",
    "\n",
    "#reseting indeces after mask\n",
    "w2v_data_df.reset_index(inplace = True)\n",
    "\n",
    "#creating list of individual words that are both in vocabulary1 and excel sheet \n",
    "#dict.fromkeys() ensuring there are no duplicates\n",
    "common = list(set(list1)&set(vocabulary1))+list(set(list2)&set(vocabulary1))\n",
    "common = list(dict.fromkeys(common))\n",
    "common = sorted(common)\n",
    "print(f'length of common vocab: {len(common)}')\n",
    "\n",
    "#save vocab list and call it in the Pre_Trained_Embeddings\n",
    "common_df = pd.DataFrame(common)\n",
    "common_df.to_csv('./data/words_list.csv', index=False)"
   ]
  },
  {
   "cell_type": "code",
   "execution_count": 4,
   "metadata": {},
   "outputs": [
    {
     "name": "stderr",
     "output_type": "stream",
     "text": [
      "100%|█████████▉| 10904/10916 [00:27<00:00, 369.62it/s]"
     ]
    },
    {
     "name": "stdout",
     "output_type": "stream",
     "text": [
      "1    4668\n",
      "0    4001\n",
      "2    2247\n",
      "Name: label, dtype: int64\n"
     ]
    },
    {
     "data": {
      "text/html": [
       "<div>\n",
       "<style scoped>\n",
       "    .dataframe tbody tr th:only-of-type {\n",
       "        vertical-align: middle;\n",
       "    }\n",
       "\n",
       "    .dataframe tbody tr th {\n",
       "        vertical-align: top;\n",
       "    }\n",
       "\n",
       "    .dataframe thead th {\n",
       "        text-align: right;\n",
       "    }\n",
       "</style>\n",
       "<table border=\"1\" class=\"dataframe\">\n",
       "  <thead>\n",
       "    <tr style=\"text-align: right;\">\n",
       "      <th></th>\n",
       "      <th>word 1</th>\n",
       "      <th>word 2</th>\n",
       "      <th>label</th>\n",
       "    </tr>\n",
       "  </thead>\n",
       "  <tbody>\n",
       "    <tr>\n",
       "      <th>0</th>\n",
       "      <td>3140</td>\n",
       "      <td>663</td>\n",
       "      <td>2</td>\n",
       "    </tr>\n",
       "    <tr>\n",
       "      <th>1</th>\n",
       "      <td>3140</td>\n",
       "      <td>696</td>\n",
       "      <td>2</td>\n",
       "    </tr>\n",
       "    <tr>\n",
       "      <th>2</th>\n",
       "      <td>3140</td>\n",
       "      <td>763</td>\n",
       "      <td>0</td>\n",
       "    </tr>\n",
       "    <tr>\n",
       "      <th>3</th>\n",
       "      <td>3140</td>\n",
       "      <td>842</td>\n",
       "      <td>2</td>\n",
       "    </tr>\n",
       "    <tr>\n",
       "      <th>4</th>\n",
       "      <td>3140</td>\n",
       "      <td>2071</td>\n",
       "      <td>2</td>\n",
       "    </tr>\n",
       "    <tr>\n",
       "      <th>...</th>\n",
       "      <td>...</td>\n",
       "      <td>...</td>\n",
       "      <td>...</td>\n",
       "    </tr>\n",
       "    <tr>\n",
       "      <th>10911</th>\n",
       "      <td>3701</td>\n",
       "      <td>356</td>\n",
       "      <td>1</td>\n",
       "    </tr>\n",
       "    <tr>\n",
       "      <th>10912</th>\n",
       "      <td>3701</td>\n",
       "      <td>3700</td>\n",
       "      <td>1</td>\n",
       "    </tr>\n",
       "    <tr>\n",
       "      <th>10913</th>\n",
       "      <td>3701</td>\n",
       "      <td>3258</td>\n",
       "      <td>1</td>\n",
       "    </tr>\n",
       "    <tr>\n",
       "      <th>10914</th>\n",
       "      <td>891</td>\n",
       "      <td>2362</td>\n",
       "      <td>1</td>\n",
       "    </tr>\n",
       "    <tr>\n",
       "      <th>10915</th>\n",
       "      <td>2016</td>\n",
       "      <td>5699</td>\n",
       "      <td>1</td>\n",
       "    </tr>\n",
       "  </tbody>\n",
       "</table>\n",
       "<p>10916 rows × 3 columns</p>\n",
       "</div>"
      ],
      "text/plain": [
       "      word 1 word 2 label\n",
       "0       3140    663     2\n",
       "1       3140    696     2\n",
       "2       3140    763     0\n",
       "3       3140    842     2\n",
       "4       3140   2071     2\n",
       "...      ...    ...   ...\n",
       "10911   3701    356     1\n",
       "10912   3701   3700     1\n",
       "10913   3701   3258     1\n",
       "10914    891   2362     1\n",
       "10915   2016   5699     1\n",
       "\n",
       "[10916 rows x 3 columns]"
      ]
     },
     "execution_count": 4,
     "metadata": {},
     "output_type": "execute_result"
    },
    {
     "name": "stderr",
     "output_type": "stream",
     "text": [
      "100%|██████████| 10916/10916 [00:40<00:00, 369.62it/s]"
     ]
    }
   ],
   "source": [
    "#for word pairs in our proposed training set, check if both words are in\n",
    "#the common vocabulary list and then create a new dataframe with their indices\n",
    "\n",
    "w2v_indx_df = pd.DataFrame(columns = ['word 1', 'word 2', 'label'])\n",
    "\n",
    "pbar = tqdm(total = len(w2v_data_df), position = 0)\n",
    "\n",
    "for i in range(len(w2v_data_df)):\n",
    "    \n",
    "    word1 = w2v_data_df['word 1'].iloc[i]\n",
    "    word2 = w2v_data_df['word 2'].iloc[i]\n",
    "    label = w2v_data_df['label'].iloc[i]\n",
    "    \n",
    "    if word1 in common:\n",
    "        if word2 in common:\n",
    "            index1 = common.index(word1)\n",
    "            index2 = common.index(word2)\n",
    "            w2v_indx_df.loc[i] = pd.Series({'word 1':index1, 'word 2':index2, 'label':label})\n",
    "        else:\n",
    "            pass\n",
    "    else:\n",
    "        pass\n",
    "    pbar.update()\n",
    "    \n",
    "print(w2v_indx_df.label.value_counts())\n",
    "w2v_indx_df"
   ]
  },
  {
   "cell_type": "code",
   "execution_count": 5,
   "metadata": {},
   "outputs": [],
   "source": [
    "X = w2v_indx_df[['word 1', 'word 2']]\n",
    "Y = w2v_indx_df['label']\n",
    "\n",
    "xtr, xts, ytr, yts = train_test_split(X, Y, test_size = 0.2, shuffle = True)\n",
    "\n",
    "dtrain = xgb.DMatrix(xtr.values.astype(int), label = ytr.values.astype(int))\n",
    "dtest = xgb.DMatrix(xts.values.astype(int), label = yts.values.astype(int))"
   ]
  },
  {
   "cell_type": "code",
   "execution_count": 6,
   "metadata": {},
   "outputs": [],
   "source": [
    "params = {\n",
    "    'booster' : 'gbtree',\n",
    "    'verbosity' : 2,\n",
    "    'eta' : 0.3,\n",
    "    'gamma' : 0,\n",
    "    'max_depth' : 6,\n",
    "    'objective' : 'multi:softmax',\n",
    "    'num_class' : 3,\n",
    "}\n",
    "\n",
    "watchlist = [(dtest, 'eval'), (dtrain, 'train')]\n",
    "num_round = 5"
   ]
  },
  {
   "cell_type": "code",
   "execution_count": 7,
   "metadata": {},
   "outputs": [
    {
     "name": "stdout",
     "output_type": "stream",
     "text": [
      "[12:55:29] INFO: /Users/travis/build/dmlc/xgboost/src/tree/updater_prune.cc:101: tree pruning end, 72 extra nodes, 0 pruned nodes, max_depth=6\n",
      "[12:55:29] INFO: /Users/travis/build/dmlc/xgboost/src/tree/updater_prune.cc:101: tree pruning end, 86 extra nodes, 0 pruned nodes, max_depth=6\n",
      "[12:55:29] INFO: /Users/travis/build/dmlc/xgboost/src/tree/updater_prune.cc:101: tree pruning end, 104 extra nodes, 0 pruned nodes, max_depth=6\n",
      "[0]\teval-merror:0.49634\ttrain-merror:0.46427\n",
      "[12:55:29] INFO: /Users/travis/build/dmlc/xgboost/src/tree/updater_prune.cc:101: tree pruning end, 76 extra nodes, 0 pruned nodes, max_depth=6\n",
      "[12:55:29] INFO: /Users/travis/build/dmlc/xgboost/src/tree/updater_prune.cc:101: tree pruning end, 96 extra nodes, 0 pruned nodes, max_depth=6\n",
      "[12:55:29] INFO: /Users/travis/build/dmlc/xgboost/src/tree/updater_prune.cc:101: tree pruning end, 102 extra nodes, 0 pruned nodes, max_depth=6\n",
      "[1]\teval-merror:0.47848\ttrain-merror:0.44423\n",
      "[12:55:29] INFO: /Users/travis/build/dmlc/xgboost/src/tree/updater_prune.cc:101: tree pruning end, 72 extra nodes, 0 pruned nodes, max_depth=6\n",
      "[12:55:29] INFO: /Users/travis/build/dmlc/xgboost/src/tree/updater_prune.cc:101: tree pruning end, 78 extra nodes, 0 pruned nodes, max_depth=6\n",
      "[12:55:29] INFO: /Users/travis/build/dmlc/xgboost/src/tree/updater_prune.cc:101: tree pruning end, 106 extra nodes, 0 pruned nodes, max_depth=6\n",
      "[2]\teval-merror:0.46795\ttrain-merror:0.43174\n",
      "[12:55:29] INFO: /Users/travis/build/dmlc/xgboost/src/tree/updater_prune.cc:101: tree pruning end, 68 extra nodes, 0 pruned nodes, max_depth=6\n",
      "[12:55:29] INFO: /Users/travis/build/dmlc/xgboost/src/tree/updater_prune.cc:101: tree pruning end, 80 extra nodes, 0 pruned nodes, max_depth=6\n",
      "[12:55:29] INFO: /Users/travis/build/dmlc/xgboost/src/tree/updater_prune.cc:101: tree pruning end, 98 extra nodes, 0 pruned nodes, max_depth=6\n",
      "[3]\teval-merror:0.45147\ttrain-merror:0.41984\n",
      "[12:55:29] INFO: /Users/travis/build/dmlc/xgboost/src/tree/updater_prune.cc:101: tree pruning end, 72 extra nodes, 0 pruned nodes, max_depth=6\n",
      "[12:55:29] INFO: /Users/travis/build/dmlc/xgboost/src/tree/updater_prune.cc:101: tree pruning end, 62 extra nodes, 0 pruned nodes, max_depth=6\n",
      "[12:55:29] INFO: /Users/travis/build/dmlc/xgboost/src/tree/updater_prune.cc:101: tree pruning end, 100 extra nodes, 0 pruned nodes, max_depth=6\n",
      "[4]\teval-merror:0.44918\ttrain-merror:0.41525\n"
     ]
    }
   ],
   "source": [
    "bst = xgb.train(params, dtrain, num_round, watchlist)"
   ]
  },
  {
   "cell_type": "code",
   "execution_count": 19,
   "metadata": {},
   "outputs": [
    {
     "data": {
      "text/plain": [
       "array([1., 1., 1., ..., 1., 1., 1.], dtype=float32)"
      ]
     },
     "execution_count": 19,
     "metadata": {},
     "output_type": "execute_result"
    }
   ],
   "source": [
    "preds = bst.predict(dtest)\n",
    "preds"
   ]
  },
  {
   "cell_type": "code",
   "execution_count": 9,
   "metadata": {},
   "outputs": [
    {
     "name": "stdout",
     "output_type": "stream",
     "text": [
      "irrelevant pairs - 353 right, 478 wrong\n",
      "synonymous pairs - 743 right, 164 wrong\n",
      "antonymous pairs - 107 right, 339 wrong\n"
     ]
    }
   ],
   "source": [
    "cor_syn = 0\n",
    "wrng_syn = 0\n",
    "cor_ant = 0\n",
    "wrng_ant = 0\n",
    "cor_irrel = 0\n",
    "wrng_irrel = 0\n",
    "\n",
    "for pred, label in zip(preds, yts.values.astype(float)):\n",
    "    \n",
    "    if label == 0: #irrels\n",
    "        if pred == 0:\n",
    "            cor_irrel += 1\n",
    "        else:\n",
    "            wrng_irrel += 1\n",
    "        \n",
    "    if label == 1: #syns\n",
    "        if pred == 1:\n",
    "            cor_syn += 1\n",
    "        else:\n",
    "            wrng_syn += 1\n",
    "        \n",
    "    if label == 2: #ants\n",
    "        if pred == 2:\n",
    "            cor_ant += 1\n",
    "        else:\n",
    "            wrng_ant += 1\n",
    "            \n",
    "print(f'irrelevant pairs - {cor_irrel} right, {wrng_irrel} wrong')\n",
    "print(f'synonymous pairs - {cor_syn} right, {wrng_syn} wrong')\n",
    "print(f'antonymous pairs - {cor_ant} right, {wrng_ant} wrong')"
   ]
  },
  {
   "cell_type": "code",
   "execution_count": 10,
   "metadata": {},
   "outputs": [
    {
     "data": {
      "text/plain": [
       "<matplotlib.axes._subplots.AxesSubplot at 0x1a22789d50>"
      ]
     },
     "execution_count": 10,
     "metadata": {},
     "output_type": "execute_result"
    },
    {
     "data": {
      "image/png": "[encoded data removed]",
      "text/plain": [
       "<Figure size 432x288 with 1 Axes>"
      ]
     },
     "metadata": {
      "needs_background": "light"
     },
     "output_type": "display_data"
    }
   ],
   "source": [
    "xgb.plot_importance(bst)"
   ]
  },
  {
   "cell_type": "code",
   "execution_count": 15,
   "metadata": {},
   "outputs": [
    {
     "data": {
      "text/plain": [
       "<matplotlib.axes._subplots.AxesSubplot at 0x10991db10>"
      ]
     },
     "execution_count": 15,
     "metadata": {},
     "output_type": "execute_result"
    },
    {
     "data": {
      "image/png": "[encoded data removed]",
      "text/plain": [
       "<Figure size 432x288 with 1 Axes>"
      ]
     },
     "metadata": {
      "needs_background": "light"
     },
     "output_type": "display_data"
    }
   ],
   "source": [
    "xgb.plot_tree(bst)"
   ]
  },
  {
   "cell_type": "code",
   "execution_count": 18,
   "metadata": {},
   "outputs": [
    {
     "data": {
      "text/plain": [
       "{'a': [1, 2, 3, 4, 5, 6], 'b': [1, 2, 3, 4, 5, 6]}"
      ]
     },
     "execution_count": 18,
     "metadata": {},
     "output_type": "execute_result"
    }
   ],
   "source": [
    "d1 = {'a':[1, 2, 3], 'b':[1, 2, 3]}\n",
    "w1 = [4, 5, 6]\n",
    "w2 = [4, 5, 6]\n",
    "\n",
    "tmp1 = d1['a']\n",
    "tmp2 = d1['b']\n",
    "\n",
    "d1['a'] = tmp1+w1\n",
    "d1['b'] = tmp2+w2\n",
    "\n",
    "d1"
   ]
  },
  {
   "cell_type": "code",
   "execution_count": null,
   "metadata": {},
   "outputs": [],
   "source": []
  }
 ],
 "metadata": {
  "kernelspec": {
   "display_name": "Python 3",
   "language": "python",
   "name": "python3"
  },
  "language_info": {
   "codemirror_mode": {
    "name": "ipython",
    "version": 3
   },
   "file_extension": ".py",
   "mimetype": "text/x-python",
   "name": "python",
   "nbconvert_exporter": "python",
   "pygments_lexer": "ipython3",
   "version": "3.7.6"
  }
 },
 "nbformat": 4,
 "nbformat_minor": 4
}
