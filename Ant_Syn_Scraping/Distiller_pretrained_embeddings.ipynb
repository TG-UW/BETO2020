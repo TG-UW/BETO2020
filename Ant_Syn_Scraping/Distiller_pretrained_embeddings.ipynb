{
 "cells": [
  {
   "cell_type": "code",
   "execution_count": 1,
   "metadata": {},
   "outputs": [
    {
     "data": {
      "text/plain": [
       "<torch._C.Generator at 0x1a27ff5e90>"
      ]
     },
     "execution_count": 1,
     "metadata": {},
     "output_type": "execute_result"
    }
   ],
   "source": [
    "import os\n",
    "import sys\n",
    "import json\n",
    "import pandas as pd\n",
    "import numpy as np\n",
    "import matplotlib.pyplot as plt\n",
    "from sklearn.model_selection import train_test_split\n",
    "from sklearn.metrics import confusion_matrix\n",
    "import torch\n",
    "from torch.utils.data import TensorDataset, DataLoader\n",
    "from tqdm import tqdm\n",
    "from gensim.models import Word2Vec as wv\n",
    "\n",
    "%load_ext autoreload\n",
    "%matplotlib inline\n",
    "\n",
    "module_path = os.path.abspath(os.path.join('./syn_ant_modules'))\n",
    "if module_path not in sys.path:\n",
    "    sys.path.append(module_path)\n",
    "    \n",
    "import model_dataset as dataset \n",
    "import model_functions_PhaseI as functions\n",
    "import model_morphology as morpho\n",
    "import model_testing_PhaseI as test \n",
    "import model_training_PhaseI as train\n",
    "\n",
    "torch.manual_seed(28)"
   ]
  },
  {
   "cell_type": "code",
   "execution_count": 2,
   "metadata": {},
   "outputs": [
    {
     "data": {
      "text/html": [
       "<div>\n",
       "<style scoped>\n",
       "    .dataframe tbody tr th:only-of-type {\n",
       "        vertical-align: middle;\n",
       "    }\n",
       "\n",
       "    .dataframe tbody tr th {\n",
       "        vertical-align: top;\n",
       "    }\n",
       "\n",
       "    .dataframe thead th {\n",
       "        text-align: right;\n",
       "    }\n",
       "</style>\n",
       "<table border=\"1\" class=\"dataframe\">\n",
       "  <thead>\n",
       "    <tr style=\"text-align: right;\">\n",
       "      <th></th>\n",
       "      <th>Unnamed: 0</th>\n",
       "      <th>word 1</th>\n",
       "      <th>word 2</th>\n",
       "      <th>label</th>\n",
       "    </tr>\n",
       "  </thead>\n",
       "  <tbody>\n",
       "    <tr>\n",
       "      <th>0</th>\n",
       "      <td>0</td>\n",
       "      <td>infinite</td>\n",
       "      <td>bounded</td>\n",
       "      <td>2</td>\n",
       "    </tr>\n",
       "    <tr>\n",
       "      <th>1</th>\n",
       "      <td>1</td>\n",
       "      <td>infinite</td>\n",
       "      <td>brief</td>\n",
       "      <td>2</td>\n",
       "    </tr>\n",
       "    <tr>\n",
       "      <th>2</th>\n",
       "      <td>2</td>\n",
       "      <td>infinite</td>\n",
       "      <td>calculable</td>\n",
       "      <td>0</td>\n",
       "    </tr>\n",
       "    <tr>\n",
       "      <th>3</th>\n",
       "      <td>3</td>\n",
       "      <td>infinite</td>\n",
       "      <td>ceasing</td>\n",
       "      <td>2</td>\n",
       "    </tr>\n",
       "    <tr>\n",
       "      <th>4</th>\n",
       "      <td>4</td>\n",
       "      <td>infinite</td>\n",
       "      <td>ending</td>\n",
       "      <td>2</td>\n",
       "    </tr>\n",
       "    <tr>\n",
       "      <th>...</th>\n",
       "      <td>...</td>\n",
       "      <td>...</td>\n",
       "      <td>...</td>\n",
       "      <td>...</td>\n",
       "    </tr>\n",
       "    <tr>\n",
       "      <th>14227</th>\n",
       "      <td>14227</td>\n",
       "      <td>charm</td>\n",
       "      <td>fascinate</td>\n",
       "      <td>1</td>\n",
       "    </tr>\n",
       "    <tr>\n",
       "      <th>14228</th>\n",
       "      <td>14228</td>\n",
       "      <td>charm</td>\n",
       "      <td>magical spell</td>\n",
       "      <td>1</td>\n",
       "    </tr>\n",
       "    <tr>\n",
       "      <th>14229</th>\n",
       "      <td>14229</td>\n",
       "      <td>charm</td>\n",
       "      <td>appealingness</td>\n",
       "      <td>1</td>\n",
       "    </tr>\n",
       "    <tr>\n",
       "      <th>14230</th>\n",
       "      <td>14230</td>\n",
       "      <td>charm</td>\n",
       "      <td>enchant</td>\n",
       "      <td>1</td>\n",
       "    </tr>\n",
       "    <tr>\n",
       "      <th>14231</th>\n",
       "      <td>14231</td>\n",
       "      <td>embodying</td>\n",
       "      <td>substantiate</td>\n",
       "      <td>1</td>\n",
       "    </tr>\n",
       "  </tbody>\n",
       "</table>\n",
       "<p>14232 rows × 4 columns</p>\n",
       "</div>"
      ],
      "text/plain": [
       "       Unnamed: 0     word 1         word 2  label\n",
       "0               0   infinite        bounded      2\n",
       "1               1   infinite          brief      2\n",
       "2               2   infinite     calculable      0\n",
       "3               3   infinite        ceasing      2\n",
       "4               4   infinite         ending      2\n",
       "...           ...        ...            ...    ...\n",
       "14227       14227      charm      fascinate      1\n",
       "14228       14228      charm  magical spell      1\n",
       "14229       14229      charm  appealingness      1\n",
       "14230       14230      charm        enchant      1\n",
       "14231       14231  embodying   substantiate      1\n",
       "\n",
       "[14232 rows x 4 columns]"
      ]
     },
     "execution_count": 2,
     "metadata": {},
     "output_type": "execute_result"
    }
   ],
   "source": [
    "word_pairs_df = pd.read_excel('/Users/wesleytatum/Desktop/post_doc/BETO/BETO2020/Ant_Syn_Scraping/data/new_syn_ant_list.xlsx')\n",
    "word_pairs_df"
   ]
  },
  {
   "cell_type": "code",
   "execution_count": 3,
   "metadata": {},
   "outputs": [
    {
     "data": {
      "text/plain": [
       "1    6534\n",
       "0    4696\n",
       "2    3002\n",
       "Name: label, dtype: int64"
      ]
     },
     "execution_count": 3,
     "metadata": {},
     "output_type": "execute_result"
    }
   ],
   "source": [
    "word_pairs_df['label'].value_counts()"
   ]
  },
  {
   "cell_type": "code",
   "execution_count": 4,
   "metadata": {},
   "outputs": [
    {
     "name": "stdout",
     "output_type": "stream",
     "text": [
      "w2v vocab length: 358151\n",
      "number of word pair words: 9043\n",
      "number of missing words: 2322\n",
      "length of common vocab: 6733\n"
     ]
    }
   ],
   "source": [
    "#Vocabulary from Carbon corpus and Word2Vec model trained on all abstracts\n",
    "#Opening contents of Word2Vec model1\n",
    "\n",
    "w2v_model_path = '/Users/wesleytatum/Desktop/post_doc/data/w2v_models/200D_all_abstracts_model/full_corpus_w2v_mc5_s200_wdw10.model'\n",
    "model1 = wv.load(w2v_model_path)\n",
    "vocabulary1 = list(model1.wv.vocab)\n",
    "print(f'w2v vocab length: {len(vocabulary1)}')\n",
    "\n",
    "w2v_data_df = word_pairs_df.copy()\n",
    "\n",
    "#finding which words are in the pd but not in vocabulary1\n",
    "list1 = list(word_pairs_df['word 1'])\n",
    "list2 = list(word_pairs_df['word 2'])\n",
    "missing = list((set(list1).difference(vocabulary1))) + list((set(list2).difference(vocabulary1)))\n",
    "print(f'number of word pair words: {len(list(set(list1+list2)))}')\n",
    "print(f'number of missing words: {len(missing)}')\n",
    "\n",
    "#keeping only the rows in the pd that have words in vocabulary1\n",
    "w2v_data_df = w2v_data_df[~w2v_data_df['word 1'].isin(missing)]\n",
    "w2v_data_df = w2v_data_df[~w2v_data_df['word 2'].isin(missing)]\n",
    "\n",
    "#reseting indeces after mask\n",
    "w2v_data_df.reset_index(inplace = True)\n",
    "\n",
    "#creating list of individual words that are both in vocabulary1 and excel sheet \n",
    "#dict.fromkeys() ensuring there are no duplicates\n",
    "common = list(set(list1)&set(vocabulary1))+list(set(list2)&set(vocabulary1))\n",
    "common = list(dict.fromkeys(common))\n",
    "common = sorted(common)\n",
    "print(f'length of common vocab: {len(common)}')\n"
   ]
  },
  {
   "cell_type": "code",
   "execution_count": 5,
   "metadata": {},
   "outputs": [],
   "source": [
    "#save vocab list and call it in the Pre_Trained_Embeddings\n",
    "common_df = pd.DataFrame(common)\n",
    "common_df.to_csv('./data/words_list.csv', index=False)\n"
   ]
  },
  {
   "cell_type": "code",
   "execution_count": 6,
   "metadata": {},
   "outputs": [
    {
     "name": "stderr",
     "output_type": "stream",
     "text": [
      "100%|█████████▉| 10886/10916 [00:29<00:00, 384.51it/s]"
     ]
    },
    {
     "data": {
      "text/html": [
       "<div>\n",
       "<style scoped>\n",
       "    .dataframe tbody tr th:only-of-type {\n",
       "        vertical-align: middle;\n",
       "    }\n",
       "\n",
       "    .dataframe tbody tr th {\n",
       "        vertical-align: top;\n",
       "    }\n",
       "\n",
       "    .dataframe thead th {\n",
       "        text-align: right;\n",
       "    }\n",
       "</style>\n",
       "<table border=\"1\" class=\"dataframe\">\n",
       "  <thead>\n",
       "    <tr style=\"text-align: right;\">\n",
       "      <th></th>\n",
       "      <th>word 1</th>\n",
       "      <th>word 2</th>\n",
       "      <th>label</th>\n",
       "    </tr>\n",
       "  </thead>\n",
       "  <tbody>\n",
       "    <tr>\n",
       "      <th>0</th>\n",
       "      <td>3140</td>\n",
       "      <td>663</td>\n",
       "      <td>2</td>\n",
       "    </tr>\n",
       "    <tr>\n",
       "      <th>1</th>\n",
       "      <td>3140</td>\n",
       "      <td>696</td>\n",
       "      <td>2</td>\n",
       "    </tr>\n",
       "    <tr>\n",
       "      <th>2</th>\n",
       "      <td>3140</td>\n",
       "      <td>763</td>\n",
       "      <td>0</td>\n",
       "    </tr>\n",
       "    <tr>\n",
       "      <th>3</th>\n",
       "      <td>3140</td>\n",
       "      <td>842</td>\n",
       "      <td>2</td>\n",
       "    </tr>\n",
       "    <tr>\n",
       "      <th>4</th>\n",
       "      <td>3140</td>\n",
       "      <td>2071</td>\n",
       "      <td>2</td>\n",
       "    </tr>\n",
       "    <tr>\n",
       "      <th>...</th>\n",
       "      <td>...</td>\n",
       "      <td>...</td>\n",
       "      <td>...</td>\n",
       "    </tr>\n",
       "    <tr>\n",
       "      <th>10911</th>\n",
       "      <td>3701</td>\n",
       "      <td>356</td>\n",
       "      <td>1</td>\n",
       "    </tr>\n",
       "    <tr>\n",
       "      <th>10912</th>\n",
       "      <td>3701</td>\n",
       "      <td>3700</td>\n",
       "      <td>1</td>\n",
       "    </tr>\n",
       "    <tr>\n",
       "      <th>10913</th>\n",
       "      <td>3701</td>\n",
       "      <td>3258</td>\n",
       "      <td>1</td>\n",
       "    </tr>\n",
       "    <tr>\n",
       "      <th>10914</th>\n",
       "      <td>891</td>\n",
       "      <td>2362</td>\n",
       "      <td>1</td>\n",
       "    </tr>\n",
       "    <tr>\n",
       "      <th>10915</th>\n",
       "      <td>2016</td>\n",
       "      <td>5699</td>\n",
       "      <td>1</td>\n",
       "    </tr>\n",
       "  </tbody>\n",
       "</table>\n",
       "<p>10916 rows × 3 columns</p>\n",
       "</div>"
      ],
      "text/plain": [
       "      word 1 word 2 label\n",
       "0       3140    663     2\n",
       "1       3140    696     2\n",
       "2       3140    763     0\n",
       "3       3140    842     2\n",
       "4       3140   2071     2\n",
       "...      ...    ...   ...\n",
       "10911   3701    356     1\n",
       "10912   3701   3700     1\n",
       "10913   3701   3258     1\n",
       "10914    891   2362     1\n",
       "10915   2016   5699     1\n",
       "\n",
       "[10916 rows x 3 columns]"
      ]
     },
     "execution_count": 6,
     "metadata": {},
     "output_type": "execute_result"
    }
   ],
   "source": [
    "#for word pairs in our proposed training set, check if both words are in\n",
    "#the common vocabulary list and then create a new dataframe with their indices\n",
    "\n",
    "w2v_indx_df = pd.DataFrame(columns = ['word 1', 'word 2', 'label'])\n",
    "\n",
    "pbar = tqdm(total = len(w2v_data_df), position = 0)\n",
    "\n",
    "for i in range(len(w2v_data_df)):\n",
    "    \n",
    "    word1 = w2v_data_df['word 1'].iloc[i]\n",
    "    word2 = w2v_data_df['word 2'].iloc[i]\n",
    "    label = w2v_data_df['label'].iloc[i]\n",
    "    \n",
    "    if word1 in common:\n",
    "        if word2 in common:\n",
    "            index1 = common.index(word1)\n",
    "            index2 = common.index(word2)\n",
    "            w2v_indx_df.loc[i] = pd.Series({'word 1':index1, 'word 2':index2, 'label':label})\n",
    "        else:\n",
    "            pass\n",
    "    else:\n",
    "        pass\n",
    "    pbar.update()\n",
    "\n",
    "w2v_indx_df.label.value_counts()\n",
    "w2v_indx_df"
   ]
  },
  {
   "cell_type": "code",
   "execution_count": 7,
   "metadata": {},
   "outputs": [],
   "source": [
    "X = w2v_indx_df[['word 1', 'word 2']]\n",
    "Y = w2v_indx_df['label']\n",
    "\n",
    "xtr, xts, ytr, yts = train_test_split(X, Y, test_size = 0.2, shuffle = True)\n",
    "\n",
    "xtr_tens = torch.from_numpy(xtr.values.astype(float))\n",
    "xts_tens = torch.from_numpy(xts.values.astype(float))\n",
    "ytr_tens = torch.tensor(ytr.values.astype(float))\n",
    "yts_tens = torch.tensor(yts.values.astype(float))\n",
    "\n",
    "xtr_tens = xtr_tens.type(torch.long)\n",
    "xts_tens = xts_tens.type(torch.long)\n",
    "ytr_tens = ytr_tens.type(torch.long)\n",
    "yts_tens = yts_tens.type(torch.long)\n",
    "\n",
    "train_set = TensorDataset(xtr_tens, ytr_tens)\n",
    "test_set = TensorDataset(xts_tens, yts_tens)"
   ]
  },
  {
   "cell_type": "code",
   "execution_count": 8,
   "metadata": {},
   "outputs": [
    {
     "name": "stdout",
     "output_type": "stream",
     "text": [
      "tensor([0, 1, 2])\n"
     ]
    }
   ],
   "source": [
    "print(torch.unique(yts_tens))"
   ]
  },
  {
   "cell_type": "code",
   "execution_count": 9,
   "metadata": {},
   "outputs": [
    {
     "name": "stderr",
     "output_type": "stream",
     "text": [
      "100%|██████████| 10916/10916 [00:40<00:00, 384.51it/s]"
     ]
    }
   ],
   "source": [
    "#Hyper parameters\n",
    "num_epochs = 30\n",
    "batch_size = 50\n",
    "learning_rate = 5e-4\n",
    "\n",
    "# Device configuration (GPU if available, otherwise CPU)\n",
    "device = torch.device('cuda:0' if torch.cuda.is_available() else 'cpu')\n",
    "\n",
    "train_loader = DataLoader(train_set, batch_size = batch_size, shuffle = True)\n",
    "test_loader = DataLoader(test_set, batch_size = batch_size, shuffle = True)"
   ]
  },
  {
   "cell_type": "code",
   "execution_count": 10,
   "metadata": {},
   "outputs": [
    {
     "name": "stdout",
     "output_type": "stream",
     "text": [
      "vocabulary length = 6734\n"
     ]
    }
   ],
   "source": [
    "%autoreload\n",
    "\n",
    "vocab_length = len(common)+1 #+1 avoids indexing error\n",
    "print(f'vocabulary length = {vocab_length}')\n",
    "\n",
    "# Instantiate NN model. 'in_dims' = dimensions of embeddings in 'common'\n",
    "model = morpho.Phase_I_NN(in_dims = 200,\n",
    "                          vocab_length = vocab_length,\n",
    "                          common = common,\n",
    "                          w2v_model = model1).to(device)\n",
    "model.apply(functions.init_weights)\n",
    "\n",
    "#define the optimizer\n",
    "optimizer = torch.optim.AdamW(params = model.parameters(),\n",
    "                              lr = learning_rate,\n",
    "                              amsgrad = True)"
   ]
  },
  {
   "cell_type": "code",
   "execution_count": 11,
   "metadata": {
    "scrolled": true
   },
   "outputs": [
    {
     "name": "stderr",
     "output_type": "stream",
     "text": [
      "  0%|          | 0/30 [00:00<?, ?it/s]"
     ]
    },
    {
     "name": "stdout",
     "output_type": "stream",
     "text": [
      "[0]\teval-merror:0.48655\ttrain-merror:0.43837\n",
      "[1]\teval-merror:0.48082\ttrain-merror:0.42577\n",
      "[2]\teval-merror:0.48311\ttrain-merror:0.42033\n",
      "[3]\teval-merror:0.48140\ttrain-merror:0.41518\n",
      "[4]\teval-merror:0.48025\ttrain-merror:0.41045\n"
     ]
    },
    {
     "name": "stderr",
     "output_type": "stream",
     "text": [
      "  3%|▎         | 1/30 [00:10<05:18, 10.99s/it]"
     ]
    },
    {
     "name": "stdout",
     "output_type": "stream",
     "text": [
      "[0]\teval-merror:0.46022\ttrain-merror:0.43235\n",
      "[1]\teval-merror:0.45621\ttrain-merror:0.42033\n",
      "[2]\teval-merror:0.46022\ttrain-merror:0.41274\n",
      "[3]\teval-merror:0.46136\ttrain-merror:0.40931\n",
      "[4]\teval-merror:0.46480\ttrain-merror:0.40558\n"
     ]
    },
    {
     "name": "stderr",
     "output_type": "stream",
     "text": [
      "  7%|▋         | 2/30 [00:22<05:15, 11.28s/it]"
     ]
    },
    {
     "name": "stdout",
     "output_type": "stream",
     "text": [
      "[0]\teval-merror:0.45678\ttrain-merror:0.42019\n",
      "[1]\teval-merror:0.46193\ttrain-merror:0.41546\n",
      "[2]\teval-merror:0.46365\ttrain-merror:0.41217\n",
      "[3]\teval-merror:0.45793\ttrain-merror:0.40472\n",
      "[4]\teval-merror:0.45392\ttrain-merror:0.39928\n"
     ]
    },
    {
     "name": "stderr",
     "output_type": "stream",
     "text": [
      " 10%|█         | 3/30 [00:34<05:03, 11.25s/it]"
     ]
    },
    {
     "name": "stdout",
     "output_type": "stream",
     "text": [
      "[0]\teval-merror:0.47510\ttrain-merror:0.40630\n",
      "[1]\teval-merror:0.46709\ttrain-merror:0.40014\n",
      "[2]\teval-merror:0.46365\ttrain-merror:0.39886\n",
      "[3]\teval-merror:0.46766\ttrain-merror:0.39656\n",
      "[4]\teval-merror:0.46880\ttrain-merror:0.39284\n"
     ]
    },
    {
     "name": "stderr",
     "output_type": "stream",
     "text": [
      " 13%|█▎        | 4/30 [00:48<05:18, 12.25s/it]"
     ]
    },
    {
     "name": "stdout",
     "output_type": "stream",
     "text": [
      "[0]\teval-merror:0.45564\ttrain-merror:0.40702\n",
      "[1]\teval-merror:0.44991\ttrain-merror:0.39828\n",
      "[2]\teval-merror:0.45049\ttrain-merror:0.39499\n",
      "[3]\teval-merror:0.45163\ttrain-merror:0.39112\n",
      "[4]\teval-merror:0.45449\ttrain-merror:0.39213\n"
     ]
    },
    {
     "name": "stderr",
     "output_type": "stream",
     "text": [
      " 17%|█▋        | 5/30 [00:59<04:58, 11.95s/it]"
     ]
    },
    {
     "name": "stdout",
     "output_type": "stream",
     "text": [
      "[0]\teval-merror:0.46537\ttrain-merror:0.40415\n",
      "[1]\teval-merror:0.45793\ttrain-merror:0.39599\n",
      "[2]\teval-merror:0.45449\ttrain-merror:0.39055\n",
      "[3]\teval-merror:0.45507\ttrain-merror:0.38797\n",
      "[4]\teval-merror:0.45621\ttrain-merror:0.38540\n"
     ]
    },
    {
     "name": "stderr",
     "output_type": "stream",
     "text": [
      " 20%|██        | 6/30 [01:11<04:41, 11.75s/it]"
     ]
    },
    {
     "name": "stdout",
     "output_type": "stream",
     "text": [
      "[0]\teval-merror:0.46136\ttrain-merror:0.38797\n",
      "[1]\teval-merror:0.45564\ttrain-merror:0.38454\n",
      "[2]\teval-merror:0.45335\ttrain-merror:0.37895\n",
      "[3]\teval-merror:0.45163\ttrain-merror:0.37752\n",
      "[4]\teval-merror:0.45392\ttrain-merror:0.37380\n"
     ]
    },
    {
     "name": "stderr",
     "output_type": "stream",
     "text": [
      " 23%|██▎       | 7/30 [01:22<04:28, 11.69s/it]"
     ]
    },
    {
     "name": "stdout",
     "output_type": "stream",
     "text": [
      "[0]\teval-merror:0.42473\ttrain-merror:0.38883\n",
      "[1]\teval-merror:0.43160\ttrain-merror:0.38726\n",
      "[2]\teval-merror:0.42816\ttrain-merror:0.38096\n",
      "[3]\teval-merror:0.42931\ttrain-merror:0.37867\n",
      "[4]\teval-merror:0.42873\ttrain-merror:0.37652\n"
     ]
    },
    {
     "name": "stderr",
     "output_type": "stream",
     "text": [
      " 27%|██▋       | 8/30 [01:33<04:13, 11.54s/it]"
     ]
    },
    {
     "name": "stdout",
     "output_type": "stream",
     "text": [
      "[0]\teval-merror:0.41786\ttrain-merror:0.37767\n",
      "[1]\teval-merror:0.40870\ttrain-merror:0.37895\n",
      "[2]\teval-merror:0.41328\ttrain-merror:0.37752\n",
      "[3]\teval-merror:0.41099\ttrain-merror:0.37609\n",
      "[4]\teval-merror:0.41042\ttrain-merror:0.37266\n"
     ]
    },
    {
     "name": "stderr",
     "output_type": "stream",
     "text": [
      " 30%|███       | 9/30 [01:45<04:03, 11.61s/it]"
     ]
    },
    {
     "name": "stdout",
     "output_type": "stream",
     "text": [
      "[0]\teval-merror:0.39668\ttrain-merror:0.38225\n",
      "[1]\teval-merror:0.39210\ttrain-merror:0.37452\n",
      "[2]\teval-merror:0.38981\ttrain-merror:0.37137\n",
      "[3]\teval-merror:0.38981\ttrain-merror:0.36736\n",
      "[4]\teval-merror:0.39267\ttrain-merror:0.36421\n"
     ]
    },
    {
     "name": "stderr",
     "output_type": "stream",
     "text": [
      " 33%|███▎      | 10/30 [01:59<04:05, 12.27s/it]"
     ]
    },
    {
     "name": "stdout",
     "output_type": "stream",
     "text": [
      "[0]\teval-merror:0.43102\ttrain-merror:0.37323\n",
      "[1]\teval-merror:0.43732\ttrain-merror:0.37108\n",
      "[2]\teval-merror:0.42816\ttrain-merror:0.36764\n",
      "[3]\teval-merror:0.42873\ttrain-merror:0.36421\n",
      "[4]\teval-merror:0.42645\ttrain-merror:0.36335\n"
     ]
    },
    {
     "name": "stderr",
     "output_type": "stream",
     "text": [
      " 37%|███▋      | 11/30 [02:11<03:49, 12.06s/it]"
     ]
    },
    {
     "name": "stdout",
     "output_type": "stream",
     "text": [
      "[0]\teval-merror:0.43560\ttrain-merror:0.37609\n",
      "[1]\teval-merror:0.42759\ttrain-merror:0.37308\n",
      "[2]\teval-merror:0.42988\ttrain-merror:0.36822\n",
      "[3]\teval-merror:0.42931\ttrain-merror:0.36607\n",
      "[4]\teval-merror:0.42816\ttrain-merror:0.36392\n"
     ]
    },
    {
     "name": "stderr",
     "output_type": "stream",
     "text": [
      " 40%|████      | 12/30 [02:23<03:37, 12.07s/it]"
     ]
    },
    {
     "name": "stdout",
     "output_type": "stream",
     "text": [
      "[0]\teval-merror:0.42244\ttrain-merror:0.37538\n",
      "[1]\teval-merror:0.42702\ttrain-merror:0.37008\n",
      "[2]\teval-merror:0.42072\ttrain-merror:0.36850\n",
      "[3]\teval-merror:0.42645\ttrain-merror:0.36407\n",
      "[4]\teval-merror:0.42244\ttrain-merror:0.36249\n"
     ]
    },
    {
     "name": "stderr",
     "output_type": "stream",
     "text": [
      " 43%|████▎     | 13/30 [02:34<03:23, 11.98s/it]"
     ]
    },
    {
     "name": "stdout",
     "output_type": "stream",
     "text": [
      "[0]\teval-merror:0.40298\ttrain-merror:0.37051\n",
      "[1]\teval-merror:0.40355\ttrain-merror:0.36922\n",
      "[2]\teval-merror:0.39725\ttrain-merror:0.35948\n",
      "[3]\teval-merror:0.39325\ttrain-merror:0.35948\n",
      "[4]\teval-merror:0.39267\ttrain-merror:0.35648\n"
     ]
    },
    {
     "name": "stderr",
     "output_type": "stream",
     "text": [
      " 47%|████▋     | 14/30 [02:46<03:10, 11.88s/it]"
     ]
    },
    {
     "name": "stdout",
     "output_type": "stream",
     "text": [
      "[0]\teval-merror:0.40698\ttrain-merror:0.37509\n",
      "[1]\teval-merror:0.40527\ttrain-merror:0.36492\n",
      "[2]\teval-merror:0.40298\ttrain-merror:0.36521\n",
      "[3]\teval-merror:0.39954\ttrain-merror:0.35934\n",
      "[4]\teval-merror:0.40011\ttrain-merror:0.35848\n"
     ]
    },
    {
     "name": "stderr",
     "output_type": "stream",
     "text": [
      " 50%|█████     | 15/30 [02:58<02:59, 11.95s/it]"
     ]
    },
    {
     "name": "stdout",
     "output_type": "stream",
     "text": [
      "[0]\teval-merror:0.39725\ttrain-merror:0.37523\n",
      "[1]\teval-merror:0.39668\ttrain-merror:0.36922\n",
      "[2]\teval-merror:0.39325\ttrain-merror:0.36092\n",
      "[3]\teval-merror:0.39153\ttrain-merror:0.36049\n",
      "[4]\teval-merror:0.39439\ttrain-merror:0.35648\n"
     ]
    },
    {
     "name": "stderr",
     "output_type": "stream",
     "text": [
      " 53%|█████▎    | 16/30 [03:10<02:46, 11.88s/it]"
     ]
    },
    {
     "name": "stdout",
     "output_type": "stream",
     "text": [
      "[0]\teval-merror:0.40469\ttrain-merror:0.37079\n",
      "[1]\teval-merror:0.40813\ttrain-merror:0.36507\n",
      "[2]\teval-merror:0.39840\ttrain-merror:0.36364\n",
      "[3]\teval-merror:0.40126\ttrain-merror:0.36034\n",
      "[4]\teval-merror:0.40011\ttrain-merror:0.35834\n"
     ]
    },
    {
     "name": "stderr",
     "output_type": "stream",
     "text": [
      " 57%|█████▋    | 17/30 [03:22<02:33, 11.84s/it]"
     ]
    },
    {
     "name": "stdout",
     "output_type": "stream",
     "text": [
      "[0]\teval-merror:0.41156\ttrain-merror:0.36822\n",
      "[1]\teval-merror:0.40756\ttrain-merror:0.36120\n",
      "[2]\teval-merror:0.41042\ttrain-merror:0.36049\n",
      "[3]\teval-merror:0.41213\ttrain-merror:0.35648\n",
      "[4]\teval-merror:0.41271\ttrain-merror:0.35276\n"
     ]
    },
    {
     "name": "stderr",
     "output_type": "stream",
     "text": [
      " 60%|██████    | 18/30 [03:33<02:20, 11.72s/it]"
     ]
    },
    {
     "name": "stdout",
     "output_type": "stream",
     "text": [
      "[0]\teval-merror:0.40756\ttrain-merror:0.36722\n",
      "[1]\teval-merror:0.40469\ttrain-merror:0.36392\n",
      "[2]\teval-merror:0.40985\ttrain-merror:0.36249\n",
      "[3]\teval-merror:0.41328\ttrain-merror:0.36135\n",
      "[4]\teval-merror:0.40927\ttrain-merror:0.36006\n"
     ]
    },
    {
     "name": "stderr",
     "output_type": "stream",
     "text": [
      " 63%|██████▎   | 19/30 [03:45<02:09, 11.77s/it]"
     ]
    },
    {
     "name": "stdout",
     "output_type": "stream",
     "text": [
      "[0]\teval-merror:0.41900\ttrain-merror:0.37495\n",
      "[1]\teval-merror:0.40756\ttrain-merror:0.36722\n",
      "[2]\teval-merror:0.41557\ttrain-merror:0.36392\n",
      "[3]\teval-merror:0.41328\ttrain-merror:0.36192\n",
      "[4]\teval-merror:0.41442\ttrain-merror:0.35634\n"
     ]
    },
    {
     "name": "stderr",
     "output_type": "stream",
     "text": [
      " 67%|██████▋   | 20/30 [03:56<01:56, 11.65s/it]"
     ]
    },
    {
     "name": "stdout",
     "output_type": "stream",
     "text": [
      "[0]\teval-merror:0.42072\ttrain-merror:0.36994\n",
      "[1]\teval-merror:0.41442\ttrain-merror:0.36764\n",
      "[2]\teval-merror:0.41900\ttrain-merror:0.36392\n",
      "[3]\teval-merror:0.41042\ttrain-merror:0.36135\n",
      "[4]\teval-merror:0.40870\ttrain-merror:0.35906\n"
     ]
    },
    {
     "name": "stderr",
     "output_type": "stream",
     "text": [
      " 70%|███████   | 21/30 [04:08<01:45, 11.68s/it]"
     ]
    },
    {
     "name": "stdout",
     "output_type": "stream",
     "text": [
      "[0]\teval-merror:0.40355\ttrain-merror:0.37022\n",
      "[1]\teval-merror:0.40126\ttrain-merror:0.36664\n",
      "[2]\teval-merror:0.40069\ttrain-merror:0.36664\n",
      "[3]\teval-merror:0.39725\ttrain-merror:0.36020\n",
      "[4]\teval-merror:0.39668\ttrain-merror:0.35748\n"
     ]
    },
    {
     "name": "stderr",
     "output_type": "stream",
     "text": [
      " 73%|███████▎  | 22/30 [04:20<01:34, 11.86s/it]"
     ]
    },
    {
     "name": "stdout",
     "output_type": "stream",
     "text": [
      "[0]\teval-merror:0.38409\ttrain-merror:0.37094\n",
      "[1]\teval-merror:0.39153\ttrain-merror:0.36908\n",
      "[2]\teval-merror:0.39153\ttrain-merror:0.36135\n",
      "[3]\teval-merror:0.39153\ttrain-merror:0.35605\n",
      "[4]\teval-merror:0.38466\ttrain-merror:0.35648\n"
     ]
    },
    {
     "name": "stderr",
     "output_type": "stream",
     "text": [
      " 77%|███████▋  | 23/30 [04:32<01:22, 11.83s/it]"
     ]
    },
    {
     "name": "stdout",
     "output_type": "stream",
     "text": [
      "[0]\teval-merror:0.38695\ttrain-merror:0.37495\n",
      "[1]\teval-merror:0.38924\ttrain-merror:0.36836\n",
      "[2]\teval-merror:0.38122\ttrain-merror:0.36063\n",
      "[3]\teval-merror:0.38351\ttrain-merror:0.35734\n",
      "[4]\teval-merror:0.38409\ttrain-merror:0.35762\n"
     ]
    },
    {
     "name": "stderr",
     "output_type": "stream",
     "text": [
      " 80%|████████  | 24/30 [04:44<01:10, 11.72s/it]"
     ]
    },
    {
     "name": "stdout",
     "output_type": "stream",
     "text": [
      "[0]\teval-merror:0.40469\ttrain-merror:0.35977\n",
      "[1]\teval-merror:0.40698\ttrain-merror:0.35619\n",
      "[2]\teval-merror:0.40641\ttrain-merror:0.34989\n",
      "[3]\teval-merror:0.40527\ttrain-merror:0.34717\n",
      "[4]\teval-merror:0.39954\ttrain-merror:0.34488\n"
     ]
    },
    {
     "name": "stderr",
     "output_type": "stream",
     "text": [
      " 83%|████████▎ | 25/30 [04:55<00:57, 11.57s/it]"
     ]
    },
    {
     "name": "stdout",
     "output_type": "stream",
     "text": [
      "[0]\teval-merror:0.41557\ttrain-merror:0.36392\n",
      "[1]\teval-merror:0.40985\ttrain-merror:0.36292\n",
      "[2]\teval-merror:0.40870\ttrain-merror:0.36106\n",
      "[3]\teval-merror:0.40756\ttrain-merror:0.35834\n",
      "[4]\teval-merror:0.40412\ttrain-merror:0.35648\n"
     ]
    },
    {
     "name": "stderr",
     "output_type": "stream",
     "text": [
      " 87%|████████▋ | 26/30 [05:07<00:46, 11.64s/it]"
     ]
    },
    {
     "name": "stdout",
     "output_type": "stream",
     "text": [
      "[0]\teval-merror:0.38981\ttrain-merror:0.36478\n",
      "[1]\teval-merror:0.39096\ttrain-merror:0.35977\n",
      "[2]\teval-merror:0.38752\ttrain-merror:0.34961\n",
      "[3]\teval-merror:0.38809\ttrain-merror:0.35004\n",
      "[4]\teval-merror:0.38580\ttrain-merror:0.34803\n"
     ]
    },
    {
     "name": "stderr",
     "output_type": "stream",
     "text": [
      " 90%|█████████ | 27/30 [05:18<00:34, 11.48s/it]"
     ]
    },
    {
     "name": "stdout",
     "output_type": "stream",
     "text": [
      "[0]\teval-merror:0.40870\ttrain-merror:0.35404\n",
      "[1]\teval-merror:0.40469\ttrain-merror:0.34488\n",
      "[2]\teval-merror:0.40011\ttrain-merror:0.34660\n",
      "[3]\teval-merror:0.39668\ttrain-merror:0.34102\n",
      "[4]\teval-merror:0.40069\ttrain-merror:0.34001\n"
     ]
    },
    {
     "name": "stderr",
     "output_type": "stream",
     "text": [
      " 93%|█████████▎| 28/30 [05:29<00:22, 11.38s/it]"
     ]
    },
    {
     "name": "stdout",
     "output_type": "stream",
     "text": [
      "[0]\teval-merror:0.41328\ttrain-merror:0.36378\n",
      "[1]\teval-merror:0.40756\ttrain-merror:0.35948\n",
      "[2]\teval-merror:0.41213\ttrain-merror:0.35562\n",
      "[3]\teval-merror:0.41271\ttrain-merror:0.35805\n",
      "[4]\teval-merror:0.41213\ttrain-merror:0.35290\n"
     ]
    },
    {
     "name": "stderr",
     "output_type": "stream",
     "text": [
      " 97%|█████████▋| 29/30 [05:42<00:11, 11.77s/it]"
     ]
    },
    {
     "name": "stdout",
     "output_type": "stream",
     "text": [
      "[0]\teval-merror:0.39496\ttrain-merror:0.36392\n",
      "[1]\teval-merror:0.39668\ttrain-merror:0.36149\n",
      "[2]\teval-merror:0.39782\ttrain-merror:0.35533\n",
      "[3]\teval-merror:0.39954\ttrain-merror:0.34961\n",
      "[4]\teval-merror:0.40698\ttrain-merror:0.34961\n"
     ]
    },
    {
     "name": "stderr",
     "output_type": "stream",
     "text": [
      "100%|██████████| 30/30 [05:55<00:00, 12.18s/it]"
     ]
    }
   ],
   "source": [
    "%autoreload\n",
    "\n",
    "#empty list to hold loss per epoch\n",
    "train_epoch_losses = []\n",
    "syn_train_epoch_losses = []\n",
    "ant_train_epoch_losses = []\n",
    "syn_train_epoch_accuracies = []\n",
    "ant_train_epoch_accuracies = []\n",
    "irrel_train_epoch_accuracies = []\n",
    "train_p2_syn_accs = []\n",
    "train_p2_ant_accs = []\n",
    "train_p2_irrel_accs = []\n",
    "\n",
    "test_epoch_losses = []\n",
    "syn_test_epoch_losses = []\n",
    "ant_test_epoch_losses = []\n",
    "syn_test_epoch_accuracies = []\n",
    "ant_test_epoch_accuracies = []\n",
    "irrel_test_epoch_accuracies = []\n",
    "test_p2_syn_accs = []\n",
    "test_p2_ant_accs = []\n",
    "test_p2_irrel_accs = []\n",
    "\n",
    "pbar = tqdm(total = num_epochs, position = 0)\n",
    "\n",
    "for epoch in range(num_epochs):\n",
    "    \n",
    "    train_epoch_loss, syn_train_epoch_loss, ant_train_epoch_loss, Lm_train_epoch_loss, train_syn_epoch_acc, train_ant_epoch_acc, train_irrel_epoch_acc, train_p2_accs = train.Phase_I_train_model(model = model, training_data_set = train_loader, optimizer = optimizer)\n",
    "        \n",
    "    train_epoch_losses.append(train_epoch_loss)\n",
    "    syn_train_epoch_losses.append(syn_train_epoch_loss)\n",
    "    ant_train_epoch_losses.append(ant_train_epoch_loss)\n",
    "    syn_train_epoch_accuracies.append(train_syn_epoch_acc)\n",
    "    ant_train_epoch_accuracies.append(train_ant_epoch_acc)\n",
    "    irrel_train_epoch_accuracies.append(train_irrel_epoch_acc)\n",
    "    train_p2_irrel_accs.append(train_p2_accs[0])\n",
    "    train_p2_syn_accs.append(train_p2_accs[1])\n",
    "    train_p2_ant_accs.append(train_p2_accs[2])\n",
    "       \n",
    "    test_epoch_loss, syn_test_epoch_loss, ant_test_epoch_loss, Lm_test_epoch_loss, syn_epoch_acc, ant_epoch_acc, irrel_epoch_acc, syn_true, syn_predictions, ant_true, ant_predictions, test_p2_accs = test.Phase_I_eval_model(model = model, testing_data_set = test_loader, optimizer = optimizer)\n",
    "        \n",
    "    test_epoch_losses.append(test_epoch_loss)\n",
    "    syn_test_epoch_losses.append(syn_test_epoch_loss)\n",
    "    ant_test_epoch_losses.append(ant_test_epoch_loss)\n",
    "    syn_test_epoch_accuracies.append(syn_epoch_acc)\n",
    "    ant_test_epoch_accuracies.append(ant_epoch_acc)\n",
    "    irrel_test_epoch_accuracies.append(irrel_epoch_acc)\n",
    "    test_p2_irrel_accs.append(test_p2_accs[0])\n",
    "    test_p2_syn_accs.append(test_p2_accs[1])\n",
    "    test_p2_ant_accs.append(test_p2_accs[2])\n",
    "\n",
    "    pbar.update()"
   ]
  },
  {
   "cell_type": "code",
   "execution_count": 12,
   "metadata": {},
   "outputs": [
    {
     "data": {
      "image/png": "[encoded data removed]",
      "text/plain": [
       "<Figure size 576x432 with 1 Axes>"
      ]
     },
     "metadata": {
      "needs_background": "light"
     },
     "output_type": "display_data"
    },
    {
     "data": {
      "image/png": "[encoded data removed]",
      "text/plain": [
       "<Figure size 576x432 with 1 Axes>"
      ]
     },
     "metadata": {
      "needs_background": "light"
     },
     "output_type": "display_data"
    },
    {
     "data": {
      "image/png": "[encoded data removed]",
      "text/plain": [
       "<Figure size 576x432 with 1 Axes>"
      ]
     },
     "metadata": {
      "needs_background": "light"
     },
     "output_type": "display_data"
    }
   ],
   "source": [
    "fig, ax = plt.subplots(figsize = (8,6))\n",
    "\n",
    "epochs = np.arange(1, (num_epochs+1), 1)\n",
    "\n",
    "plt.plot(epochs, train_epoch_losses, c = 'k', label = 'training error')\n",
    "plt.plot(epochs, test_epoch_losses, c = 'r', label = 'testing error')\n",
    "plt.legend(loc = 'upper right')\n",
    "plt.title(\"Total Training & Testing Error\")\n",
    "ax.set_xlabel('Epoch')\n",
    "ax.set_ylabel('Total Custom Loss')\n",
    "plt.show()\n",
    "\n",
    "fig, ax = plt.subplots(figsize = (8,6))\n",
    "plt.plot(epochs, syn_train_epoch_accuracies, c = 'k', linestyle = '-.', label = 'syn acc - train')\n",
    "plt.plot(epochs, syn_test_epoch_accuracies, c = 'k', label = 'syn acc - test')\n",
    "plt.plot(epochs, ant_train_epoch_accuracies, c = 'r', linestyle = '-.', label = 'ant acc - train')\n",
    "plt.plot(epochs, ant_test_epoch_accuracies, c = 'r', label = 'ant acc - test')\n",
    "plt.plot(epochs, irrel_train_epoch_accuracies, c = 'c', linestyle = '-.', label = 'irrel acc - train')\n",
    "plt.plot(epochs, irrel_test_epoch_accuracies, c = 'c', label = 'irrel acc - test')\n",
    "plt.legend(loc = 'upper right')\n",
    "plt.title(\"Phase I Labeling Accuracy\")\n",
    "ax.set_xlabel('Epochs')\n",
    "ax.set_ylabel('Accuracy')\n",
    "plt.show()\n",
    "\n",
    "fig, ax = plt.subplots(figsize = (8,6))\n",
    "plt.plot(epochs, train_p2_syn_accs, c = 'k', linestyle = '-.', label = 'syn acc - train')\n",
    "plt.plot(epochs, test_p2_syn_accs, c = 'k', label = 'syn acc - test')\n",
    "plt.plot(epochs, train_p2_ant_accs, c = 'r', linestyle = '-.', label = 'ant acc - train')\n",
    "plt.plot(epochs, test_p2_ant_accs, c = 'r', label = 'ant acc - test')\n",
    "plt.plot(epochs, train_p2_irrel_accs, c = 'c', linestyle = '-.', label = 'irrel acc - train')\n",
    "plt.plot(epochs, test_p2_irrel_accs, c = 'c', label = 'irrel acc - test')\n",
    "plt.legend(loc = 'upper right')\n",
    "plt.title(\"Phase II Labeling Accuracy\")\n",
    "ax.set_xlabel('Epochs')\n",
    "ax.set_ylabel('Accuracy')\n",
    "plt.show()"
   ]
  },
  {
   "cell_type": "code",
   "execution_count": null,
   "metadata": {},
   "outputs": [],
   "source": [
    "#thresholding the predicted values to be compared to the labels\n",
    "syn_predictions = list(map(lambda x:1 if x >= 0.8 else x, syn_predictions))\n",
    "syn_predictions = list(map(lambda x:0 if -0.8 < x < 0.8 else x, syn_predictions))\n",
    "syn_predictions = list(map(lambda x:-1 if x <= -0.8 else x, syn_predictions))\n",
    "\n",
    "ant_predictions = list(map(lambda x:1 if x >= 0.8 else x, ant_predictions))\n",
    "ant_predictions = list(map(lambda x:0 if -0.8 < x < 0.8 else x, ant_predictions))\n",
    "ant_predictions = list(map(lambda x:-1 if x <= -0.8 else x, ant_predictions))\n",
    "\n",
    "\n",
    "#synonymy confusion matrix\n",
    "syn_matrix = confusion_matrix(syn_true, syn_predictions)\n",
    "\n",
    "#antonymy confusion matrix\n",
    "ant_matrix = confusion_matrix(ant_true, ant_predictions)"
   ]
  },
  {
   "cell_type": "code",
   "execution_count": null,
   "metadata": {},
   "outputs": [],
   "source": [
    "syn_matrix"
   ]
  },
  {
   "cell_type": "code",
   "execution_count": null,
   "metadata": {},
   "outputs": [],
   "source": [
    "ant_matrix"
   ]
  },
  {
   "cell_type": "code",
   "execution_count": null,
   "metadata": {},
   "outputs": [],
   "source": []
  }
 ],
 "metadata": {
  "kernelspec": {
   "display_name": "Python 3",
   "language": "python",
   "name": "python3"
  },
  "language_info": {
   "codemirror_mode": {
    "name": "ipython",
    "version": 3
   },
   "file_extension": ".py",
   "mimetype": "text/x-python",
   "name": "python",
   "nbconvert_exporter": "python",
   "pygments_lexer": "ipython3",
   "version": "3.7.6"
  }
 },
 "nbformat": 4,
 "nbformat_minor": 4
}
