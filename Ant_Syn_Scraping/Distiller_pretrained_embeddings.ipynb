{
 "cells": [
  {
   "cell_type": "code",
   "execution_count": 1,
   "metadata": {},
   "outputs": [
    {
     "data": {
      "text/plain": [
       "<torch._C.Generator at 0x1a24aace70>"
      ]
     },
     "execution_count": 1,
     "metadata": {},
     "output_type": "execute_result"
    }
   ],
   "source": [
    "import os\n",
    "import sys\n",
    "import json\n",
    "import pandas as pd\n",
    "import numpy as np\n",
    "import matplotlib.pyplot as plt\n",
    "from sklearn.model_selection import train_test_split\n",
    "from sklearn.metrics import confusion_matrix\n",
    "import torch\n",
    "from torch.utils.data import TensorDataset, DataLoader\n",
    "from tqdm import tqdm\n",
    "from gensim.models import Word2Vec as wv\n",
    "\n",
    "%load_ext autoreload\n",
    "%matplotlib inline\n",
    "\n",
    "module_path = os.path.abspath(os.path.join('./syn_ant_modules'))\n",
    "if module_path not in sys.path:\n",
    "    sys.path.append(module_path)\n",
    "    \n",
    "import model_dataset as dataset \n",
    "import model_functions_PhaseI as functions\n",
    "import model_morphology as morpho\n",
    "import model_testing_PhaseI as test \n",
    "import model_training_PhaseI as train\n",
    "\n",
    "torch.manual_seed(28)"
   ]
  },
  {
   "cell_type": "code",
   "execution_count": 2,
   "metadata": {},
   "outputs": [],
   "source": [
    "word_pairs_df = pd.read_excel('/Users/wesleytatum/Desktop/post_doc/BETO/BETO2020/Ant_Syn_Scraping/data/new_syn_ant_list.xlsx')\n",
    "word_pairs_df = word_pairs_df.drop('Unnamed: 0', axis = 1)\n",
    "\n",
    "ant_df = pd.read_csv('/Users/wesleytatum/Desktop/post_doc/data/wordnik_ant_df.csv')\n",
    "word_pairs_df = word_pairs_df.append(ant_df, ignore_index = True)"
   ]
  },
  {
   "cell_type": "code",
   "execution_count": 3,
   "metadata": {},
   "outputs": [
    {
     "data": {
      "text/plain": [
       "1    9535\n",
       "2    5227\n",
       "0    4699\n",
       "Name: label, dtype: int64"
      ]
     },
     "execution_count": 3,
     "metadata": {},
     "output_type": "execute_result"
    }
   ],
   "source": [
    "word_pairs_df['label'].value_counts()"
   ]
  },
  {
   "cell_type": "code",
   "execution_count": 4,
   "metadata": {},
   "outputs": [
    {
     "name": "stdout",
     "output_type": "stream",
     "text": [
      "w2v vocab length: 358151\n",
      "number of word pair words: 13094\n",
      "number of missing words: 3299\n",
      "length of common vocab: 9795\n"
     ]
    }
   ],
   "source": [
    "#Vocabulary from Carbon corpus and Word2Vec model trained on all abstracts\n",
    "#Opening contents of Word2Vec model1\n",
    "\n",
    "w2v_model_path = '/Users/wesleytatum/Desktop/post_doc/data/w2v_models/200D_all_abstracts_model/full_corpus_w2v_mc5_s200_wdw10.model'\n",
    "model1 = wv.load(w2v_model_path)\n",
    "vocabulary1 = list(model1.wv.vocab)\n",
    "print(f'w2v vocab length: {len(vocabulary1)}')\n",
    "\n",
    "w2v_data_df = word_pairs_df.copy()\n",
    "\n",
    "#finding which words are in the pd but not in vocabulary1\n",
    "list1 = list(word_pairs_df['word 1'])\n",
    "list2 = list(word_pairs_df['word 2'])\n",
    "missing = list((set(list1).difference(vocabulary1))) + list((set(list2).difference(vocabulary1)))\n",
    "print(f'number of word pair words: {len(list(set(list1+list2)))}')\n",
    "print(f'number of missing words: {len(missing)}')\n",
    "\n",
    "#keeping only the rows in the pd that have words in vocabulary1\n",
    "w2v_data_df = w2v_data_df[~w2v_data_df['word 1'].isin(missing)]\n",
    "w2v_data_df = w2v_data_df[~w2v_data_df['word 2'].isin(missing)]\n",
    "\n",
    "#reseting indeces after mask\n",
    "w2v_data_df.reset_index(inplace = True)\n",
    "\n",
    "#creating list of individual words that are both in vocabulary1 and excel sheet \n",
    "#dict.fromkeys() ensuring there are no duplicates\n",
    "common = list(set(list1)&set(vocabulary1))+list(set(list2)&set(vocabulary1))\n",
    "common = list(dict.fromkeys(common))\n",
    "common = sorted(common)\n",
    "print(f'length of common vocab: {len(common)}')\n"
   ]
  },
  {
   "cell_type": "code",
   "execution_count": 5,
   "metadata": {},
   "outputs": [],
   "source": [
    "#save vocab list and call it in the Pre_Trained_Embeddings\n",
    "common_df = pd.DataFrame(common)\n",
    "common_df.to_csv('./data/words_list.csv', index=False)\n"
   ]
  },
  {
   "cell_type": "code",
   "execution_count": 6,
   "metadata": {},
   "outputs": [
    {
     "name": "stderr",
     "output_type": "stream",
     "text": [
      "100%|█████████▉| 14641/14666 [00:39<00:00, 290.84it/s]"
     ]
    },
    {
     "data": {
      "text/html": [
       "<div>\n",
       "<style scoped>\n",
       "    .dataframe tbody tr th:only-of-type {\n",
       "        vertical-align: middle;\n",
       "    }\n",
       "\n",
       "    .dataframe tbody tr th {\n",
       "        vertical-align: top;\n",
       "    }\n",
       "\n",
       "    .dataframe thead th {\n",
       "        text-align: right;\n",
       "    }\n",
       "</style>\n",
       "<table border=\"1\" class=\"dataframe\">\n",
       "  <thead>\n",
       "    <tr style=\"text-align: right;\">\n",
       "      <th></th>\n",
       "      <th>word 1</th>\n",
       "      <th>word 2</th>\n",
       "      <th>label</th>\n",
       "    </tr>\n",
       "  </thead>\n",
       "  <tbody>\n",
       "    <tr>\n",
       "      <th>0</th>\n",
       "      <td>4806</td>\n",
       "      <td>1311</td>\n",
       "      <td>2</td>\n",
       "    </tr>\n",
       "    <tr>\n",
       "      <th>1</th>\n",
       "      <td>4806</td>\n",
       "      <td>1354</td>\n",
       "      <td>2</td>\n",
       "    </tr>\n",
       "    <tr>\n",
       "      <th>2</th>\n",
       "      <td>4806</td>\n",
       "      <td>1427</td>\n",
       "      <td>0</td>\n",
       "    </tr>\n",
       "    <tr>\n",
       "      <th>3</th>\n",
       "      <td>4806</td>\n",
       "      <td>1542</td>\n",
       "      <td>2</td>\n",
       "    </tr>\n",
       "    <tr>\n",
       "      <th>4</th>\n",
       "      <td>4806</td>\n",
       "      <td>3245</td>\n",
       "      <td>2</td>\n",
       "    </tr>\n",
       "    <tr>\n",
       "      <th>...</th>\n",
       "      <td>...</td>\n",
       "      <td>...</td>\n",
       "      <td>...</td>\n",
       "    </tr>\n",
       "    <tr>\n",
       "      <th>14661</th>\n",
       "      <td>4661</td>\n",
       "      <td>1721</td>\n",
       "      <td>2</td>\n",
       "    </tr>\n",
       "    <tr>\n",
       "      <th>14662</th>\n",
       "      <td>765</td>\n",
       "      <td>6682</td>\n",
       "      <td>2</td>\n",
       "    </tr>\n",
       "    <tr>\n",
       "      <th>14663</th>\n",
       "      <td>1057</td>\n",
       "      <td>4279</td>\n",
       "      <td>2</td>\n",
       "    </tr>\n",
       "    <tr>\n",
       "      <th>14664</th>\n",
       "      <td>1147</td>\n",
       "      <td>5509</td>\n",
       "      <td>2</td>\n",
       "    </tr>\n",
       "    <tr>\n",
       "      <th>14665</th>\n",
       "      <td>6427</td>\n",
       "      <td>3809</td>\n",
       "      <td>2</td>\n",
       "    </tr>\n",
       "  </tbody>\n",
       "</table>\n",
       "<p>14666 rows × 3 columns</p>\n",
       "</div>"
      ],
      "text/plain": [
       "      word 1 word 2 label\n",
       "0       4806   1311     2\n",
       "1       4806   1354     2\n",
       "2       4806   1427     0\n",
       "3       4806   1542     2\n",
       "4       4806   3245     2\n",
       "...      ...    ...   ...\n",
       "14661   4661   1721     2\n",
       "14662    765   6682     2\n",
       "14663   1057   4279     2\n",
       "14664   1147   5509     2\n",
       "14665   6427   3809     2\n",
       "\n",
       "[14666 rows x 3 columns]"
      ]
     },
     "execution_count": 6,
     "metadata": {},
     "output_type": "execute_result"
    },
    {
     "name": "stderr",
     "output_type": "stream",
     "text": [
      "100%|██████████| 14666/14666 [00:50<00:00, 290.84it/s]"
     ]
    }
   ],
   "source": [
    "#for word pairs in our proposed training set, check if both words are in\n",
    "#the common vocabulary list and then create a new dataframe with their indices\n",
    "\n",
    "w2v_indx_df = pd.DataFrame(columns = ['word 1', 'word 2', 'label'])\n",
    "\n",
    "pbar = tqdm(total = len(w2v_data_df), position = 0)\n",
    "\n",
    "for i in range(len(w2v_data_df)):\n",
    "    \n",
    "    word1 = w2v_data_df['word 1'].iloc[i]\n",
    "    word2 = w2v_data_df['word 2'].iloc[i]\n",
    "    label = w2v_data_df['label'].iloc[i]\n",
    "    \n",
    "    if word1 in common:\n",
    "        if word2 in common:\n",
    "            index1 = common.index(word1)\n",
    "            index2 = common.index(word2)\n",
    "            w2v_indx_df.loc[i] = pd.Series({'word 1':index1, 'word 2':index2, 'label':label})\n",
    "        else:\n",
    "            pass\n",
    "    else:\n",
    "        pass\n",
    "    pbar.update()\n",
    "\n",
    "w2v_indx_df"
   ]
  },
  {
   "cell_type": "code",
   "execution_count": 13,
   "metadata": {},
   "outputs": [
    {
     "data": {
      "text/plain": [
       "1    6631\n",
       "2    4034\n",
       "0    4001\n",
       "Name: label, dtype: int64"
      ]
     },
     "execution_count": 13,
     "metadata": {},
     "output_type": "execute_result"
    }
   ],
   "source": [
    "w2v_indx_df.label.value_counts()"
   ]
  },
  {
   "cell_type": "code",
   "execution_count": 7,
   "metadata": {},
   "outputs": [],
   "source": [
    "X = w2v_indx_df[['word 1', 'word 2']]\n",
    "Y = w2v_indx_df['label']\n",
    "\n",
    "xtr, xts, ytr, yts = train_test_split(X, Y, test_size = 0.2, shuffle = True)\n",
    "\n",
    "xtr_tens = torch.from_numpy(xtr.values.astype(float))\n",
    "xts_tens = torch.from_numpy(xts.values.astype(float))\n",
    "ytr_tens = torch.tensor(ytr.values.astype(float))\n",
    "yts_tens = torch.tensor(yts.values.astype(float))\n",
    "\n",
    "xtr_tens = xtr_tens.type(torch.long)\n",
    "xts_tens = xts_tens.type(torch.long)\n",
    "ytr_tens = ytr_tens.type(torch.long)\n",
    "yts_tens = yts_tens.type(torch.long)\n",
    "\n",
    "train_set = TensorDataset(xtr_tens, ytr_tens)\n",
    "test_set = TensorDataset(xts_tens, yts_tens)"
   ]
  },
  {
   "cell_type": "code",
   "execution_count": 8,
   "metadata": {},
   "outputs": [
    {
     "name": "stdout",
     "output_type": "stream",
     "text": [
      "tensor([0, 1, 2])\n"
     ]
    }
   ],
   "source": [
    "print(torch.unique(yts_tens))"
   ]
  },
  {
   "cell_type": "code",
   "execution_count": 9,
   "metadata": {},
   "outputs": [],
   "source": [
    "#Hyper parameters\n",
    "num_epochs = 30\n",
    "batch_size = 50\n",
    "learning_rate = 5e-4\n",
    "\n",
    "# Device configuration (GPU if available, otherwise CPU)\n",
    "device = torch.device('cuda:0' if torch.cuda.is_available() else 'cpu')\n",
    "\n",
    "train_loader = DataLoader(train_set, batch_size = batch_size, shuffle = True)\n",
    "test_loader = DataLoader(test_set, batch_size = batch_size, shuffle = True)"
   ]
  },
  {
   "cell_type": "code",
   "execution_count": 10,
   "metadata": {},
   "outputs": [
    {
     "name": "stdout",
     "output_type": "stream",
     "text": [
      "vocabulary length = 9796\n"
     ]
    }
   ],
   "source": [
    "%autoreload\n",
    "\n",
    "vocab_length = len(common)+1 #+1 avoids indexing error\n",
    "print(f'vocabulary length = {vocab_length}')\n",
    "\n",
    "# Instantiate NN model. 'in_dims' = dimensions of embeddings in 'common'\n",
    "model = morpho.Phase_I_NN(in_dims = 200,\n",
    "                          vocab_length = vocab_length,\n",
    "                          common = common,\n",
    "                          w2v_model = model1).to(device)\n",
    "model.apply(functions.init_weights)\n",
    "\n",
    "#define the optimizer\n",
    "optimizer = torch.optim.AdamW(params = model.parameters(),\n",
    "                              lr = learning_rate,\n",
    "                              amsgrad = True)"
   ]
  },
  {
   "cell_type": "code",
   "execution_count": 11,
   "metadata": {
    "scrolled": true
   },
   "outputs": [
    {
     "name": "stderr",
     "output_type": "stream",
     "text": [
      "  0%|          | 0/30 [00:00<?, ?it/s]"
     ]
    },
    {
     "name": "stdout",
     "output_type": "stream",
     "text": [
      "[0]\teval-merror:0.54112\ttrain-merror:0.47533\n",
      "[1]\teval-merror:0.53473\ttrain-merror:0.45786\n",
      "[2]\teval-merror:0.53728\ttrain-merror:0.45061\n",
      "[3]\teval-merror:0.53856\ttrain-merror:0.44539\n",
      "[4]\teval-merror:0.53558\ttrain-merror:0.43868\n"
     ]
    },
    {
     "name": "stderr",
     "output_type": "stream",
     "text": [
      "  3%|▎         | 1/30 [00:15<07:18, 15.14s/it]"
     ]
    },
    {
     "name": "stdout",
     "output_type": "stream",
     "text": [
      "[0]\teval-merror:0.51470\ttrain-merror:0.47864\n",
      "[1]\teval-merror:0.50405\ttrain-merror:0.46052\n",
      "[2]\teval-merror:0.50405\ttrain-merror:0.44592\n",
      "[3]\teval-merror:0.50021\ttrain-merror:0.44230\n",
      "[4]\teval-merror:0.50234\ttrain-merror:0.43932\n"
     ]
    },
    {
     "name": "stderr",
     "output_type": "stream",
     "text": [
      "  7%|▋         | 2/30 [00:31<07:10, 15.37s/it]"
     ]
    },
    {
     "name": "stdout",
     "output_type": "stream",
     "text": [
      "[0]\teval-merror:0.48317\ttrain-merror:0.46489\n",
      "[1]\teval-merror:0.49212\ttrain-merror:0.45434\n",
      "[2]\teval-merror:0.49297\ttrain-merror:0.44816\n",
      "[3]\teval-merror:0.49467\ttrain-merror:0.44305\n",
      "[4]\teval-merror:0.49382\ttrain-merror:0.43974\n"
     ]
    },
    {
     "name": "stderr",
     "output_type": "stream",
     "text": [
      " 10%|█         | 3/30 [00:48<07:08, 15.88s/it]"
     ]
    },
    {
     "name": "stdout",
     "output_type": "stream",
     "text": [
      "[0]\teval-merror:0.47209\ttrain-merror:0.44550\n",
      "[1]\teval-merror:0.47678\ttrain-merror:0.44198\n",
      "[2]\teval-merror:0.48147\ttrain-merror:0.43633\n",
      "[3]\teval-merror:0.47806\ttrain-merror:0.42472\n",
      "[4]\teval-merror:0.47806\ttrain-merror:0.42110\n"
     ]
    },
    {
     "name": "stderr",
     "output_type": "stream",
     "text": [
      " 13%|█▎        | 4/30 [01:04<06:55, 15.97s/it]"
     ]
    },
    {
     "name": "stdout",
     "output_type": "stream",
     "text": [
      "[0]\teval-merror:0.47635\ttrain-merror:0.43271\n",
      "[1]\teval-merror:0.47294\ttrain-merror:0.42312\n",
      "[2]\teval-merror:0.47422\ttrain-merror:0.41790\n",
      "[3]\teval-merror:0.47465\ttrain-merror:0.41396\n",
      "[4]\teval-merror:0.46954\ttrain-merror:0.40533\n"
     ]
    },
    {
     "name": "stderr",
     "output_type": "stream",
     "text": [
      " 17%|█▋        | 5/30 [01:21<06:47, 16.29s/it]"
     ]
    },
    {
     "name": "stdout",
     "output_type": "stream",
     "text": [
      "[0]\teval-merror:0.44695\ttrain-merror:0.42152\n",
      "[1]\teval-merror:0.45036\ttrain-merror:0.41374\n",
      "[2]\teval-merror:0.45420\ttrain-merror:0.40980\n",
      "[3]\teval-merror:0.45462\ttrain-merror:0.40565\n",
      "[4]\teval-merror:0.45207\ttrain-merror:0.39957\n"
     ]
    },
    {
     "name": "stderr",
     "output_type": "stream",
     "text": [
      " 20%|██        | 6/30 [01:37<06:32, 16.34s/it]"
     ]
    },
    {
     "name": "stdout",
     "output_type": "stream",
     "text": [
      "[0]\teval-merror:0.44397\ttrain-merror:0.41108\n",
      "[1]\teval-merror:0.44227\ttrain-merror:0.40703\n",
      "[2]\teval-merror:0.44525\ttrain-merror:0.40107\n",
      "[3]\teval-merror:0.44738\ttrain-merror:0.39542\n",
      "[4]\teval-merror:0.44440\ttrain-merror:0.39073\n"
     ]
    },
    {
     "name": "stderr",
     "output_type": "stream",
     "text": [
      " 23%|██▎       | 7/30 [01:55<06:23, 16.69s/it]"
     ]
    },
    {
     "name": "stdout",
     "output_type": "stream",
     "text": [
      "[0]\teval-merror:0.43971\ttrain-merror:0.41034\n",
      "[1]\teval-merror:0.43758\ttrain-merror:0.40447\n",
      "[2]\teval-merror:0.43673\ttrain-merror:0.39979\n",
      "[3]\teval-merror:0.44312\ttrain-merror:0.39371\n",
      "[4]\teval-merror:0.44099\ttrain-merror:0.39030\n"
     ]
    },
    {
     "name": "stderr",
     "output_type": "stream",
     "text": [
      " 27%|██▋       | 8/30 [02:13<06:17, 17.17s/it]"
     ]
    },
    {
     "name": "stdout",
     "output_type": "stream",
     "text": [
      "[0]\teval-merror:0.45249\ttrain-merror:0.40160\n",
      "[1]\teval-merror:0.44994\ttrain-merror:0.39361\n",
      "[2]\teval-merror:0.44397\ttrain-merror:0.38839\n",
      "[3]\teval-merror:0.45164\ttrain-merror:0.38306\n",
      "[4]\teval-merror:0.44567\ttrain-merror:0.38039\n"
     ]
    },
    {
     "name": "stderr",
     "output_type": "stream",
     "text": [
      " 30%|███       | 9/30 [02:30<05:59, 17.13s/it]"
     ]
    },
    {
     "name": "stdout",
     "output_type": "stream",
     "text": [
      "[0]\teval-merror:0.42011\ttrain-merror:0.39382\n",
      "[1]\teval-merror:0.41841\ttrain-merror:0.38785\n",
      "[2]\teval-merror:0.41968\ttrain-merror:0.38221\n",
      "[3]\teval-merror:0.41628\ttrain-merror:0.37837\n",
      "[4]\teval-merror:0.41329\ttrain-merror:0.37453\n"
     ]
    },
    {
     "name": "stderr",
     "output_type": "stream",
     "text": [
      " 33%|███▎      | 10/30 [02:50<05:58, 17.92s/it]"
     ]
    },
    {
     "name": "stdout",
     "output_type": "stream",
     "text": [
      "[0]\teval-merror:0.43460\ttrain-merror:0.40224\n",
      "[1]\teval-merror:0.43289\ttrain-merror:0.39137\n",
      "[2]\teval-merror:0.43119\ttrain-merror:0.38466\n",
      "[3]\teval-merror:0.42906\ttrain-merror:0.38114\n",
      "[4]\teval-merror:0.43076\ttrain-merror:0.37933\n"
     ]
    },
    {
     "name": "stderr",
     "output_type": "stream",
     "text": [
      " 37%|███▋      | 11/30 [03:07<05:35, 17.66s/it]"
     ]
    },
    {
     "name": "stdout",
     "output_type": "stream",
     "text": [
      "[0]\teval-merror:0.42991\ttrain-merror:0.39659\n",
      "[1]\teval-merror:0.41841\ttrain-merror:0.38966\n",
      "[2]\teval-merror:0.41841\ttrain-merror:0.38487\n",
      "[3]\teval-merror:0.41968\ttrain-merror:0.37730\n",
      "[4]\teval-merror:0.42352\ttrain-merror:0.37038\n"
     ]
    },
    {
     "name": "stderr",
     "output_type": "stream",
     "text": [
      " 40%|████      | 12/30 [03:24<05:13, 17.41s/it]"
     ]
    },
    {
     "name": "stdout",
     "output_type": "stream",
     "text": [
      "[0]\teval-merror:0.41968\ttrain-merror:0.39084\n",
      "[1]\teval-merror:0.41031\ttrain-merror:0.38380\n",
      "[2]\teval-merror:0.40775\ttrain-merror:0.37997\n",
      "[3]\teval-merror:0.41031\ttrain-merror:0.37496\n",
      "[4]\teval-merror:0.40988\ttrain-merror:0.36846\n"
     ]
    },
    {
     "name": "stderr",
     "output_type": "stream",
     "text": [
      " 43%|████▎     | 13/30 [03:39<04:44, 16.74s/it]"
     ]
    },
    {
     "name": "stdout",
     "output_type": "stream",
     "text": [
      "[0]\teval-merror:0.41542\ttrain-merror:0.38476\n",
      "[1]\teval-merror:0.41755\ttrain-merror:0.38274\n",
      "[2]\teval-merror:0.41883\ttrain-merror:0.37571\n",
      "[3]\teval-merror:0.41713\ttrain-merror:0.37304\n",
      "[4]\teval-merror:0.41841\ttrain-merror:0.37017\n"
     ]
    },
    {
     "name": "stderr",
     "output_type": "stream",
     "text": [
      " 47%|████▋     | 14/30 [03:54<04:19, 16.21s/it]"
     ]
    },
    {
     "name": "stdout",
     "output_type": "stream",
     "text": [
      "[0]\teval-merror:0.43247\ttrain-merror:0.38519\n",
      "[1]\teval-merror:0.43119\ttrain-merror:0.37603\n",
      "[2]\teval-merror:0.43417\ttrain-merror:0.37123\n",
      "[3]\teval-merror:0.42650\ttrain-merror:0.36644\n",
      "[4]\teval-merror:0.42437\ttrain-merror:0.36601\n"
     ]
    },
    {
     "name": "stderr",
     "output_type": "stream",
     "text": [
      " 50%|█████     | 15/30 [04:09<03:58, 15.91s/it]"
     ]
    },
    {
     "name": "stdout",
     "output_type": "stream",
     "text": [
      "[0]\teval-merror:0.42693\ttrain-merror:0.38753\n",
      "[1]\teval-merror:0.42181\ttrain-merror:0.38306\n",
      "[2]\teval-merror:0.41841\ttrain-merror:0.37965\n",
      "[3]\teval-merror:0.42181\ttrain-merror:0.37368\n",
      "[4]\teval-merror:0.42224\ttrain-merror:0.37176\n"
     ]
    },
    {
     "name": "stderr",
     "output_type": "stream",
     "text": [
      " 53%|█████▎    | 16/30 [04:24<03:38, 15.63s/it]"
     ]
    },
    {
     "name": "stdout",
     "output_type": "stream",
     "text": [
      "[0]\teval-merror:0.42096\ttrain-merror:0.38775\n",
      "[1]\teval-merror:0.42267\ttrain-merror:0.38189\n",
      "[2]\teval-merror:0.41755\ttrain-merror:0.37848\n",
      "[3]\teval-merror:0.41372\ttrain-merror:0.37059\n",
      "[4]\teval-merror:0.41841\ttrain-merror:0.36654\n"
     ]
    },
    {
     "name": "stderr",
     "output_type": "stream",
     "text": [
      " 57%|█████▋    | 17/30 [04:40<03:23, 15.65s/it]"
     ]
    },
    {
     "name": "stdout",
     "output_type": "stream",
     "text": [
      "[0]\teval-merror:0.42054\ttrain-merror:0.38476\n",
      "[1]\teval-merror:0.42522\ttrain-merror:0.37826\n",
      "[2]\teval-merror:0.42522\ttrain-merror:0.37357\n",
      "[3]\teval-merror:0.42352\ttrain-merror:0.36846\n",
      "[4]\teval-merror:0.41968\ttrain-merror:0.36409\n"
     ]
    },
    {
     "name": "stderr",
     "output_type": "stream",
     "text": [
      " 60%|██████    | 18/30 [04:56<03:08, 15.68s/it]"
     ]
    },
    {
     "name": "stdout",
     "output_type": "stream",
     "text": [
      "[0]\teval-merror:0.41287\ttrain-merror:0.38402\n",
      "[1]\teval-merror:0.41074\ttrain-merror:0.37592\n",
      "[2]\teval-merror:0.40988\ttrain-merror:0.37187\n",
      "[3]\teval-merror:0.41031\ttrain-merror:0.36857\n",
      "[4]\teval-merror:0.40775\ttrain-merror:0.36420\n"
     ]
    },
    {
     "name": "stderr",
     "output_type": "stream",
     "text": [
      " 63%|██████▎   | 19/30 [05:11<02:50, 15.50s/it]"
     ]
    },
    {
     "name": "stdout",
     "output_type": "stream",
     "text": [
      "[0]\teval-merror:0.41883\ttrain-merror:0.38093\n",
      "[1]\teval-merror:0.41287\ttrain-merror:0.37688\n",
      "[2]\teval-merror:0.41841\ttrain-merror:0.37219\n",
      "[3]\teval-merror:0.41670\ttrain-merror:0.36921\n",
      "[4]\teval-merror:0.41926\ttrain-merror:0.36345\n"
     ]
    },
    {
     "name": "stderr",
     "output_type": "stream",
     "text": [
      " 67%|██████▋   | 20/30 [05:26<02:33, 15.34s/it]"
     ]
    },
    {
     "name": "stdout",
     "output_type": "stream",
     "text": [
      "[0]\teval-merror:0.39881\ttrain-merror:0.38157\n",
      "[1]\teval-merror:0.39156\ttrain-merror:0.37688\n",
      "[2]\teval-merror:0.39497\ttrain-merror:0.37017\n",
      "[3]\teval-merror:0.40094\ttrain-merror:0.36612\n",
      "[4]\teval-merror:0.39923\ttrain-merror:0.36143\n"
     ]
    },
    {
     "name": "stderr",
     "output_type": "stream",
     "text": [
      " 70%|███████   | 21/30 [05:41<02:18, 15.34s/it]"
     ]
    },
    {
     "name": "stdout",
     "output_type": "stream",
     "text": [
      "[0]\teval-merror:0.42991\ttrain-merror:0.38370\n",
      "[1]\teval-merror:0.42395\ttrain-merror:0.37453\n",
      "[2]\teval-merror:0.42054\ttrain-merror:0.36846\n",
      "[3]\teval-merror:0.41670\ttrain-merror:0.36462\n",
      "[4]\teval-merror:0.41372\ttrain-merror:0.36143\n"
     ]
    },
    {
     "name": "stderr",
     "output_type": "stream",
     "text": [
      " 73%|███████▎  | 22/30 [05:57<02:03, 15.45s/it]"
     ]
    },
    {
     "name": "stdout",
     "output_type": "stream",
     "text": [
      "[0]\teval-merror:0.40861\ttrain-merror:0.37624\n",
      "[1]\teval-merror:0.41031\ttrain-merror:0.37144\n",
      "[2]\teval-merror:0.40605\ttrain-merror:0.36462\n",
      "[3]\teval-merror:0.41415\ttrain-merror:0.36281\n",
      "[4]\teval-merror:0.41883\ttrain-merror:0.35685\n"
     ]
    },
    {
     "name": "stderr",
     "output_type": "stream",
     "text": [
      " 77%|███████▋  | 23/30 [06:12<01:47, 15.38s/it]"
     ]
    },
    {
     "name": "stdout",
     "output_type": "stream",
     "text": [
      "[0]\teval-merror:0.41841\ttrain-merror:0.38626\n",
      "[1]\teval-merror:0.41329\ttrain-merror:0.37901\n",
      "[2]\teval-merror:0.40988\ttrain-merror:0.37208\n",
      "[3]\teval-merror:0.41329\ttrain-merror:0.36644\n",
      "[4]\teval-merror:0.41755\ttrain-merror:0.36217\n"
     ]
    },
    {
     "name": "stderr",
     "output_type": "stream",
     "text": [
      " 80%|████████  | 24/30 [06:27<01:31, 15.29s/it]"
     ]
    },
    {
     "name": "stdout",
     "output_type": "stream",
     "text": [
      "[0]\teval-merror:0.40903\ttrain-merror:0.37581\n",
      "[1]\teval-merror:0.41116\ttrain-merror:0.37198\n",
      "[2]\teval-merror:0.40222\ttrain-merror:0.36718\n",
      "[3]\teval-merror:0.40477\ttrain-merror:0.36207\n",
      "[4]\teval-merror:0.40733\ttrain-merror:0.35546\n"
     ]
    },
    {
     "name": "stderr",
     "output_type": "stream",
     "text": [
      " 83%|████████▎ | 25/30 [06:43<01:17, 15.56s/it]"
     ]
    },
    {
     "name": "stdout",
     "output_type": "stream",
     "text": [
      "[0]\teval-merror:0.41500\ttrain-merror:0.37528\n",
      "[1]\teval-merror:0.41713\ttrain-merror:0.36899\n",
      "[2]\teval-merror:0.41202\ttrain-merror:0.36644\n",
      "[3]\teval-merror:0.40690\ttrain-merror:0.36217\n",
      "[4]\teval-merror:0.40861\ttrain-merror:0.35983\n"
     ]
    },
    {
     "name": "stderr",
     "output_type": "stream",
     "text": [
      " 87%|████████▋ | 26/30 [06:58<01:01, 15.43s/it]"
     ]
    },
    {
     "name": "stdout",
     "output_type": "stream",
     "text": [
      "[0]\teval-merror:0.39625\ttrain-merror:0.37411\n",
      "[1]\teval-merror:0.38943\ttrain-merror:0.36899\n",
      "[2]\teval-merror:0.39284\ttrain-merror:0.36484\n",
      "[3]\teval-merror:0.39242\ttrain-merror:0.36569\n",
      "[4]\teval-merror:0.39412\ttrain-merror:0.35972\n"
     ]
    },
    {
     "name": "stderr",
     "output_type": "stream",
     "text": [
      " 90%|█████████ | 27/30 [07:14<00:46, 15.38s/it]"
     ]
    },
    {
     "name": "stdout",
     "output_type": "stream",
     "text": [
      "[0]\teval-merror:0.41628\ttrain-merror:0.38455\n",
      "[1]\teval-merror:0.40775\ttrain-merror:0.37613\n",
      "[2]\teval-merror:0.40733\ttrain-merror:0.37091\n",
      "[3]\teval-merror:0.40562\ttrain-merror:0.36612\n",
      "[4]\teval-merror:0.40733\ttrain-merror:0.36249\n"
     ]
    },
    {
     "name": "stderr",
     "output_type": "stream",
     "text": [
      " 93%|█████████▎| 28/30 [07:29<00:30, 15.39s/it]"
     ]
    },
    {
     "name": "stdout",
     "output_type": "stream",
     "text": [
      "[0]\teval-merror:0.41500\ttrain-merror:0.38295\n",
      "[1]\teval-merror:0.40988\ttrain-merror:0.37581\n",
      "[2]\teval-merror:0.41074\ttrain-merror:0.36867\n",
      "[3]\teval-merror:0.41031\ttrain-merror:0.36473\n",
      "[4]\teval-merror:0.40903\ttrain-merror:0.36281\n"
     ]
    },
    {
     "name": "stderr",
     "output_type": "stream",
     "text": [
      " 97%|█████████▋| 29/30 [07:44<00:15, 15.33s/it]"
     ]
    },
    {
     "name": "stdout",
     "output_type": "stream",
     "text": [
      "[0]\teval-merror:0.41415\ttrain-merror:0.37357\n",
      "[1]\teval-merror:0.40648\ttrain-merror:0.36612\n",
      "[2]\teval-merror:0.40392\ttrain-merror:0.36068\n",
      "[3]\teval-merror:0.40648\ttrain-merror:0.35813\n",
      "[4]\teval-merror:0.40690\ttrain-merror:0.35312\n"
     ]
    },
    {
     "name": "stderr",
     "output_type": "stream",
     "text": [
      "100%|██████████| 30/30 [07:59<00:00, 15.31s/it]"
     ]
    }
   ],
   "source": [
    "%autoreload\n",
    "\n",
    "#empty list to hold loss per epoch\n",
    "train_epoch_losses = []\n",
    "syn_train_epoch_losses = []\n",
    "ant_train_epoch_losses = []\n",
    "syn_train_epoch_accuracies = []\n",
    "ant_train_epoch_accuracies = []\n",
    "irrel_train_epoch_accuracies = []\n",
    "train_p2_syn_accs = []\n",
    "train_p2_ant_accs = []\n",
    "train_p2_irrel_accs = []\n",
    "\n",
    "test_epoch_losses = []\n",
    "syn_test_epoch_losses = []\n",
    "ant_test_epoch_losses = []\n",
    "syn_test_epoch_accuracies = []\n",
    "ant_test_epoch_accuracies = []\n",
    "irrel_test_epoch_accuracies = []\n",
    "test_p2_syn_accs = []\n",
    "test_p2_ant_accs = []\n",
    "test_p2_irrel_accs = []\n",
    "\n",
    "pbar = tqdm(total = num_epochs, position = 0)\n",
    "\n",
    "for epoch in range(num_epochs):\n",
    "    \n",
    "    train_epoch_loss, syn_train_epoch_loss, ant_train_epoch_loss, Lm_train_epoch_loss, train_syn_epoch_acc, train_ant_epoch_acc, train_irrel_epoch_acc, train_p2_accs = train.Phase_I_train_model(model = model, training_data_set = train_loader, optimizer = optimizer)\n",
    "        \n",
    "    train_epoch_losses.append(train_epoch_loss)\n",
    "    syn_train_epoch_losses.append(syn_train_epoch_loss)\n",
    "    ant_train_epoch_losses.append(ant_train_epoch_loss)\n",
    "    syn_train_epoch_accuracies.append(train_syn_epoch_acc)\n",
    "    ant_train_epoch_accuracies.append(train_ant_epoch_acc)\n",
    "    irrel_train_epoch_accuracies.append(train_irrel_epoch_acc)\n",
    "    train_p2_irrel_accs.append(train_p2_accs[0])\n",
    "    train_p2_syn_accs.append(train_p2_accs[1])\n",
    "    train_p2_ant_accs.append(train_p2_accs[2])\n",
    "       \n",
    "    test_epoch_loss, syn_test_epoch_loss, ant_test_epoch_loss, Lm_test_epoch_loss, syn_epoch_acc, ant_epoch_acc, irrel_epoch_acc, syn_true, syn_predictions, ant_true, ant_predictions, test_p2_accs = test.Phase_I_eval_model(model = model, testing_data_set = test_loader, optimizer = optimizer)\n",
    "        \n",
    "    test_epoch_losses.append(test_epoch_loss)\n",
    "    syn_test_epoch_losses.append(syn_test_epoch_loss)\n",
    "    ant_test_epoch_losses.append(ant_test_epoch_loss)\n",
    "    syn_test_epoch_accuracies.append(syn_epoch_acc)\n",
    "    ant_test_epoch_accuracies.append(ant_epoch_acc)\n",
    "    irrel_test_epoch_accuracies.append(irrel_epoch_acc)\n",
    "    test_p2_irrel_accs.append(test_p2_accs[0])\n",
    "    test_p2_syn_accs.append(test_p2_accs[1])\n",
    "    test_p2_ant_accs.append(test_p2_accs[2])\n",
    "\n",
    "    pbar.update()"
   ]
  },
  {
   "cell_type": "code",
   "execution_count": 12,
   "metadata": {},
   "outputs": [
    {
     "data": {
      "image/png": "[encoded data removed]",
      "text/plain": [
       "<Figure size 576x432 with 1 Axes>"
      ]
     },
     "metadata": {
      "needs_background": "light"
     },
     "output_type": "display_data"
    },
    {
     "data": {
      "image/png": "[encoded data removed]",
      "text/plain": [
       "<Figure size 576x432 with 1 Axes>"
      ]
     },
     "metadata": {
      "needs_background": "light"
     },
     "output_type": "display_data"
    },
    {
     "data": {
      "image/png": "[encoded data removed]",
      "text/plain": [
       "<Figure size 576x432 with 1 Axes>"
      ]
     },
     "metadata": {
      "needs_background": "light"
     },
     "output_type": "display_data"
    }
   ],
   "source": [
    "fig, ax = plt.subplots(figsize = (8,6))\n",
    "\n",
    "epochs = np.arange(1, (num_epochs+1), 1)\n",
    "\n",
    "plt.plot(epochs, train_epoch_losses, c = 'k', label = 'training error')\n",
    "plt.plot(epochs, test_epoch_losses, c = 'r', label = 'testing error')\n",
    "plt.legend(loc = 'upper right')\n",
    "plt.title(\"Total Training & Testing Error\")\n",
    "ax.set_xlabel('Epoch')\n",
    "ax.set_ylabel('Total Custom Loss')\n",
    "plt.show()\n",
    "\n",
    "fig, ax = plt.subplots(figsize = (8,6))\n",
    "plt.plot(epochs, syn_train_epoch_accuracies, c = 'k', linestyle = '-.', label = 'syn acc - train')\n",
    "plt.plot(epochs, syn_test_epoch_accuracies, c = 'k', label = 'syn acc - test')\n",
    "plt.plot(epochs, ant_train_epoch_accuracies, c = 'r', linestyle = '-.', label = 'ant acc - train')\n",
    "plt.plot(epochs, ant_test_epoch_accuracies, c = 'r', label = 'ant acc - test')\n",
    "plt.plot(epochs, irrel_train_epoch_accuracies, c = 'c', linestyle = '-.', label = 'irrel acc - train')\n",
    "plt.plot(epochs, irrel_test_epoch_accuracies, c = 'c', label = 'irrel acc - test')\n",
    "plt.legend(loc = 'upper right')\n",
    "plt.title(\"Phase I Labeling Accuracy\")\n",
    "ax.set_xlabel('Epochs')\n",
    "ax.set_ylabel('Accuracy')\n",
    "plt.show()\n",
    "\n",
    "fig, ax = plt.subplots(figsize = (8,6))\n",
    "plt.plot(epochs, train_p2_syn_accs, c = 'k', linestyle = '-.', label = 'syn acc - train')\n",
    "plt.plot(epochs, test_p2_syn_accs, c = 'k', label = 'syn acc - test')\n",
    "plt.plot(epochs, train_p2_ant_accs, c = 'r', linestyle = '-.', label = 'ant acc - train')\n",
    "plt.plot(epochs, test_p2_ant_accs, c = 'r', label = 'ant acc - test')\n",
    "plt.plot(epochs, train_p2_irrel_accs, c = 'c', linestyle = '-.', label = 'irrel acc - train')\n",
    "plt.plot(epochs, test_p2_irrel_accs, c = 'c', label = 'irrel acc - test')\n",
    "plt.legend(loc = 'upper right')\n",
    "plt.title(\"Phase II Labeling Accuracy\")\n",
    "ax.set_xlabel('Epochs')\n",
    "ax.set_ylabel('Accuracy')\n",
    "plt.show()"
   ]
  },
  {
   "cell_type": "code",
   "execution_count": null,
   "metadata": {},
   "outputs": [],
   "source": [
    "#thresholding the predicted values to be compared to the labels\n",
    "syn_predictions = list(map(lambda x:1 if x >= 0.8 else x, syn_predictions))\n",
    "syn_predictions = list(map(lambda x:0 if -0.8 < x < 0.8 else x, syn_predictions))\n",
    "syn_predictions = list(map(lambda x:-1 if x <= -0.8 else x, syn_predictions))\n",
    "\n",
    "ant_predictions = list(map(lambda x:1 if x >= 0.8 else x, ant_predictions))\n",
    "ant_predictions = list(map(lambda x:0 if -0.8 < x < 0.8 else x, ant_predictions))\n",
    "ant_predictions = list(map(lambda x:-1 if x <= -0.8 else x, ant_predictions))\n",
    "\n",
    "\n",
    "#synonymy confusion matrix\n",
    "syn_matrix = confusion_matrix(syn_true, syn_predictions)\n",
    "\n",
    "#antonymy confusion matrix\n",
    "ant_matrix = confusion_matrix(ant_true, ant_predictions)"
   ]
  },
  {
   "cell_type": "code",
   "execution_count": null,
   "metadata": {},
   "outputs": [],
   "source": [
    "syn_matrix"
   ]
  },
  {
   "cell_type": "code",
   "execution_count": null,
   "metadata": {},
   "outputs": [],
   "source": [
    "ant_matrix"
   ]
  },
  {
   "cell_type": "code",
   "execution_count": null,
   "metadata": {},
   "outputs": [],
   "source": []
  }
 ],
 "metadata": {
  "kernelspec": {
   "display_name": "Python 3",
   "language": "python",
   "name": "python3"
  },
  "language_info": {
   "codemirror_mode": {
    "name": "ipython",
    "version": 3
   },
   "file_extension": ".py",
   "mimetype": "text/x-python",
   "name": "python",
   "nbconvert_exporter": "python",
   "pygments_lexer": "ipython3",
   "version": "3.7.6"
  }
 },
 "nbformat": 4,
 "nbformat_minor": 4
}
