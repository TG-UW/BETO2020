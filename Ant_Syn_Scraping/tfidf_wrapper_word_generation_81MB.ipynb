{
 "cells": [
  {
   "cell_type": "code",
   "execution_count": 1,
   "metadata": {},
   "outputs": [],
   "source": [
    "import numpy as np\n",
    "import pandas as pd\n",
    "import os\n",
    "import random\n",
    "import sklearn\n",
    "from sklearn.linear_model import SGDClassifier # support vector machine\n",
    "from sklearn.feature_extraction.text import TfidfVectorizer"
   ]
  },
  {
   "cell_type": "code",
   "execution_count": 2,
   "metadata": {},
   "outputs": [],
   "source": [
    "beto = '/Users/Thomas/Desktop/BETO2020-master/Ant_Syn_Scraping/'\n",
    "google = \"/Users/Thomas/Desktop/BETO2020-master/Ant_Syn_Scraping/\""
   ]
  },
  {
   "cell_type": "code",
   "execution_count": 3,
   "metadata": {},
   "outputs": [],
   "source": [
    "os.chdir('/Users/Thomas/Desktop/BETO2020-master/Ant_Syn_Scraping/')\n",
    "import tfidf_wrapper_Copy1\n",
    "from tfidf_wrapper_Copy1 import tfidf_model"
   ]
  },
  {
   "cell_type": "code",
   "execution_count": 4,
   "metadata": {},
   "outputs": [],
   "source": [
    "os.chdir(google)\n",
    "file = open('Bioelectrochemistry.json','r')"
   ]
  },
  {
   "cell_type": "code",
   "execution_count": 5,
   "metadata": {},
   "outputs": [],
   "source": [
    "os.chdir(beto)"
   ]
  },
  {
   "cell_type": "code",
   "execution_count": 6,
   "metadata": {},
   "outputs": [],
   "source": [
    "#Finding a way to create the corpus from the imported json file"
   ]
  },
  {
   "cell_type": "code",
   "execution_count": 7,
   "metadata": {},
   "outputs": [],
   "source": [
    "import json\n",
    "raw_corpus = json.load(file)"
   ]
  },
  {
   "cell_type": "code",
   "execution_count": 8,
   "metadata": {},
   "outputs": [],
   "source": [
    "dates = ['1995','1996','1997','1998','1999','2000','2001','2002','2003','2004','2005','2006','2007','2008','2009','2010','2011','2012','2013','2014','2015','2016','2017','2018','2019','2020']\n",
    "nbr_pubs = []\n",
    "for date in dates:\n",
    "    nbr = str(len(raw_corpus[date]))\n",
    "    nbr_pubs.append([date,nbr])\n",
    "                  \n",
    "nbr_pubs = pd.DataFrame(nbr_pubs)\n",
    "        "
   ]
  },
  {
   "cell_type": "code",
   "execution_count": 9,
   "metadata": {},
   "outputs": [],
   "source": [
    "# make a list of publications from the file. tfidf_wrapper likes lists\n",
    "corpus = []\n",
    "for i in range(len(nbr_pubs)):\n",
    "    if nbr_pubs.iloc[i,1] != str(0):\n",
    "        for u in range(0,(int(nbr_pubs.iloc[i,1])-1)):\n",
    "            str_pub = str(raw_corpus[str(nbr_pubs.iloc[i,0])][str(u)]['fulltext'])\n",
    "            corpus.append(str_pub)\n",
    "file.close()\n"
   ]
  },
  {
   "cell_type": "code",
   "execution_count": 10,
   "metadata": {},
   "outputs": [
    {
     "data": {
      "text/plain": [
       "1632"
      ]
     },
     "execution_count": 10,
     "metadata": {},
     "output_type": "execute_result"
    }
   ],
   "source": [
    "# so there are now 3346 full texts in this list\n",
    "len(corpus)"
   ]
  },
  {
   "cell_type": "code",
   "execution_count": 11,
   "metadata": {},
   "outputs": [],
   "source": [
    "def scrambled(orig):\n",
    "    dest = orig[:]\n",
    "    random.shuffle(dest)\n",
    "    return dest"
   ]
  },
  {
   "cell_type": "code",
   "execution_count": 12,
   "metadata": {},
   "outputs": [],
   "source": [
    "# shake things up to be statistically fair.\n",
    "corpus = scrambled(corpus)"
   ]
  },
  {
   "cell_type": "code",
   "execution_count": 13,
   "metadata": {},
   "outputs": [],
   "source": [
    "# if you need documentation of how to use tfidf_wrapper, or you can just look at the source code\n",
    "# help(tfidf_wrapper_Copy1)"
   ]
  },
  {
   "cell_type": "code",
   "execution_count": 14,
   "metadata": {},
   "outputs": [],
   "source": [
    "# This is the first call made for a tfidf_model class, create the object, which requires input corpus\n",
    "model = tfidf_model(corpus)"
   ]
  },
  {
   "cell_type": "code",
   "execution_count": 15,
   "metadata": {},
   "outputs": [],
   "source": [
    "# Now we make the tfidf matrix. This is a matrix that will contain vectors for each paper.\n",
    "# Each vector will have the unique tfidf information for every word\n",
    "model.tfidf_matrix()"
   ]
  },
  {
   "cell_type": "code",
   "execution_count": 16,
   "metadata": {},
   "outputs": [],
   "source": [
    "# the array attribute of the model contains all of the tfidf information\n",
    "mat = model.array\n",
    "vocab = model.vocab"
   ]
  },
  {
   "cell_type": "code",
   "execution_count": 17,
   "metadata": {},
   "outputs": [
    {
     "data": {
      "text/plain": [
       "(1632, 235500)"
      ]
     },
     "execution_count": 17,
     "metadata": {},
     "output_type": "execute_result"
    }
   ],
   "source": [
    "# looks like this tfidf matrix has 3346 rows, corresponding to each individual paper \n",
    "# 255764 corresponds to the length of each tfidf vector for each paper.\n",
    "# There are apparently 255764 unique words in the corpus \n",
    "mat.shape"
   ]
  },
  {
   "cell_type": "code",
   "execution_count": 19,
   "metadata": {},
   "outputs": [
    {
     "data": {
      "text/plain": [
       "array([0.00413081, 0.        , 0.        , ..., 0.        , 0.        ,\n",
       "       0.        ])"
      ]
     },
     "execution_count": 19,
     "metadata": {},
     "output_type": "execute_result"
    }
   ],
   "source": [
    "# here is a single tfidf vector for a paper, each input corresponds to each word in the vocabulary\n",
    "mat[62]"
   ]
  },
  {
   "cell_type": "code",
   "execution_count": 20,
   "metadata": {},
   "outputs": [],
   "source": [
    "# I just found this method by Googling. This finds the 4 highest numbers in a numpy array. \n",
    "# We can use this to get the highest tfidf scores from any paper\n",
    "ind = np.argpartition(mat[0], -2000)[-2000:]"
   ]
  },
  {
   "cell_type": "code",
   "execution_count": 21,
   "metadata": {},
   "outputs": [],
   "source": [
    "# method to make sure we don't get words with numbers\n",
    "def hasNumbers(inputString):\n",
    "    import re\n",
    "    return bool(re.search(r'\\d', inputString))"
   ]
  },
  {
   "cell_type": "code",
   "execution_count": 22,
   "metadata": {},
   "outputs": [],
   "source": [
    "def good_words(matrix,vocab,n,stopcount):\n",
    "    \"\"\"\n",
    "    This method finds the most relevant words in a corpus, as calculated by tfidf scores.\n",
    "    \n",
    "    Parameters:\n",
    "    -----------\n",
    "    matrix (object, required): The object corresponding to the array attribute of a tfidf_wrapper model\n",
    "    \n",
    "    vocab (object, required): The object corresponding to the vocab attribute of a tfidf_wrapper model\n",
    "    \n",
    "    n (int,required): This integer describes \n",
    "    \"\"\"\n",
    "    goodwords = []\n",
    "    for i in range(mat.shape[0]):\n",
    "        highscore_indices = np.argpartition(mat[i], -n)[-n:]\n",
    "        \n",
    "        for j in range(n):\n",
    "            word = vocab[highscore_indices[j]]\n",
    "            \n",
    "            if not hasNumbers(word) and word not in goodwords:\n",
    "                goodwords.append(word)\n",
    "        \n",
    "        if len(goodwords) >= stopcount:\n",
    "            return goodwords\n",
    "            break\n",
    "               \n",
    "               \n",
    "        \n",
    "                \n",
    "        "
   ]
  },
  {
   "cell_type": "code",
   "execution_count": 23,
   "metadata": {},
   "outputs": [
    {
     "name": "stdout",
     "output_type": "stream",
     "text": [
      "['were', 'ce', 'power', 'accumulation', 'geobacter', 'cathode', 'ren', 'toc', 'mg', 'jiangnan', 'article', 'was', 'pubs', 'content', 'ic', 'www', 'the', 'cs', 'bufferless', 'anaerobic', 'fuel', 'jiangsu', 'jpg', 'kcl', 'anode', 'https', 'sludge', 'mfc', 'biofilm', 'mfcs', 'in', 'ph', 'blmfcs', 'and', 'microbial', 'image', 'com', 'sciencedirect', 'science', 'of', 'pii', 'running', 'to', 'anolyte', 'patterned', 'polsky', 'functionalized', 'amazonaws', 'store', 'prod', 'ucs', 'harper', 'with', 'azidoaniline', 'click', 'immobilization', 'aryl', 'belgium', 'azide', 'eu', 'electrodes', 'alkyne', 'for', 'grafting', 'west', 'electrografting', 'site', 'addressed', 'ethynylaniline', 'electrode', 'grafted', 'on', 'downard', 'diazonium', 'leuven', 'functionalization', 'ssdna', 'rouillon', 'as', 'effects', 'illumination', 'by', 'membranes', 'chlorophyll', 'enriched', 'photoreduction', 'assays', 'metal', 'at', 'bio', 'is', 'complexes', 'lhcii', 'cu', 'hill', 'chl', 'fluorescence', 'bbys', 'ii', 'bby', 'dcip', 'chloroplast', 'chloroplasts', 'chls', 'giardi', 'spinach', 'emission', 'heavy', 'psii', 'copper', 'thylakoids', 'metals', 'thylakoid', 'hg', 'photosynthetic', 'photosystem', 'detergent', 'she', 'melin', 'enzyme', 'respiratory', 'heme', 'enzymes', 'mercaptohexan', 'nps', 'quinol', 'quinone', 'terminal', 'hqno', 'ubiquinol', 'oxidases', 'cytochrome', 'gold', 'protein', 'oxidase', 'hellwig', 'mogi', 'escherichia', 'inhibitors', 'inhibition', 'coli', 'catalytic', 'borisov', 'bd', 'from', 'gennis', 'corros', 'under', 'fig', 'beijing', 'failure', 'sml', 'morphologies', 'skp', 'kelvin', 'pcbs', 'medgyes', 'synergistic', 'gif', 'voltage', 'bias', 'migration', 'dendrite', 'ecm', 'dendrites', 'corrosion', 'mould', 'spores', 'pcb', 'imag', 'layer', 'hickner', 'that', 'phase', 'air', 'logan', 'inversion', 'dalian', 'ptfe', 'cathodes', 'pvdf', 'catalyst', 'binder', 'binders', 'black', 'carbon', 'filler', 'umr', 'lyon', 'zebda', 'one', 'biofuel', 'stability', 'laccase', 'reactivation', 'discharges', 'year', 'reuillard', 'goff', 'dcm', 'discharge', 'grenoble', 'hour', 'france', 'glucose', 'bioanode', 'month', 'biocathode', 'holzinger', 'cells', 'gbfc', 'bas', 'swv', 'coenzyme', 'schellenberger', 'diphosphate', 'kcal', 'decarboxylase', 'decarboxylases', 'decarboxylation', 'jordan', 'pyrimidine', 'pyrophosphate', 'thermodynamic', 'arjunan', 'driving', 'hubner', 'pyruvate', 'force', 'thiamin', 'pdc', 'thpp', 'suspension', 'passive', 'oblate', 'cametti', 'particle', 'bordi', 'boundary', 'oval', 'cole', 'frequency', 'stripin', 'revolution', 'model', 'conductivity', 'biconcave', 'permittivity', 'cassini', 'erythrocyte', 'ellipsoidal', 'electrical', 'asami', 'dielectric', 'shape', 'membrane', 'cell', 'relaxation', 'parameters', 'bulk', 'nibiol', 'preconcentration', 'pharmacokinetic', 'kcls', 'developed', 'voltammetric', 'methods', 'eacc', 'dp', 'αna', 'ghoneim', 'adsorptive', 'nitroxoline', 'ip', 'ls', 'universal', 'adcsv', 'sw', 'stripping', 'zh', 'polarographic', 'sam', 'μf', 'lipids', 'knowles', 'peptides', 'potassium', 'bushby', 'ionophore', 'impedance', 'biomimetic', 'be', 'ion', 'jenkins', 'popc', 'sackmann', 'supported', 'boden', 'bilayers', 'surface', 'vesicles', 'ionophores', 'dppte', 'lipid', 'capacitance', 'epc', 'bilayer', 'valinomycin', 'peel', 'ww', 'seed', 'aam', 'thumbnail', 'ace', 'downsampled', 'culls', 'dex', 'culled', 'mess', 'tomato', 'highres', 'jpeg', 'tomatoes', 'us', 'east', 'egi', 'cull', 'page', 'oliveira', 'modified', 'phen', 'vitamin', 'pyridoxol', 'interaction', 'brett', 'solution', 'strands', 'probe', 'gc', 'nucleotide', 'dsdna', 'dna', 'absorbance', 'molecule', 'electrolyzed', 'intermediate', 'thiouracils', 'sweep', 'versus', 'absorbing', 'mv', 'mass', 'spectral', 'dimer', 'monosilylated', 'decay', 'compound', 'electrooxidation', 'wrona', 'electrolysis', 'iic', 'oxidation', 'ia', 'thiouracil', 'peak', 'bergel', 'bacteria', 'colonized', 'sorokin', 'electroautotrophic', 'electroautotrophy', 'ectothiorhodospiraceae', 'reduction', 'cvs', 'recorded', 'biofilms', 'current', 'rimboud', 'thioalkalivibrio', 'nitrate', 'thiosulfate', 'days', 'ocp', 'biocathodes', 'reactor', 'oxygen', 'inoculated', 'polarization', 'aerobic', 'sulfur', 'polarized', 'nitratireducens', 'reactors', 'zaborowski', 'microelectron', 'gotszalk', 'isfet', 'edinger', 'beam', 'resolution', 'technology', 'optical', 'thermal', 'cmos', 'aperture', 'microsystem', 'silicon', 'mems', 'snom', 'rangelow', 'micromechanical', 'grabiec', 'piezoresistive', 'cantilever', 'aulenta', 'wastewater', 'mining', 'evolution', 'day', 'strains', 'amd', 'paquesii', 'reducing', 'villano', 'consortium', 'consumption', 'sedimentibacter', 'bacterial', 'halotolerans', 'chile', 'srb', 'srbc', 'dh', 'bioelectrochemical', 'desulfobacter', 'desulfovibrio', 'sulfate', 'sulphate', 'permeabilized', 'pliquett', 'šentjurc', 'fluid', 'cholesterol', 'cm', 'štrancar', 'stratum', 'proportion', 'corneum', 'electric', 'chilling', 'pulse', 'pulses', 'lines', 'spin', 'electroporation', 'temperature', 'epr', 'permeabilization', 'electropermeabilization', 'domain', 'fluidity', 'domains', 'multicofactor', 'oxidised', 'cdh', 'lindgren', 'sox', 'redox', 'electron', 'alkanethiol', 'alkanethiols', 'thox', 'fdh', 'theophylline', 'direct', 'cyt', 'cysteamine', 'oh', 'fructose', 'det', 'dehydrogenase', 'industrius', 'pqq', 'during', 'perfused', 'perfusion', 'intraischemic', 'min', 'gap', 'mhz', 'spectrum', 'junctions', 'junction', 'closure', 'heptanol', 'gebhard', 'gersing', 'intracellular', 'khz', 'ischemia', 'heart', 'tissue', 'htk', 'chen', 'blackmore', 'chopinet', 'bem', 'nesin', 'biophys', 'conf', 'marcu', 'ieee', 'envelope', 'plasma', 'kolb', 'calcium', 'pakhomov', 'fields', 'nuccitelli', 'field', 'apoptosis', 'gundersen', 'destabilization', 'schoenbach', 'nseps', 'pulsed', 'beebe', 'vernier', 'nanosecond', 'blue', 'athens', 'dodecanothiol', 'peroxidases', 'methylene', 'substrate', 'cat', 'mtperii', 'peroxidase', 'mb', 'mediator', 'lmb', 'control', 'environmental', 'bayrakdar', 'simultaneous', 'effluent', 'electricity', 'mesh', 'forestry', 'nitrite', 'calli', 'valent', 'feed', 'fed', 'groundwater', 'chambers', 'srr', 'gn', 'period', 'svg', 'bes', 'removal', 'sulfide', 'chamber', 'denitrification', 'nap', 'altimg', 'hf', 'ds', 'ions', 'jω', 'rot', 'eq', 'translocation', 'lipophilic', 'dpa', 'erythrocytes', 'δε', 'lf', 'dispersion', 'mh', 'averaged', 'charge', 'catarina', 'numerical', 'ox', 'are', 'νn', 'δv', 'δt', 'nodes', 'node', 'circuit', 'sensors', 'adenovirus', 'gustatory', 'detection', 'bioengineered', 'biosensor', 'toxicity', 'mm', 'receptors', 'receptor', 'chip', 'taste', 'olfactory', 'bitter', 'salicin', 'firing', 'diacetyl', 'odor', 'mea', 'neuroblastoma', 'odr', 'ci', 'sh', 'cho', 'phases', 'or', 'yp', 'pr', 'bipolar', 'cancellation', 'amplitude', 'unipolar', 'uptake', 'externalization', 'nefo', 'trapezoidal', 'nsep', 'pakhomova', 'vcm', 'acido', 'dependent', 'determined', 'dgh', 'different', 'architectures', 'ryabov', 'nadh', 'phenantroline', 'type', 'complex', 'mediators', 'qh', 'nad', 'll', 'adh', 'ru', 'glydh', 'paste', 'gdh', 'biosensors', 'based', 'ultrasensitive', 'level', 'cascaded', 'gnps', 'rich', 'hybridization', 'au', 'dpv', 'ochratoxin', 'ota', 'aptasensor', 'wine', 'aptamer', 'enhancer', 'amplification', 'signal', 'marhl', 'oscillatory', 'myocytes', 'stimulation', 'inositol', 'oscillations', 'trisphosphate', 'smooth', 'sustained', 'subtypes', 'cytosolic', 'isoforms', 'muscle', 'airway', 'dens', 'sr', 'tracheal', 'serca', 'agonist', 'hydrophobic', 'adsorbed', 'imaging', 'adsorption', 'μg', 'stranded', 'hopg', 'tip', 'hansma', 'images', 'oliveirabrett', 'stm', 'mode', 'bases', 'onto', 'mac', 'topographic', 'topographical', 'atomic', 'molecules', 'afm', 'nucleic', 'agqre', 'vis', 'apo', 'μm', 'flavohaemoprotein', 'eutrophus', 'cellulose', 'potentiometry', 'dioxygen', 'fhp', 'gardner', 'methyl', 'ermler', 'haemoglobin', 'chronocoulometry', 'fad', 'haem', 'entrapped', 'film', 'releasing', 'pk', 'drachev', 'balashov', 'photoelectric', 'binding', 'needleman', 'lanyi', 'photoelectrochemical', 'polarity', 'release', 'pms', 'ebrey', 'pm', 'koyama', 'reversal', 'miyasaka', 'saga', 'off', 'photocurrent', 'photocurrents', 'photocycle', 'cation', 'substituted', 'proton', 'br', 'bacteriorhodopsin', 'purple', 'light', 'metabolic', 'plate', 'allowable', 'heating', 'dissipation', 'spacing', 'blood', 'ρc', 'heat', 'configuration', 'needle', 'seafood', 'lefebvre', 'performance', 'seawater', 'salt', 'subterraneus', 'utilized', 'operated', 'nacl', 'hypersaline', 'rousseau', 'et', 'grattieri', 'monzon', 'cod', 'halotolerant', 'treatment', 'saline', 'al', 'salinity', 'ow', 'tds', 'pulsing', 'polyethylene', 'monoclonal', 'perpendicular', 'lymphocytes', 'treatments', 'lymphoblasts', 'nuclei', 'myeloma', 'mouse', 'hybridoma', 'yield', 'heterohybridoma', 'teissie', 'directions', 'survival', 'polynucleated', 'polynucleation', 'we', 'antibodies', 'human', 'fy', 'fusion', 'electrofusion', 'constants', 'δq', 'sensitivity', 'beacon', 'qcm', 'loop', 'aptamers', 'apta', 'thrombin', 'avidin', 'changes', 'biotin', 'crystal', 'neutravidin', 'electrostriction', 'petrov', 'viscosity', 'potential', 'sukhorukov', 'hexadecylamine', 'surfactant', 'cationic', 'elasticity', 'hda', 'sblm', 'modulus', 'upper', 'gelatin', 'uncoupler', 'motor', 'forterre', 'action', 'trigger', 'plant', 'venus', 'μc', 'midrib', 'plants', 'lobe', 'leaf', 'dionaea', 'cccp', 'hairs', 'volkov', 'closing', 'trap', 'muscipula', 'flytrap', 'lobes', 'δi', 'electrochemical', 'enantiomers', 'southwest', 'thi', 'thionine', 'gce', 'interface', 'gr', 'nano', 'chiral', 'trp', 'graphene', 'bionic', 'nanocomposite', 'monolayers', 'chips', 'screen', 'gooding', 'hexanethiol', 'printed', 'poland', 'ferrocenyl', 'spg', 'disc', 'transducer', 'erdem', 'gde', 'pictures', 'sams', 'geometric', 'transducers', 'bsc', 'schottky', 'culture', 'photoanode', 'pseudomonas', 'extracellular', 'mott', 'hematite', 'band', 'mineral', 'μa', 'eet', 'minerals', 'manganese', 'mn', 'cafm', 'biosynthesized', 'transfer', 'system', 'aeruginosa', 'semiconducting', 'sers', 'pyocyanin', 'electroconductibility', 'birnessite', 'bioelectrons', 'lbns', 'bir', 'square', 'hawkridge', 'fe', 'metmyoglobin', 'proteins', 'zelder', 'myoglobin', 'voltammetry', 'cyanhaemoglobin', 'cyanide', 'graphite', 'prelog', 'cyanmethaemoglobin', 'wave', 'formal', 'iii', 'vladimir', 'weg', 'eth', 'zurich', 'metmb', 'cnmethb', 'walled', 'carboxylic', 'between', 'ethidium', 'kω', 'amidation', 'immobilized', 'nanotube', 'diimide', 'cyclic', 'nyquist', 'calf', 'swnts', 'thymus', 'eb', 'edc', 'cn', 'nhs', 'mwnts', 'nanotubes', 'activity', 'amperometric', 'heilongjiang', 'shanghai', 'furan', 'organophosphorus', 'pesticide', 'acetylcholinesterase', 'pudong', 'thiadiazole', 'organophosphate', 'poly', 'trichlorfon', 'rgo', 'ag', 'atcl', 'malathion', 'ache', 'fbthf', 'pesticides', 'ops', 'lisdat', 'formazan', 'juice', 'pb', 'trolox', 'aeac', 'xod', 'acid', 'hx', 'superoxide', 'brand', 'ascorbic', 'catalase', 'antioxidants', 'juices', 'antioxidant', 'radicals', 'nbt', 'radical', 'orange', 'scavenging', 'capacity', 'nealson', 'grown', 'higher', 'cyma', 'swath', 'cytochromes', 'abundance', 'mr', 'omca', 'oneidensis', 'shewanella', 'potentials', 'dimethylferrocene', 'minteer', 'densities', 'enzymatic', 'operating', 'efc', 'efcs', 'serum', 'bioanodes', 'lpei', 'box', 'acmwcnts', 'jelen', 'barone', 'palecek', 'dnas', 'ml', 'mercury', 'lsv', 'trnkova', 'dracka', 'azido', 'counterpeak', 'evls', 'azidothymidine', 'azt', 'scan', 'elimination', 'deoxythymidine', 'kawczynski', 'czochralska', 'cretton', 'odns', 'adenine', 'cytosine', 'mycelia', 'zou', 'board', 'cl', 'zone', 'cuo', 'xiao', 'agglomeration', 'non', 'clad', 'growth', 'boards', 'magnetic', 'raman', 'group', 'static', 'smf', 'mold', 'mt', 'spore', 'this', 'area', 'stratifying', 'scaled', 'scalability', 'greenman', 'santoro', 'curves', 'normalised', 'walter', 'anodes', 'ieropoulos', 'conditions', 'wet', 'tall', 'height', 'ssm', 'polarisation', 'normalisation', 'urine', 'μw', 'cofactors', 'quinones', 'donor', 'rusling', 'dmpc', 'dark', 'scans', 'films', 'rhodobacter', 'ferrous', 'depleted', 'qa', 'feii', 'native', 'qb', 'rc', 'rcs', 'reaction', 'ldao', 'sphaeroides', 'sulfone', 'electrolytes', 'acids', 'doped', 'behaviour', 'diamond', 'methionine', 'bdde', 'cys', 'met', 'boron', 'amino', 'cystine', 'cysteic', 'cysteine', 'polymer', 'viscoelasticity', 'hemoglobin', 'bare', 'acetate', 'conductance', 'buffer', 'quartz', 'pqci', 'aminophenol', 'qhq', 'δf', 'pqc', 'hb', 'poap', 'dipalmitoyl', 'dmps', 'ftir', 'interbilayer', 'multibilayers', 'adhere', 'weizmann', 'adhering', 'dsc', 'dichroic', 'stretching', 'oriented', 'pl', 'ps', 'phospholipid', 'miller', 'phosphatidyl', 'bach', 'hydration', 'phospholipids', 'headgroups', 'water', 'dpps', 'serine', 'unfreezable', 'product', 'collision', 'isoquinoline', 'santavy', 'hplc', 'fragment', 'oxoberberine', 'protoberberine', 'chelerythrine', 'products', 'dimethoxybenzene', 'pseudobase', 'czech', 'alkaloid', 'sanguinarine', 'benzodioxole', 'ms', 'alkaloids', 'berberine', 'peaks', 'unicolor', 'laccases', 'abts', 'pyox', 'hirsuta', 'bilewicz', 'gox', 'lipidic', 'pyranose', 'ferrocenecarboxylic', 'nylander', 'monoolein', 'rowinski', 'cubic', 'sadowska', 'rogalski', 'zn', 'mcilvaine', 'end', 'procedure', 'swcnt', 'aq', 'side', 'ant', 'anthracene', 'arylated', 'anthraquinone', 'nafion', 'coated', 'da', 'aa', 'hq', 'dma', 'pdma', 'dopamine', 'oyama', 'monomer', 'electropolymerization', 'ohsaka', 'aniline', 'yeast', 'metabolism', 'konno', 'tokyo', 'nishio', 'pmfc', 'mpc', 'pmfcs', 'ishihara', 'cerevisiae', 'japan', 'vfc', 'polymers', 'wysiecka', 'muszalska', 'nh', 'spectra', 'zawisza', 'azocrown', 'azobenzene', 'azo', 'histidine', 'dmf', 'imidazole', 'lioh', 'ether', 'luboch', 'acetylhistidine', 'acidified', 'ethers', 'arh', 'biernat', 'derivative', 'crown', 'inhibit', 'substances', 'transport', 'eipa', 'red', 'dioa', 'amiloride', 'resistant', 'ellory', 'bernhardt', 'haemolysis', 'calyculin', 'exchanger', 'chloroquine', 'flux', 'bumetanide', 'ouabain', 'quinacrine', 'egta', 'na', 'his', 'residual', 'cotransporter', 'cotransport', 'okadaic', 'hoe', 'lis', 'influx', 'predicted', 'macm', 'leech', 'design', 'response', 'pseudo', 'osmium', 'density', 'doe', 'dmobpy', 'os', 'cmd', 'mwcnts', 'dihydroxyadenine', 'swiatek', 'incubation', 'homopolynucleotides', 'cadmium', 'hartwig', 'dado', 'pa', 'multilayer', 'damage', 'dguo', 'oxoade', 'oxidative', 'rudolf', 'interelectrode', 'cancer', 'clinical', 'biopac', 'sensation', 'unpleasant', 'ljubljana', 'subcutaneous', 'eight', 'miklavčič', 'serša', 'mir', 'train', 'rats', 'čemažar', 'sensations', 'tumors', 'amplitudes', 'mice', 'tumor', 'contraction', 'frequencies', 'torque', 'contractions', 'electrochemotherapy', 'tetanic', 'repetition', 'bleomycin', 'hz', 'nm', 'fluorescent', 'trotta', 'mmh', 'excitation', 'osvath', 'centers', 'dye', 'bari', 'okamura', 'tx', 'trace', 'terbutryne', 'pyranine', 'solubilised', 'isaacson', 'regulation', 'khuznetsova', 'tuleshova', 'theoretical', 'external', 'pga', 'phosphate', 'rubp', 'pettersson', 'photosynthesis', 'inorganic', 'concentration', 'concentrations', 'calvin', 'orthophosphate', 'pi', 'cycle', 'cytosol', 'steady', 'metabolites', 'trioses', 'atp', 'stromal', 'agpase', 'triose', 'dpga', 'tacking', 'ratio', 'state', 'starch', 'synthesis', 'tpt', 'tp', 'dependences', 'environ', 'modeling', 'rate', 'modeled', 'lovley', 'biomass', 'sulfurreducens', 'turnover', 'tetrathionate', 'kramers', 'kronig', 'abiotic', 'eis', 'sulonen', 'acidithiobacillus', 'clsm', 'esem', 'exopolysaccharides', 'thiooxidans', 'meza', 'eps', 'eec', 'cis', 'dipolar', 'dipole', 'uncharged', 'dphpc', 'bathed', 'kaulin', 'sign', 'phloretin', 'gurnev', 'charged', 'rh', 'δu', 'schagina', 'malev', 'bathing', 'dope', 'dops', 'gating', 'channel', 'channels', 'sre', 'takemoto', 'δφ', 'syringae', 'syringomycin', 'ketocholestanol', 'intercalation', 'lanes', 'aggregates', 'thalidomide', 'condensation', 'µm', 'µg', 'td', 'dha', 'goyal', 'hydroxyadenine', 'statistically', 'free', 'iron', 'ros', 'rpmi', 'jajte', 'exposed', 'necrosis', 'unexposed', 'mf', 'exposure', 'hne', 'mda', 'rat', 'peroxidation', 'death', 'fluids', 'an', 'saturated', 'novozymes', 'bilirubin', 'aunp', 'aunps', 'shleev', 'zip', 'mpa', 'slb', 'vercoutere', 'sbpa', 'transmembrane', 'staphylococcal', 'unitary', 'deamer', 'weygand', 'sára', 'sslm', 'single', 'folded', 'pum', 'ultrarapid', 'monomers', 'akeson', 'hemolysin', 'αhl', 'schuster', 'kasianowicz', 'bayley', 'sleytr', 'toxin', 'unsupported', 'braha', 'reconstituted', 'reconstitution', 'buenos', 'aires', 'cnt', 'materials', 'bellino', 'soler', 'pore', 'titania', 'ocv', 'agnp', 'illia', 'lifetime', 'mesocellular', 'ordered', 'mesoporous', 'hierarchical', 'omcs', 'omc', 'ner', 'bfc', 'lac', 'bfcs', 'adapted', 'cathodic', 'cp', 'syracuse', 'biocathodic', 'community', 'communities', 'enrichment', 'electrotrophic', 'cultures', 'formate', 'adts', 'kizek', 'cultivation', 'wall', 'cytoplasm', 'bioaccumulation', 'debris', 'yarrowia', 'cobalt', 'cd', 'nickel', 'metallothionein', 'meb', 'ni', 'lipolytica', 'cpsa', 'zinc', 'voltages', 'effect', 'invasive', 'multielectrode', 'pretreated', 'levels', 'cytometry', 'norfolk', 'heller', 'bioelectrics', 'oil', 'each', 'vaccines', 'donate', 'pretreatment', 'ther', 'mtt', 'temperatures', 'electrotransfer', 'delivery', 'gfp', 'expression', 'get', 'gene', 'viability', 'luciferase', 'silica', 'lamellar', 'hu', 'composite', 'electrochemistry', 'pam', 'kroneck', 'norwich', 'metalloprotein', 'centres', 'einsle', 'pfv', 'butt', 'reductase', 'angove', 'anglia', 'hemes', 'richardson', 'hydroxylamine', 'isoelectric', 'iran', 'efficiency', 'mes', 'cheese', 'whey', 'dairy', 'iep', 'stresses', 'output', 'unsaturated', 'coulombic', 'stirling', 'vulgaris', 'bennetto', 'ethanol', 'jung', 'thionin', 'shock', 'shocks', 'ethanolic', 'ingram', 'fatty', 'proteus', 'tanaka', 'appj', 'staining', 'culturable', 'species', 'reactive', 'tba', 'abnc', 'jet', 'live', 'qpcr', 'resuscitation', 'atmospheric', 'lukes', 'lp', 'nonculturable', 'vbnc', 'treated', 'dead', 'inactivation', 'curing', 'gregg', 'crpp', 'bods', 'gallaway', 'durand', 'time', 'flexer', 'circles', 'suraniti', 'pumilus', 'hydrogel', 'drying', 'tsunodae', 'bod', 'mano', 'ns', 'chol', 'qs', 'tsim', 'uthr', 'protocols', 'protocol', 'simulation', 'simulations', 'baths', 'um', 'imbalance', 'md', 'pores', 'threshold', 'msep', 'bangalore', 'facs', 'cfu', 'epidermidis', 'aureus', 'myoblasts', 'eukaryotic', 'pmf', 'hmscs', 'stained', 'sorted', 'buoninsegni', 'eletr', 'pump', 'tadini', 'overshoot', 'jump', 'sarcoplasmic', 'transients', 'reticulum', 'fendler', 'activating', 'inesi', 'bamberg', 'atpase', 'hartung', 'jumps', 'ca', 'pintschovius', 'cuvette', 'li', 'determination', 'miecs', 'pyrrole', 'mil', 'dedoping', 'nip', 'conductive', 'sensor', 'mip', 'prussian', 'estradiol', 'mofs', 'ppy', 'overoxidation', 'molecularly', 'cnts', 'template', 'imprinted', 'polypyrrole', 'uv', 'saeedfar', 'microwave', 'malaysia', 'spes', 'gender', 'ruhex', 'fish', 'arowana', 'spe', 'mwcntcooh', 'mwcnt', 'gnp', 'male', 'cntcooh', 'pdna', 'exogenous', 'saccharomyces', 'adhered', 'replacements', 'kim', 'nhe', 'mediatorless', 'biocatalyst', 'baker', 'hubenova', 'commonwealth', 'hr', 'purified', 'virginia', 'solar', 'energy', 'slide', 'intact', 'ito', 'yehezkeli', 'psi', 'spectroscopic', 'belovolova', 'blodgett', 'coulomb', 'features', 'lifting', 'lb', 'discrete', 'trifonov', 'monolayer', 'khanin', 'yakovenko', 'nanocluster', 'gubin', 'aot', 'khomutov', 'tunneling', 'tunnel', 'soldatov', 'tarek', 'blicher', 'agi', 'ulrih', 'dppc', 'kramar', 'specific', 'blm', 'breakdown', 'aeropyrum', 'melting', 'planar', 'gmajner', 'transition', 'pernix', 'heimburg', 'archaeal', 'polak', 'monophyletic', 'phylogenetic', 'genus', 'inoculum', 'dgge', 'unmodified', 'sequences', 'sequencing', 'performing', 'unclassified', 'proteobacteria', 'me', 'electrocatalytic', 'ardabil', 'pharmaceutical', 'ucpe', 'salophen', 'sumatriptan', 'schiff', 'ua', 'mcpe', 'shahrokhian', 'cosal', 'slbs', 'flcs', 'blms', 'across', 'arrays', 'rm', 'cavities', 'cavity', 'dopc', 'array', 'spanning', 'nigericin', 'microcavity', 'diviès', 'bacteriol', 'dithiothreitol', 'streptococcus', 'disulfide', 'resting', 'konings', 'pts', 'bagramyan', 'kashket', 'lactococcus', 'agents', 'δp', 'zδph', 'dithionite', 'riondet', 'δph', 'δψ', 'lactic', 'lactis', 'dtt', 'cremoris', 'acidification', 'ssp', 'motive', 'lactose', 'polyphasic', 'ccug', 'flavobacteriaceae', 'mollica', 'taxonomic', 'vandamme', 'alteromonas', 'diversity', 'vandecandelaere', 'scores', 'cathodically', 'members', 'microbiol', 'sequence', 'cluster', 'identification', 'clusters', 'gammaproteobacteria', 'alphaproteobacteria', 'bp', 'sediments', 'lmg', 'isolates', 'marine', 'fame', 'firmicutes', 'actinobacteria', 'rrna', 'macleodii', 'ksc', 'ksa', 'emregul', 'pt', 'nanoparticles', 'ankara', 'cmc', 'degussa', 'xanthine', 'carboxymethylcellulose', 'dismutase', 'sod', 'nov', 'microaerophilic', 'alkalimonas', 'azoarcus', 'spirulina', 'anodic', 'orr', 'μм', 'biorecognition', 'substrates', 'responses', 'cerebrospinal', 'solutes', 'pyrox', 'kyiv', 'brain', 'choline', 'lactate', 'kucherenko', 'soldatkin', 'ukraine', 'glutamate', 'acetylcholine', 'phenylenediamine', 'marshall', 'agar', 'tracking', 'vivo', 'vvs', 'collagen', 'front', 'periphery', 'profiles', 'dosages', 'nilsson', 'echt', 'silico', 'vitro', 'virus', 'korea', 'diamidino', 'ruthenium', 'dnr', 'tris', 'hepatitis', 'dox', 'electrogenerated', 'daunorubicin', 'electrochemiluminescence', 'intercalated', 'hole', 'pathogen', 'phenylindole', 'intercalator', 'intercalators', 'thru', 'ecl', 'bpy', 'dapi', 'incubated', 'guanosine', 'adenosine', 'oxoguanine', 'quercetin', 'flavonoids', 'differential', 'gates', 'stainless', 'sintered', 'production', 'load', 'plastidip', 'sac', 'cpd', 'ac', 'cost', 'pva', 'activated', 'methodology', 'chouchane', 'halothermotolerant', 'bbd', 'behnken', 'praevalens', 'djerid', 'rsm', 'cherif', 'size', 'psychrobacter', 'chott', 'hsce', 'erable', 'variables', 'andreou', 'incorporated', 'aflatoxin', 'greece', 'stabilized', 'used', 'piunno', 'preparations', 'seconds', 'minisensor', 'icosanucleotide', 'electrometer', 'atenolol', 'siontorou', 'nikolelis', 'krull', 'tb', 'eedx', 'represented', 'calculations', 'ieα', 'ieh', 'eeβ', 'ee', 'tubules', 'tubule', 'lcm', 'ie', 'eed', 'models', 'eeα', 'pef', 'cereus', 'sastry', 'dipicolinic', 'sleb', 'journal', 'kinetics', 'ohmically', 'wild', 'weibull', 'germination', 'conventional', 'subtilis', 'food', 'setlow', 'ohmic', 'capillaries', 'bacillus', 'endospores', 'interferons', 'cytotoxic', 'back', 'skin', 'biphasic', 'daskalov', 'fungoides', 'malignant', 'peycheva', 'months', 'age', 'patient', 'lesion', 'lesions', 'nc', 'arm', 'tumours', 'cisplatin', 'gluteus', 'pestka', 'mu', 'patients', 'left', 'tumour', 'mycosis', 'interferon', 'right', 'cr', 'oxide', 'fmca', 'chit', 'isomeric', 'kronen', 'afford', 'gräfe', 'semisynthetic', 'sansom', 'destructiva', 'grigoriev', 'neuroleptic', 'peptaibol', 'peptaibols', 'desacetyltryptophanyl', 'ampullosporin', 'formation', 'ampullosporins', 'ampullosporum', 'schlegel', 'sepedonium', 'pigment', 'härtl', 'activities', 'hki', 'hydraulic', 'limiting', 'deff', 'resistance', 'sevda', 'hrt', 'rext', 'sevda_surajbhan_air', 'prausnitz', 'adair', 'astumian', 'weak', 'microconduits', 'weaver', 'ilic', 'understanding', 'transdermal', 'change', 'nonionizing', 'gift', 'competing', 'noise', 'schulten', 'electromagnetic', 'langer', 'chemical', 'vaughan', 'biological', 'wiltschko', 'lohmann', 'immunosensor', 'isotope', 'μl', 'china', 'stoyanov', 'electrochemiluminescent', 'resultant', 'peptide', 'luminol', 'soochow', 'diabetes', 'anti', 'insulin', 'aptms', 'suzhou', 'ng', 'distribution', 'ramos', 'spherical', 'miklavcic', 'pole', 'volumetric', 'bcc', 'fraction', 'alloxan', 'trimethylsilyl', 'deoxyadenosine', 'deoxyribose', 'silylation', 'silylated', 'pge', 'targeting', 'karimi', 'contrast', 'agent', 'foroushani', 'samiei', 'shervedani', 'theranostic', 'drug', 'methotrexate', 'mri', 'isfahan', 'folate', 'mtx', 'paa', 'hanashi', 'kda', 'doi', 'oryzae', 'xylose', 'fadgdh', 'yamaoka', 'shimazaki', 'bcgdhγα', 'ffadgdhs', 'ffadgdh', 'ferri', 'tsugawa', 'sode', 'thermostable', 'γαβ', 'afgdh', 'aspergillus', 'loew', 'derived', 'cepacia', 'subunit', 'kojima', 'bfadgdh', 'yamazaki', 'generated', 'baron', 'minko', 'pita', 'computing', 'privman', 'biocomputing', 'katz', 'switchable', 'gate', 'biochemical', 'boolean', 'reset', 'tam', 'biocatalytic', 'signals', 'logic', 'strack', 'niazov', 'est', 'urea', 'input', 'inv', 'ornatska', 'motornov', 'sodium', 'competitive', 'eka', 'acceptor', 'indicator', 'influent', 'δis', 'mycotoxin', 'fc', 'citrinin', 'mycotoxins', 'río', 'cit', 'cuarto', 'rice', 'granero', 'mo', 'hrp', 'unilamellar', 'pptx', 'flv', 'sucrose', 'vesicle', 'giant', 'cars', 'decrease', 'loss', 'portet', 'microscopy', 'guvs', 'rols', 'guv', 'avi', 'cupric', 'ghaffarinejad', 'δipa', 'epa', 'presence', 'penicillamine', 'firoozabad', 'saracino', 'cpe', 'ipa', 'ceramic', 'xian', 'nekrassova', 'oap', 'amperometry', 'fridman', 'bourke', 'laroussi', 'pressure', 'bhi', 'ohdg', 'cold', 'npn', 'org', 'typhimurium', 'dbd', 'gram', 'values', 'couple', 'qbu', 'ks', 'bu', 'butein', 'tacc', 'cbs', 'trypan', 'jena', 'efficacy', 'lamp', 'coloured', 'protoporphyrin', 'ix', 'photodynamics', 'radeva', 'thiopyronin', 'photosensitive', 'dyes', 'synergism', 'electropulse', 'lambreva', 'berg', 'therapy', 'cytostatic', 'photodynamic', 'irradiation', 'photooxidation', 'impulse', 'daunomycin', 'sensitizers', 'characterisations', 'trauma', 'neurostimulation', 'fractal', 'thin', 'ptoh', 'pto', 'roughened', 'platinum', 'implant', 'foil', 'mcadams', 'roughness', 'cuff', 'faradic', 'sce', 'nitrobenzoic', 'centre', 'polyamidoamine', 'bryszewska', 'rosenberry', 'mallender', 'gorge', 'shcharbin', 'snejdarkova', 'szegletes', 'klajnert', 'ellman', 'acetylthiocholine', 'dendrimer', 'dendrimers', 'pamam', 'excruciating', 'men', 'hofmann', 'erectile', 'anesthesia', 'genetronics', 'who', 'alprostadil', 'ep', 'dysfunction', 'transurethral', 'erection', 'study', 'escalation', 'escalations', 'rabussay', 'tolerable', 'glans', 'subjects', 'penis', 'penile', 'meander', 'pain', 'tolerability', 'hv', 'electro', 'fm', 'pavlin', 'endocytotic', 'endocytosis', 'transfection', 'plasmid', 'wang', 'il', 'liquids', 'ionic', 'bmim', 'hubei', 'organohydrogel', 'cnns', 'cnn', 'xps', 'self', 'terminated', 'assembled', 'phosphonic', 'mppa', 'expulsion', 'mirčeski', 'process', 'organic', 'chloride', 'quentel', 'nb', 'aqueous', 'oct', 'porphyrin', 'tpp', 'kirgoz', 'ramanavicius', 'thienyl', 'conducting', 'tuncagil', 'varis', 'oxydans', 'electrochromic', 'sns', 'gluconobacter', 'timur', 'fluorescens', 'toppare', 'odaci', 'duroquinone', 'sapidus', 'sbc', 'measurement', 'fermentation', 'sakei', 'marxianus', 'bioprocess', 'od', 'gel', 'naf', 'stretches', 'suvs', 'symmetric', 'ssce', 'tilt', 'angle', 'acyl', 'lipkowski', 'chains', 'stretch', 'dominion', 'coverslip', 'reshaping', 'cytoskeleton', 'ibey', 'adonitol', 'actin', 'swelling', 'nspef', 'disassembly', 'ma', 'sizes', 'up', 'beyenal', 'aww', 'vag', 'scale', 'ae', 'raw', 'rw', 'rwa', 'pem', 'bioelectricity', 'microfiltration', 'congo', 'generation', 'degradation', 'co', 'decolorization', 'liquid', 'ft', 'rtils', 'zno', 'cile', 'tca', 'byrd', 'splitting', 'sn', 'clearfield', 'ellipsometric', 'interfaces', 'glycero', 'headgroup', 'dimyristoyl', 'zr', 'data', 'leaflet', 'zp', 'phosphonate', 'adlayer', 'adlayers', 'dmpa', 'zirconium', 'dmpe', 'dmpg', 'burwell', 'decher', 'anzai', 'vinylpyridine', 'pvp', 'layers', 'outermost', 'ct', 'polyanionic', 'polyelectrolyte', 'acetobutylicum', 'coupon', 'deactivated', 'protective', 'coupons', 'steel', 'icorr', 'mild', 'deposit', 'vivianite', 'eoc', 'hydrogenases', 'rp', 'hydrogenase', 'wiegand', 'solutions', 'macrophages', 'titanium', 'etoh', 'jbm', 'dosimeter', 'alloy', 'carolina', 'hassanzadeh', 'biomaterials', 'ta', 'fretting', 'fluorescein', 'terephthalic', 'charleston', 'hydroxyl', 'hydrogen', 'gilbert', 'hta', 'peroxide', 'cocrmo', 'clemson', 'pff', 'parabenzoquinone', 'plane', 'spectroscopy', 'willner', 'dc', 'pbq', 'pd', 'piezoelectric', 'winkler', 'fullerene', 'palladium', 'microgravimetry', 'pristine', 'kutner', 'microbalance', 'cv', 'trimer', 'hetero', 'uric', 'kalimuthu', 'curve', 'analytes', 'positively', 'amt', 'pbs', 'ngounou', 'yl', 'ol', 'electrodeposition', 'imidazolyl', 'acrylamid', 'hex', 'ea', 'library', 'st', 'app', 'paints', 'api', 'epd', 'eph', 'mma', 'dmaea', 'im', 'eha', 'edps', 'edp', 'ba', 'chma', 'orientations', 'lysis', 'sin', 'max', 'spheroidal', 'δϕ', 'semiaxis', 'crbcs', 'gimsa', 'semiaxes', 'crit', 'orientation', 'cos', 'infl', 'bochum', 'analyte', 'reporter', 'cnf', 'pedot', 'miniaturized', 'powered', 'sgdh', 'voltammograms', 'deionised', 'zaks', 'solvent', 'aprotic', 'donors', 'reactions', 'intermediates', 'iwuoha', 'catechol', 'klibanov', 'anhydrous', 'electroenzymatic', 'yaropolov', 'hydroquinone', 'glassy', 'dmso', 'electroreduction', 'solvents', 'induced', 'butyl', 'sickle', 'medium', 'phenazine', 'ataullakhanov', 'kg', 'dehydration', 'hydroperoxide', 'lew', 'oxidants', 'mosm', 'lisovskaya', 'shrinking', 'osmolality', 'rbc', 'osmotic', 'rbcs', 'ascorbate', 'gardos', 'clotrimazole', 'bhp', 'pathogens', 'oczkowski', 'tumefaciens', 'alkalization', 'elicitor', 'tobacco', 'elicitors', 'flagellin', 'mcos', 'ketjen', 'kyoto', 'cueo', 'kb', 'cpes', 'weight', 'miura', 'diffusion', 'tsujimura', 'kamitaka', 'tech', 'slit', 'su', 'mammalian', 'lee', 'operation', 'po', 'fme', 'micropillar', 'micropillars', 'microfluidic', 'ruston', 'flow', 'louisiana', 'bme', 'stripes', 'bigham', 'substituent', 'tanvir', 'ev', 'chlorine', 'galactopyranoside', 'chloro', 'wutor', 'gal', 'sao', 'ulster', 'coliforms', 'fibre', 'chlorophenol', 'naphthoquinone', 'galactosidase', 'cpr', 'cprg', 'supply', 'forces', 'manometer', 'centrifugal', 'deceleration', 'flask', 'gas', 'iwasaka', 'hydrostatic', 'diamagnetic', 'proliferation', 'gradient', 'tube', 'ueno', 'sedimentation', 'mexico', 'electroquímica', 'jh', 'sp', 'geometries', 'jáuregui', 'geometry', 'colima', 'phantom', 'resistivity', 'tecnológico', 'querétaro', 'cie', 'cideteq', 'xml', 'ree', 'electrolyte', 'registered', 'thymine', 'marker', 'aqms', 'pna', 'adducts', 'bipyridine', 'lukášová', 'moving', 'gacr', 'baseline', 'vojtı', 'correction', 'py', 'šková', 'paleček', 'tetroxide', 'bipy', 'hmde', 'tablets', 'soaking', 'tablet', 'umezawa', 'batch', 'tpb', 'fumarate', 'fuma', 'potentiometric', 'pvc', 'zaditen', 'keto', 'ketotifen', 'fia', 'syrup', 'natpb', 'mol', 'alaskensis', 'samples', 'alloys', 'dissolution', 'angles', 'dipping', 'thickness', 'romanszki', 'románszki', 'protection', 'asw', 'contact', 'uncoated', 'coatings', 'cuni', 'adhesion', 'telegdi', 'phenothiazines', 'poznań', 'gligor', 'fluphenazine', 'flu', 'phenothiazine', 'eø', 'budapest', 'mapping', 'shiku', 'wittstock', 'antimony', 'chem', 'nagy', 'mirkin', 'target', 'toth', 'selective', 'horrocks', 'anal', 'lindner', 'scanning', 'tips', 'gyurcsanyi', 'secm', 'ultramicroelectrodes', 'bard', 'feedback', 'cona', 'lectin', 'cps', 'catalytically', 'adt', 'ostatna', 'heyrovsky', 'desorption', 'plavšić', 'dextran', 'bsa', 'ćosović', 'tensammetric', 'biomacromolecules', 'chitosan', 'tmin', 'cher', 'finite', 'relays', 'honeycomb', 'commutation', 'executive', 'ect', 'gms', 'electroporator', 'periodate', 'nanoparticle', 'cystamine', 'ferrocenemethanol', 'dithiol', 'sta', 'nabok', 'retroviral', 'fragments', 'ill', 'spr', 'immune', 'pesa', 'antiserum', 'resonance', 'animals', 'immobilisation', 'wga', 'starodub', 'igg', 'lectins', 'immunised', 'hpa', 'ab', 'pla', 'liposomes', 'platelets', 'platelet', 'greifswald', 'wegener', 'df', 'δr', 'oscillation', 'thrombocytes', 'pzc', 'spreading', 'motional', 'thrombocyte', 'ottova', 'laputkova', 'ferricyanide', 'crowe', 'sabo', 'tien', 'aqs', 'hianik', 'iv', 'ss', 'lukásová', 'ads', 'billova', 'ivc', 'fojta', 'sková', 'iiic', 'havran', 'adscv', 'silkworm', 'odorants', 'nanogold', 'ultrapure', 'insect', 'tianjin', 'kd', 'ra', 'gpcr', 'odorant', 'ligand', 'rl', 'bombykol', 'biogro', 'ndep', 'kcm', 'caspase', 'starved', 'pdep', 'nutrient', 'bortner', 'apoptotic', 'annexin', 'dielectrophoresis', 'subpopulations', 'aad', 'viable', 'dep', 'starvation', 'butanol', 'alanine', 'mihailciuc', 'pti', 'bonciocat', 'gly', 'ala', 'ptii', 'immiscible', 'phi', 'variation', 'spătaru', 'ities', 'wb', 'aluminum', 'device', 'stage', 'electroporators', 'arbitrary', 'compatible', 'delivered', 'lv', 'plating', 'transformer', 'capacitor', 'generator', 'jx', 'forming', 'dimers', 'veatch', 'occupied', 'dimerization', 'phosphatidylcholine', 'pc', 'gd', 'gramicidin', 'gg', 'lysosomes', 'combinations', 'ga', 'recovery', 'acidic', 'blebs', 'blebbing', 'kv', 'electroporated', 'textor', 'brammer', 'schmuki', 'macak', 'gingival', 'mater', 'wettability', 'saliva', 'brunette', 'bone', 'ti', 'demetrescu', 'fusayama', 'untreated', 'surfaces', 'biocompatibility', 'anodizing', 'hgf', 'fibronectin', 'biocomposite', 'nanowires', 'assembly', 'bañeras', 'pous', 'colprim', 'puig', 'driven', 'nosz', 'carboxidovorans', 'denitrifying', 'denitrifiers', 'autotrophic', 'nirk', 'girona', 'bmm', 'nitrous', 'fei', 'emodin', 'mwnt', 'dhp', 'rhein', 'immunohistochemical', 'reflector', 'hematoxylin', 'urol', 'eswl', 'focal', 'cryosections', 'positivity', 'pouckova', 'focused', 'lithotripter', 'benes', 'delius', 'sunka', 'extracorporeal', 'tunel', 'waves', 'lithotripsy', 'fsw', 'cavitation', 'triflumizole', 'agrochemical', 'alanycarb', 'chromatography', 'herbicide', 'azinphos', 'soil', 'sulfonylurea', 'herbicides', 'dpp', 'triasulfuron', 'dam', 'geys', 'casey', 'toxic', 'variations', 'acr', 'ldh', 'pnad', 'tc', 'er', 'technol', 'without', 'leptothrix', 'aeration', 'discophora', 'suspended', 'chlorobi', 'hillen', 'hosseini', 'fuels', 'algae', 'kumamoto', 'braunii', 'color', 'guionet', 'botryococcene', 'hatching', 'var', 'colonies', 'squalene', 'botryococcus', 'af', 'extraction', 'akiyama', 'hydrocarbon', 'showa', 'green', 'microalgae', 'gyorke', 'sylvester', 'ryanodine', 'face', 'ec', 'hand', 'ef', 'cpvt', 'cardiac', 'caffeine', 'ventricular', 'competition', 'luminal', 'gaburjakova', 'sites', 'motif', 'tachycardia', 'around', 'destruction', 'shutdown', 'simulated', 'bicarbonate', 'δcq', 'punches', 'killed', 'inanimate', 'malik', 'exposures', 'vinyl', 'ozone', 'sliding', 'linoleum', 'shielded', 'laminate', 'monoazide', 'pma', 'pcr', 'imidazolium', 'ils', 'intensity', 'perlite', 'inert', 'rhxd', 'hxd', 'brasiliensis', 'lipoperoxidation', 'hexadecane', 'expect', 'increment', 'value', 'krivanek', 'shell', 'swine', 'sound', 'liposome', 'recrystallized', 'velocimetry', 'compressibility', 'coagulans', 'rabbit', 'immunoglobulins', 'ultrasound', 'velocity', 'densitometry', 'melamine', 'electrocatalyst', 'pyridinic', 'porous', 'catalysts', 'electrocatalysts', 'graphitic', 'sichuan', 'foxtail', 'bc', 'nitrogen', 'silver', 'shanxi', 'par', 'gs', 'nonenzymatic', 'agncs', 'spheres', 'pmb', 'mcf', 'pda', 'polymerization', 'glutamic', 'tryptophan', 'sdbs', 'cntpe', 'microsecond', 'trains', 'ganeva', 'pgk', 'eradication', 'duration', 'gapdh', 'electroextraction', 'sd', 'potency', 'carboplatin', 'interincubator', 'safarik', 'doxorubicin', 'vincristine', 'leukemic', 'fluorouracil', 'hannan', 'drugs', 'hl', 'coils', 'antineoplastic', 'adamczyk', 'zeta', 'jachimska', 'latex', 'mica', 'particles', 'microbore', 'beads', 'zeisel', 'acpg', 'chox', 'ramon', 'survivability', 'sbs', 'suppressive', 'number', 'tsuchiya', 'strain', 'ano', 'magnet', 'stationary', 'suppression', 'geomagnetic', 'high', 'okuno', 'superconducting', 'rpos', 'inhomogeneous', 'logarithmic', 'shoda', 'mean', 'cemazar', 'clathrin', 'dynamin', 'melanoma', 'escoffre', 'after', 'slovenia', 'cranialis', 'inhibitor', 'mβcd', 'transfected', 'tibialis', 'transferrin', 'dynasore', 'babanova', 'autoclaved', 'atanassov', 'solids', 'pollutants', 'tributsch', 'pyrite', 'sulfuric', 'hydrometallurgy', 'corr', 'serbia', 'bioleaching', 'inhibited', 'maluckov', 'ferrooxidans', 'rusticyanin', 'aromatic', 'harmful', 'quantitative', 'guanine', 'dianisidine', 'marrazza', 'psickle', 'sickling', 'hba', 'influxes', 'hbs', 'hbsc', 'ghost', 'ghosts', 'hbss', 'pink', 'normal', 'kcc', 'mops', 'tension', 'oxygenated', 'polymerisation', 'gibson', 'white', 'transporters', 'deoxygenated', 'deoxygenation', 'speake', 'mbs', 'hindrance', 'hp', 'car', 'coordination', 'lcsts', 'chain', 'isopropylacrylamide', 'lcst', 'nipa', 'nasi', 'shiroya', 'vi', 'komori', 'kokufuta', 'tatsuma', 'methane', 'district', 'key', 'malvankar', 'biochar', 'liu', 'yantai', 'harbin', 'diet', 'shrestha', 'syntrophic', 'iet', 'zhang', 'rotaru', 'metallireducens', 'kunming', 'interspecies', 'succinate', 'cocultures', 'yunnan', 'resistances', 'rd', 'ld', 'rct', 'rastogi', 'quality', 'bcr', 'ecklonia', 'karez', 'classes', 'table', 'lactuca', 'ulva', 'equilibria', 'aas', 'sorption', 'gupta', 'biomonitoring', 'alga', 'langmuir', 'spirogyra', 'δc', 'isotherm', 'waters', 'biosorption', 'duplicate', 'acclimated', 'srbs', 'lithoautotrophic', 'chester', 'desulfobacterium', 'db', 'electrosynthesis', 'codh', 'dioxide', 'autotrophicum', 'bess', 'local', 'protoplasma', 'amoebic', 'ectoplasm', 'element', 'ectoplasmic', 'matrix', 'lomapam', 'basic', 'contractile', 'contractable', 'rules', 'rhythmic', 'surroundings', 'coded', 'polycephalum', 'streaming', 'physarum', 'actomyosin', 'teplov', 'autowave', 'ij', 'passing', 'endoplasm', 'fluctuation', 'delays', 'kotnik', 'vol', 'irreversible', 'ablation', 'pp', 'ire', 'delay', 'monophasic', 'inter', 'buffers', 'µs', 'baqiyatallah', 'cb', 'mof', 'thiocholine', 'uio', 'paraoxon', 'chai', 'antigen', 'pan', 'yuan', 'mmp', 'tartrate', 'polyaniline', 'metalloproteinase', 'rojkovičová', 'hexoxyphenylcarbamic', 'phenylcarbamic', 'original', 'sera', 'association', 'pharmazie', 'slovak', 'spiked', 'anesthetic', 'vanickova', 'alkoxyphenylcarbamic', 'čižmárik', 'anesthetics', 'labuda', 'vaníčková', 'carbisocaine', 'stuba', 'piperidinoethylester', 'lehotay', 'sk', 'histograms', 'large', 'reb', 'distributions', 'expansion', 'dt', 'creation', 'radii', 'populations', 'population', 'subpopulation', 'radius', 'applied', 'saturation', 'homble', 'krysinki', 'gropp', 'kozono', 'molecular', 'szymanska', 'hirn', 'michalke', 'realization', 'leuchtag', 'kitchen', 'bangham', 'bubbles', 'decade', 'tsong', 'rudin', 'soap', 'genes', 'mfcnr', 'exoelectrogens', 'functional', 'tolumonas', 'methanosaeta', 'metagenomes', 'aeromonas', 'klebsiella', 'nr', 'rhamnolipids', 'rhamnolipid', 'dominant', 'category', 'retrieved', 'heterotrophic', 'nif', 'illumina', 'villa', 'fixation', 'diazotrophs', 'archaea', 'nitrogenase', 'bnf', 'oc', 'davies', 'octanol', 'dm', 'dissociation', 'yata', 'ohshima', 'donnan', 'hydrochloride', 'ionizable', 'quinine', 'nomura', 'piedade', 'brabec', 'janik', 'bendich', 'circa', 'gcde', 'exhaustive', 'vapor', 'slobodkin', 'flavin', 'glycerol', 'positive', 'xiamen', 'fmn', 'megaterium', 'lld', 'exogenetic', 'rf', 'flavins', 'baldrich', 'antibody', 'sandwich', 'deposition', 'lorenzen', 'geesink', 'calpain', 'doumit', 'bratcher', 'longissimus', 'immunosensors', 'mua', 'meat', 'capacitive', 'pra', 'elisa', 'calpastatin', 'berggren', 'tenderness', 'koohmaraie', 'anim', 'haiss', 'polyproline', 'intramolecular', 'transmission', 'acm', 'bonds', 'distance', 'csa', 'ppii', 'isied', 'sek', 'proline', 'helical', 'oligoprolines', 'oligoproline', 'waveguide', 'supplementary', 'deuterium', 'ripple', 'nmr', 'sham', 'lα', 'incident', 'microwaves', 'sample', 'radiation', 'pβ', 'nonthermal', 'antenna', 'mw', 'millimeter', 'sar', 'propelled', 'stop', 'automatic', 'protoplast', 'success', 'cmp', 'saito', 'matsuoka', 'penetration', 'protoplasts', 'es', 'microinjector', 'microinjection', 'meae', 'ly', 'inte', 'positioning', 'pierra', 'godon', 'sscp', 'inocula', 'desulfuromonas', 'electroactive', 'spp', 'yes', 'jmax', 'lag', 'arb', 'acetoxidans', 'selection', 'butyrate', 'geoalkalibacter', 'glk', 'respiring', 'tmp', 'mer', 'mononucleotides', 'oligonucleotide', 'oligonucleotides', 'residues', 'heterooligomers', 'phenotype', 'pili', 'reguera', 'exopolysaccharide', 'deficient', 'pila', 'mutant', 'pilr', 'morgado', 'fto', 'wt', 'yangzhou', 'arrhenius', 'semiconductor', 'poyard', 'rde', 'cosnier', 'shan', 'god', 'bismuth', 'beitollahi', 'de', 'processed', 'casting', 'cast', 'sds', 'ceolín', 'goxaq', 'azzaroni', 'battaglini', 'cortez', 'ospa', 'gisaxs', 'dsaq', 'dsorg', 'mercaptopyrimidine', 'ahmp', 'mpts', 'beer', 'tannic', 'hcl', 'pvuii', 'mch', 'cleavage', 'endonuclease', 'restriction', 'endonucleases', 'meth', 'labels', 'two', 'yu', 'sensing', 'capture', 'tisps', 'duplex', 'chongqing', 'pccm', 'milk', 'kanamycin', 'kan', 'transduction', 'tap', 'assistant', 'network', 'warming', 'morphological', 'fractures', 'hemolysis', 'adult', 'shotton', 'sphere', 'repin', 'hyperthermia', 'aggregation', 'imp', 'fragmentation', 'spectrin', 'fracture', 'testify', 'skeleton', 'imps', 'cord', 'nucleus', 'percentage', 'irregularity', 'fid', 'μs', 'pefs', 'irregular', 'nuclear', 'maleimidocaproyloxy', 'calcein', 'arginine', 'using', 'sugawara', 'moiety', 'permeability', 'upon', 'amyloglucosidase', 'concatenated', 'maltose', 'biocatalyzed', 'inputs', 'ags', 'acetaldehyde', 'mute', 'cultivated', 'melibiosica', 'iees', 'cellular', 'mitov', 'sugars', 'carbohydrate', 'fractions', 'enm', 'bulgaria', 'oxaloacetate', 'glyoxylate', 'malate', 'mdh', 'pontinha', 'conjugates', 'neidle', 'acridine', 'telomerase', 'telomeric', 'quadruplex', 'triazole', 'chikae', 'mutagenesis', 'active', 'kerman', 'substitutions', 'masarik', 'mutants', 'mosaic', 'nedecký', 'schulze', 'ruttkay', 'ruttkaynedecky', 'tmv', 'nanostructures', 'cserum', 'care', 'disk', 'roche', 'pth', 'hormone', 'yagati', 'parathyroid', 'nanostructured', 'rr', 'cobas', 'poc', 'injections', 'allosteric', 'permselective', 'overoxidized', 'injection', 'guerrieri', 'crosslinking', 'oppy', 'lys', 'lo', 'lysine', 'hybrid', 'complementary', 'mismatched', 'microfibers', 'nws', 'microfiber', 'µl', 'duplexes', 'laschi', 'mirna', 'palchetti', 'rna', 'lna', 'biotinylated', 'assay', 'tm', 'probes', 'streptavidin', 'strept', 'ferrocene', 'monocarboxylic', 'templated', 'groenendaal', 'ethylenedioxythiophene', 'δep', 'nile', 'cf', 'coating', 'triangle', 'cvd', 'carbide', 'northwest', 'tic', 'donath', 'friction', 'electrorotation', 'conductivities', 'speed', 'brahm', 'rotation', 'hrbcs', 'dids', 'ewen', 'hannemann', 'tween', 'shift', 'ferredoxins', 'ferredoxin', 'carboxymethyl', 'epg', 'cyp', 'adx', 'smc', 'times', 'brazil', 'solubilization', 'leaching', 'chalcopyrite', 'sulphur', 'sulphides', 'lr', 'bevilaqua', 'thiobacillus', 'nitrospirae', 'nitrospiraceae', 'sediment', 'se', 'immersion', 'grain', 'solidification', 'tcp', 'sbf', 'cooling', 'microstructure', 'magnesium', 'neg', 'ogliastra', 'gasperini', 'adults', 'occurrence', 'milano', 'wg', 'syndromes', 'ivs', 'mosca', 'perseu', 'reference', 'cases', 'maggio', 'carriers', 'giambona', 'borderline', 'ifcc', 'thalassemia', 'thal', 'standardization', 'retrospective', 'phenotypes', 'globin', 'galanello', 'fl', 'palermo', 'cohorts', 'cagliari', 'mutations', 'mcv', 'beta', 'paleari', 'prevalence', 'convection', 'localized', 'ldr', 'ir', 'region', 'rise', 'sc', 'ltr', 'video', 'detector', 'stripped', 'tlc', 'licristal', 'kalatzis', 'blocking', 'agullo', 'rennes', 'situ', 'pyridine', 'aminopyridine', 'cations', 'ppf', 'diazotization', 'diazopyridinium', 'proteomics', 'amalgam', 'step', 'yosypchuk', 'gdmcl', 'denbsa', 'denatured', 'denaturation', 'saes', 'natbsa', 'msae', 'catecholamine', 'dmem', 'spc', 'ht', 'secretion', 'nicotine', 'epinephrine', 'colon', 'colorectal', 'planktonic', 'biores', 'ireland', 'slaughterhouse', 'vfa', 'brno', 'vacek', 'somatic', 'petrek', 'mobile', 'petrlova', 'spruce', 'photographic', 'embryos', 'brdicka', 'glutathione', 'potesil', 'μmol', 'prusa', 'influence', 'mikelova', 'thiols', 'zehnalek', 'eses', 'emulsion', 'adam', 'havel', 'klejdus', 'khs', 'basolateral', 'cftr', 'cftrinh', 'lewenstam', 'glybenclamide', 'forskolin', 'transcellular', 'blocker', 'apical', 'epithelial', 'paracellular', 'ises', 'imb', 'phenolic', 'thiolated', 'cnm', 'microelectrode', 'ultramicroelectrode', 'microelectrodes', 'orozco', 'dtsp', 'umeas', 'umea', 'spectroelectrochemistry', 'aga', 'electrodeposited', 'epge', 'dpca', 'np', 'bpge', 'barek', 'ligmajer', 'agaps', 'agap', 'tvrdikova', 'vyskocil', 'odn', 'nitrophenol', 'danhel', 'monoamines', 'visentin', 'assayed', 'filtration', 'immo', 'liver', 'benzylamine', 'mao', 'isatin', 'stress', 'monoamine', 'obata', 'medvedev', 'endogenous', 'vo', 'sephadex', 'emi', 'medicine', 'firefly', 'ivis', 'concentric', 'kung', 'neo', 'city', 'taipei', 'taiwan', 'btx', 'kaestner', 'ntuh', 'zebrafish', 'trapping', 'dau', 'vredenberg', 'panel', 'fo', 'bulychev', 'recombination', 'oec', 'vmc', 'pheqa', 'photochemical', 'quenching', 'induction', 'pair', 'initial', 'coefficients', 'quadratic', 'ovat', 'method', 'adj', 'hydrolysis', 'chemometric', 'deyhimi', 'ise', 'krajewska', 'urease', 'babolsar', 'deferoxamine', 'mazandaran', 'damaging', 'fenton', 'spge', 'dfo', 'hojman', 'gothelf', 'dermis', 'lacz', 'copenhagen', 'porcine', 'rpe', 'edges', 'bier', 'gradients', 'wenger', 'dielectrophoretically', 'hölzel', 'interdigitated', 'ide', 'dielectrophoretic', 'manipulation', 'pethig', 'laux', 'aceo', 'washizu', 'electrokinetics', 'electrokinetic', 'quadrupole', 'fabrication', 'impedimetric', 'nanofibers', 'purposed', 'tehran', 'sharif', 'cnfs', 'staphylococcus', 'cnps', 'electrophoretic', 'isoform', 'shahraki', 'tanford', 'tetracaine', 'tet', 'protonated', 'bovine', 'lactoglobulin', 'itc', 'barrel', 'lgb', 'docking', 'loch', 'lukachova', 'acetaminophen', 'dab', 'uncovered', 'operational', 'diaminobenzene', 'curulli', 'karyakina', 'karyakin', 'nonconducting', 'selectivity', 'gorton', 'mullite', 'struvite', 'feedstock', 'stacks', 'stack', 'feiii', 'capsule', 'murthy', 'colloidal', 'gnacs', 'capsules', 'benzyl', 'terminally', 'cyst', 'dhn', 'fouling', 'nicotinamide', 'leduc', 'dihydronicotinamide', 'blot', 'putative', 'downregulated', 'northern', 'leang', 'outer', 'xls', 'microarray', 'omcc', 'nde', 'primers', 'hypothetical', 'transcript', 'qrt', 'omcb', 'omce', 'omcf', 'operon', 'crystals', 'rnasezap', 'depc', 'mascini', 'reproducibility', 'immobilised', 'luzi', 'tombelli', 'has', 'aptasensors', 'been', 'biacore', 'hiv', 'tar', 'tat', 'ppm', 'licoccia', 'vulcan', 'cdl', 'hydrothermal', 'iannaci', 'serov', 'tabriz', 'mno', 'mecheri', 'epifanio', 'kodali', 'phytic', 'marken', 'mckenzie', 'porotrode', 'sputter', 'phytate', 'porotrodes', 'nevada', 'photomicrographs', 'retrieval', 'chatterjee', 'reno', 'adrenal', 'bss', 'chromaffin', 'craviso', 'swell', 'nep', 'neps', 'jurkat', 'a_o', 'oligo', 'nuclease', 'labelled', 'ihara', 'takenaka', 'ethyl', 'equiv', 'ureido', 'digestion', 'benzoic', 'berkel', 'conjugate', 'digest', 'ottle', 'hemoproteins', 'mpix', 'rumb', 'rumpix', 'decarbonylation', 'myoglobins', 'hemin', 'mesoporphyrin', 'apomyoglobin', 'normalized', 'resealed', 'glutaraldehyde', 'suspensions', 'deformability', 'thermograms', 'ivanov', 'diamide', 'undermembrane', 'kuvichkin', 'podobed', 'complement', 'dotma', 'liposomal', 'polycations', 'helper', 'lasic', 'lipoplexes', 'genosomes', 'zhdanov', 'lipoplex', 'felgner', 'viral', 'derivatives', 'ludwig', 'cooperativity', 'cua', 'menten', 'paracoccus', 'denitrificans', 'heering', 'woolf', 'hanes', 'components', 'michaelis', 'hofstee', 'eadie', 'deconvolution', 'deds', 'gonon', 'adams', 'dth', 'justice', 'andersson', 'recognition', 'mosbach', 'matsui', 'myo', 'tsm', 'nic', 'imprinting', 'cot', 'sporomusa', 'ovata', 'jourdin', 'aryal', 'cuf', 'foam', 'mmol', 'wuhan', 'epcu', 'tremblay', 'denmark', 'go', 'gm', 'garner', 'oligoelectrolytes', 'headspace', 'bazan', 'mec', 'addition', 'oligoelectrolyte', 'dsbn', 'mecs', 'conjugated', 'coes', 'coe', 'dilute', 'transformation', 'papadopoulos', 'retter', 'herman', 'temerk', 'physisorbed', 'electroanal', 'ib', 'buess', 'wandlowski', 'cytidine', 'vetterl', 'condensed', 'pit', 'nucleation', 'donner', 'uracil', 'ctc', 'phenanthroline', 'hbv', 'dmp', 'naoac', 'hoac', 'plasmon', 'regeneration', 'digested', 'spreeta', 'derivatised', 'genomic', 'thiol', 'hybridisation', 'amplified', 'baranowska', 'furosemide', 'paracetamol', 'calibration', 'sceq', 'sat', 'recoveries', 'cefazolin', 'dipyrone', 'analysed', 'lle', 'agclp', 'fur', 'dpr', 'cfz', 'jωt', 'vallejo', 'gervasi', 'vilche', 'fa', 'δθ', 'steinem', 'chemotherapy', 'gastrointestinal', 'glycoprotein', 'mdr', 'murine', 'necrotic', 'kulbacka', 'carcinoma', 'gastric', 'lovodx', 'lovo', 'gp', 'rer', 'adenocarcinoma', 'rdb', 'wroclaw', 'which', 'sparging', 'stressed', 'inhibitory', 'yeasts', 'fermentative', 'catabolic', 'tolerance', 'menadione', 'mediated', 'respirometry', 'accumulations', 'dombek', 'ferrocyanide', 'ability', 'glycolytic', 'within', 'velikonja', 'groups', 'kralj', 'poisson', 'counter', 'edl', 'carboxylate', 'langevin', 'iglič', 'gongadze', 'vicinity', 'spatial', 'pops', 'negatively', 'probability', 'mlpb', 'boltzmann', 'head', 'gandia', 'secretory', 'neurotransmitter', 'powerline', 'stimulated', 'merritt', 'bioelectromagnetics', 'dmpp', 'epi', 'bay', 'nicotinic', 'mfs', 'ne', 'strength', 'media', 'containing', 'fura', 'foder', 'cam', 'nonselective', 'interphase', 'becucci', 'extrathermodynamic', 'moncelli', 'uq', 'monophosphate', 'purine', 'hxr', 'hypoxanthine', 'inosine', 'contacts', 'yields', 'cmra', 'cmfda', 'fusogenic', 'fused', 'adherence', 'pncs', 'hypotonic', 'first', 'kohler', 'biocomposites', 'msm', 'telefoncu', 'céspedes', 'geces', 'waste', 'pazarlıoğlu', 'cespedes', 'fàbregas', 'merkoçi', 'gece', 'epoxy', 'alegret', 'putida', 'phenol', 'nazaruk', 'tga', 'dresselhaus', 'amine', 'ends', 'derivatized', 'sidewalls', 'ig', 'swcnts', 'covalent', 'movement', 'reduced', 'energetic', 'coupling', 'belousov', 'bond', 'schrödinger', 'it', 'singly', 'excited', 'poltev', 'aminoacids', 'twice', 'atom', 'space', 'pq', 'kukushkin', 'pqb', 'intratumoral', 'changing', 'crossed', 'sersa', 'lpb', 'pcmvluc', 'uni', 'pegfp', 'polarities', 'figaszewski', 'ah', 'dobrzynska', 'skrzydlewska', 'intoxicated', 'intoxication', 'alcohol', 'bcl', 'ana', 'tea', 'administering', 'boh', 'bialystok', 'transformations', 'sphingosine', 'polyanions', 'brownian', 'polyacrylic', 'sopc', 'locally', 'hoechst', 'endosomes', 'angelova', 'mother', 'kinnunen', 'topology', 'endo', 'endosome', 'super', 'asymmetries', 'sph', 'injected', 'kbp', 'heparin', 'ethylmaleimide', 'niger', 'thiolation', 'polymaleimidostyrene', 'sheet', 'nem', 'sulfydryl', 'sulfhydryl', 'uchiyama', 'maleimide', 'lapaix', 'deformation', 'staines', 'depression', 'bennekou', 'physiol', 'recordings', 'flufenamic', 'whole', 'currents', 'pipette', 'lang', 'patch', 'camp', 'chicken', 'ringer', 'egee', 'nmdg', 'nsc', 'granular', 'polyp', 'mbg', 'judged', 'fibrillar', 'loading', 'fiber', 'nicolini', 'scatchard', 'support', 'phosphorothioate', 'δg', 'mps', 'into', 'immersed', 'ethylene', 'electrostatic', 'loaded', 'pdda', 'lvov', 'peg', 'lerman', 'hypochromism', 'phendione', 'dap', 'discrimination', 'absorption', 'polypyridyl', 'traces', 'pass', 'imposed', 'fluctuations', 'noisy', 'biomembrane', 'excitable', 'mereuta', 'periodic', 'artificial', 'holding', 'admittance', 'alamethicin', 'luchian', 'stochastic', 'stimulus', 'oligomers', 'stimuli', 'replacement', 'deuterons', 'knox', 'primary', 'cryosolvents', 'exchangeable', 'fin', 'center', 'bchl', 'bacteriochlorophyll', 'bphl', 'rb', 'rubin', 'renger', 'paschenko', 'direction', 'tethers', 'msc', 'reorient', 'multiphoton', 'fibroblast', 'electrocoupling', 'fibers', 'integrin', 'tether', 'scaffold', 'reorientation', 'mscs', 'fibroblasts', 'triglycerides', 'struchkov', 'phosphatidylethanolamine', 'loach', 'esters', 'pool', 'tightly', 'pools', 'ehrlich', 'ascites', 'manzoli', 'bound', 'cardiolipin', 'zajdel', 'ussr', 'neutral', 'loosely', 'hepatoma', 'phage', 'chromatin', 'strazhevskaya', 'composition', 'diglycerides', 'measurements', 'multiplexer', 'inductors', 'biopharmaceutical', 'pca', 'biotechn', 'bioreactor', 'bioreactors', 'resonances', 'quantitation', 'multivariate', 'potyrailo', 'resonant', 'multivariable', 'cervantes', 'textile', 'biogenic', 'thresholds', 'undifferentiated', 'hodgkin', 'gated', 'huxley', 'lapicque', 'differentiated', 'depolarization', 'pmpi', 'berendsen', 'micelles', 'micelle', 'neumann', 'joshi', 'would', 'proposed', 'ilam', 'shahdostfard', 'synthesized', 'strategy', 'ibp', 'ibuprofen', 'dots', 'gqds', 'roushani', 'quantum', 'apt', 'aptasensing', 'fard', 'shahdost', 'gqd', 'farias', 'abbaspour', 'lsvs', 'mejare', 'barstow', 'voet', 'stearothermophilus', 'tags', 'tagged', 'wigley', 'bartlett', 'tag', 'halliwell', 'concommitant', 'hexahistidine', 'nhis', 'pvs', 'chis', 'pani', 'ccys', 'lipase', 'npg', 'reprinted', 'dealloying', 'dealloyed', 'nanoporous', 'ding', 'macroporous', 'permission', 'magner', 'erlebacher', 'noncomplementary', 'oligog', 'ethylenediamine', 'bar', 'stearic', 'denardis', 'states', 'mechanical', 'event', 'ivošević', 'žutić', 'svetličić', 'transient', 'exp', 'skirt', 'cap', 'salanti', 'staalsoe', 'epitopes', 'women', 'genetic', 'constructs', 'paris', 'infected', 'nts', 'vaccination', 'titer', 'malaria', 'plasmodium', 'falciparum', 'immunization', 'immunizations', 'ies', 'placental', 'parasites', 'parasite', 'baumann', 'reductive', 'pyo', 'rectification', 'signatures', 'bentley', 'payne', 'cycling', 'outputs', 'information', 'gmucová', 'barancok', 'laponite', 'clay', 'thurzo', 'dsvcm', 'memory', 'voltcoulometry', 'polythiophene', 'suresh', 'nethravathi', 'fgge', 'manjunatha', 'india', 'behavior', 'ternary', 'cscl', 'rbcl', 'sublevels', 'streptomyces', 'macrodiolide', 'antibiotic', 'dwell', 'substate', 'elaiophylin', 'hydrog', 'cloth', 'ariel', 'her', 'ijhydene', 'synthetized', 'cc', 'sauletekio', 'externalisation', 'metacaspase', 'vilnius', 'pcd', 'madeo', 'nspefs', 'metacaspases', 'irradiations', 'slope', 'atun', 'ln', 'irradiated', 'quanta', 'tac', 'decomposition', 'straight', 'chlorides', 'deprotection', 'linker', 'mp', 'dihydroxybenzene', 'pinson', 'boc', 'eda', 'linkers', 'dihydroxybenzenes', 'mohammad', 'mojtaba', 'nanowire', 'mnox', 'mnoxnwc', 'abdollah', 'rational', 'notatin', 'courjean', 'amagasakiense', 'notatum', 'penicillium', 'kalisz', 'pymol', 'goxs', 'fukui', 'homo', 'oilfield', 'lumo', 'mulliken', 'pdp', 'efm', 'wl', 'mel', 'indole', 'melatonin', 'tothboconadi', 'szeged', 'illuminations', 'boconádi', 'dried', 'ormos', 'laser', 'flash', 'dér', 'pers', 'hungarian', 'keszthelyi', 'lifetimes', 'ground', 'wtbr', 'contactless', 'cytokine', 'cytokines', 'emf', 'lithuania', 'thymocytes', 'novickij', 'splenocytes', 'ex', 'pss', 'unpurified', 'trefulka', 'mpo', 'mannan', 'ols', 'vertex', 'tmen', 'oligosaccharides', 'olss', 'adduct', 'doc', 'polysaccharides', 'viii', 'spain', 'bacto', 'ypd', 'repair', 'laboratories', 'teatinos', 'sinusoidal', 'nakasono', 'motta', 'friedl', 'uma', 'ahlbom', 'malaga', 'epidemiological', 'mehedintu', 'chlorination', 'rse', 'marinobacter', 'antifouling', 'tnsw', 'nsw', 'cristiani', 'portsmouth', 'ltnsw', 'biox', 'condenser', 'brass', 'germanium', 'wagging', 'vibration', 'multibilayer', 'ratios', 'bands', 'kt', 'moments', 'exerting', 'nonpolar', 'atr', 'dipoles', 'polar', 'mig', 'planck', 'separator', 'compartment', 'exchange', 'environment', 'rt', 'morphology', 'nrb', 'pipeline', 'sterile', 'pitting', 'sem', 'kulkarni', 'cytocompatibility', 'filopodia', 'wca', 'nanotubular', 'autoclave', 'sterilized', 'osteoblast', 'hob', 'plain', 'sterilization', 'nt', 'motility', 'metastasis', 'lamellipodia', 'lung', 'cscs', 'saccs', 'healing', 'electrotaxis', 'electrotactic', 'kong', 'hong', 'wound', 'stem', 'dcef']\n"
     ]
    }
   ],
   "source": [
    "words = good_words(mat,vocab,50,5000)\n",
    "print(words)"
   ]
  },
  {
   "cell_type": "code",
   "execution_count": null,
   "metadata": {},
   "outputs": [],
   "source": [
    "import nltk\n",
    "tagged_words = nltk.pos_tag(words)\n",
    "print(tagged_words)\n",
    "nltk.download('tagsets') #to view different POS tags\n",
    "nltk.help.upenn_tagset()\n"
   ]
  },
  {
   "cell_type": "code",
   "execution_count": null,
   "metadata": {},
   "outputs": [],
   "source": [
    "filtered_list = []\n",
    "for i in range(len(tagged_words)):\n",
    "    word = tagged_words[i][0]\n",
    "    tag = tagged_words[i][1]\n",
    "    if tag == 'JJ':\n",
    "        filtered_list.append(word)\n",
    "    elif tag == 'JJR':\n",
    "        filtered_list.append(word)\n",
    "    elif tag == 'JJS':\n",
    "        filtered_list.append(word)\n",
    "print(filtered_list)"
   ]
  },
  {
   "cell_type": "code",
   "execution_count": null,
   "metadata": {},
   "outputs": [],
   "source": []
  }
 ],
 "metadata": {
  "kernelspec": {
   "display_name": "Python 3",
   "language": "python",
   "name": "python3"
  },
  "language_info": {
   "codemirror_mode": {
    "name": "ipython",
    "version": 3
   },
   "file_extension": ".py",
   "mimetype": "text/x-python",
   "name": "python",
   "nbconvert_exporter": "python",
   "pygments_lexer": "ipython3",
   "version": "3.7.3"
  }
 },
 "nbformat": 4,
 "nbformat_minor": 4
}
