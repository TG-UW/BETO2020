{
 "cells": [
  {
   "cell_type": "code",
   "execution_count": 1,
   "metadata": {},
   "outputs": [
    {
     "data": {
      "text/plain": [
       "<torch._C.Generator at 0x1a26985e90>"
      ]
     },
     "execution_count": 1,
     "metadata": {},
     "output_type": "execute_result"
    }
   ],
   "source": [
    "import os\n",
    "import sys\n",
    "import json\n",
    "import pandas as pd\n",
    "import numpy as np\n",
    "import matplotlib.pyplot as plt\n",
    "from sklearn.model_selection import train_test_split\n",
    "from sklearn.metrics import confusion_matrix\n",
    "import torch\n",
    "from torch.utils.data import TensorDataset, DataLoader\n",
    "from tqdm import tqdm\n",
    "\n",
    "%load_ext autoreload\n",
    "%matplotlib inline\n",
    "\n",
    "module_path = os.path.abspath(os.path.join('./syn_ant_modules'))\n",
    "if module_path not in sys.path:\n",
    "    sys.path.append(module_path)\n",
    "import model_dataset as dataset \n",
    "import model_functions_PhaseI as functions\n",
    "import model_morphology as morpho\n",
    "import model_testing_PhaseI as test \n",
    "import model_training_PhaseI as train\n",
    "\n",
    "torch.manual_seed(28)"
   ]
  },
  {
   "cell_type": "code",
   "execution_count": 2,
   "metadata": {},
   "outputs": [
    {
     "data": {
      "text/html": [
       "<div>\n",
       "<style scoped>\n",
       "    .dataframe tbody tr th:only-of-type {\n",
       "        vertical-align: middle;\n",
       "    }\n",
       "\n",
       "    .dataframe tbody tr th {\n",
       "        vertical-align: top;\n",
       "    }\n",
       "\n",
       "    .dataframe thead th {\n",
       "        text-align: right;\n",
       "    }\n",
       "</style>\n",
       "<table border=\"1\" class=\"dataframe\">\n",
       "  <thead>\n",
       "    <tr style=\"text-align: right;\">\n",
       "      <th></th>\n",
       "      <th>word 1</th>\n",
       "      <th>word 2</th>\n",
       "      <th>label</th>\n",
       "    </tr>\n",
       "  </thead>\n",
       "  <tbody>\n",
       "    <tr>\n",
       "      <th>0</th>\n",
       "      <td>infinite</td>\n",
       "      <td>bounded</td>\n",
       "      <td>2</td>\n",
       "    </tr>\n",
       "    <tr>\n",
       "      <th>1</th>\n",
       "      <td>infinite</td>\n",
       "      <td>brief</td>\n",
       "      <td>2</td>\n",
       "    </tr>\n",
       "    <tr>\n",
       "      <th>2</th>\n",
       "      <td>infinite</td>\n",
       "      <td>calculable</td>\n",
       "      <td>0</td>\n",
       "    </tr>\n",
       "    <tr>\n",
       "      <th>3</th>\n",
       "      <td>infinite</td>\n",
       "      <td>ceasing</td>\n",
       "      <td>2</td>\n",
       "    </tr>\n",
       "    <tr>\n",
       "      <th>4</th>\n",
       "      <td>infinite</td>\n",
       "      <td>ending</td>\n",
       "      <td>2</td>\n",
       "    </tr>\n",
       "    <tr>\n",
       "      <th>...</th>\n",
       "      <td>...</td>\n",
       "      <td>...</td>\n",
       "      <td>...</td>\n",
       "    </tr>\n",
       "    <tr>\n",
       "      <th>14232</th>\n",
       "      <td>charm</td>\n",
       "      <td>fascinate</td>\n",
       "      <td>1</td>\n",
       "    </tr>\n",
       "    <tr>\n",
       "      <th>14233</th>\n",
       "      <td>charm</td>\n",
       "      <td>magical spell</td>\n",
       "      <td>1</td>\n",
       "    </tr>\n",
       "    <tr>\n",
       "      <th>14234</th>\n",
       "      <td>charm</td>\n",
       "      <td>appealingness</td>\n",
       "      <td>1</td>\n",
       "    </tr>\n",
       "    <tr>\n",
       "      <th>14235</th>\n",
       "      <td>charm</td>\n",
       "      <td>enchant</td>\n",
       "      <td>1</td>\n",
       "    </tr>\n",
       "    <tr>\n",
       "      <th>14236</th>\n",
       "      <td>embodying</td>\n",
       "      <td>substantiate</td>\n",
       "      <td>1</td>\n",
       "    </tr>\n",
       "  </tbody>\n",
       "</table>\n",
       "<p>14237 rows × 3 columns</p>\n",
       "</div>"
      ],
      "text/plain": [
       "          word 1         word 2  label\n",
       "0       infinite        bounded      2\n",
       "1       infinite          brief      2\n",
       "2       infinite     calculable      0\n",
       "3       infinite        ceasing      2\n",
       "4       infinite         ending      2\n",
       "...          ...            ...    ...\n",
       "14232      charm      fascinate      1\n",
       "14233      charm  magical spell      1\n",
       "14234      charm  appealingness      1\n",
       "14235      charm        enchant      1\n",
       "14236  embodying   substantiate      1\n",
       "\n",
       "[14237 rows x 3 columns]"
      ]
     },
     "execution_count": 2,
     "metadata": {},
     "output_type": "execute_result"
    }
   ],
   "source": [
    "word_pairs_df = pd.read_excel('/Users/wesleytatum/Desktop/post_doc/BETO/BETO2020/Ant_Syn_Scraping/data/new_syn_ant_list.xlsx')\n",
    "word_pairs_df = word_pairs_df.drop('Unnamed: 0', axis = 1)\n",
    "word_pairs_df"
   ]
  },
  {
   "cell_type": "code",
   "execution_count": 3,
   "metadata": {},
   "outputs": [
    {
     "data": {
      "text/plain": [
       "1    6535\n",
       "0    4699\n",
       "2    3003\n",
       "Name: label, dtype: int64"
      ]
     },
     "execution_count": 3,
     "metadata": {},
     "output_type": "execute_result"
    }
   ],
   "source": [
    "word_pairs_df['label'].value_counts()"
   ]
  },
  {
   "cell_type": "code",
   "execution_count": 3,
   "metadata": {},
   "outputs": [
    {
     "name": "stderr",
     "output_type": "stream",
     "text": [
      "100%|█████████▉| 14208/14237 [00:48<00:00, 356.34it/s]"
     ]
    },
    {
     "name": "stdout",
     "output_type": "stream",
     "text": [
      "word 1    terminal\n",
      "word 2       False\n",
      "label            0\n",
      "Name: 405, dtype: object\n",
      "word 1    right\n",
      "word 2    False\n",
      "label         0\n",
      "Name: 452, dtype: object\n",
      "word 1    right\n",
      "word 2        1\n",
      "label         0\n",
      "Name: 514, dtype: object\n",
      "word 1    pseudo\n",
      "word 2         1\n",
      "label          2\n",
      "Name: 6331, dtype: object\n",
      "word 1    pseudo\n",
      "word 2     False\n",
      "label          1\n",
      "Name: 6348, dtype: object\n"
     ]
    },
    {
     "name": "stderr",
     "output_type": "stream",
     "text": [
      "100%|██████████| 14237/14237 [01:00<00:00, 356.34it/s]"
     ]
    }
   ],
   "source": [
    "indices = pd.DataFrame(columns = ['index', 'word'])\n",
    "\n",
    "index = 0\n",
    "bad_indexs = []\n",
    "\n",
    "pbar = tqdm(total = len(word_pairs_df), position = 0)\n",
    "\n",
    "string = 'string'\n",
    "\n",
    "for i in range(len(word_pairs_df)):\n",
    "    \n",
    "    word1 = word_pairs_df['word 1'].iloc[i]\n",
    "    word2 = word_pairs_df['word 2'].iloc[i]\n",
    "    \n",
    "    if len(indices[indices.word.isin([word1])]) == 0:\n",
    "        if type(word1) == type(string):\n",
    "            indices.loc[index] = pd.Series({'index':index, 'word':word1})\n",
    "            index+=1\n",
    "        else:\n",
    "            bad_indexs.append(i)\n",
    "    else:\n",
    "        pass\n",
    "    \n",
    "    if len(indices[indices.word.isin([word2])]) == 0:\n",
    "        if type(word2) == type(string):\n",
    "            indices.loc[index] = pd.Series({'index':index, 'word':word2})\n",
    "            index+=1\n",
    "        else:\n",
    "            bad_indexs.append(i)\n",
    "    else:\n",
    "        pass\n",
    "    \n",
    "    pbar.update()\n",
    "    \n",
    "for idx in bad_indexs:\n",
    "    print(word_pairs_df.iloc[idx])"
   ]
  },
  {
   "cell_type": "code",
   "execution_count": 4,
   "metadata": {},
   "outputs": [],
   "source": [
    "word_pairs_df = word_pairs_df.drop(bad_indexs)\n",
    "word_pairs_df = word_pairs_df.reset_index(drop = True)\n",
    "word_pairs_df.to_excel('/Users/wesleytatum/Desktop/post_doc/BETO/BETO2020/Ant_Syn_Scraping/data/new_syn_ant_list.xlsx')"
   ]
  },
  {
   "cell_type": "code",
   "execution_count": 6,
   "metadata": {},
   "outputs": [
    {
     "data": {
      "text/html": [
       "<div>\n",
       "<style scoped>\n",
       "    .dataframe tbody tr th:only-of-type {\n",
       "        vertical-align: middle;\n",
       "    }\n",
       "\n",
       "    .dataframe tbody tr th {\n",
       "        vertical-align: top;\n",
       "    }\n",
       "\n",
       "    .dataframe thead th {\n",
       "        text-align: right;\n",
       "    }\n",
       "</style>\n",
       "<table border=\"1\" class=\"dataframe\">\n",
       "  <thead>\n",
       "    <tr style=\"text-align: right;\">\n",
       "      <th></th>\n",
       "      <th>index</th>\n",
       "      <th>word</th>\n",
       "    </tr>\n",
       "  </thead>\n",
       "  <tbody>\n",
       "    <tr>\n",
       "      <th>0</th>\n",
       "      <td>0</td>\n",
       "      <td>infinite</td>\n",
       "    </tr>\n",
       "    <tr>\n",
       "      <th>1</th>\n",
       "      <td>1</td>\n",
       "      <td>bounded</td>\n",
       "    </tr>\n",
       "    <tr>\n",
       "      <th>2</th>\n",
       "      <td>2</td>\n",
       "      <td>brief</td>\n",
       "    </tr>\n",
       "    <tr>\n",
       "      <th>3</th>\n",
       "      <td>3</td>\n",
       "      <td>calculable</td>\n",
       "    </tr>\n",
       "    <tr>\n",
       "      <th>4</th>\n",
       "      <td>4</td>\n",
       "      <td>ceasing</td>\n",
       "    </tr>\n",
       "    <tr>\n",
       "      <th>...</th>\n",
       "      <td>...</td>\n",
       "      <td>...</td>\n",
       "    </tr>\n",
       "    <tr>\n",
       "      <th>9038</th>\n",
       "      <td>9038</td>\n",
       "      <td>magical spell</td>\n",
       "    </tr>\n",
       "    <tr>\n",
       "      <th>9039</th>\n",
       "      <td>9039</td>\n",
       "      <td>appealingness</td>\n",
       "    </tr>\n",
       "    <tr>\n",
       "      <th>9040</th>\n",
       "      <td>9040</td>\n",
       "      <td>enchant</td>\n",
       "    </tr>\n",
       "    <tr>\n",
       "      <th>9041</th>\n",
       "      <td>9041</td>\n",
       "      <td>embodying</td>\n",
       "    </tr>\n",
       "    <tr>\n",
       "      <th>9042</th>\n",
       "      <td>9042</td>\n",
       "      <td>substantiate</td>\n",
       "    </tr>\n",
       "  </tbody>\n",
       "</table>\n",
       "<p>9043 rows × 2 columns</p>\n",
       "</div>"
      ],
      "text/plain": [
       "     index           word\n",
       "0        0       infinite\n",
       "1        1        bounded\n",
       "2        2          brief\n",
       "3        3     calculable\n",
       "4        4        ceasing\n",
       "...    ...            ...\n",
       "9038  9038  magical spell\n",
       "9039  9039  appealingness\n",
       "9040  9040        enchant\n",
       "9041  9041      embodying\n",
       "9042  9042   substantiate\n",
       "\n",
       "[9043 rows x 2 columns]"
      ]
     },
     "execution_count": 6,
     "metadata": {},
     "output_type": "execute_result"
    }
   ],
   "source": [
    "indices = indices.drop_duplicates(subset = ['word'])\n",
    "indices = indices.dropna()\n",
    "indices = indices.reset_index(drop = True)\n",
    "indices"
   ]
  },
  {
   "cell_type": "code",
   "execution_count": 7,
   "metadata": {},
   "outputs": [],
   "source": [
    "indices.to_json('/Users/wesleytatum/Desktop/post_doc/data/syn_ant_index.json')"
   ]
  },
  {
   "cell_type": "code",
   "execution_count": 5,
   "metadata": {},
   "outputs": [],
   "source": [
    "indices = pd.read_json('/Users/wesleytatum/Desktop/post_doc/data/syn_ant_index.json')"
   ]
  },
  {
   "cell_type": "code",
   "execution_count": 9,
   "metadata": {},
   "outputs": [
    {
     "name": "stderr",
     "output_type": "stream",
     "text": [
      "100%|██████████| 2847/2847 [00:29<00:00, 183.58it/s]s]"
     ]
    }
   ],
   "source": [
    "#if new train-test-split is needed\n",
    "\n",
    "%autoreload\n",
    "\n",
    "X = word_pairs_df[['word 1', 'word 2']]\n",
    "Y = word_pairs_df['label']\n",
    "\n",
    "x_train, x_test, y_train, y_test = train_test_split(X, Y, test_size = 0.2, shuffle = True)\n",
    "\n",
    "train_save = '/Users/wesleytatum/Desktop/post_doc/data/nn_datasets/train.json'\n",
    "test_save = '/Users/wesleytatum/Desktop/post_doc/data/nn_datasets/test.json'\n",
    "\n",
    "train_set = dataset.DistillerDataset(x_train, y_train, indices, path = train_save)\n",
    "test_set = dataset.DistillerDataset(x_test, y_test, indices, path = test_save)"
   ]
  },
  {
   "cell_type": "code",
   "execution_count": 11,
   "metadata": {},
   "outputs": [
    {
     "data": {
      "text/plain": [
       "2847"
      ]
     },
     "execution_count": 11,
     "metadata": {},
     "output_type": "execute_result"
    }
   ],
   "source": [
    "len(test_set)"
   ]
  },
  {
   "cell_type": "code",
   "execution_count": 6,
   "metadata": {},
   "outputs": [],
   "source": [
    "#if existing train-test-split is alright\n",
    "\n",
    "%autoreload\n",
    "\n",
    "train_path ='/Users/wesleytatum/Desktop/post_doc/data/nn_datasets/train.json'\n",
    "test_path = '/Users/wesleytatum/Desktop/post_doc/data/nn_datasets/test.json'\n",
    "\n",
    "wp = 'dummy_variable'\n",
    "lbs = 'dummy_variable'\n",
    "\n",
    "train_set = dataset.DistillerDataset(word_pairs = wp, labels = lbs,\n",
    "                                     indices = indices, path = train_path)\n",
    "test_set = dataset.DistillerDataset(word_pairs = wp, labels = lbs,\n",
    "                                    indices = indices, path = test_path)"
   ]
  },
  {
   "cell_type": "code",
   "execution_count": 14,
   "metadata": {},
   "outputs": [
    {
     "data": {
      "text/plain": [
       "(tensor([1134, 1052]), tensor([2]))"
      ]
     },
     "execution_count": 14,
     "metadata": {},
     "output_type": "execute_result"
    }
   ],
   "source": [
    "train_set[0]"
   ]
  },
  {
   "cell_type": "code",
   "execution_count": 7,
   "metadata": {},
   "outputs": [],
   "source": [
    "#Hyper parameters\n",
    "num_epochs = 30\n",
    "batch_size = 50\n",
    "learning_rate = 1e-4\n",
    "\n",
    "# Device configuration (GPU if available, otherwise CPU)\n",
    "device = torch.device('cuda:0' if torch.cuda.is_available() else 'cpu')\n",
    "\n",
    "train_loader = DataLoader(train_set, batch_size = batch_size, shuffle = True)\n",
    "test_loader = DataLoader(test_set, batch_size = batch_size, shuffle = True)"
   ]
  },
  {
   "cell_type": "code",
   "execution_count": 35,
   "metadata": {},
   "outputs": [
    {
     "name": "stdout",
     "output_type": "stream",
     "text": [
      "vocabulary length = 9044\n"
     ]
    }
   ],
   "source": [
    "%autoreload\n",
    "\n",
    "vocab_length = len(indices)+1 #+1 avoids indexing error\n",
    "print(f'vocabulary length = {vocab_length}')\n",
    "\n",
    "# Instantiate NN model. 'in_dims' = dimensions of embeddings in 'common'\n",
    "model = morpho.Phase_I_NN(in_dims = 50,\n",
    "                          vocab_length = vocab_length,\n",
    "                          common = None,\n",
    "                          w2v_model = None).to(device)\n",
    "model.apply(functions.init_weights)\n",
    "\n",
    "#define the optimizer\n",
    "optimizer = torch.optim.AdamW(params = model.parameters(),\n",
    "                              lr = learning_rate,\n",
    "                              amsgrad = True)"
   ]
  },
  {
   "cell_type": "code",
   "execution_count": 36,
   "metadata": {
    "scrolled": true
   },
   "outputs": [
    {
     "name": "stderr",
     "output_type": "stream",
     "text": [
      "100%|██████████| 30/30 [07:54<00:00, 15.47s/it]"
     ]
    }
   ],
   "source": [
    "%autoreload\n",
    "\n",
    "#empty list to hold loss per epoch\n",
    "train_epoch_losses = []\n",
    "syn_train_epoch_losses = []\n",
    "ant_train_epoch_losses = []\n",
    "\n",
    "syn_train_epoch_accuracies = []\n",
    "ant_train_epoch_accuracies = []\n",
    "irrel_train_epoch_accuracies = []\n",
    "\n",
    "test_epoch_losses = []\n",
    "syn_test_epoch_losses = []\n",
    "ant_test_epoch_losses = []\n",
    "\n",
    "syn_test_epoch_accuracies = []\n",
    "ant_test_epoch_accuracies = []\n",
    "irrel_test_epoch_accuracies = []\n",
    "\n",
    "pbar = tqdm(total = num_epochs, position = 0)\n",
    "\n",
    "for epoch in range(num_epochs):\n",
    "    \n",
    "    train_epoch_loss, syn_train_epoch_loss, ant_train_epoch_loss, Lm_train_epoch_loss, train_syn_epoch_acc, train_ant_epoch_acc, train_irrel_epoch_acc = train.Phase_I_train_model(model = model, training_data_set = train_loader, optimizer = optimizer)\n",
    "        \n",
    "    train_epoch_losses.append(train_epoch_loss)\n",
    "    syn_train_epoch_losses.append(syn_train_epoch_loss)\n",
    "    ant_train_epoch_losses.append(ant_train_epoch_loss)\n",
    "    syn_train_epoch_accuracies.append(train_syn_epoch_acc)\n",
    "    ant_train_epoch_accuracies.append(train_ant_epoch_acc)\n",
    "    irrel_train_epoch_accuracies.append(train_irrel_epoch_acc)\n",
    "   \n",
    "    test_epoch_loss, syn_test_epoch_loss, ant_test_epoch_loss, Lm_test_epoch_loss, syn_epoch_acc, ant_epoch_acc, irrel_epoch_acc, syn_true, syn_predictions, ant_true, ant_predictions = test.Phase_I_eval_model(model = model, testing_data_set = test_loader, optimizer = optimizer)\n",
    "        \n",
    "    test_epoch_losses.append(test_epoch_loss)\n",
    "    syn_test_epoch_losses.append(syn_test_epoch_loss)\n",
    "    ant_test_epoch_losses.append(ant_test_epoch_loss)\n",
    "    \n",
    "    syn_test_epoch_accuracies.append(syn_epoch_acc)\n",
    "    ant_test_epoch_accuracies.append(ant_epoch_acc)\n",
    "    irrel_test_epoch_accuracies.append(irrel_epoch_acc)\n",
    "\n",
    "    pbar.update()"
   ]
  },
  {
   "cell_type": "code",
   "execution_count": 37,
   "metadata": {},
   "outputs": [
    {
     "data": {
      "image/png": "[encoded data removed]",
      "text/plain": [
       "<Figure size 576x432 with 1 Axes>"
      ]
     },
     "metadata": {
      "needs_background": "light"
     },
     "output_type": "display_data"
    },
    {
     "data": {
      "image/png": "[encoded data removed]",
      "text/plain": [
       "<Figure size 576x432 with 1 Axes>"
      ]
     },
     "metadata": {
      "needs_background": "light"
     },
     "output_type": "display_data"
    }
   ],
   "source": [
    "fig, ax = plt.subplots(figsize = (8,6))\n",
    "\n",
    "epochs = np.arange(1, (num_epochs+1), 1)\n",
    "\n",
    "plt.plot(epochs, train_epoch_losses, c = 'k', label = 'training error')\n",
    "plt.plot(epochs, test_epoch_losses, c = 'r', label = 'testing error')\n",
    "plt.legend(loc = 'upper right')\n",
    "plt.title(\"Total Training & Testing Error\")\n",
    "ax.set_xlabel('Epoch')\n",
    "ax.set_ylabel('Total Custom Loss')\n",
    "plt.show()\n",
    "\n",
    "fig, ax = plt.subplots(figsize = (8,6))\n",
    "plt.plot(epochs, syn_train_epoch_accuracies, c = 'k', linestyle = '-.', label = 'syn acc - train')\n",
    "plt.plot(epochs, syn_test_epoch_accuracies, c = 'k', label = 'syn acc - test')\n",
    "plt.plot(epochs, ant_train_epoch_accuracies, c = 'r', linestyle = '-.', label = 'ant acc - train')\n",
    "plt.plot(epochs, ant_test_epoch_accuracies, c = 'r', label = 'ant acc - test')\n",
    "plt.plot(epochs, irrel_train_epoch_accuracies, c = 'c', linestyle = '-.', label = 'irrel acc - train')\n",
    "plt.plot(epochs, irrel_test_epoch_accuracies, c = 'c', label = 'irrel acc - test')\n",
    "plt.legend(loc = 'upper right')\n",
    "plt.title(\"Phase I Labeling Accuracy\")\n",
    "ax.set_xlabel('Training Batches')\n",
    "ax.set_ylabel('Accuracy')\n",
    "plt.show()"
   ]
  },
  {
   "cell_type": "code",
   "execution_count": 39,
   "metadata": {},
   "outputs": [],
   "source": [
    "#thresholding the predicted values to be compared to the labels\n",
    "syn_predictions = list(map(lambda x:1 if x >= 0.8 else x, syn_predictions))\n",
    "syn_predictions = list(map(lambda x:0 if -0.8 < x < 0.8 else x, syn_predictions))\n",
    "syn_predictions = list(map(lambda x:-1 if x <= -0.8 else x, syn_predictions))\n",
    "\n",
    "ant_predictions = list(map(lambda x:1 if x >= 0.8 else x, ant_predictions))\n",
    "ant_predictions = list(map(lambda x:0 if -0.8 < x < 0.8 else x, ant_predictions))\n",
    "ant_predictions = list(map(lambda x:-1 if x <= -0.8 else x, ant_predictions))\n",
    "\n",
    "\n",
    "#synonymy confusion matrix\n",
    "syn_matrix = confusion_matrix(syn_true, syn_predictions)\n",
    "\n",
    "#antonymy confusion matrix\n",
    "ant_matrix = confusion_matrix(ant_true, ant_predictions)"
   ]
  },
  {
   "cell_type": "code",
   "execution_count": 40,
   "metadata": {},
   "outputs": [
    {
     "data": {
      "text/plain": [
       "array([[1473,   65],\n",
       "       [1255,   54]])"
      ]
     },
     "execution_count": 40,
     "metadata": {},
     "output_type": "execute_result"
    }
   ],
   "source": [
    "syn_matrix"
   ]
  },
  {
   "cell_type": "code",
   "execution_count": 41,
   "metadata": {},
   "outputs": [
    {
     "data": {
      "text/plain": [
       "array([[2237,    1],\n",
       "       [ 609,    0]])"
      ]
     },
     "execution_count": 41,
     "metadata": {},
     "output_type": "execute_result"
    }
   ],
   "source": [
    "ant_matrix"
   ]
  }
 ],
 "metadata": {
  "kernelspec": {
   "display_name": "Python 3",
   "language": "python",
   "name": "python3"
  },
  "language_info": {
   "codemirror_mode": {
    "name": "ipython",
    "version": 3
   },
   "file_extension": ".py",
   "mimetype": "text/x-python",
   "name": "python",
   "nbconvert_exporter": "python",
   "pygments_lexer": "ipython3",
   "version": "3.7.6"
  }
 },
 "nbformat": 4,
 "nbformat_minor": 4
}
