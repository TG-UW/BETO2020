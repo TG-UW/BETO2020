{
 "cells": [
  {
   "cell_type": "code",
   "execution_count": 1,
   "metadata": {},
   "outputs": [],
   "source": [
    "import numpy as np\n",
    "import pandas as pd\n",
    "import os\n",
    "import random\n",
    "import sklearn\n",
    "from sklearn.linear_model import SGDClassifier # support vector machine\n",
    "from sklearn.feature_extraction.text import TfidfVectorizer"
   ]
  },
  {
   "cell_type": "code",
   "execution_count": 2,
   "metadata": {},
   "outputs": [],
   "source": [
    "beto = '/Users/Thomas/Desktop/BETO2020-master/Ant_Syn_Scraping/'\n",
    "google = \"/Users/Thomas/Desktop/BETO2020-master/Ant_Syn_Scraping/\""
   ]
  },
  {
   "cell_type": "code",
   "execution_count": 3,
   "metadata": {},
   "outputs": [],
   "source": [
    "os.chdir('/Users/Thomas/Desktop/BETO2020-master/Ant_Syn_Scraping/')\n",
    "import tfidf_wrapper_Copy1\n",
    "from tfidf_wrapper_Copy1 import tfidf_model"
   ]
  },
  {
   "cell_type": "code",
   "execution_count": 4,
   "metadata": {},
   "outputs": [],
   "source": [
    "os.chdir(google)\n",
    "file = open('Nuclear_and_Particle_Physics_Proceedings.json','r')"
   ]
  },
  {
   "cell_type": "code",
   "execution_count": 5,
   "metadata": {},
   "outputs": [],
   "source": [
    "os.chdir(beto)"
   ]
  },
  {
   "cell_type": "code",
   "execution_count": 6,
   "metadata": {},
   "outputs": [],
   "source": [
    "#Finding a way to create the corpus from the imported json file"
   ]
  },
  {
   "cell_type": "code",
   "execution_count": 7,
   "metadata": {},
   "outputs": [],
   "source": [
    "import json\n",
    "raw_corpus = json.load(file)"
   ]
  },
  {
   "cell_type": "code",
   "execution_count": 8,
   "metadata": {},
   "outputs": [],
   "source": [
    "dates = ['1995','1996','1997','1998','1999','2000','2001','2002','2003','2004','2005','2006','2007','2008','2009','2010','2011','2012','2013','2014','2015','2016','2017','2018','2019','2020']\n",
    "nbr_pubs = []\n",
    "for date in dates:\n",
    "    nbr = str(len(raw_corpus[date]))\n",
    "    nbr_pubs.append([date,nbr])\n",
    "                  \n",
    "nbr_pubs = pd.DataFrame(nbr_pubs)\n",
    "        "
   ]
  },
  {
   "cell_type": "code",
   "execution_count": 9,
   "metadata": {},
   "outputs": [],
   "source": [
    "# make a list of publications from the file. tfidf_wrapper likes lists\n",
    "corpus = []\n",
    "for i in range(len(nbr_pubs)):\n",
    "    if nbr_pubs.iloc[i,1] != str(0):\n",
    "        for u in range(0,(int(nbr_pubs.iloc[i,1])-1)):\n",
    "            str_pub = str(raw_corpus[str(nbr_pubs.iloc[i,0])][str(u)]['fulltext'])\n",
    "            corpus.append(str_pub)\n",
    "file.close()\n"
   ]
  },
  {
   "cell_type": "code",
   "execution_count": 10,
   "metadata": {},
   "outputs": [
    {
     "data": {
      "text/plain": [
       "318"
      ]
     },
     "execution_count": 10,
     "metadata": {},
     "output_type": "execute_result"
    }
   ],
   "source": [
    "# so there are now 3346 full texts in this list\n",
    "len(corpus)"
   ]
  },
  {
   "cell_type": "code",
   "execution_count": 11,
   "metadata": {},
   "outputs": [],
   "source": [
    "def scrambled(orig):\n",
    "    dest = orig[:]\n",
    "    random.shuffle(dest)\n",
    "    return dest"
   ]
  },
  {
   "cell_type": "code",
   "execution_count": 12,
   "metadata": {},
   "outputs": [],
   "source": [
    "# shake things up to be statistically fair.\n",
    "corpus = scrambled(corpus)"
   ]
  },
  {
   "cell_type": "code",
   "execution_count": 13,
   "metadata": {},
   "outputs": [],
   "source": [
    "# if you need documentation of how to use tfidf_wrapper, or you can just look at the source code\n",
    "# help(tfidf_wrapper_Copy1)"
   ]
  },
  {
   "cell_type": "code",
   "execution_count": 14,
   "metadata": {},
   "outputs": [],
   "source": [
    "# This is the first call made for a tfidf_model class, create the object, which requires input corpus\n",
    "model = tfidf_model(corpus)"
   ]
  },
  {
   "cell_type": "code",
   "execution_count": 15,
   "metadata": {},
   "outputs": [],
   "source": [
    "# Now we make the tfidf matrix. This is a matrix that will contain vectors for each paper.\n",
    "# Each vector will have the unique tfidf information for every word\n",
    "model.tfidf_matrix()"
   ]
  },
  {
   "cell_type": "code",
   "execution_count": 16,
   "metadata": {},
   "outputs": [],
   "source": [
    "# the array attribute of the model contains all of the tfidf information\n",
    "mat = model.array\n",
    "vocab = model.vocab"
   ]
  },
  {
   "cell_type": "code",
   "execution_count": 17,
   "metadata": {},
   "outputs": [
    {
     "data": {
      "text/plain": [
       "(318, 54225)"
      ]
     },
     "execution_count": 17,
     "metadata": {},
     "output_type": "execute_result"
    }
   ],
   "source": [
    "# looks like this tfidf matrix has 3346 rows, corresponding to each individual paper \n",
    "# 255764 corresponds to the length of each tfidf vector for each paper.\n",
    "# There are apparently 255764 unique words in the corpus \n",
    "mat.shape"
   ]
  },
  {
   "cell_type": "code",
   "execution_count": 23,
   "metadata": {},
   "outputs": [
    {
     "data": {
      "text/plain": [
       "array([0.01175292, 0.        , 0.        , ..., 0.        , 0.        ,\n",
       "       0.        ])"
      ]
     },
     "execution_count": 23,
     "metadata": {},
     "output_type": "execute_result"
    }
   ],
   "source": [
    "# here is a single tfidf vector for a paper, each input corresponds to each word in the vocabulary\n",
    "mat[0]"
   ]
  },
  {
   "cell_type": "code",
   "execution_count": 24,
   "metadata": {},
   "outputs": [],
   "source": [
    "# I just found this method by Googling. This finds the 4 highest numbers in a numpy array. \n",
    "# We can use this to get the highest tfidf scores from any paper\n",
    "ind = np.argpartition(mat[0], -2000)[-2000:]"
   ]
  },
  {
   "cell_type": "code",
   "execution_count": 25,
   "metadata": {},
   "outputs": [],
   "source": [
    "# method to make sure we don't get words with numbers\n",
    "def hasNumbers(inputString):\n",
    "    import re\n",
    "    return bool(re.search(r'\\d', inputString))"
   ]
  },
  {
   "cell_type": "code",
   "execution_count": 26,
   "metadata": {},
   "outputs": [],
   "source": [
    "def good_words(matrix,vocab,n,stopcount):\n",
    "    \"\"\"\n",
    "    This method finds the most relevant words in a corpus, as calculated by tfidf scores.\n",
    "    \n",
    "    Parameters:\n",
    "    -----------\n",
    "    matrix (object, required): The object corresponding to the array attribute of a tfidf_wrapper model\n",
    "    \n",
    "    vocab (object, required): The object corresponding to the vocab attribute of a tfidf_wrapper model\n",
    "    \n",
    "    n (int,required): This integer describes \n",
    "    \"\"\"\n",
    "    goodwords = []\n",
    "    for i in range(mat.shape[0]):\n",
    "        highscore_indices = np.argpartition(mat[i], -n)[-n:]\n",
    "        \n",
    "        for j in range(n):\n",
    "            word = vocab[highscore_indices[j]]\n",
    "            \n",
    "            if not hasNumbers(word) and word not in goodwords:\n",
    "                goodwords.append(word)\n",
    "        \n",
    "        if len(goodwords) >= stopcount:\n",
    "            return goodwords\n",
    "            break\n",
    "               \n",
    "               \n",
    "        \n",
    "                \n",
    "        "
   ]
  },
  {
   "cell_type": "code",
   "execution_count": 27,
   "metadata": {},
   "outputs": [
    {
     "name": "stdout",
     "output_type": "stream",
     "text": [
      "None\n"
     ]
    }
   ],
   "source": [
    "words = good_words(mat,vocab,50,5000)\n",
    "print(words)"
   ]
  },
  {
   "cell_type": "code",
   "execution_count": null,
   "metadata": {},
   "outputs": [],
   "source": [
    "import nltk\n",
    "tagged_words = nltk.pos_tag(words)\n",
    "print(tagged_words)\n",
    "nltk.download('tagsets') #to view different POS tags\n",
    "nltk.help.upenn_tagset()\n"
   ]
  },
  {
   "cell_type": "code",
   "execution_count": null,
   "metadata": {},
   "outputs": [],
   "source": [
    "filtered_list = []\n",
    "for i in range(len(tagged_words)):\n",
    "    word = tagged_words[i][0]\n",
    "    tag = tagged_words[i][1]\n",
    "    if tag == 'JJ':\n",
    "        filtered_list.append(word)\n",
    "    elif tag == 'JJR':\n",
    "        filtered_list.append(word)\n",
    "    elif tag == 'JJS':\n",
    "        filtered_list.append(word)\n",
    "print(filtered_list)"
   ]
  },
  {
   "cell_type": "code",
   "execution_count": null,
   "metadata": {},
   "outputs": [],
   "source": []
  }
 ],
 "metadata": {
  "kernelspec": {
   "display_name": "Python 3",
   "language": "python",
   "name": "python3"
  },
  "language_info": {
   "codemirror_mode": {
    "name": "ipython",
    "version": 3
   },
   "file_extension": ".py",
   "mimetype": "text/x-python",
   "name": "python",
   "nbconvert_exporter": "python",
   "pygments_lexer": "ipython3",
   "version": "3.7.3"
  }
 },
 "nbformat": 4,
 "nbformat_minor": 4
}
