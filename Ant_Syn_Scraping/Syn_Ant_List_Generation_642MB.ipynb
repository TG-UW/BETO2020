{
 "cells": [
  {
   "cell_type": "code",
   "execution_count": null,
   "metadata": {},
   "outputs": [],
   "source": [
    "#Need to create list of synonyms and antonyms from words found on Thesaurus.com and Word.net\n",
    "#First thought is to create a list of words of interest that can be queried directly by our script \n",
    "#Need to also create a list of list of the words that we used to create the syn-ant query list."
   ]
  },
  {
   "cell_type": "code",
   "execution_count": 1,
   "metadata": {},
   "outputs": [],
   "source": [
    "#For Thesaurus.com (T.com)\n",
    "import numpy as np\n",
    "import pandas as pd\n",
    "import selenium\n",
    "from selenium import webdriver\n",
    "import bs4\n",
    "from bs4 import BeautifulSoup as bs\n",
    "import time\n",
    "import re\n",
    "import nltk\n",
    "from gensim.models import Word2Vec\n",
    "from nltk.corpus import stopwords\n",
    "from collections import defaultdict\n",
    "import requests\n",
    "import time\n"
   ]
  },
  {
   "cell_type": "code",
   "execution_count": 2,
   "metadata": {},
   "outputs": [
    {
     "ename": "NoSuchWindowException",
     "evalue": "Message: no such window: window was already closed\n  (Session info: chrome=80.0.3987.87)\n",
     "output_type": "error",
     "traceback": [
      "\u001b[0;31m---------------------------------------------------------------------------\u001b[0m",
      "\u001b[0;31mNoSuchWindowException\u001b[0m                     Traceback (most recent call last)",
      "\u001b[0;32m<ipython-input-2-50125e35ec51>\u001b[0m in \u001b[0;36m<module>\u001b[0;34m\u001b[0m\n\u001b[1;32m     10\u001b[0m     \u001b[0mtime\u001b[0m\u001b[0;34m.\u001b[0m\u001b[0msleep\u001b[0m\u001b[0;34m(\u001b[0m\u001b[0;36m1\u001b[0m\u001b[0;34m)\u001b[0m\u001b[0;34m\u001b[0m\u001b[0;34m\u001b[0m\u001b[0m\n\u001b[1;32m     11\u001b[0m \u001b[0;34m\u001b[0m\u001b[0m\n\u001b[0;32m---> 12\u001b[0;31m     \u001b[0mhtml_doc\u001b[0m \u001b[0;34m=\u001b[0m \u001b[0mdriver\u001b[0m\u001b[0;34m.\u001b[0m\u001b[0mpage_source\u001b[0m \u001b[0;31m# stores the source HTML code in the driver's page_source attribute\u001b[0m\u001b[0;34m\u001b[0m\u001b[0;34m\u001b[0m\u001b[0m\n\u001b[0m\u001b[1;32m     13\u001b[0m \u001b[0;34m\u001b[0m\u001b[0m\n\u001b[1;32m     14\u001b[0m     \u001b[0;31m#Issue with next two lines is that we are also picking up \"Related Terms\" synonyms and antonyms.\u001b[0m\u001b[0;34m\u001b[0m\u001b[0;34m\u001b[0m\u001b[0;34m\u001b[0m\u001b[0m\n",
      "\u001b[0;32m~/anaconda3/lib/python3.7/site-packages/selenium/webdriver/remote/webdriver.py\u001b[0m in \u001b[0;36mpage_source\u001b[0;34m(self)\u001b[0m\n\u001b[1;32m    677\u001b[0m             \u001b[0mdriver\u001b[0m\u001b[0;34m.\u001b[0m\u001b[0mpage_source\u001b[0m\u001b[0;34m\u001b[0m\u001b[0;34m\u001b[0m\u001b[0m\n\u001b[1;32m    678\u001b[0m         \"\"\"\n\u001b[0;32m--> 679\u001b[0;31m         \u001b[0;32mreturn\u001b[0m \u001b[0mself\u001b[0m\u001b[0;34m.\u001b[0m\u001b[0mexecute\u001b[0m\u001b[0;34m(\u001b[0m\u001b[0mCommand\u001b[0m\u001b[0;34m.\u001b[0m\u001b[0mGET_PAGE_SOURCE\u001b[0m\u001b[0;34m)\u001b[0m\u001b[0;34m[\u001b[0m\u001b[0;34m'value'\u001b[0m\u001b[0;34m]\u001b[0m\u001b[0;34m\u001b[0m\u001b[0;34m\u001b[0m\u001b[0m\n\u001b[0m\u001b[1;32m    680\u001b[0m \u001b[0;34m\u001b[0m\u001b[0m\n\u001b[1;32m    681\u001b[0m     \u001b[0;32mdef\u001b[0m \u001b[0mclose\u001b[0m\u001b[0;34m(\u001b[0m\u001b[0mself\u001b[0m\u001b[0;34m)\u001b[0m\u001b[0;34m:\u001b[0m\u001b[0;34m\u001b[0m\u001b[0;34m\u001b[0m\u001b[0m\n",
      "\u001b[0;32m~/anaconda3/lib/python3.7/site-packages/selenium/webdriver/remote/webdriver.py\u001b[0m in \u001b[0;36mexecute\u001b[0;34m(self, driver_command, params)\u001b[0m\n\u001b[1;32m    319\u001b[0m         \u001b[0mresponse\u001b[0m \u001b[0;34m=\u001b[0m \u001b[0mself\u001b[0m\u001b[0;34m.\u001b[0m\u001b[0mcommand_executor\u001b[0m\u001b[0;34m.\u001b[0m\u001b[0mexecute\u001b[0m\u001b[0;34m(\u001b[0m\u001b[0mdriver_command\u001b[0m\u001b[0;34m,\u001b[0m \u001b[0mparams\u001b[0m\u001b[0;34m)\u001b[0m\u001b[0;34m\u001b[0m\u001b[0;34m\u001b[0m\u001b[0m\n\u001b[1;32m    320\u001b[0m         \u001b[0;32mif\u001b[0m \u001b[0mresponse\u001b[0m\u001b[0;34m:\u001b[0m\u001b[0;34m\u001b[0m\u001b[0;34m\u001b[0m\u001b[0m\n\u001b[0;32m--> 321\u001b[0;31m             \u001b[0mself\u001b[0m\u001b[0;34m.\u001b[0m\u001b[0merror_handler\u001b[0m\u001b[0;34m.\u001b[0m\u001b[0mcheck_response\u001b[0m\u001b[0;34m(\u001b[0m\u001b[0mresponse\u001b[0m\u001b[0;34m)\u001b[0m\u001b[0;34m\u001b[0m\u001b[0;34m\u001b[0m\u001b[0m\n\u001b[0m\u001b[1;32m    322\u001b[0m             response['value'] = self._unwrap_value(\n\u001b[1;32m    323\u001b[0m                 response.get('value', None))\n",
      "\u001b[0;32m~/anaconda3/lib/python3.7/site-packages/selenium/webdriver/remote/errorhandler.py\u001b[0m in \u001b[0;36mcheck_response\u001b[0;34m(self, response)\u001b[0m\n\u001b[1;32m    240\u001b[0m                 \u001b[0malert_text\u001b[0m \u001b[0;34m=\u001b[0m \u001b[0mvalue\u001b[0m\u001b[0;34m[\u001b[0m\u001b[0;34m'alert'\u001b[0m\u001b[0;34m]\u001b[0m\u001b[0;34m.\u001b[0m\u001b[0mget\u001b[0m\u001b[0;34m(\u001b[0m\u001b[0;34m'text'\u001b[0m\u001b[0;34m)\u001b[0m\u001b[0;34m\u001b[0m\u001b[0;34m\u001b[0m\u001b[0m\n\u001b[1;32m    241\u001b[0m             \u001b[0;32mraise\u001b[0m \u001b[0mexception_class\u001b[0m\u001b[0;34m(\u001b[0m\u001b[0mmessage\u001b[0m\u001b[0;34m,\u001b[0m \u001b[0mscreen\u001b[0m\u001b[0;34m,\u001b[0m \u001b[0mstacktrace\u001b[0m\u001b[0;34m,\u001b[0m \u001b[0malert_text\u001b[0m\u001b[0;34m)\u001b[0m\u001b[0;34m\u001b[0m\u001b[0;34m\u001b[0m\u001b[0m\n\u001b[0;32m--> 242\u001b[0;31m         \u001b[0;32mraise\u001b[0m \u001b[0mexception_class\u001b[0m\u001b[0;34m(\u001b[0m\u001b[0mmessage\u001b[0m\u001b[0;34m,\u001b[0m \u001b[0mscreen\u001b[0m\u001b[0;34m,\u001b[0m \u001b[0mstacktrace\u001b[0m\u001b[0;34m)\u001b[0m\u001b[0;34m\u001b[0m\u001b[0;34m\u001b[0m\u001b[0m\n\u001b[0m\u001b[1;32m    243\u001b[0m \u001b[0;34m\u001b[0m\u001b[0m\n\u001b[1;32m    244\u001b[0m     \u001b[0;32mdef\u001b[0m \u001b[0m_value_or_default\u001b[0m\u001b[0;34m(\u001b[0m\u001b[0mself\u001b[0m\u001b[0;34m,\u001b[0m \u001b[0mobj\u001b[0m\u001b[0;34m,\u001b[0m \u001b[0mkey\u001b[0m\u001b[0;34m,\u001b[0m \u001b[0mdefault\u001b[0m\u001b[0;34m)\u001b[0m\u001b[0;34m:\u001b[0m\u001b[0;34m\u001b[0m\u001b[0;34m\u001b[0m\u001b[0m\n",
      "\u001b[0;31mNoSuchWindowException\u001b[0m: Message: no such window: window was already closed\n  (Session info: chrome=80.0.3987.87)\n"
     ]
    }
   ],
   "source": [
    "carbon_words = ['frictional', 'fig', 'carbon', 'nanotubes', 'amazonaws', 'prod', 'rolling','as', 'com', 'ucs', 'resin', 'https', 'store', 'axis', 'sliding', 'mylvaganam', 'content', 'track', 'load', 'pii', 'sml', 'image', 'on', 'horizontally', 'and', 'zarudi', 'in', 'eu', 'row', 'of', 'coefficient', 'normal', 'tribological', 'cnts', 'tool', 'jpg', 'diamond', 'friction', 'to', 'longitudinal', 'that', 'cnt', 'west', 'film', 'the', 'is', 'spectra', 'can', 'decline', 'at', 'we', 'are', 'temperature', 'with', 'second', 'antunes', 'laser', 'cnf', 'order', 'bands', 'band', 'this', 'crystallinity', 'fitting', 'gif', 'fwhm', 'mwcnt', 'samples', 'be', 'for', 'growth', 'raman', 'structure', 'torus', 'woy', 'cage', 'cowley', 'wc', 'closed', 'stimulation', 'kang', 'electron', 'graphitic', 'rings', 'pentagonal', 'shell', 'by', 'toroidal', 'iijima', 'mvocc', 'sphere', 'spheres', 'atoms', 'spiral', 'clusters', 'wo', 'nanosize', 'cgo', 'maga', 'onion', 'heptagonal', 'flakes', 'unclosed', 'surface', 'hrtem', 'fullerenes', 'beam', 'polymer', 'transport', 'selectivity', 'btda', 'polymeric', 'gas', 'separation', 'ipn', 'ipns', 'barrer', 'permselectivity', 'membr', 'permeability', 'cmsms', 'cmsm', 'pyrolysis', 'azide', 'matrimid', 'pseudo', 'tmpda', 'polyimide', 'membranes', 'composite', 'electrochemical', 'leds', 'was', 'gunasekaran', 'ma', 'eg', 'supercapacitors', 'supercapacitor', 'device', 'prathap', 'graphene', 'cm', 'gcd', 'gce', 'high', 'wisconsin', 'density', 'sasc', 'capacitance', 'mf', 'performance', 'sadak', 'μwh', 'cv', 'pani', 'polyaniline', 'wang', 'electrode', 'madison', 'current', 'infinite', 'papior', 'siesta', 'falkenberg', 'relaxed', 'zzs', 'base', 'principal', 'danish', 'junctions', 'junction', 'structures', 'ørsteds', 'dk', 'zz', 'armchair', 'ribbon', 'ribbons', 'lyngby', 'cng', 'zig', 'mid', 'calculations', 'hbn', 'bldg', 'zag', 'terminal', 'denmark', 'right', 'left', 'transmission', 'plads', 'sheet', 'brandbyge', 'kongens', 'tin', 'zinc', 'light', 'trapping', 'ppf', 'koelmans', 'cox', 'computing', 'switching', 'murdoch', 'strukov', 'zto', 'ta', 'memristor', 'sebastian', 'resistive', 'amorphous', 'pt', 'raeber', 'memristive', 'memristors', 'potentiation', 'partridge', 'mckenzie', 'pulses', 'synaptic', 'optogenetics', 'neuromorphic', 'synapses', 'mcculloch', 'eleftheriou', 'memory', 'photonic', 'devices', 'particle', 'suspension', 'electro', 'exponential', 'kerr', 'donovan', 'refractive', 'orientation', 'optical', 'mantegazza', 'dwnts', 'altimg', 'dichroism', 'birefringence', 'particles', 'swnts', 'field', 'us', 'anisotropy', 'eb', 'east', 'stripin', 'polarizability', 'bellini', 'electric', 'potassium', 'ion', 'ionic', 'capacity', 'adsorption', 'nanospheres', 'exchange', 'capture', 'materials', 'carboxyl', 'glucose', 'pore', 'hcx', 'activation', 'hc', 'ca', 'carbons', 'ultramicropore', 'ultramicropores', 'ultramicroporosity', 'ultramicroporous', 'sorption', 'mmol', 'carbonaceous', 'groups', 'ie', 'tafel', 'guangdong', 'tu', 'oxygen', 'catalyst', 'oer', 'co', 'water', 'evolution', 'mv', 'li', 'cobalt', 'fnc', 'electrocatalytic', 'electrocatalysts', 'microflowers', 'electrocatalyst', 'her', 'efficient', 'en', 'sulfide', 'tfr', 'splitting', 'bifunctional', 'china', 'petrochemical', 'zhang', 'membrane', 'conductivity', 'oxide', 'defects', 'size', 'inter', 'mean', 'level', 'proton', 'flake', 'oxidation', 'go', 'methanol', 'laminates', 'laminate', 'mgo', 'hgo', 'model', 'turbidity', 'phenantharene', 'humic', 'nanoscaled', 'dispersion', 'freundlich', 'spaoms', 'spaom', 'dinitrobenzene', 'nitrobenzene', 'jb', 'solution', 'titration', 'hcro', 'anodic', 'donnet', 'cr', 'vi', 'mam', 'acidity', 'acfs', 'thiourea', 'pvp', 'nanoparticles', 'spray', 'sibs', 'lithium', 'storage', 'sodium', 'powder', 'anode', 'na', 'bare', 'powders', 'batteries', 'were', 'magnetic', 'release', 'cancer', 'loading', 'mcf', 'physiological', 'chloroform', 'viability', 'aqueous', 'hydrophobic', 'ucnp', 'ucnpgreen', 'ucnpred', 'ucnps', 'ucnpsgreen', 'coated', 'luminescence', 'delivery', 'imaging', 'upconversion', 'pei', 'dox', 'oa', 'nanocrystals', 'drug', 'therapy', 'tanaka', 'gusev', 'tsai', 'uemura', 'ft', 'pbo', 'fiber', 'unidirectional', 'dma', 'specimen', 'miyagawa', 'mori', 'tensile', 'matrix', 'strain', 'epoxy', 'fibers', 'fem', 'macroscopic', 'cfrp', 'nanoindentation', 'transverse', 'halpin', 'elastic', 'modulus', 'sample', 'hierarchical', 'microcubes', 'doped', 'jiangxi', 'libs', 'hydrothermal', 'nanchang', 'derived', 'energy', 'scs', 'discharge', 'dongguan', 'mno', 'from', 'pcm', 'biomass', 'agaric', 'porous', 'standing', 'buckypaper', 'steel', 'dickerson', 'liberation', 'liberated', 'thickness', 'electrophoretically', 'strength', 'vanderbilt', 'nanotube', 'electrodes', 'failure', 'stainless', 'deposition', 'bp', 'deposited', 'films', 'electrophoretic', 'epd', 'bps', 'depositions', 'buckypapers', 'mwcnts', 'methane', 'isotherms', 'combustion', 'crnl', 'binary', 'msc', 'mixture', 'pressures', 'simulation', 'maxsorb', 'selectivities', 'dioxide', 'activated', 'mixtures', 'krawiec', 'precursor', 'pyrolized', 'kaskel', 'nanocasting', 'borchardt', 'mesopores', 'silicon', 'carbide', 'gogotsi', 'mesoporous', 'chlorine', 'sic', 'cdcs', 'cdc', 'ordered', 'kockrick', 'cdcref', 'citrate', 'ssa', 'titanium', 'tic', 'om', 'nano', 'titrations', 'drifts', 'boehm', 'functional', 'ozonides', 'toabr', 'cno', 'cnos', 'onions', 'ozone', 'ozonolysis', 'dms', 'oz', 'ozonized', 'blending', 'deitz', 'against', 'koh', 'deodorant', 'deodorization', 'deodorized', 'acf', 'air', 'humidity', 'khs', 'pitch', 'sulphur', 'micropores', 'epma', 'test', 'changchun', 'cmk', 'jilin', 'rate', 'charge', 'dli', 'lfs', 'cathode', 'composites', 'hemispherical', 'manara', 'uncoated', 'pbn', 'coating', 'emissivity', 'reflectivity', 'spectral', 'promes', 'absorptivity', 'blackbody', 'cemhti', 'solar', 'cube', 'bundles', 'ferrocene', 'regions', 'branches', 'crystal', 'hybrid', 'alumina', 'microparticles', 'branch', 'six', 'microparticle', 'laboratório', 'solvent', 'catalysts', 'incorporation', 'decomposition', 'lcm', 'functionalities', 'loss', 'ball', 'melamine', 'milling', 'thermal', 'urea', 'figueiredo', 'milled', 'bm', 'nitrogen', 'doping', 'treatment', 'treatments', 'tga', 'wt', 'soares', 'dt', 'grafted', 'reaction', 'polyamide', 'hydroxyl', 'acid', 'caprolactam', 'polymerization', 'ftir', 'tdi', 'caprolactamate', 'functionalized', 'formic', 'initiator', 'solubility', 'toluene', 'anionic', 'feed', 'functionalization', 'vial', 'acyl', 'oh', 'isocyanate', 'protein', 'aptamers', 'bioelectron', 'biosens', 'assay', 'ultrasensitive', 'recognition', 'wuhan', 'anal', 'guest', 'cs', 'incubation', 'bsa', 'fc', 'bb', 'ml', 'dna', 'hubei', 'electrochemiluminescence', 'cd', 'aptamer', 'detection', 'aptasensor', 'electrochemiluminescent', 'ad', 'ecl', 'cyclodextrin', 'pdgf', 'pristine', 'polyether', 'neat', 'ep', 'gonrs', 'unfolded', 'wear', 'cps', 'moieties', 'electropolymerization', 'δm', 'cp', 'pakuła', 'ht', 'changes', 'świątkowski', 'ac', 'chlorophenol', 'chlorophenols', 'cb', 'powdered', 'chemistry', 'biniak', 'cyclization', 'suzhou', 'gpa', 'sers', 'loosening', 'assisted', 'zhao', 'nda', 'tpa', 'vibration', 'au', 'bmi', 'strengthening', 'phba', 'infiltration', 'tsoh', 'hybridisation', 'etoh', 'hydrogen', 'ternary', 'tosti', 'ethanol', 'mixed', 'see', 'turbostratic', 'vol', 'pressure', 'reforming', 'hannover', 'steam', 'permeation', 'permeate', 'permeances', 'permeance', 'pa', 'crystalline', 'tension', 'molecules', 'defocus', 'garik', 'thickening', 'growing', 'branching', 'laplacian', 'charges', 'hydrocarbon', 'tem', 'copper', 'side', 'irradiation', 'fractal', 'rod', 'like', 'aggregates', 'mushroom', 'tree', 'fir', 'spindle', 'morphologies', 'filaments', 'electrolyte', 'estonia', 'edl', 'sild', 'perkson', 'kaarik', 'arulepp', 'leis', 'models', 'cathodic', 'svg', 'descriptors', 'descriptor', 'käärik', 'sbp', 'maran', 'tartu', 'qnspr', 'xml', 'qsar', 'nanoporous', 'qsardb', 'qspr', 'volumetric', 'hwhm', 'viscous', 'highly', 'tube', 'fringes', 'cooling', 'blurred', 'arcing', 'purity', 'endo', 'magnetoresistance', 'treated', 'thermally', 'facetted', 'hollow', 'arc', 'tape', 'tubes', 'spd', 'nsd', 'reinforced', 'extrusion', 'uniform', 'bakshi', 'hebm', 'incompatibilities', 'nanoflakes', 'pm', 'al', 'pva', 'formation', 'compounds', 'species', 'dalton', 'weilmünster', 'maldi', 'fullerene', 'cl', 'ionization', 'mass', 'louvain', 'institute', 'pope', 'baum', 'löffler', 'gerhardt', 'burner', 'th', 'br', 'tute', 'symposium', 'benzene', 'bromine', 'richter', 'hbr', 'twenty', 'vandooren', 'international', 'howard', 'homann', 'flame', 'soot', 'tiggelen', 'insti', 'eighteenth', 'flames', 'interdigitated', 'schottky', 'scagliotti', 'egi', 'pc', 'photodetector', 'pd', 'komissarov', 'eqe', 'salvato', 'ryzhii', 'response', 'responsivity', 'pv', 'roma', 'photocharges', 'si', 'pds', 'photodetectors', 'activity', 'capping', 'jpeg', 'xi', 'rgo', 'platinum', 'nps', 'nss', 'shaanxi', 'molten', 'heterojunctions', 'rgos', 'zhejiang', 'rhb', 'photogenerated', 'phenol', 'photodegradation', 'bioi', 'visible', 'hangzhou', 'photocatalytic', 'photocatalysts', 'photocatalyst', 'printing', 'printed', 'interconnects', 'print', 'process', 'microdeposition', 'ec', 'inkjet', 'terpineol', 'resistivity', 'atomizer', 'jet', 'atomization', 'patterns', 'wafers', 'annealed', 'jabari', 'aerosol', 'ink', 'takamura', 'hydrophilic', 'cycle', 'cycling', 'reversible', 'passivating', 'electrochem', 'ag', 'ppm', 'intercalation', 'graphite', 'natural', 'silver', 'elf', 'orbits', 'asset', 'multithreaded', 'swcnts', 'page', 'sp', 'tori', 'smts', 'radius', 'jpn', 'toroid', 'toroids', 'hos', 'ajiki', 'shyu', 'lin', 'states', 'zigzag', 'cts', 'degeneracy', 'electronic', 'phys', 'ct', 'smt', 'gap', 'magnetoelectronic', 'contents', 'absorption', 'buckling', 'ghz', 'ecoflex', 'db', 'absorbing', 'cnpf', 'shielding', 'foam', 'liu', 'stretching', 'interference', 'mm', 'reflection', 'ucnpf', 'electromagnetic', 'emi', 'pu', 'se', 'stretchable', 'foams', 'cnpfs', 'rl', 'cnpfes', 'mxene', 'cnpfe', 'stretch', 'microwave', 'conductive', 'pulsed', 'have', 'glass', 'kitahama', 'rheed', 'scratched', 'pld', 'dlc', 'bourden', 'arf', 'afm', 'substrate', 'faceted', 'schiroky', 'drybox', 'vinyl', 'ofpoly', 'reactivity', 'donnett', 'noth', 'homopolymers', 'hours', 'tudos', 'mckee', 'catechol', 'carbonization', 'thf', 'containing', 'monomer', 'stabilization', 'copolymerization', 'vinylcatecholborane', 'boron', 'chung', 'vcb', 'pvcb', 'kelen', 'oxidative', 'acrylonitrile', 'pan', 'copolymers', 'nmr', 'copolymer', 'poly', 'catecholborane', 'borane', 'psoc', 'alche', 'area', 'rav', 'char', 'earlier', 'exact', 'length', 'ofmicroporous', 'pav', 'perlmutter', 'vartak', 'eqns', 'parameter', 'chars', 'poo', 'po', 'pdem', 'distribution', 'discrete', 'caem', 'dimensionless', 'discreteness', 'rayleigh', 'gavalas', 'bhatia', 'initial', 'random', 'pvsd', 'eqn', 'vis', 'krishnan', 'uv', 'india', 'synthesis', 'emission', 'delhi', 'fluorescence', 'lifetime', 'quenching', 'gupta', 'excitation', 'photoluminescence', 'gcnt', 'csir', 'pillared', 'rhodamine', 'dye', 'pl', 'downsampled', 'thumbnail', 'taoyuan', 'shape', 'fillers', 'phase', 'paraffin', 'nanographite', 'latent', 'dropping', 'pcms', 'energ', 'heat', 'electrical', 'xgnp', 'mang', 'martínez', 'apteijn', 'kurasawa', 'miura', 'impregnating', 'texture', 'impregnated', 'torregrosa', 'mercury', 'martín', 'original', 'sellés', 'gasification', 'macropore', 'amsterdam', 'poro', 'macroporosity', 'hazeleger', 'glucosamine', 'reactivated', 'simetry', 'modified', 'martin', 'martinez', 'sing', 'singoredjo', 'carbohydrates', 'mittelmeijer', 'meso', 'gm', 'vacuum', 'graphitization', 'annealing', 'osswald', 'porosity', 'schmirler', 'temperatures', 'beijing', 'ahmadpour', 'agent', 'bet', 'ariyadejwanich', 'products', 'volume', 'softening', 'micro', 'burchell', 'acs', 'klett', 'activating', 'mcmbs', 'mesophase', 'foaming', 'mp', 'fermi', 'orbitals', 'double', 'pπ', 'valence', 'edge', 'conduction', 'walled', 'subband', 'subbands', 'dwcnts', 'intertube', 'mg', 'imamura', 'hydriding', 'dsc', 'hydride', 'kinetics', 'compd', 'dehydriding', 'magnesium', 'jorio', 'disorder', 'dresselhaus', 'resonance', 'peak', 'phonon', 'intensity', 'maciel', 'sulfur', 'ig', 'id', 'itola', 'lola', 'ii', 'mwnts', 'mode', 'ic', 'mwnt', 'interlaminar', 'initiation', 'precracked', 'crack', 'fracture', 'specimens', 'senb', 'toughness', 'dcb', 'toughening', 'delamination', 'haik', 'transition', 'camponeschi', 'cf', 'moduli', 'alignment', 'swcnt', 'aeropoxy', 'external', 'garmestani', 'wall', 'ap', 'mechanical', 'chains', 'ruthenium', 'hydrous', 'capacitors', 'moll', 'aao', 'tgc', 'stokes', 'microcrystal', 'microcrystals', 'needle', 'scattering', 'gray', 'bent', 'remnant', 'frill', 'cones', 'tubular', 'spectrum', 'cone', 'tgcs', 'layers', 'whiskers', 'gms', 'whisker', 'modes', 'tan', 'epr', 'yudin', 'gubanova', 'curing', 'kudriavtsev', 'diamines', 'balik', 'flexural', 'pi', 'based', 'acetyl', 'glogar', 'fibre', 'fibres', 'graphitised', 'elur', 'graphitisation', 'shear', 'carbonisation', 'manocha', 'resins', 'goykhman', 'hydrocarbons', 'combust', 'premixed', 'barbella', 'polycyclic', 'odd', 'tregrossi', 'aromatic', 'peaks', 'ciajolo', 'sequence', 'apicella', 'numbered', 'ms', 'ldi', 'nmp', 'sec', 'mw', 'pah', 'dcm', 'extract', 'total', 'becker', 'yields', 'slice', 'influence', 'saturation', 'rates', 'benzinger', 'pahs', 'ratio', 'hüttinger', 'pyrocarbon', 'residence', 'kpa', 'prieve', 'plane', 'mpg', 'flv', 'edges', 'wrinkling', 'video', 'simulations', 'continuum', 'wavelength', 'wrinkle', 'wrinkles', 'amplitude', 'coarse', 'cg', 'microstructural', 'cgmd', 'yarns', 'ps', 'grained', 'iso', 'plm', 'sl', 'cnfs', 'preforms', 'cvi', 'clvi', 'cah', 'solano', 'cazorla', 'redox', 'linares', 'complexes', 'caho', 'anan', 'akn', 'anhydrides', 'tpd', 'grown', 'anodes', 'nanofibers', 'coulombic', 'bed', 'fluidized', 'herringbone', 'reactor', 'ni', 'ldh', 'ldo', 'ldhs', 'stick', 'compressive', 'abruptly', 'cretu', 'iron', 'system', 'uchoa', 'fefe', 'atom', 'tm', 'moments', 'embedded', 'perforation', 'hole', 'spin', 'fe', 'magnetism', 'moment', 'spintronic', 'metropolis', 'expansion', 'triple', 'carlo', 'chain', 'mpf', 'monte', 'carbyne', 'bond', 'dec', 'oligomers', 'phenanthrene', 'naphthalene', 'coronene', 'oligomerization', 'acenaphthene', 'mantle', 'litasov', 'earth', 'pyrene', 'tade', 'chen', 'phosphide', 'fenton', 'radical', 'rhe', 'catalytic', 'cc', 'degradation', 'peroxymonosulfate', 'pms', 'ppy', 'nc', 'thermodynamic', 'eos', 'calibration', 'pole', 'pineau', 'zta', 'zhugin', 'uncertainty', 'experimental', 'parametric', 'shocked', 'eoss', 'data', 'erskine', 'atj', 'khishchenko', 'hugoniot', 'bayesian', 'charakhchyan', 'shock', 'rotating', 'manually', 'unaligned', 'scraped', 'direction', 'scratch', 'mark', 'aligned', 'nickel', 'scraper', 'scraping', 'marks', 'grecov', 'sign', 'mesophases', 'farhoudi', 'viscoelastic', 'discotic', 'elasticity', 'landau', 'theory', 'director', 'gennes', 'rheology', 'rey', 'nematic', 'aligning', 'flow', 'viscosity', 'rheological', 'er', 'stress', 'ericksen', 'dnlcs', 'tensor', 'ripalda', 'bonding', 'substitutional', 'krasheninnikov', 'vacancy', 'pyridine', 'nordlund', 'implantation', 'ro', 'smart', 'zimmennann', 'fall', 'radial', 'hirschvogel', 'damage', 'buffalo', 'electromechanical', 'intercalated', 'bodies', 'actuation', 'bsus', 'salib', 'nanometric', 'concentric', 'optomechanical', 'irreversible', 'textures', 'oily', 'desorption', 'neutral', 'adsorb', 'sponge', 'protonation', 'atms', 'responsive', 'oils', 'bromoisobutyryl', 'wettability', 'switchable', 'recovery', 'ph', 'oil', 'power', 'golovin', 'plasma', 'tools', 'dynamic', 'impulse', 'hipims', 'creep', 'kouznetsov', 'inclusions', 'grain', 'cnx', 'magnetron', 'damping', 'sputtering', 'cucnx', 'cu', 'hardness', 'machining', 'indentation', 'chatter', 'stiffness', 'coatings', 'ovsienko', 'ferromagnetic', 'coercive', 'prylutskyy', 'nanoclusters', 'paramagnetic', 'zfc', 'magnetization', 'core', 'birnessite', 'asymmetric', 'fasc', 'fascs', 'uea', 'macau', 'flexible', 'gcs', 'nanosheets', 'paak', 'gcm', 'pdda', 'kg', 'wh', 'degree', 'spinning', 'average', 'sheath', 'μm', 'stabilised', 'diameter', 'preferred', 'stabilisation', 'spun', 'carbonised', 'polyiodine', 'tsukada', 'bombyx', 'japanese', 'multi', 'koho', 'tokkyo', 'yield', 'step', 'sf', 'untreated', 'iodine', 'magoshi', 'iodinated', 'silk', 'fibroin', 'design', 'ce', 'situ', 'electroactive', 'lib', 'yoshio', 'battery', 'cyclability', 'urchin', 'ng', 'photophysical', 'trans', 'sidewall', 'polymers', 'decaying', 'reactive', 'isomerization', 'nm', 'isomer', 'distorted', 'photoexcitons', 'island', 'cis', 'pdtadbq', 'pdtaabq', 'azobenzene', 'bead', 'isomers', 'swnt', 'kraft', 'cluster', 'lindemann', 'intermolecular', 'totton', 'configurations', 'melting', 'σcnt', 'threshold', 'filler', 'dose', 'irradiated', 'ray', 'percolation', 'monteiro', 'filling', 'ef', 'rules', 'golberg', 'berthelot', 'portugal', 'gautam', 'axial', 'critical', 'cachim', 'force', 'costa', 'aveiro', 'filled', 'empty', 'zns', 'hybrids', 'orr', 'exfoliation', 'cenide', 'moene', 'crush', 'essen', 'duisburg', 'tms', 'infiltrated', 'edx', 'lotharstr', 'curves', 'asc', 'specific', 'elshahawy', 'nsg', 'mn', 'scan', 'sulfurization', 'sulfides', 'interconnected', 'nldft', 'ammc', 'macro', 'walls', 'macroporous', 'gmc', 'gmmc', 'polyurethane', 'mesopore', 'graphitized', 'australia', 'fluence', 'mol', 'sydney', 'eda', 'kcl', 'ions', 'valent', 'sieving', 'nsw', 'permeabilities', 'macquarie', 'sections', 'cross', 'polarized', 'nσt', 'polarization', 'radiation', 'depolarization', 'dlp', 'transmitted', 'absorbance', 'tion', 'rf', 'huisken', 'cojocaru', 'botti', 'run', 'romania', 'exhaust', 'radicals', 'absorp', 'crunteanu', 'nitrous', 'petcu', 'cireasa', 'alexandrescu', 'sfg', 'bucharest', 'ir', 'morjan', 'sensitizer', 'dissociation', 'sensitizers', 'vw', 'borsella', 'cn', 'naphthalide', 'residue', 'impurities', 'inorganic', 'hcl', 'dmac', 'purifications', 'purification', 'nanp', 'reductive', 'stz', 'oturan', 'yp', 'mgcm', 'commercial', 'fg', 'gravimetric', 'electrolytes', 'cotton', 'whkg', 'alkyl', 'carboxylic', 'reduction', 'solubilized', 'amide', 'chx', 'ev', 'shifts', 'waugh', 'shift', 'tourkow', 'magic', 'transients', 'harris', 'adsorbate', 'adsorbed', 'thompson', 'frequency', 'adsorbent', 'norman', 'mas', 'hz', 'pottage', 'nutshell', 'unactivated', 'deuterium', 'durham', 'ring', 'bpl', 'crystallite', 'coefficients', 'effect', 'conor', 'negative', 'murday', 'baden', 'cracow', 'touzain', 'resistance', 'loos', 'pampuch', 'blazewicz', 'owston', 'met', 'gy', 'synth', 'fischbach', 'piezoresistance', 'kato', 'symp', 'fractions', 'tsukuba', 'fa', 'murakami', 'hß', 'procintsympcarbontsukuba', 'aromaticity', 'fraction', 'naphthenic', 'sawa', 'structural', 'soluble', 'aliphatic', 'sanada', 'ofmesophase', 'ladner', 'nishizawa', 'insoluble', 'stream', 'deming', 'methylethylketone', 'purified', 'breakthrough', 'mek', 'characteristics', 'components', 'component', 'amount', 'concentration', 'desorbed', 'vocs', 'circularity', 'dmso', 'smooth', 'chinese', 'ziabicki', 'draw', 'coal', 'academy', 'bath', 'dope', 'taiyuan', 'topographies', 'gelation', 'cfs', 'dry', 'wet', 'esi', 'grooves', 'gel', 'polar', 'epitaxial', 'ab', 'terraces', 'aa', 'tunneling', 'schoelz', 'twisted', 'height', 'pattern', 'moiré', 'stm', 'corrugation', 'terrace', 'carbonizing', 'capacitive', 'mussel', 'songling', 'qingdao', 'fibrous', 'freezing', 'nanomaterials', 'shandong', 'dimensionality', 'nanofibrils', 'kevlar', 'anfs', 'dopamine', 'rdopamine', 'rglucose', 'anf', 'semiconducting', 'intratube', 'odv', 'divacancies', 'pdv', 'mono', 'passivated', 'passivation', 'di', 'vacancies', 'jhi', 'isothermal', 'shrinkage', 'bioproducts', 'heating', 'rerun', 'energies', 'softwood', 'kj', 'antiplasticization', 'constants', 'georgia', 'ozawa', 'kissinger', 'crosslinking', 'tma', 'mpa', 'tensions', 'polyacrylonitrile', 'swl', 'lignin', 'interlayer', 'varying', 'dangling', 'superlubricity', 'stage', 'slip', 'lubrication', 'rh', 'humidities', 'berman', 'rubbing', 'bonds', 'alternating', 'under', 'layered', 'pyridinic', 'porogen', 'dalian', 'npc', 'licl', 'npcs', 'pyrrolic', 'bandosz', 'salt', 'cultivating', 'enquist', 'heteroatom', 'overall', 'ngcs', 'vascular', 'veins', 'engl', 'roses', 'ngc', 'murray', 'rose', 'petal', 'petals', 'function', 'ifw', 'kev', 'peem', 'dresden', 'ups', 'escher', 'spot', 'spectroscopy', 'sts', 'μcμm', 'tetrahedral', 'iws', 'local', 'virgin', 'liquid', 'khan', 'inset', 'fom', 'coleman', 'swedish', 'scalable', 'tcfs', 'dc', 'prints', 'transparent', 'uppsala', 'opto', 'kω', 'stabilizer', 'acids', 'seredych', 'em', 'conditions', 'petit', 'pores', 'visibly', 'ammonia', 'moist', 'pk', 'smirnov', 'scorsone', 'voltammetry', 'vacnt', 'layer', 'window', 'impedance', 'bdd', 'vacnts', 'praha', 'planes', 'brentano', 'carbonxs', 'coherent', 'czech', 'geometry', 'profile', 'valvoda', 'blocks', 'young', 'weave', 'profiles', 'bragg', 'htt', 'fabric', 'diffraction', 'chehimi', 'carbonnier', 'line', 'tomsk', 'patterning', 'sheremet', 'rodriguez', 'zahn', 'xps', 'reduced', 'ablated', 'sps', 'sintering', 'ceramics', 'ceramic', 'densification', 'sheets', 'gnp', 'gnps', 'positively', 'distance', 'negatively', 'flue', 'bar', 'bundle', 'electrostatic', 'lj', 'charged', 'interactions', 'ketone', 'gh', 'hydroxide', 'epoxides', 'rourke', 'erickson', 'debris', 'hydroxyls', 'attacks', 'ladder', 'polson', 'opposite', 'basal', 'cracking', 'dimiev', 'epoxide', 'tri', 'uncondensed', 'amine', 'hunan', 'triazine', 'synergetic', 'nitride', 'hccp', 'sites', 'cycloaddition', 'type', 'channel', 'substrates', 'photosensitivity', 'photo', 'ratios', 'tfts', 'off', 'sd', 'ferritin', 'gate', 'metallic', 'breakdown', 'systems', 'gemini', 'catanionic', 'surfactants', 'viscoelasticity', 'forestry', 'opalescent', 'micellar', 'micelles', 'ctab', 'astps', 'astp', 'solutions', 'wormlike', 'cryo', 'surfactant', 'vesicles', 'neves', 'zhengzhou', 'encapsulated', 'confined', 'inner', 'wanko', 'superhard', 'rev', 'san', 'machon', 'linear', 'andrade', 'pichler', 'aguiar', 'miguel', 'collapse', 'filho', 'llccs', 'rohringer', 'lcc', 'ayala', 'souza', 'molecule', 'naphthacene', 'population', 'ts', 'no', 'kmc', 'nitric', 'pathway', 'sulfenic', 'heats', 'thiophenic', 'sulfonic', 'might', 'bax', 'sulfinic', 'oxidized', 'sulfones', 'concentrations', 'sotzing', 'acetate', 'organic', 'tsubokawa', 'sensor', 'δδ', 'pbma', 'black', 'responses', 'doleman', 'vapors', 'vapor', 'modena', 'lubricant', 'abs', 'journal', 'restuccia', 'link', 'physrevb', 'aps', 'qm', 'physrevlett', 'righi', 'pubs', 'doi', 'sciencedirect', 'http', 'url', 'org', 'www', 'properties', 'stuttgart', 'rühle', 'suppres', 'pure', 'redlich', 'blase', 'clemson', 'feenstra', 'carroll', 'tip', 'inhomo', 'ldos', 'charlier', 'vita', 'mev', 'bandgap', 'bill', 'ajayan', 'spatial', 'tips', 'variations', 'yaakobovitz', 'hart', 'voltage', 'youngs', 'top', 'pillar', 'forests', 'forest', 'bearing', 'pillinger', 'reusability', 'aryl', 'dias', 'dehydration', 'sulfonated', 'sg', 'furfural', 'xylose', 'sgo', 'marjanović', 'ćirić', 'gavrilov', 'anhui', 'mentus', 'sc', 'cnss', 'ecs', 'ultrathin', 'glycol', 'ethylene', 'ppeg', 'cathodes', 'mfcs', 'living', 'encrustation', 'mfc', 'bacteria', 'microbial', 'oneidensis', 'shewanella', 'mineral', 'bc', 'hematite', 'tof', 'pie', 'southard', 'mws', 'cca', 'noise', 'pitches', 'spotting', 'przybilla', 'spectrometry', 'petroleum', 'target', 'delay', 'anthracene', 'dithranol', 'da', 'conoco', 'tcnq', 'edlcs', 'solvothermal', 'rgsc', 'benzimidazole', 'opd', 'ngsc', 'phenazine', 'langfang', 'rg', 'vietnam', 'street', 'raster', 'induced', 'induction', 'pulse', 'houston', 'tx', 'tour', 'ppi', 'ligf', 'mscs', 'rice', 'lig', 'braking', 'doerner', 'newey', 'indents', 'isotroplc', 'propemes', 'icvd', 'berkovlch', 'rwster', 'displacement', 'indent', 'indenter', 'oliver', 'carbondale', 'marx', 'acvd', 'cvd', 'ohver', 'bolshakov', 'pharr', 'unloading', 'conversion', 'initiated', 'korolev', 'zgonnik', 'gcg', 'constancy', 'centers', 'erenburg', 'yakubovich', 'khgcg', 'arest', 'levengagen', 'melenevskaya', 'szwarz', 'styrène', 'erusalimski', 'visokomolec', 'isaev', 'nahmanovich', 'filipov', 'presence', 'novikov', 'eremina', 'soed', 'period', 'itzikson', 'gic', 'gics', 'lenenko', 'initiators', 'mmd', 'md', 'resistances', 'nanoconstrictions', 'convex', 'width', 'staggered', 'ballistic', 'interval', 'constriction', 'constrictions', 'tj', 'acidic', 'washing', 'potentiometric', 'turk', 'jagiełło', 'westvaco', 'dielectrophoresis', 'mushroomed', 'sectional', 'rutherglen', 'joung', 'array', 'khondaker', 'transformed', 'fib', 'transformation', 'kocabas', 'shekhar', 'arrays', 'sweep', 'sweeping', 'swollen', 'calabashes', 'indexed', 'hexapod', 'flower', 'fsem', 'ea', 'prepared', 'hx', 'pcp', 'bx', 'hcb', 'pp', 'es', 'signals', 'pumping', 'enoki', 'triplet', 'localized', 'circles', 'curie', 'dcno', 'signal', 'entities', 'nme', 'spins', 'nmes', 'tvac', 'couzi', 'nanocyl', 'situated', 'arkema', 'phonons', 'pyrograph', 'la', 'afs', 'flowers', 'albizia', 'microrods', 'af', 'pcmrst', 'naqvi', 'phosphorene', 'szpunar', 'graphdiyne', 'hydrog', 'cns', 'hussain', 'metal', 'dft', 'graphyne', 'bgdy', 'dopants', 'dopant', 'monolayer', 'monolayers', 'binding', 'valerio', 'batzill', 'photoemission', 'anatase', 'lizzit', 'wf', 'italy', 'omiciuolo', 'lacovig', 'titania', 'ti', 'gtm', 'tgtm', 'tgm', 'selloni', 'gr', 'baraldi', 'trieste', 'diffusion', 'bulk', 'sputtered', 'esconjauregui', 'ptsi', 'ald', 'native', 'mbar', 'nanoparticle', 'after', 'matt', 'matted', 'baik', 'reflector', 'drain', 'network', 'strano', 'exposure', 'neutralized', 'fluorine', 'wood', 'tomsia', 'chiang', 'delattre', 'davoodabadi', 'freeze', 'tortuosity', 'casting', 'tortuous', 'od', 'calendered', 'calendering', 'drying', 'fd', 'michelbacher', 'charging', 'uncalendered', 'amin', 'transfer', 'blowing', 'rosseland', 'insulation', 'solid', 'radiative', 'nanocellular', 'nanocomposites', 'cell', 'glicksman', 'mk', 'λrad', 'transmittance', 'diesel', 'dibenzothiophenes', 'dibenzothiophene', 'vl', 'photoactivity', 'fuel', 'desulfurization', 'fuels', 'dmdbt', 'pka', 'dbt', 'marafi', 'lodz', 'coking', 'tpsr', 'coked', 'coke', 'tpo', 'catal', 'deposit', 'duprez', 'deactivation', 'goralski', 'paryjczak', 'trimm', 'demichel', 'propane', 'querini', 'rzeznicka', 'isis', 'langevin', 'laue', 'broadening', 'osiris', 'aerogel', 'quasi', 'lorentzian', 'grenoble', 'para', 'ortho', 'neutron', 'nanoporosity', 'αs', 'pyb', 'pycho', 'derivative', 'derivatives', 'kaneko', 'colloids', 'pycooh', 'eiken', 'bactometer', 'japan', 'antifung', 'antibact', 'peptidoglycan', 'saline', 'sasamoto', 'zno', 'bacterial', 'aureus', 'sawai', 'coli', 'cz', 'antibacterial', 'kojima', 'yamamoto', 'cfu', 'dtcont', 'endurance', 'engines', 'severity', 'groove', 'thermo', 'lubricating', 'piston', 'egr', 'sump', 'deposits', 'engine', 'tests', 'duration', 'non', 'oberlin', 'mgbs', 'lmos', 'lmo', 'atds', 'flattening', 'nads', 'lingering', 'graphitizable', 'graphitizability', 'merging', 'eq', 'reorganisation', 'ouzilleau', 'absorber', 'wave', 'alloy', 'coni', 'huang', 'phenolic', 'prm', 'dielectric', 'manganese', 'nanobeads', 'rechargeable', 'korea', 'mnco', 'coo', 'microspheres', 'mncoo', 'ipcc', 'kent', 'jaroniec', 'microporosity', 'mi', 'wickramaratne', 'post', 'stöber', 'microporous', 'umi', 'oxalate', 'uptakes', 'uptake', 'analysis', 'location', 'ρuz', 'sat', 'mole', 'bromley', 'boiling', 'reagent', 'gaseous', 'nasibulin', 'condensate', 'outlet', 'shandakov', 'xylene', 'pss', 'overpotential', 'polystyrene', 'nixsy', 'pcns', 'sulfonation', 'coxniysz', 'chalcogenides', 'coxsy', 'sacrificing', 'cytotoxicity', 'kidney', 'tissues', 'vitro', 'caramelized', 'mice', 'organs', 'blood', 'gd', 'relaxivity', 'caramelization', 'agents', 'liver', 'vivo', 'mr', 'cnps', 'mri', 'injection', 'contrast', 'csv', 'weighted', 'setton', 'alkali', 'goldmann', 'pilliere', 'csc', 'cyclopentane', 'graphitide', 'hexane', 'graphitides', 'pillière', 'cesium', 'pentane', 'béguin', 'ternarization', 'phases', 'butane', 'alkanes', 'first', 'alkane', 'domains', 'brake', 'pic', 'vic', 'dynamometer', 'iii', 'chopped', 'staining', 'tris', 'kinase', 'ganjingzi', 'nuclei', 'equiv', 'linggong', 'cells', 'rna', 'live', 'stankovich', 'solvents', 'chemically', 'hydroquinone', 'rippled', 'nanosheet', 'functionalisation', 'functionalised', 'gons', 'oda', 'gns', 'octadecylamine', 'organophilic', 'hcp', 'green', 'section', 'pressed', 'golman', 'probability', 'limiting', 'packing', 'shinohara', 'void', 'voidage', 'tapes', 'voidages', 'voids', 'cast', 'peripheral', 'indices', 'median', 'index', 'microstructure', 'spherical', 'ohzeki', 'production', 'input', 'flamant', 'chibante', 'helium', 'ravary', 'pipe', 'sucking', 'schwob', 'grades', 'acetylene', 'fulcheri', 'equation', 'table', 'adsorbents', 'δh', 'agnihotri', 'cyclohexane', 'capacities', 'isotherm', 'hipco', 'monolith', 'extraction', 'micrometer', 'knorr', 'etzold', 'biomorphous', 'erlangen', 'fey', 'germany', 'sisic', 'dmy', 'pet', 'pr', 'bakelite', 'engraving', 'ethnic', 'ligs', 'fccooh', 'lasers', 'kaviany', 'defected', 'defect', 'people', 'republic', 'κg', 'κdeg', 'accumulative', 'tongji', 'relaxation', 'dependence', 'suppressed', 'mfp', 'interface', 'snapshots', 'brittle', 'sword', 'dwcnt', 'fails', 'propagates', 'potential', 'agcldiffusion', 'approx', 'ltmdcs', 'rhediffusion', 'rpmelectron', 'saturated', 'supported', 'vs', 'rde', 'lsv', 'lattice', 'acharya', 'portet', 'drexel', 'nd', 'deionisation', 'zou', 'brackish', 'deionization', 'desalination', 'cdi', 'nacl', 'mossad', 'electrosorption', 'will', 'predicted', 'which', 'intercept', 'grips', 'grip', 'yarn', 'venant', 'gauge', 'som', 'fea', 'highres', 'sivadas', 'sucrose', 'su', 'parabolic', 'curvature', 'zgr', 'zgrs', 'ripples', 'ripple', 'fract', 'berto', 'blunt', 'cbd', 'notch', 'notched', 'notches', 'polycrystalline', 'lazzarin', 'criterion', 'sed', 'loads', 'ayatollahi', 'vbd', 'pseudocapacitive', 'fec', 'ac_k', 'μf', 'diglyme', 'litfms', 'lics', 'control', 'dimension', 'media', 'uri', 'dermal', 'hel', 'culture', 'cellular', 'mobilization', 'keratinocytes', 'human', 'toxicol', 'ros', 'mtt', 'mitochondrial', 'toxicity', 'brennan', 'gravelle', 'present', 'basic', 'rivin', 'equilibrium', 'microcalorimetry', 'menendez', 'palma', 'phillips', 'site', 'pzc', 'calorimetric', 'bdh', 'calorimetry', 'optimisation', 'supply', 'modelling', 'apparatus', 'inlet', 'hercynite', 'pecvd', 'splitter', 'dz', 'mz', 'reflected', 'interferometer', 'mx', 'mirrors', 'mxmz', 'mirror', 'nanostructures', 'finqueneisel', 'linders', 'taqvi', 'limit', 'amino', 'produced', 'tribromobenzoic', 'precursors', 'monodisperse', 'debromination', 'trichlorophenol', 'tribromophenol', 'hcms', 'wei', 'printer', 'transparency', 'butenko', 'saint', 'osipov', 'ferrari', 'kuznetsov', 'detonation', 'petersburg', 'shells', 'nanodiamonds', 'nanodiamond', 'max', 'struzzi', 'recorded', 'scardamaglia', 'sidewalls', 'grafting', 'bittencourt', 'elettra', 'snyders', 'spem', 'aam', 'shuwen_wang_high_surface', 'monoliths', 'nir', 'ssdna', 'dsdna', 'rbm', 'ox', 'naddbs', 'biris', 'raw', 'raymo', 'fluoropore', 'giordani', 'merocyanine', 'spiropyran', 'spiropyrans', 'dmf', 'lifshitz', 'schittenhelm', 'wings', 'graphenes', 'etching', 'trasobares', 'stacked', 'stacks', 'biomedical', 'biosystems', 'clathrin', 'macrophages', 'cytoskeleton', 'actin', 'exocytosis', 'tumor', 'proteins', 'biological', 'cnms', 'endocytosis', 'decontaminants', 'oximate', 'buncel', 'diethylphosphate', 'cyclohexyl', 'simulant', 'chlorophenyl', 'sarin', 'oximes', 'decontamination', 'oxime', 'hydroxymethanimine', 'toxicants', 'gb', 'hydrolysis', 'atc', 'isopropylmethylphosphonic', 'declp', 'saxena', 'diethylchlorophosphate', 'nucleophilic', 'nucleophiles', 'impregnants', 'superconductor', 'ginzburg', 'zhong', 'meissner', 'oligophenyls', 'susceptibility', 'terphenyl', 'superconductors', 'bipolarons', 'superconductivity', 'superconducting', 'oe', 'quinquephenyl', 'michigan', 'coverage', 'arbor', 'ok', 'department', 'vertically', 'engineering', 'south', 'attenuation', 'nanoimprint', 'seoul', 'bedewy', 'nextgen', 'unpatterned', 'darpa', 'patterned', 'nil', 'daem', 'movie', 'wrgo', 'retardant', 'pn', 'phosphorus', 'fire', 'hto', 'it', 'chemical', 'anthracite', 'micropore', 'shadowing', 'element', 'ecr', 'nanocrystallite', 'roughening', 'nanocrystalline', 'downhill', 'gnc', 'nanocrystallites', 'roughness', 'diao', 'ultrasmooth', 'conductance', 'pdos', 'zzyn', 'ij', 'ptc', 'scatted', 'zayn', 'za', 'phds', 'phd', 'gnrs', 'gnr', 'aayn', 'stripe', 'ogino', 'surfaces', 'atomic', 'directional', 'sapphire', 'polished', 'trenches', 'controllability', 'tsukamoto', 'etched', 'between', 'corner', 'self', 'interaction', 'assembly', 'wrapping', 'scrolled', 'scrolling', 'ligands', 'porphyrins', 'korin', 'bettelheim', 'porphyrin', 'zagal', 'ligand', 'rrde', 'peroxide', 'bim', 'elbaz', 'fetmpyp', 'israeli', 'imidazole', 'reacts', 'exeter', 'micrograph', 'polyarylamide', 'localised', 'nomex', 'tomlinson', 'offs', 'cyprus', 'scanning', 'gimblett', 'whitbread', 'wigmans', 'uxbridge', 'theocharis', 'brunei', 'burn', 'freeman', 'pitting', 'pits', 'residues', 'oxidizing', 'dtg', 'disulfide', 'isopropyl', 'boulinguiez', 'mercaptans', 'ethyl', 'mercaptan', 'organosulfurs', 'bashkova', 'tht', 'bagreev', 'organosulfur', 'somani', 'expanded', 'micrographs', 'wherein', 'unzipping', 'smoke', 'windle', 'synthesized', 'marconnet', 'pdms', 'rohacell', 'aerogels', 'ultralight', 'dx', 'material', 'magnetically', 'fhpc', 'mo', 'separable', 'basso', 'celzard', 'peg', 'skeletal', 'triton', 'imorph', 'pizzi', 'pppt', 'formulation', 'formulations', 'pluro', 'pmdi', 'vitreous', 'tannin', 'furanic', 'std', 'stereology', 'fccvd', 'barsema', 'molecular', 'barrers', 'adsorbable', 'kapton', 'ultem', 'ffv', 'sieve', 'polyimides', 'finding', 'different', 'beck', 'cyclohexadiene', 'dienes', 'cpd', 'retro', 'diels', 'guhr', 'debrecen', 'sugar', 'alder', 'tg', 'cyclopentadiene', 'legends', 'within', 'across', 'drops', 'kfm', 'drop', 'cdg', 'ann', 'kelvin', 'sensing', 'semiconductor', 'activities', 'fluorescent', 'flqy', 'polyamine', 'dots', 'bpei', 'cqds', 'cqd', 'quantum', 'fl', 'qds', 'chamber', 'backscattered', 'gases', 'adsorbates', 'uhv', 'graphane', 'phg', 'exposed', 'rt', 'hydrogenation', 'dosage', 'patel', 'nodulated', 'key', 'road', 'monthioux', 'north', 'grains', 'lab', 'pyrolytic', 'bayview', 'crenulated', 'allouche', 'csiro', 'normanby', 'victoria', 'clayton', 'liaoning', 'swabbing', 'net', 'electrodeposition', 'fish', 'agnps', 'hotspots', 'nanogap', 'agnfs', 'nanofiber', 'simpson', 'etch', 'taper', 'crystallographic', 'bias', 'lowndes', 'thin', 'oak', 'xrd', 'melechko', 'guillorn', 'mcknight', 'vacnf', 'merkulov', 'fauth', 'albero', 'sxrpd', 'silvestre', 'narrow', 'iiyama', 'stimulus', 'enthalpy', 'ppac', 'ice', 'ins', 'freezable', 'cavities', 'casco', 'hydrate', 'hydrates', 'nanospace', 'rw', 'synchrotron', 'bello', 'safety', 'occupational', 'occup', 'aerosolized', 'health', 'assessment', 'filter', 'niosh', 'sampling', 'smps', 'eaaa', 'aethalometer', 'workplace', 'workplaces', 'oc', 'measurement', 'relative', 'serpinsky', 'dubinin', 'activant', 'cap', 'ohta', 'feo', 'chirality', 'morokuma', 'trajectories', 'nucleation', 'mobility', 'irle', 'during', 'microphotographs', 'mesh', 'nanofibres', 'ethane', 'quah', 'xc', 'carbonate', 'debart', 'vulcan', 'gnss', 'jeonbuk', 'jellinek', 'polym', 'uvb', 'esr', 'linking', 'min', 'uva', 'grade', 'uvc', 'textile', 'crumpled', 'pouch', 'kim', 'incheon', 'uogps', 'mah', 'thionyl', 'paper', 'yun', 'nibs', 'rogps', 'rogp', 'uogp', 'zg', 'dragoman', 'coaxial', 'pmma', 'kubo', 'mlg', 'connectors', 'apc', 'cpw', 'teflon', 'months', 'hydrazine', 'stable', 'sayyar', 'zeta', 'foils', 'rccg', 'dispersions', 'anhydrous', 'hrccg', 'ccg', 'vct', 'volatile', 'esters', 'hemicellulose', 'white', 'jagtoyen', 'solum', 'cellulose', 'derbyshire', 'phosphoric', 'resonances', 'pugmire', 'makarova', 'stamenov', 'esquinazi', 'ferromagnetism', 'coey', 'allylamine', 'diaminopropane', 'scroll', 'scrolls', 'murata', 'diamagnetic', 'fujiura', 'binders', 'baking', 'thermoset', 'nv', 'apparent', 'rs', 'brick', 'bd', 'kanno', 'baked', 'bricks', 'thermosetting', 'blend', 'binder', 'mochida', 'quaterrary', 'lficp', 'along', 'nanoribbons', 'honeycombs', 'honeycomb', 'oscillators', 'kink', 'deformed', 'helicoidal', 'paddle', 'regime', 'twcnt', 'torque', 'qwcnts', 'qwcnt', 'torsion', 'torsional', 'ridges', 'outermost', 'buckled', 'stiffened', 'spr', 'furrows', 'springs', 'nems', 'joo', 'bjh', 'vitamins', 'sieves', 'vitamin', 'ryoo', 'ageing', 'dedoped', 'aniline', 'bds', 'illumination', 'sulfite', 'mb', 'lactic', 'dcda', 'shinde', 'sensors', 'actuator', 'gis', 'nanocomposite', 'komatsubara', 'gomi', 'mist', 'sulfuric', 'removal', 'so', 'limestone', 'de', 'rain', 'time', 'asai', 'vgcf', 'sumita', 'tp', 'vgcfs', 'pvdf', 'slab', 'adhesion', 'adhesive', 'wrap', 'cycles', 'tank', 'compression', 'amorós', 'marco', 'vdr', 'kunowsky', 'lozar', 'cyclo', 'potentials', 'ik', 'dimer', 'dimerized', 'brenner', 'jindal', 'dumbbell', 'monoclinic', 'intercage', 'tersoff', 'peanut', 'scaling', 'squares', 'platelet', 'henry', 'platelets', 'projection', 'eef', 'xas', 'silicate', 'adlayer', 'adatoms', 'nanoscrolls', 'tearing', 'fet', 'exfoliated', 'ruptured', 'pieces', 'gunko', 'δg', 'frozen', 'wetted', 'turov', 'saw', 'sbw', 'or', 'hydration', 'slgo', 'cryoporometry', 'unfrozen', 'mlgo', 'uw', 'waw', 'bound', 'auto', 'threefold', 'coordination', 'networks', 'neighboring', 'coordinated', 'simulated', 'dos', 'isolated', 'fourfold', 'hybridized', 'incorporated', 'membered', 'gain', 'immobilised', 'diisocyanate', 'richner', 'pearls', 'prepolymer', 'ppg', 'extruded', 'butylamine', 'prepolymers', 'slurry', 'pbg', 'crosslinked', 'ncx', 'uk', 'photochemical', 'photoanodes', 'agcl', 'tungsten', 'ania', 'semiconductors', 'photooxidation', 'hub', 'velasco', 'values', 'recombination', 'additive', 'photocurrent', 'photoelectrochemical', 'ipce', 'compos', 'mats', 'mat', 'plasmid', 'division', 'expression', 'medium', 'μg', 'plyss', 'gfp', 'akhavan', 'recombinant', 'pegylation', 'ngo', 'pegs', 'lb', 'ftsz', 'agar', 'eps', 'kiss', 'steady', 'ares', 'rheometer', 'tumbling', 'sheared', 'fixtures', 'domain', 'rds', 'scale', 'dust', 'sats', 'scribed', 'wafer', 'daf', 'vapours', 'jasieńko', 'coals', 'widths', 'hałat', 'preoxidation', 'volumes', 'bituminous', 'senyshyn', 'johnsen', 'pxrd', 'upon', 'operando', 'lithiated', 'lithiation', 'staging', 'operation', 'energetically', 'unrelaxed', 'avdeeva', 'interstitial', 'fm', 'dissolution', 'fishbone', 'supercell', 'mep', 'state', 'voxel', 'bending', 'orientational', 'vdw', 'poisson', 'beads', 'multibead', 'bundling', 'entanglement', 'avi', 'rves', 'rve', 'stabilizing', 'into', 'ascribes', 'ethylenedioxythiophene', 'embedding', 'napss', 'pedot', 'hydrogel', 'hydrogels', 'conducting', 'supercritical', 'resulting', 'edot', 'filament', 'bombardment', 'sides', 'sigmund', 'nanotip', 'nanotips', 'ssra', 'nanoscience', 'cas', 'ssar', 'restrain', 'tianjin', 'fda', 'knitting', 'kbf', 'bilayers', 'campi', 'pmid', 'levita', 'ataca', 'panel', 'reconstructed', 'increment', 'mems', 'gsec', 'magnetostrictive', 'electromagnet', 'mt', 'nn', 'chronoamperometry', 'deconvolution', 'aoe', 'thioethers', 'bo', 'adelaide', 'sulfoxides', 'ao', 'wetting', 'nakajima', 'kyushu', 'covalent', 'kgn', 'semi', 'fluorination', 'fluorinated', 'tougher', 'underwent', 'reinforcement', 'pullout', 'cantilever', 'sb', 'iodixanol', 'sorted', 'sorting', 'unsorted', 'sensitivity', 'bondavalli', 'battie', 'tlm', 'received', 'measurements', 'impregnant', 'moisture', 'lateral', 'tcs', 'song', 'nfc', 'gs', 'tc', 'balandin', 'gss', 'nanofibrillated', 'spreaders', 'pre', 'free', 'mic', 'solvation', 'provencher', 'interfacial', 'nitroaromatics', 'leboda', 'cdnb', 'egh', 'tnt', 'ziȩba', 'skubiszewska', 'egox', 'egin', 'elements', 'agglomerates', 'agglomerated', 'romanov', 'gorbatikh', 'lomov', 'assemblies', 'verpoest', 'waviness', 'leuven', 'stresses', 'vertex', 'interleaved', 'impregnation', 'prepregs', 'starter', 'sbs', 'ilss', 'enf', 'bucky', 'multiscale', 'interleaf', 'interleaves', 'mostoles', 'agharkara', 'pseudoms', 'santamaría', 'ss', 'ramp', 'granda', 'single', 'blanco', 'entries', 'yes', 'botas', 'repsol', 'flash', 'incar', 'factor', 'piezoresistive', 'piezoresistivity', 'synergistic', 'chongqing', 'dlt', 'hfp', 'nanofiller', 'nanofillers', 'electrets', 'electret', 'piezoelectret', 'ddl', 'carriers', 'permittivity', 'participate', 'completion', 'participating', 'reversal', 'dissolved', 'adh', 'individual', 'diffusivity', 'hexagons', 'slow', 'choubak', 'foil', 'contaminants', 'ar', 'residual', 'apcvd', 'dairy', 'henle', 'wilczak', 'eluate', 'enzyme', 'norit', 'dipeptides', 'hippauf', 'lactalbumin', 'trp', 'enrichment', 'food', 'rox', 'batch', 'hypertension', 'lunow', 'column', 'peptides', 'peptide', 'tryptophan', 'angiotensin', 'hydrolysate', 'hydrolysates', 'ace', 'ile', 'outflow', 'aat', 'islands', 'quartz', 'tcgpcb', 'ptfe', 'sea', 'tgpc', 'bionics', 'gc', 'gpc', 'ocnts', 'cgpc', 'cake', 'cgc', 'tcgc', 'tcgpc', 'spectroscopic', 'keogh', 'bluetm', 'alamar', 'hedderman', 'assays', 'casey', 'nr', 'formazan', 'commassie', 'dyes', 'wst', 'dublin', 'metals', 'coci', 'guay', 'cocl', 'tilquin', 'coclz', 'dodelet', 'inagaki', 'naci', 'mcl', 'lalande', 'bailey', 'dignard', 'tamizhmani', 'method', 'mixing', 'atm', 'metz', 'melt', 'synthetic', 'ohira', 'trudeau', 'sakakihara', 'nicolaus', 'terzyk', 'biogas', 'const', 'toruń', 'ias', 'mc', 'missing', 'maganov', 'fil', 'qin', 'hoffman', 'mulhouse', 'effler', 'pass', 'manufacture', 'tered', 'me', 'compatibilizing', 'pees', 'compatibilizers', 'ether', 'polysulfones', 'wrapped', 'impact', 'compatibilizer', 'charpy', 'compatibilized', 'incorporating', 'peek', 'lg', 'psf', 'zare', 'walk', 'equipotential', 'suhr', 'lds', 'events', 'ae', 'gds', 'debonding', 'ifss', 'particulate', 'gn', 'flechtner', 'mananghaya', 'eform', 'stw', 'zn', 'μn', 'metallicity', 'dstw', 'μb', 'motif', 'polyisoprene', 'absolute', 'rubber', 'platen', 'ecps', 'ecp', 'gage', 'cement', 'silicone', 'alv', 'tagmatarchis', 'atr', 'dyke', 'nanohorn', 'cnhs', 'diazonium', 'ethylcarbamate', 'ethoxy', 'cnh', 'pagona', 'nanohorns', 'yudasaka', 'aperture', 'phenyl', 'excited', 'ultrafast', 'philip', 'limiter', 'olt', 'sridharan', 'nonlinearity', 'μj', 'saturable', 'ns', 'rsa', 'nonlinear', 'wsg', 'fs', 'sa', 'unmodified', 'support', 'silica', 'supports', 'microcellular', 'microcells', 'paste', 'astrophys', 'arom', 'adjac', 'vibrations', 'condensed', 'extracts', 'condensation', 'fluoranthene', 'astrophysical', 'benzo', 'elbow', 'perrard', 'acc', 'joly', 'naocl', 'anhydride', 'cloth', 'densities', 'wearable', 'areal', 'fas', 'pptx', 'topographic', 'buffer', 'dipping', 'enzymatic', 'nicuo', 'ito', 'cunio', 'clustering', 'ssm', 'fcc', 'lavrentiev', 'oy', 'np', 'udm', 'intervals', 'rbs', 'hillocks', 'fulleride', 'naramoto', 'naoh', 'stimuli', 'cuo', 'opening', 'moh', 'fgs', 'upper', 'flat', 'unist', 'coupling', 'nanoribbon', 'mismatched', 'ising', 'antiferromagnetic', 'electrospinning', 'blends', 'yoon', 'electrospun', 'jang', 'mcnps', 'nanocarbon', 'mediated', 'phss', 'aos', 'lev', 'radiolysis', 'photolysis', 'lyso', 'ffa', 'tmpd', 'xtt', 'phs', 'riboflavin', 'psd', 'singlet', 'pib', 'performances', 'qiu', 'pibs', 'rank', 'france', 'cnrs', 'aix', 'concave', 'teschner', 'marseille', 'bichara', 'amara', 'ducastelle', 'magnin', 'decarbonized', 'borosilicate', 'healing', 'dta', 'additives', 'butyl', 'ptbma', 'pvbmn', 'tbma', 'vbmn', 'cms', 'graft', 'nylon', 'maa', 'sac', 'kinetic', 'agricultural', 'atsac', 'picoline', 'picolines', 'mohan', 'wastewater', 'bt', 'vt', 'dep', 'directed', 'egps', 'settled', 'spectrums', 'gnf', 'gnfs', 'azgnfs', 'parallelogram', 'helical', 'zzgnfs', 'cutting', 'two', 'kirigami', 'filtering', 'spark', 'conductivities', 'thermoelectric', 'vrh', 'hopping', 'qian', 'geldart', 'vermiculites', 'lamellar', 'among', 'fluidization', 'vermiculite', 'rhombuses', 'eight', 'leed', 'starke', 'dugerjav', 'zl', 'postannealed', 'postannealing', 'qfmlg', 'lkhagvasuren', 'zakharov', 'unitcell', 'pgss', 'pgs_iii', 'pgs_iv', 'pgs', 'pgs_ii', 'ogawa', 'new', 'jas', 'karamatsu', 'prepreg', 'cfrwood', 'glulams', 'glulam', 'cfr', 'sugi', 'nakamatsu', 'turn', 'coiled', 'tubule', 'αc', 'angle', 'angles', 'cncs', 'αm', 'handed', 'rising', 'radii', 'nanospring', 'nanosprings', 'nanocoils', 'spring', 'optimized', 'turns', 'mras', 'mra', 'jago', 'orlita', 'lls', 'polarizibility', 'winzer', 'malic', 'combined', 'multiphonon', 'rhys', 'lqg', 'wendler', 'organization', 'cyanuric', 'supramolecular', 'δα', 'spots', 'optics', 'fractional', 'dynamics', 'lifetimes', 'tcspc', 'shanxi', 'photoreduction', 'molkg', 'widening', 'mpsds', 'mpsd', 'anthracites', 'deliverable', 'pz', 'vc', 'catalysis', 'hot', 'spacings', 'dassios', 'gold', 'aunps', 'spacing', 'ubs', 'biomarkers', 'pil', 'transducers', 'tung', 'voc', 'spoilage', 'vapour', 'discrimination', 'chemo', 'snr', 'packaging', 'analytes', 'feller', 'nonpolar', 'dichloromethylene', 'rosca', 'lpo', 'hyperpolarizabilities', 'homo', 'gqd', 'hl', 'gqds', 'δe', 'nlo', 'third', 'hyperpolarizability', 'substituent', 'lumo', 'nanotubular', 'ammoxidized', 'ammoxidation', 'nt', 'frackowiak', 'alkaline', 'delpeux', 'poznań', 'jurewicz', 'hou', 'mater', 'sswb', 'interfaces', 'feco', 'interatomic', 'compton', 'hammersley', 'dore', 'template', 'esrf', 'proffen', 'kyotani', 'burian', 'channels', 'neighbour', 'koloczek', 'sz', 'block', 'peo', 'pdma', 'zwitterionic', 'hpc', 'toyoda', 'adsorptivity', 'tryba', 'konno', 'tsumura', 'photodecomposition', 'rutile', 'pretreatment', 'irabien', 'extensively', 'gwanggyo', 'tempo', 'ccnf', 'lco', 'visco', 'newtonian', 'lver', 'cheung', 'collett', 'processing', 'superposition', 'ferry', 'turpin', 'rad', 'behaviour', 'nazem', 'rheometry', 'rand', 'oscillatory', 'master', 'call', 'orbital', 'boxes', 'fractals', 'lumö', 'andl', 'benedek', 'aggregate', 'davidene', 'ground', 'displaying', 'oo', 'asymptotically', 'roman', 'orbitais', 'cantor', 'levels', 'df', 'aggre', 'cofe', 'aminophthalic', 'hydroxides', 'ccvd', 'active', 'wax', 'emulsion', 'alkylamine', 'janus', 'amphiphilic', 'tapioca', 'starch', 'ajn', 'catholyte', 'zifs', 'zif', 'xanes', 'polysulfides', 'polysulfide', 'cohc', 'nas', 'cnas', 'nanowires', 'nanowire', 'alcohol', 'dimensional', 'segregated', 'φc', 'hdpe', 'exponent', 'hertel', 'deformations', 'hanein', 'abrams', 'images', 'adjoining', 'adhering', 'deformation', 'an', 'ding', 'lou', 'aggregated', 'amelinckx', 'distributions', 'outer', 'escaping', 'microstructures', 'central', 'gamaly', 'diameters', 'ohkohchi', 'colbert', 'sustained', 'ebbesen', 'shimotani', 'tang', 'mcnts', 'region', 'fringe', 'cupped', 'amiinu', 'sep', 'jan', 'murugesan', 'samayanan', 'kou', 'nitrophenol', 'sonamuthu', 'nanocubes', 'supp', 'ils', 'bmim', 'pnf', 'bnf', 'velocity', 'motion', 'motors', 'fenp', 'cargo', 'microchannel', 'mmc', 'motor', 'libraries', 'bimodal', 'library', 'accvd', 'nonylphenol', 'calc', 'photoelectrocatalytic', 'fto', 'photoelectrocatalysis', 'rough', 'wenzel', 'contact', 'cos', 'protrutions', 'superhydrophilic', 'superhydrophilicity', 'superhydrophobic', 'superhydrophobicity', 'these', 'through', 'taif', 'recycling', 'notice', 'losic', 'degradable', 'anodization', 'naams', 'rosb', 'bpy', 'naam', 'ru', 'rhob', 'plastic', 'bags', 'units', 'lengths', 'styrene', 'bromo', 'repeat', 'methylpropionyl', 'cnp', 'pst', 'ismagilov', 'fenelonov', 'dbb', 'reshetenko', 'cfc', 'textural', 'hydrogasification', 'bilayer', 'twist', 'detector', 'map', 'caplins', 'mask', 'gwanak', 'decay', 'argonne', 'mullins', 'reflectance', 'ensemble', 'correlation', 'phenomenology', 'vro', 'shale', 'maturity', 'maturation', 'urbach', 'vitrinite', 'kerogen', 'kerogens', 'proxy', 'elimination', 'halide', 'chlorination', 'chromium', 'carbides', 'yano', 'apoh', 'aminopropyl', 'xys', 'mscss', 'mmss', 'mmsss', 'calcined', 'starburst', 'monodispersed', 'group', 'organically', 'jr', 'shoulders', 'kini', 'bale', 'janosi', 'lahiri', 'mandelbrot', 'guinier', 'evans', 'york', 'saxs', 'perry', 'academic', 'lyengar', 'mahajan', 'mitropoulos', 'cby', 'sby', 'allardice', 'bristol', 'edition', 'tonkikh', 'russia', 'moscow', 'ras', 'kharlamova', 'sq', 'polyiodide', 'iodination', 'thermochemical', 'grow', 'thermochemically', 'motojima', 'helix', 'helices', 'strands', 'microhelices', 'sio', 'ccfs', 'topological', 'durability', 'dmwnts', 'dmwnt', 'onset', 'waki', 'rta', 'icp', 'arizona', 'electrocoagulation', 'rbcl', 'dgu', 'reflux', 'electrolysis', 'promoters', 'soots', 'promoter', 'fes', 'lis', 'lipss', 'graphites', 'bisulphate', 'avdeev', 'nitrate', 'heavy', 'nazarov', 'fgics', 'fgic', 'egs', 'makotchenko', 'intercalant', 'heg', 'hegs', 'flexibility', 'polyol', 'nanoalloys', 'agpt', 'addition', 'crystals', 'serum', 'ecsa', 'nonenzymatic', 'nio', 'nanohybrid', 'dl', 'floating', 'nucleate', 'twcnts', 'eutectic', 'number', 'joseph', 'bode', 'gadhamshetty', 'city', 'day', 'abiotic', 'biofilm', 'rcorr', 'corrosion', 'united', 'mage', 'srb', 'dakota', 'microbiologically', 'blvd', 'mild', 'chilkoor', 'mag', 'mpy', 'maleic', 'mines', 'shanghai', 'hi', 'hydrophilicity', 'cnc', 'momentum', 'inertial', 'weber', 'sussman', 'peclet', 'numerical', 'movement', 'reynolds', 'bubble', 'bubbles', 'condition', 'hydroxymethyl', 'grenierloustalot', 'formaldehyde', 'five', 'thess', 'rope', 'fold', 'fee', 'lucas', 'twin', 'pirouz', 'reflections', 'shechtman', 'multishell', 'hevesi', 'ruca', 'haanstra', 'krekels', 'bruyninckx', 'dark', 'chiral', 'ges', 'luyten', 'hrem', 'ropes', 'tendeloo', 'hko', 'bernaerts', 'amelinekx', 'landuyt', 'van', 'washed', 'desilication', 'hf', 'ztc', 'zeolites', 'zeolite', 'beta', 'dmeda', 'ash', 'nishihara', 'templated', 'dealumination', 'framework', 'bright', 'cavity', 'edps', 'nanorods', 'nanorod', 'product', 'ctts', 'hdmg', 'dimethylglyoxime', 'hydrogenated', 'intrinsic', 'nonmagnetic', 'styles', 'nanjing', 'linyi', 'saed', 'abc', 'style', 'pgdy', 'stacking', 'multilayer', 'gdy', 'do', 'supercluster', 'aα', 'kμ', 'superclusters', 'aggregation', 'oven', 'joule', 'nanocarbons', 'repair', 'hardener', 'cured', 'cure', 'vilatela', 'nanoplatelets', 'agari', 'constant', 'text', 'doc', 'ﬂux', 'integral', 'trick', 'mechanism', 'probable', 'ln', 'pf', 'fepc', 'donghua', 'facility', 'xafs', 'kramm', 'tpp', 'copc', 'formed', 'circuiting', 'dahn', 'insertion', 'emu', 'carrier', 'mott', 'narayan', 'wal', 'orbit', 'bhaumik', 'undercooling', 'sachan', 'pla', 'localization', 'amana', 'pulikollu', 'penchina', 'tantalum', 'canada', 'freshly', 'aerosols', 'schrader', 'fresh', 'airborne', 'sandpaper', 'toronto', 'wca', 'wcas', 'mgg', 'hopg', 'grzyb', 'abraham', 'papirer', 'igc', 'burg', 'shuely', 'nitropropane', 'probes', 'ctp', 'dispersive', 'solute', 'mosaics', 'lser', 'cokes', 'internal', 'steele', 'mclachlan', 'canonical', 'commensurate', 'fluid', 'collision', 'ustinov', 'quadrupole', 'tangential', 'mediation', 'electrosprayed', 'cmss', 'kb', 'electrospraying', 'pmss', 'lsbs', 'novolac', 'hypothetic', 'misalignment', 'rdf', 'fragment', 'spinsg', 'fragments', 'tilting', 'parallel', 'prieto', 'etter', 'algrp', 'squeeze', 'preform', 'nonmetal', 'perpendicular', 'cvs', 'dilatometer', 'edlc', 'dilatation', 'cde', 'locally', 'motifs', 'lerf', 'gos', 'effluent', 'pe', 'orthogonal', 'adsorber', 'xiu', 'collocation', 'pb', 'intraparticle', 'lnd', 'alslcc', 'alshcc', 'sh', 'shcc', 'capacitances', 'hpcs', 'slcc', 'clr', 'rc', 'rga', 'neon', 'southampton', 'fused', 'fishlock', 'memsci', 'shubnikov', 'sciences', 'kudryavtsev', 'adamantane', 'russian', 'dibromoadamantane', 'lebedev', 'crystallography', 'diamonds', 'ekimov', 'troitsk', 'kuwana', 'cea', 'efficiency', 'mayne', 'carpet', 'generator', 'pinault', 'inha', 'wcsl', 'dough', 'tzc', 'mnpc', 'hirshfeld', 'fields', 'channelling', 'madrid', 'submitted', 'reox', 'brillouin', 'point', 'shears', 'symmetry', 'modulo', 'panels', 'contours', 'indirect', 'strains', 'gels', 'cx', 'xerogels', 'series', 'guangzhou', 'nco', 'chem', 'jy', 'mor', 'abdel', 'institutes', 'dual', 'hefei', 'absorbed', 'onto', 'cytochrome', 'thionine', 'basiuk', 'percentages', 'microemulsion', 'reverse', 'cancerous', 'endometrial', 'sterile', 'toxic', 'analogs', 'nagy', 'lhrh', 'receptors', 'confocal', 'survivals', 'luteinizing', 'incubated', 'gonadotrophin', 'cytotoxic', 'hela', 'prostate', 'cancers', 'pbs', 'releasing', 'schally', 'gnrh', 'hormone', 'isopropanol', 'superbase', 'chun', 'pinewood', 'acetone', 'basicity', 'δt', 'cracks', 'environments', 'atmosphere', 'fatigue', 'acquisition', 'sdia', 'pyramid', 'mochena', 'mogus', 'larsson', 'apex', 'symmetric', 'harutyunyan', 'face', 'tefera', 'icosahedral', 'nanocatalyst', 'carbonized', 'structuration', 'pom', 'sem', 'nanocoil', 'sn', 'bhf', 'bst', 'running', 'exothermic', 'cyclized', 'stabilized', 'reactions', 'aramid', 'identification', 'molybdenite', 'dgc', 'stibnite', 'residuum', 'diffractions', 'filip', 'lm', 'zircon', 'rol', 'stripes', 'flux', 'chips', 'chip', 'individually', 'large', 'kathyayini', 'low', 'acetylacetonate', 'engenharia', 'amounts', 'molcm', 'porto', 'monometallic', 'covering', 'grafoil', 'pcbs', 'sumfleth', 'kinds', 'wu', 'foamed', 'jiangsu', 'polylactide', 'bendable', 'jaronicc', 'dokko', 'protic', 'pci', 'pyrrole', 'watanbe', 'μw', 'yao', 'te', 'csa', 'singapore', 'seebeck', 'ngs', 'short', 'bend', 'sfgs', 'pressing', 'ff', 'entry', 'lif', 'pce', 'etls', 'etl', 'pscs', 'mastication', 'supplementary', 'benzothiazolyl', 'workability', 'resilience', 'sbr', 'nhcs', 'jis', 'vulcanization', 'mooney', 'disordered', 're', 'stages', 'primary', 'ruemmeli', 'falk', 'secondary', 'nerushev', 'dusting', 'schaeffel', 'eels', 'heterojunction', 'cya', 'coralloid', 'teoa', 'cnl', 'cnat', 'dess', 'nanocages', 'cnu', 'ifthikar', 'environmental', 'persulfates', 'superlattice', 'mgal', 'gl', 'nonradical', 'jawad', 'monolayered', 'persulfate', 'ch', 'birch', 'fluorographite', 'hhg', 'hglh', 'nak', 'ethylenediamine', 'mechanisms', 'minton', 'aiaa', 'poovathingal', 'fluxes', 'angular', 'psmm', 'td', 'dsmc', 'μe']\n",
    "carbon_ant_list = []\n",
    "carbon_syn_list = []\n",
    "\n",
    "driver = webdriver.Chrome()\n",
    "\n",
    "for word in carbon_words:\n",
    "    \n",
    "    driver.get('view-source:https://www.thesaurus.com/browse/' + word)\n",
    "    time.sleep(1)\n",
    "    \n",
    "    html_doc = driver.page_source # stores the source HTML code in the driver's page_source attribute\n",
    "   \n",
    "    #Issue with next two lines is that we are also picking up \"Related Terms\" synonyms and antonyms.\n",
    "    #Dirty fix is to keep only the 5 ant and syn results from a query after it has been cleaned.\n",
    "    syn = re.findall(r'\"similarity\":\"100\",\"isInformal\":\"0\",\"isVulgar\":null,\"term\":\"(\\S*?)\",\"targetTerm\"', html_doc) \n",
    "    ant = re.findall(r'\"similarity\":\"-100\",\"isInformal\":\"0\",\"isVulgar\":null,\"term\":\"(\\S*?)\",\"targetTerm\"', html_doc)\n",
    "    \n",
    "    carbon_syn_list.append(syn)\n",
    "    carbon_ant_list.append(ant)\n",
    "    \n",
    "    driver.refresh()\n",
    "\n",
    "driver.quit()\n",
    "\n",
    "    "
   ]
  },
  {
   "cell_type": "code",
   "execution_count": null,
   "metadata": {},
   "outputs": [],
   "source": [
    "#Creation of raw list of lists of syn/ant for each 'useful_word'\n",
    "raw_carbon_syn_list = [[] for i in range(len(carbon_words))]\n",
    "raw_carbon_ant_list = [[] for i in range(len(carbon_words))]\n"
   ]
  },
  {
   "cell_type": "code",
   "execution_count": null,
   "metadata": {},
   "outputs": [],
   "source": [
    "#Clean up scraped data (remove repetitions, need to find out how many syn/ant we want to keep)\n",
    "#Populate raw list of lists with cleaned syn/ant for each'useful_word'\n",
    "for i in range(len(carbon_words)):\n",
    "    for word in carbon_syn_list[i]:\n",
    "        if word in raw_carbon_syn_list[i]:\n",
    "            continue\n",
    "        else:\n",
    "            raw_carbon_syn_list[i].append(word)\n",
    "    \n",
    "for i in range(len(carbon_words)):\n",
    "    for word in carbon_ant_list[i]:\n",
    "        if word in raw_carbon_ant_list[i]:\n",
    "            continue\n",
    "        else:\n",
    "            raw_carbon_ant_list[i].append(word)"
   ]
  },
  {
   "cell_type": "code",
   "execution_count": 29,
   "metadata": {},
   "outputs": [],
   "source": [
    "#DataFrame creation based off amount of 'useful_words'\n",
    "#Populate DataFrame with 'useful_word' and syn/ant for each 'useful_word'\n",
    "master = []\n",
    "    \n",
    "for i in range(len(carbon_words)):\n",
    "    term = carbon_words[i]\n",
    "    ant = raw_carbon_ant_list[i]\n",
    "    syn = raw_carbon_syn_list[i]\n",
    "\n",
    "    master.append([ant,term,syn])\n",
    "\n",
    "carbon_df = pd.DataFrame(master, columns = {'Term', 'Synonyms', 'Antonyms'})"
   ]
  },
  {
   "cell_type": "code",
   "execution_count": 31,
   "metadata": {},
   "outputs": [],
   "source": [
    "carbon_df.to_csv('Carbon_SynAntList.csv')"
   ]
  },
  {
   "cell_type": "code",
   "execution_count": 72,
   "metadata": {},
   "outputs": [],
   "source": [
    "carbon_df = pd.read_csv('Carbon_SynAntList.csv', index_col=0)"
   ]
  },
  {
   "cell_type": "code",
   "execution_count": 6,
   "metadata": {},
   "outputs": [],
   "source": [
    "def remove_apostrophe(word):\n",
    "    word = word[1:-1]\n",
    "    return word"
   ]
  },
  {
   "cell_type": "code",
   "execution_count": 4,
   "metadata": {},
   "outputs": [],
   "source": [
    "def clean_dataframe(df):\n",
    "    for i in range(0,len(df)):\n",
    "        df.iloc[i,0] = df.iloc[i,0][1:-1] #Getting rid of the brackets around the tokens in Tokens column\n",
    "        df.iloc[i,2] = df.iloc[i,2][1:-1]\n",
    "    \n",
    "    for i in range(0,len(df)):\n",
    "        df.iloc[i,0] = df.iloc[i,0].split(', ') #Seperating each pair word with a ', '\n",
    "        df.iloc[i,2] = df.iloc[i,2].split(', ')\n",
    "    \n",
    "    for i in range(0,len(df)):\n",
    "        df.iloc[i,0] = list(map(remove_apostrophe, df.iloc[i,0])) #removing apostrophes around each word\n",
    "        df.iloc[i,2] = list(map(remove_apostrophe, df.iloc[i,2]))\n",
    "    return df"
   ]
  },
  {
   "cell_type": "code",
   "execution_count": 73,
   "metadata": {},
   "outputs": [],
   "source": [
    "carbon_df = clean_dataframe(carbon_df)"
   ]
  },
  {
   "cell_type": "code",
   "execution_count": 74,
   "metadata": {},
   "outputs": [],
   "source": [
    "import nltk\n",
    "import re\n",
    "from nltk.corpus import wordnet\n",
    "\n",
    "WN_syn_list = []\n",
    "WN_ant_list = []\n",
    "\n",
    "for word in carbon_words:\n",
    "    \n",
    "    synonyms = []\n",
    "    antonyms = []\n",
    "    \n",
    "    for syn in wordnet.synsets(word):\n",
    "        for l in syn.lemmas():\n",
    "            synonyms.append(l.name())\n",
    "        if l.antonyms():\n",
    "                antonyms.append(l.antonyms()[0].name())\n",
    "    \n",
    "    clean_syns = []\n",
    "    clean_ants = []\n",
    "\n",
    "    for word in range(len(set(synonyms))):\n",
    "        clean_syn = (list(set(synonyms)))[word].replace(\"_\", \" \")\n",
    "    \n",
    "        clean_syns.append(clean_syn)\n",
    "\n",
    "    for word in range(len(set(antonyms))):\n",
    "        clean_ant = (list(set(antonyms)))[word].replace(\"_\", \" \")\n",
    "    \n",
    "        clean_ants.append(clean_ant)\n",
    "        \n",
    "    WN_syn_list.append(clean_syns)\n",
    "    WN_ant_list.append(clean_ants)\n",
    "    "
   ]
  },
  {
   "cell_type": "code",
   "execution_count": 75,
   "metadata": {},
   "outputs": [],
   "source": [
    "#Adding WN sourced words to the T.com df\n",
    "#Appending WN_syns or WN_ants to the \n",
    "for i in range(0,len(carbon_words)):\n",
    "    if carbon_df.iloc[i,1] == ['']:\n",
    "        carbon_df.iloc[i,1] = WN_ant_list[i]\n",
    "    else:\n",
    "        continue\n",
    "    if carbon_df.iloc[i,2] == ['']:\n",
    "        carbon_df.iloc[i,2] = WN_syn_list[i]\n",
    "    else:\n",
    "        continue\n"
   ]
  },
  {
   "cell_type": "code",
   "execution_count": 76,
   "metadata": {},
   "outputs": [],
   "source": [
    "carbon_df.to_csv('Carbon_SynAntList_Full.csv')"
   ]
  },
  {
   "cell_type": "code",
   "execution_count": 90,
   "metadata": {},
   "outputs": [],
   "source": [
    "carbon_df = pd.read_csv('Carbon_SynAntList_Full.csv', index_col=0)"
   ]
  },
  {
   "cell_type": "code",
   "execution_count": 89,
   "metadata": {},
   "outputs": [],
   "source": [
    "def convert(olddf): \n",
    "    master = []\n",
    "\n",
    "    for i in range(len(olddf)):\n",
    "        term = olddf.iloc[i,1]\n",
    "        antlist = olddf.iloc[i,0]\n",
    "        synlist = olddf.iloc[i,2]\n",
    "\n",
    "        if antlist is not []:\n",
    "            for ant in antlist:\n",
    "                master.append([term,ant,'ant'])\n",
    "\n",
    "        if synlist is not []:\n",
    "            for syn in synlist:\n",
    "                master.append([term,syn,'syn'])\n",
    "\n",
    "    return pd.DataFrame(master)"
   ]
  },
  {
   "cell_type": "code",
   "execution_count": 92,
   "metadata": {},
   "outputs": [],
   "source": [
    "carbon_df = clean_dataframe(carbon_df)"
   ]
  },
  {
   "cell_type": "code",
   "execution_count": 94,
   "metadata": {},
   "outputs": [],
   "source": [
    "carbon_df = convert(carbon_df)"
   ]
  },
  {
   "cell_type": "code",
   "execution_count": 99,
   "metadata": {},
   "outputs": [],
   "source": [
    "#Clean up full refined to removed column 1 NaNs"
   ]
  },
  {
   "cell_type": "code",
   "execution_count": 11,
   "metadata": {},
   "outputs": [],
   "source": [
    "carbon_df = carbon_df.dropna(how='any',axis=0) "
   ]
  },
  {
   "cell_type": "code",
   "execution_count": 35,
   "metadata": {},
   "outputs": [],
   "source": [
    "carbon_df.to_csv('Carbon_SynAntList_Full_Refined.csv')"
   ]
  },
  {
   "cell_type": "code",
   "execution_count": 36,
   "metadata": {},
   "outputs": [],
   "source": [
    "carbon_df = pd.read_csv('Carbon_SynAntList_Full_Refined.csv', index_col=0)"
   ]
  },
  {
   "cell_type": "code",
   "execution_count": 34,
   "metadata": {},
   "outputs": [
    {
     "data": {
      "text/html": [
       "<div>\n",
       "<style scoped>\n",
       "    .dataframe tbody tr th:only-of-type {\n",
       "        vertical-align: middle;\n",
       "    }\n",
       "\n",
       "    .dataframe tbody tr th {\n",
       "        vertical-align: top;\n",
       "    }\n",
       "\n",
       "    .dataframe thead th {\n",
       "        text-align: right;\n",
       "    }\n",
       "</style>\n",
       "<table border=\"1\" class=\"dataframe\">\n",
       "  <thead>\n",
       "    <tr style=\"text-align: right;\">\n",
       "      <th></th>\n",
       "      <th>Term</th>\n",
       "      <th>Pair</th>\n",
       "      <th>Relationship</th>\n",
       "    </tr>\n",
       "  </thead>\n",
       "  <tbody>\n",
       "    <tr>\n",
       "      <th>0</th>\n",
       "      <td>carbon</td>\n",
       "      <td>original</td>\n",
       "      <td>ant</td>\n",
       "    </tr>\n",
       "    <tr>\n",
       "      <th>1</th>\n",
       "      <td>carbon</td>\n",
       "      <td>graphite</td>\n",
       "      <td>syn</td>\n",
       "    </tr>\n",
       "    <tr>\n",
       "      <th>2</th>\n",
       "      <td>carbon</td>\n",
       "      <td>soot</td>\n",
       "      <td>syn</td>\n",
       "    </tr>\n",
       "    <tr>\n",
       "      <th>3</th>\n",
       "      <td>carbon</td>\n",
       "      <td>imitate</td>\n",
       "      <td>syn</td>\n",
       "    </tr>\n",
       "    <tr>\n",
       "      <th>4</th>\n",
       "      <td>carbon</td>\n",
       "      <td>paint</td>\n",
       "      <td>syn</td>\n",
       "    </tr>\n",
       "    <tr>\n",
       "      <th>...</th>\n",
       "      <td>...</td>\n",
       "      <td>...</td>\n",
       "      <td>...</td>\n",
       "    </tr>\n",
       "    <tr>\n",
       "      <th>48492</th>\n",
       "      <td>angular</td>\n",
       "      <td>thin</td>\n",
       "      <td>syn</td>\n",
       "    </tr>\n",
       "    <tr>\n",
       "      <th>48493</th>\n",
       "      <td>angular</td>\n",
       "      <td>gangly</td>\n",
       "      <td>syn</td>\n",
       "    </tr>\n",
       "    <tr>\n",
       "      <th>48494</th>\n",
       "      <td>angular</td>\n",
       "      <td>scrawny</td>\n",
       "      <td>syn</td>\n",
       "    </tr>\n",
       "    <tr>\n",
       "      <th>48495</th>\n",
       "      <td>angular</td>\n",
       "      <td>slender</td>\n",
       "      <td>syn</td>\n",
       "    </tr>\n",
       "    <tr>\n",
       "      <th>48496</th>\n",
       "      <td>angular</td>\n",
       "      <td>spindly</td>\n",
       "      <td>syn</td>\n",
       "    </tr>\n",
       "  </tbody>\n",
       "</table>\n",
       "<p>48497 rows × 3 columns</p>\n",
       "</div>"
      ],
      "text/plain": [
       "          Term      Pair Relationship\n",
       "0       carbon  original          ant\n",
       "1       carbon  graphite          syn\n",
       "2       carbon      soot          syn\n",
       "3       carbon   imitate          syn\n",
       "4       carbon     paint          syn\n",
       "...        ...       ...          ...\n",
       "48492  angular      thin          syn\n",
       "48493  angular    gangly          syn\n",
       "48494  angular   scrawny          syn\n",
       "48495  angular   slender          syn\n",
       "48496  angular   spindly          syn\n",
       "\n",
       "[48497 rows x 3 columns]"
      ]
     },
     "execution_count": 34,
     "metadata": {},
     "output_type": "execute_result"
    }
   ],
   "source": [
    "carbon_df.rename(columns={\"0\": \"Term\", \"1\": \"Pair\", \"2\": \"Relationship\"}) #rename columns"
   ]
  },
  {
   "cell_type": "code",
   "execution_count": 29,
   "metadata": {},
   "outputs": [],
   "source": [
    "carbon_df.reset_index(drop=True, inplace=True) #resets row index"
   ]
  },
  {
   "cell_type": "code",
   "execution_count": null,
   "metadata": {},
   "outputs": [],
   "source": [
    "path = '/Users/Thomas/Desktop/BETO2020-master/Ant_Syn_Scraping/Sample_Refined_SynAntList.csv'\n",
    "df = pd.read_csv(path, index_col = 0)"
   ]
  },
  {
   "cell_type": "code",
   "execution_count": null,
   "metadata": {},
   "outputs": [],
   "source": [
    "#Chemical entity normalization using pubchempy\n",
    "#Can normalize by: molecular_formula, iupac_name, and synonyms\n",
    "#Can even extract particular properties of the \n",
    "import pubchempy as pcp\n",
    "from mendeleev import element"
   ]
  },
  {
   "cell_type": "code",
   "execution_count": null,
   "metadata": {},
   "outputs": [],
   "source": [
    "pde_df.to_csv('Sample_PDE_.csv')"
   ]
  },
  {
   "cell_type": "code",
   "execution_count": null,
   "metadata": {},
   "outputs": [],
   "source": [
    "pde_array = np.empty((110,3))\n",
    "pde_df = pd.DataFrame(data=pde_array[0:,:], columns = {'IUPAC','Element', 'Molecular Formula'})\n",
    "\n",
    "for i in range(1,110):\n",
    "    compound_ID = pcp.get_cids(element(i).name, 'name', list_return='flat')\n",
    "    compound = pcp.Compound.from_cid(compound_ID)\n",
    "    iupac = compound.iupac_name\n",
    "    formula = compound.molecular_formulaa\n",
    "    pde_df['Element'].iloc[i] = element(i).name\n",
    "    pde_df['IUPAC'].loc[i] = iupac\n",
    "    pde_df['Molecular Formula'].loc[i] = formula\n",
    "\n",
    "pde_df"
   ]
  }
 ],
 "metadata": {
  "kernelspec": {
   "display_name": "Python 3",
   "language": "python",
   "name": "python3"
  },
  "language_info": {
   "codemirror_mode": {
    "name": "ipython",
    "version": 3
   },
   "file_extension": ".py",
   "mimetype": "text/x-python",
   "name": "python",
   "nbconvert_exporter": "python",
   "pygments_lexer": "ipython3",
   "version": "3.7.3"
  }
 },
 "nbformat": 4,
 "nbformat_minor": 2
}
