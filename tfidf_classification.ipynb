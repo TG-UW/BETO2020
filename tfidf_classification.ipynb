{
 "cells": [
  {
   "cell_type": "code",
   "execution_count": 229,
   "metadata": {},
   "outputs": [],
   "source": [
    "import numpy as np\n",
    "import pandas as pd\n",
    "import os\n",
    "from sklearn.model_selection import train_test_split\n",
    "from nltk.corpus import stopwords \n",
    "from nltk.tokenize import word_tokenize\n",
    "import matplotlib\n",
    "import matplotlib.pyplot as plt "
   ]
  },
  {
   "cell_type": "code",
   "execution_count": 6,
   "metadata": {},
   "outputs": [],
   "source": [
    "cwd = os.getcwd()"
   ]
  },
  {
   "cell_type": "code",
   "execution_count": 406,
   "metadata": {},
   "outputs": [],
   "source": [
    "os.chdir('/Users/DavidJuergens/Desktop/BETO2020/scripts/')\n"
   ]
  },
  {
   "cell_type": "code",
   "execution_count": 407,
   "metadata": {},
   "outputs": [],
   "source": [
    "import tfidf_wrapper\n",
    "from tfidf_wrapper import tfidf_model"
   ]
  },
  {
   "cell_type": "code",
   "execution_count": 230,
   "metadata": {},
   "outputs": [],
   "source": [
    "goog_fr = '/Users/DavidJuergens/Google Drive File Stream/Shared drives/ChemE NLP Team Drive/Flame Retardants/'"
   ]
  },
  {
   "cell_type": "code",
   "execution_count": 414,
   "metadata": {},
   "outputs": [],
   "source": [
    "os.chdir(ci_goog)"
   ]
  },
  {
   "cell_type": "code",
   "execution_count": 416,
   "metadata": {},
   "outputs": [],
   "source": [
    "df_ci = pd.read_csv('corrosion_inhib_link_data.txt')"
   ]
  },
  {
   "cell_type": "code",
   "execution_count": 341,
   "metadata": {},
   "outputs": [],
   "source": [
    "df_fr = pd.read_excel('flame_retardant_link_data2.xlsx')"
   ]
  },
  {
   "cell_type": "code",
   "execution_count": 159,
   "metadata": {},
   "outputs": [],
   "source": [
    "ci_goog = '/Users/DavidJuergens/Google Drive File Stream/Shared drives/ChemE NLP Team Drive/Corrosion Inhibitors/'"
   ]
  },
  {
   "cell_type": "code",
   "execution_count": 160,
   "metadata": {},
   "outputs": [],
   "source": [
    "fr_goog = '/Users/DavidJuergens/Google Drive File Stream/Shared drives/ChemE NLP Team Drive/Flame Retardants/'"
   ]
  },
  {
   "cell_type": "code",
   "execution_count": 411,
   "metadata": {},
   "outputs": [],
   "source": [
    "# grabbing pub lists\n",
    "\n",
    "os.chdir(ci_goog)\n",
    "ci_file = open('cleaned_CIpubs.txt','r')\n",
    "dirty_ci_file = open('CIpubs.txt','r')\n",
    "os.chdir(fr_goog)\n",
    "fr_file = open('cleaned_flame_retardant_texts.txt','r')\n",
    "dirty_fr_file = open('flame_retardant_texts.txt','r')"
   ]
  },
  {
   "cell_type": "code",
   "execution_count": 412,
   "metadata": {},
   "outputs": [],
   "source": [
    "# creating pub lists\n",
    "\n",
    "ci_pubs = []\n",
    "dirty_ci = []\n",
    "fr_pubs = []\n",
    "dirty_fr = []\n",
    "\n",
    "for pub in ci_file:\n",
    "    ci_pubs.append(pub)\n",
    "\n",
    "for pub in fr_file:\n",
    "    fr_pubs.append(pub)"
   ]
  },
  {
   "cell_type": "code",
   "execution_count": 417,
   "metadata": {},
   "outputs": [],
   "source": [
    "# lower casing the list\n",
    "\n",
    "lower_ci_pubs = []\n",
    "for pub in ci_pubs:\n",
    "    lower_ci_pubs.append(pub.lower())"
   ]
  },
  {
   "cell_type": "code",
   "execution_count": 418,
   "metadata": {},
   "outputs": [],
   "source": [
    "df_ci['tfidf score'] = 'NaN'"
   ]
  },
  {
   "cell_type": "code",
   "execution_count": 419,
   "metadata": {},
   "outputs": [],
   "source": [
    "# create a boolean mask to find those which were successfully entered into the file AND are ranked\n",
    "msk = (df_ci['success'] == 1) & ((df_ci['DJ score'] >= 0.0) | (df_ci['AJ score'] >= 0.0) | (df_ci['WT score'] >= 0.0) | (df_ci['JO score'] >= 0.0) | (df_ci['AC score'] >= 0.0)) "
   ]
  },
  {
   "cell_type": "code",
   "execution_count": 420,
   "metadata": {},
   "outputs": [],
   "source": [
    "# method to create a single column of relevant labeled tf-idf scores that a model can use\n",
    "# the rule here was if it was ranked 2 by anyone, call it a 2\n",
    "# and if it was not ranked 2 by anyone, call it a 0\n",
    "\n",
    "def rank_tfidf2(df):\n",
    "    \n",
    "    for i in range(len(df)):\n",
    "        if df.loc[i,'DJ score'] != 'NaN' and df.loc[i,'WT score'] != 'NaN' and df.loc[i,'AC score'] != 'NaN' and df.loc[i,'JO score'] != 'NaN' and df.loc[i,'AJ score'] != 'NaN':\n",
    "            \n",
    "            if df.loc[i,'DJ score'] == 2.0 or df.loc[i,'WT score'] == 2.0 or df.loc[i,'AC score'] == 2.0 or df.loc[i,'JO score'] == 2.0 or df.loc[i,'AJ score'] == 2.0: \n",
    "                df.loc[i,'tfidf score'] = 2\n",
    "                \n",
    "            elif df.loc[i,'DJ score'] == 1.0 or df.loc[i,'WT score'] == 1.0 or df.loc[i,'AC score'] <= 1.0 or df.loc[i,'JO score'] == 1.0 or df.loc[i,'AJ score'] == 1.0:\n",
    "                df.loc[i,'tfidf score'] = 1    \n",
    "\n",
    "            elif df.loc[i,'DJ score'] < 1.0 or df.loc[i,'WT score'] < 1.0 or df.loc[i,'AC score'] < 1.0 or df.loc[i,'JO score'] < 1.0 or df.loc[i,'AJ score'] < 1.0:\n",
    "                df.loc[i,'tfidf score'] = 0\n",
    "    return df"
   ]
  },
  {
   "cell_type": "code",
   "execution_count": 421,
   "metadata": {},
   "outputs": [],
   "source": [
    "# different ranking system? I think I made this to see how it would change training \n",
    "\n",
    "def rank_tfidf(df):\n",
    "    \n",
    "    for i in range(len(df)):\n",
    "        if df.loc[i,'DJ score'] != 'NaN' and df.loc[i,'WT score'] != 'NaN' and df.loc[i,'AC score'] != 'NaN' and df.loc[i,'JO score'] != 'NaN' and df.loc[i,'AJ score'] != 'NaN':\n",
    "            \n",
    "            if df.loc[i,'DJ score'] == 2.0 or df.loc[i,'WT score'] == 2.0 or df.loc[i,'AC score'] == 2.0 or df.loc[i,'JO score'] == 2.0 or df.loc[i,'AJ score'] == 2.0: \n",
    "                df.loc[i,'tfidf score'] = 2\n",
    "\n",
    "            elif df.loc[i,'DJ score'] <= 1.0 or df.loc[i,'WT score'] <= 1.0 or df.loc[i,'AC score'] <= 1.0 or df.loc[i,'JO score'] <= 1.0 or df.loc[i,'AJ score'] <= 1.0:\n",
    "                df.loc[i,'tfidf score'] = 0\n",
    "    return df"
   ]
  },
  {
   "cell_type": "code",
   "execution_count": 422,
   "metadata": {},
   "outputs": [],
   "source": [
    "df_ci = rank_tfidf(df_ci)"
   ]
  },
  {
   "cell_type": "code",
   "execution_count": 423,
   "metadata": {},
   "outputs": [
    {
     "data": {
      "text/plain": [
       "18220"
      ]
     },
     "execution_count": 423,
     "metadata": {},
     "output_type": "execute_result"
    }
   ],
   "source": [
    "len(df_ci)"
   ]
  },
  {
   "cell_type": "code",
   "execution_count": 424,
   "metadata": {},
   "outputs": [
    {
     "data": {
      "text/plain": [
       "922"
      ]
     },
     "execution_count": 424,
     "metadata": {},
     "output_type": "execute_result"
    }
   ],
   "source": [
    "len(df_ci[msk])"
   ]
  },
  {
   "cell_type": "code",
   "execution_count": 426,
   "metadata": {},
   "outputs": [],
   "source": [
    "ranks = []\n",
    "positions = []\n",
    "texts = []\n",
    "\n",
    "df = df_ci[msk]"
   ]
  },
  {
   "cell_type": "code",
   "execution_count": 427,
   "metadata": {},
   "outputs": [
    {
     "data": {
      "text/html": [
       "<div>\n",
       "<style scoped>\n",
       "    .dataframe tbody tr th:only-of-type {\n",
       "        vertical-align: middle;\n",
       "    }\n",
       "\n",
       "    .dataframe tbody tr th {\n",
       "        vertical-align: top;\n",
       "    }\n",
       "\n",
       "    .dataframe thead th {\n",
       "        text-align: right;\n",
       "    }\n",
       "</style>\n",
       "<table border=\"1\" class=\"dataframe\">\n",
       "  <thead>\n",
       "    <tr style=\"text-align: right;\">\n",
       "      <th></th>\n",
       "      <th>Unnamed: 0</th>\n",
       "      <th>Unnamed: 0.1</th>\n",
       "      <th>number</th>\n",
       "      <th>year</th>\n",
       "      <th>url</th>\n",
       "      <th>DJ score</th>\n",
       "      <th>WT score</th>\n",
       "      <th>AC score</th>\n",
       "      <th>JO score</th>\n",
       "      <th>AJ score</th>\n",
       "      <th>pdf only?</th>\n",
       "      <th>success</th>\n",
       "      <th>full text index</th>\n",
       "      <th>tfidf score</th>\n",
       "    </tr>\n",
       "  </thead>\n",
       "  <tbody>\n",
       "    <tr>\n",
       "      <th>33</th>\n",
       "      <td>33</td>\n",
       "      <td>33</td>\n",
       "      <td>33</td>\n",
       "      <td>1991</td>\n",
       "      <td>https://www-sciencedirect-com.offcampus.lib.wa...</td>\n",
       "      <td>0.0</td>\n",
       "      <td>NaN</td>\n",
       "      <td>NaN</td>\n",
       "      <td>NaN</td>\n",
       "      <td>NaN</td>\n",
       "      <td>NaN</td>\n",
       "      <td>1</td>\n",
       "      <td>11.0</td>\n",
       "      <td>0</td>\n",
       "    </tr>\n",
       "    <tr>\n",
       "      <th>39</th>\n",
       "      <td>39</td>\n",
       "      <td>39</td>\n",
       "      <td>39</td>\n",
       "      <td>1992</td>\n",
       "      <td>https://www-sciencedirect-com.offcampus.lib.wa...</td>\n",
       "      <td>NaN</td>\n",
       "      <td>NaN</td>\n",
       "      <td>2.0</td>\n",
       "      <td>NaN</td>\n",
       "      <td>NaN</td>\n",
       "      <td>NaN</td>\n",
       "      <td>1</td>\n",
       "      <td>12.0</td>\n",
       "      <td>2</td>\n",
       "    </tr>\n",
       "    <tr>\n",
       "      <th>89</th>\n",
       "      <td>89</td>\n",
       "      <td>89</td>\n",
       "      <td>89</td>\n",
       "      <td>1995</td>\n",
       "      <td>https://www-sciencedirect-com.offcampus.lib.wa...</td>\n",
       "      <td>NaN</td>\n",
       "      <td>NaN</td>\n",
       "      <td>NaN</td>\n",
       "      <td>0.0</td>\n",
       "      <td>NaN</td>\n",
       "      <td>NaN</td>\n",
       "      <td>1</td>\n",
       "      <td>30.0</td>\n",
       "      <td>0</td>\n",
       "    </tr>\n",
       "    <tr>\n",
       "      <th>106</th>\n",
       "      <td>106</td>\n",
       "      <td>106</td>\n",
       "      <td>106</td>\n",
       "      <td>1996</td>\n",
       "      <td>https://www-sciencedirect-com.offcampus.lib.wa...</td>\n",
       "      <td>NaN</td>\n",
       "      <td>NaN</td>\n",
       "      <td>1.0</td>\n",
       "      <td>NaN</td>\n",
       "      <td>NaN</td>\n",
       "      <td>*</td>\n",
       "      <td>1</td>\n",
       "      <td>41.0</td>\n",
       "      <td>0</td>\n",
       "    </tr>\n",
       "    <tr>\n",
       "      <th>127</th>\n",
       "      <td>127</td>\n",
       "      <td>127</td>\n",
       "      <td>127</td>\n",
       "      <td>1996</td>\n",
       "      <td>https://www-sciencedirect-com.offcampus.lib.wa...</td>\n",
       "      <td>0.0</td>\n",
       "      <td>NaN</td>\n",
       "      <td>NaN</td>\n",
       "      <td>NaN</td>\n",
       "      <td>NaN</td>\n",
       "      <td>NaN</td>\n",
       "      <td>1</td>\n",
       "      <td>59.0</td>\n",
       "      <td>0</td>\n",
       "    </tr>\n",
       "  </tbody>\n",
       "</table>\n",
       "</div>"
      ],
      "text/plain": [
       "     Unnamed: 0  Unnamed: 0.1  number  year  \\\n",
       "33           33            33      33  1991   \n",
       "39           39            39      39  1992   \n",
       "89           89            89      89  1995   \n",
       "106         106           106     106  1996   \n",
       "127         127           127     127  1996   \n",
       "\n",
       "                                                   url  DJ score  WT score  \\\n",
       "33   https://www-sciencedirect-com.offcampus.lib.wa...       0.0       NaN   \n",
       "39   https://www-sciencedirect-com.offcampus.lib.wa...       NaN       NaN   \n",
       "89   https://www-sciencedirect-com.offcampus.lib.wa...       NaN       NaN   \n",
       "106  https://www-sciencedirect-com.offcampus.lib.wa...       NaN       NaN   \n",
       "127  https://www-sciencedirect-com.offcampus.lib.wa...       0.0       NaN   \n",
       "\n",
       "     AC score  JO score  AJ score pdf only?  success  full text index  \\\n",
       "33        NaN       NaN       NaN       NaN        1             11.0   \n",
       "39        2.0       NaN       NaN       NaN        1             12.0   \n",
       "89        NaN       0.0       NaN       NaN        1             30.0   \n",
       "106       1.0       NaN       NaN         *        1             41.0   \n",
       "127       NaN       NaN       NaN       NaN        1             59.0   \n",
       "\n",
       "    tfidf score  \n",
       "33            0  \n",
       "39            2  \n",
       "89            0  \n",
       "106           0  \n",
       "127           0  "
      ]
     },
     "execution_count": 427,
     "metadata": {},
     "output_type": "execute_result"
    }
   ],
   "source": [
    "df.head()"
   ]
  },
  {
   "cell_type": "code",
   "execution_count": 428,
   "metadata": {},
   "outputs": [],
   "source": [
    "for i in range(len(df)):\n",
    "    ranks.append(df.iloc[i,13])\n",
    "    positions.append(int(df.iloc[i,12]))"
   ]
  },
  {
   "cell_type": "code",
   "execution_count": 429,
   "metadata": {},
   "outputs": [],
   "source": [
    "for position in positions:\n",
    "    texts.append(ci_pubs[position])"
   ]
  },
  {
   "cell_type": "code",
   "execution_count": 430,
   "metadata": {},
   "outputs": [
    {
     "data": {
      "text/plain": [
       "922"
      ]
     },
     "execution_count": 430,
     "metadata": {},
     "output_type": "execute_result"
    }
   ],
   "source": [
    "# checking lengths to make sure they are the same \n",
    "len(texts)"
   ]
  },
  {
   "cell_type": "code",
   "execution_count": 431,
   "metadata": {},
   "outputs": [
    {
     "data": {
      "text/plain": [
       "922"
      ]
     },
     "execution_count": 431,
     "metadata": {},
     "output_type": "execute_result"
    }
   ],
   "source": [
    "len(ranks)"
   ]
  },
  {
   "cell_type": "code",
   "execution_count": 439,
   "metadata": {},
   "outputs": [],
   "source": [
    "# train test split\n",
    "\n",
    "X_train2, X_test2, y_train2, y_test2 = train_test_split(texts, ranks, test_size=0.20, random_state=42)"
   ]
  },
  {
   "cell_type": "code",
   "execution_count": 440,
   "metadata": {},
   "outputs": [],
   "source": [
    "# train the model\n",
    "model2 = tfidf_model(X_train2,y_train2)\n",
    "model2.train(ngrams = 2)"
   ]
  },
  {
   "cell_type": "code",
   "execution_count": 441,
   "metadata": {},
   "outputs": [
    {
     "name": "stdout",
     "output_type": "stream",
     "text": [
      "Accuracy is 98.91891891891892 %\n"
     ]
    },
    {
     "data": {
      "text/plain": [
       "array([0, 2, 0, 2, 0, 2, 2, 0, 0, 2, 0, 0, 0, 0, 0, 2, 0, 0, 0, 0, 0, 0,\n",
       "       0, 0, 0, 0, 0, 0, 0, 0, 0, 0, 0, 0, 2, 0, 0, 0, 0, 0, 0, 0, 2, 0,\n",
       "       0, 0, 0, 0, 2, 2, 0, 2, 2, 0, 0, 0, 0, 0, 0, 0, 0, 0, 0, 0, 2, 2,\n",
       "       0, 0, 0, 0, 0, 0, 0, 0, 2, 0, 2, 0, 0, 2, 0, 0, 2, 0, 0, 0, 0, 0,\n",
       "       0, 0, 0, 0, 0, 0, 0, 0, 2, 0, 2, 0, 0, 0, 0, 0, 0, 0, 2, 0, 2, 2,\n",
       "       0, 2, 2, 0, 0, 0, 0, 2, 2, 0, 2, 2, 0, 0, 0, 0, 0, 0, 0, 0, 2, 0,\n",
       "       2, 0, 0, 2, 0, 0, 0, 0, 0, 0, 0, 0, 2, 0, 0, 0, 0, 0, 0, 0, 0, 2,\n",
       "       0, 2, 0, 0, 0, 0, 0, 0, 2, 2, 0, 0, 0, 2, 0, 0, 0, 2, 2, 0, 2, 2,\n",
       "       0, 0, 2, 0, 0, 0, 0, 2, 0])"
      ]
     },
     "execution_count": 441,
     "metadata": {},
     "output_type": "execute_result"
    }
   ],
   "source": [
    "# make predictions with the model\n",
    "model.predict(X_test2,y_test2)"
   ]
  },
  {
   "cell_type": "code",
   "execution_count": 435,
   "metadata": {},
   "outputs": [
    {
     "data": {
      "text/plain": [
       "array([0, 2, 0, 0, 2, 0, 0, 0, 0, 0, 2, 0, 2, 2, 0, 0, 0, 0, 0, 0, 0, 0,\n",
       "       0, 0, 2, 0, 2, 0, 0, 0, 0, 0, 0, 0, 0, 0, 0, 2, 0, 0, 2, 0, 0, 0,\n",
       "       0, 0, 0, 0, 0, 2, 0, 2, 0, 0, 0, 0, 0, 0, 0, 0, 0, 0, 0, 0, 0, 2,\n",
       "       0, 2, 0, 0, 0, 0, 0, 0, 0, 2, 2, 0, 2, 0, 2, 0, 0, 0, 0, 0, 0, 0,\n",
       "       0, 0, 0, 0, 0, 0, 0, 0, 0, 2, 0, 0, 0, 0, 0, 0, 0, 0, 0, 0, 2, 0,\n",
       "       2, 2, 0, 0, 0, 0, 2, 0, 0, 0, 0, 0, 0, 0, 2, 2, 0, 0, 2, 0, 0, 0,\n",
       "       0, 0, 0, 0, 0, 0, 2, 2, 0, 0, 0, 0, 0, 0, 0, 0, 0, 2, 2, 2, 0, 0,\n",
       "       2, 0, 0, 2, 2, 0, 2, 0, 0, 2, 0, 0, 0, 2, 0, 0, 0, 0, 2, 2, 0, 0,\n",
       "       0, 0, 0, 2, 0, 0, 0, 0, 2])"
      ]
     },
     "execution_count": 435,
     "metadata": {},
     "output_type": "execute_result"
    }
   ],
   "source": [
    "# compare what the model was trying to get \n",
    "np.array(y_test2)"
   ]
  },
  {
   "cell_type": "code",
   "execution_count": 443,
   "metadata": {},
   "outputs": [],
   "source": [
    "df_success = df_ci[df_ci['success'] == 1]"
   ]
  },
  {
   "cell_type": "code",
   "execution_count": null,
   "metadata": {},
   "outputs": [],
   "source": []
  },
  {
   "cell_type": "code",
   "execution_count": 176,
   "metadata": {},
   "outputs": [
    {
     "name": "stderr",
     "output_type": "stream",
     "text": [
      "/anaconda3/lib/python3.7/site-packages/ipykernel_launcher.py:1: SettingWithCopyWarning: \n",
      "A value is trying to be set on a copy of a slice from a DataFrame.\n",
      "Try using .loc[row_indexer,col_indexer] = value instead\n",
      "\n",
      "See the caveats in the documentation: http://pandas.pydata.org/pandas-docs/stable/indexing.html#indexing-view-versus-copy\n",
      "  \"\"\"Entry point for launching an IPython kernel.\n"
     ]
    }
   ],
   "source": [
    "df_success['model classification'] = pub_predictions"
   ]
  },
  {
   "cell_type": "code",
   "execution_count": 177,
   "metadata": {},
   "outputs": [
    {
     "data": {
      "text/plain": [
       "17872"
      ]
     },
     "execution_count": 177,
     "metadata": {},
     "output_type": "execute_result"
    }
   ],
   "source": [
    "len(df_ci[df_ci['success'] == 1])"
   ]
  },
  {
   "cell_type": "code",
   "execution_count": 46,
   "metadata": {},
   "outputs": [
    {
     "data": {
      "text/plain": [
       "17872"
      ]
     },
     "execution_count": 46,
     "metadata": {},
     "output_type": "execute_result"
    }
   ],
   "source": [
    "len(pub_predictions)"
   ]
  },
  {
   "cell_type": "code",
   "execution_count": 48,
   "metadata": {},
   "outputs": [],
   "source": [
    "classifications = df_success['model classification'].values"
   ]
  },
  {
   "cell_type": "code",
   "execution_count": 49,
   "metadata": {},
   "outputs": [],
   "source": [
    "# here we are creating an array, which at each position, is the average rank of the current publication \n",
    "# and the 20 that follow it\n",
    "\n",
    "avg_class = np.array([])\n",
    "for i in range(len(classifications)-20):\n",
    "    average = np.mean(classifications[i:i+20])\n",
    "    avg_class = np.append(avg_class,average)\n",
    "    "
   ]
  },
  {
   "cell_type": "code",
   "execution_count": 50,
   "metadata": {},
   "outputs": [],
   "source": [
    "years = df_success['year'].values"
   ]
  },
  {
   "cell_type": "code",
   "execution_count": 51,
   "metadata": {},
   "outputs": [],
   "source": [
    "years2 = years[:-20]"
   ]
  },
  {
   "cell_type": "code",
   "execution_count": 56,
   "metadata": {},
   "outputs": [],
   "source": [
    "index = np.arange(len(avg_class))"
   ]
  },
  {
   "cell_type": "code",
   "execution_count": 129,
   "metadata": {},
   "outputs": [],
   "source": [
    "# creating some arrays for the plot\n",
    "years_index = np.array([])\n",
    "years_array = np.array(['91','92','93','94','95','96','97','98','99','00','01','02','03','04','05','06','07','08','09','10','11','\\'12','\\'13','\\'14','\\'15','\\'16','\\'17','\\'18','\\'19'])\n",
    "for i in range(1,len(avg_class)):\n",
    "    if years[i] == years[i-1] + 1:\n",
    "        years_index = np.append(years_index,i)\n",
    "    "
   ]
  },
  {
   "cell_type": "code",
   "execution_count": 204,
   "metadata": {},
   "outputs": [
    {
     "data": {
      "image/png": "[encoded data removed]",
      "text/plain": [
       "<Figure size 432x288 with 1 Axes>"
      ]
     },
     "metadata": {
      "needs_background": "light"
     },
     "output_type": "display_data"
    }
   ],
   "source": [
    "# plotting the average publication rank as a function of it's chronological entrance into the corpus\n",
    "\n",
    "fig = plt.figure()\n",
    "ax = plt.axes()\n",
    "font = {\n",
    "        'color':  'black',\n",
    "        'weight': 'normal',\n",
    "        'size': 16,\n",
    "        }\n",
    "ax.set_xticks(years_index)\n",
    "ax.set_xticklabels(years_array)\n",
    "ax.set_title('Relevance of publications',fontdict = font)\n",
    "ax.set_xlabel('Year',fontdict=font)\n",
    "ax.set_ylabel('Mean TF-IDF Score',fontdict=font)\n",
    "\n",
    "ax.plot(index[5700:],avg_class[5700:])\n",
    "fig.savefig('relevance of publications.png',dpi = 300)"
   ]
  },
  {
   "cell_type": "code",
   "execution_count": 205,
   "metadata": {},
   "outputs": [
    {
     "data": {
      "text/plain": [
       "'/Volumes/GoogleDrive/Shared drives/ChemE NLP Team Drive/Corrosion Inhibitors'"
      ]
     },
     "execution_count": 205,
     "metadata": {},
     "output_type": "execute_result"
    }
   ],
   "source": [
    "os.getcwd()"
   ]
  },
  {
   "cell_type": "code",
   "execution_count": 139,
   "metadata": {},
   "outputs": [],
   "source": [
    "os.chdir('/Users/DavidJuergens/Desktop/GradSchool/PRG/BETO2020_Local/Reports/Milestone 4.2/')\n",
    "fig.savefig('publication_relevance_vs_year.jpg',quality = 95,dpi=300)"
   ]
  },
  {
   "cell_type": "code",
   "execution_count": 182,
   "metadata": {},
   "outputs": [
    {
     "data": {
      "text/plain": [
       "17872"
      ]
     },
     "execution_count": 182,
     "metadata": {},
     "output_type": "execute_result"
    }
   ],
   "source": [
    "len(ci_pubs)"
   ]
  },
  {
   "cell_type": "code",
   "execution_count": 184,
   "metadata": {},
   "outputs": [
    {
     "data": {
      "text/plain": [
       "17872"
      ]
     },
     "execution_count": 184,
     "metadata": {},
     "output_type": "execute_result"
    }
   ],
   "source": [
    "len(df_success)"
   ]
  },
  {
   "cell_type": "code",
   "execution_count": 185,
   "metadata": {},
   "outputs": [
    {
     "data": {
      "text/html": [
       "<div>\n",
       "<style scoped>\n",
       "    .dataframe tbody tr th:only-of-type {\n",
       "        vertical-align: middle;\n",
       "    }\n",
       "\n",
       "    .dataframe tbody tr th {\n",
       "        vertical-align: top;\n",
       "    }\n",
       "\n",
       "    .dataframe thead th {\n",
       "        text-align: right;\n",
       "    }\n",
       "</style>\n",
       "<table border=\"1\" class=\"dataframe\">\n",
       "  <thead>\n",
       "    <tr style=\"text-align: right;\">\n",
       "      <th></th>\n",
       "      <th>Unnamed: 0</th>\n",
       "      <th>Unnamed: 0.1</th>\n",
       "      <th>number</th>\n",
       "      <th>year</th>\n",
       "      <th>url</th>\n",
       "      <th>DJ score</th>\n",
       "      <th>WT score</th>\n",
       "      <th>AC score</th>\n",
       "      <th>JO score</th>\n",
       "      <th>AJ score</th>\n",
       "      <th>pdf only?</th>\n",
       "      <th>success</th>\n",
       "      <th>full text index</th>\n",
       "      <th>tfidf score</th>\n",
       "      <th>model classification</th>\n",
       "    </tr>\n",
       "  </thead>\n",
       "  <tbody>\n",
       "    <tr>\n",
       "      <th>2</th>\n",
       "      <td>2</td>\n",
       "      <td>2</td>\n",
       "      <td>2</td>\n",
       "      <td>1990</td>\n",
       "      <td>https://www-sciencedirect-com.offcampus.lib.wa...</td>\n",
       "      <td>NaN</td>\n",
       "      <td>NaN</td>\n",
       "      <td>NaN</td>\n",
       "      <td>NaN</td>\n",
       "      <td>NaN</td>\n",
       "      <td>NaN</td>\n",
       "      <td>1</td>\n",
       "      <td>0.0</td>\n",
       "      <td>NaN</td>\n",
       "      <td>0</td>\n",
       "    </tr>\n",
       "    <tr>\n",
       "      <th>6</th>\n",
       "      <td>6</td>\n",
       "      <td>6</td>\n",
       "      <td>6</td>\n",
       "      <td>1990</td>\n",
       "      <td>https://www-sciencedirect-com.offcampus.lib.wa...</td>\n",
       "      <td>NaN</td>\n",
       "      <td>NaN</td>\n",
       "      <td>NaN</td>\n",
       "      <td>NaN</td>\n",
       "      <td>NaN</td>\n",
       "      <td>NaN</td>\n",
       "      <td>1</td>\n",
       "      <td>1.0</td>\n",
       "      <td>NaN</td>\n",
       "      <td>0</td>\n",
       "    </tr>\n",
       "    <tr>\n",
       "      <th>9</th>\n",
       "      <td>9</td>\n",
       "      <td>9</td>\n",
       "      <td>9</td>\n",
       "      <td>1990</td>\n",
       "      <td>https://www-sciencedirect-com.offcampus.lib.wa...</td>\n",
       "      <td>NaN</td>\n",
       "      <td>NaN</td>\n",
       "      <td>NaN</td>\n",
       "      <td>NaN</td>\n",
       "      <td>NaN</td>\n",
       "      <td>NaN</td>\n",
       "      <td>1</td>\n",
       "      <td>2.0</td>\n",
       "      <td>NaN</td>\n",
       "      <td>0</td>\n",
       "    </tr>\n",
       "    <tr>\n",
       "      <th>11</th>\n",
       "      <td>11</td>\n",
       "      <td>11</td>\n",
       "      <td>11</td>\n",
       "      <td>1990</td>\n",
       "      <td>https://www-sciencedirect-com.offcampus.lib.wa...</td>\n",
       "      <td>NaN</td>\n",
       "      <td>NaN</td>\n",
       "      <td>NaN</td>\n",
       "      <td>NaN</td>\n",
       "      <td>NaN</td>\n",
       "      <td>NaN</td>\n",
       "      <td>1</td>\n",
       "      <td>3.0</td>\n",
       "      <td>NaN</td>\n",
       "      <td>0</td>\n",
       "    </tr>\n",
       "    <tr>\n",
       "      <th>13</th>\n",
       "      <td>13</td>\n",
       "      <td>13</td>\n",
       "      <td>13</td>\n",
       "      <td>1990</td>\n",
       "      <td>https://www-sciencedirect-com.offcampus.lib.wa...</td>\n",
       "      <td>NaN</td>\n",
       "      <td>NaN</td>\n",
       "      <td>NaN</td>\n",
       "      <td>NaN</td>\n",
       "      <td>NaN</td>\n",
       "      <td>NaN</td>\n",
       "      <td>1</td>\n",
       "      <td>4.0</td>\n",
       "      <td>NaN</td>\n",
       "      <td>0</td>\n",
       "    </tr>\n",
       "  </tbody>\n",
       "</table>\n",
       "</div>"
      ],
      "text/plain": [
       "    Unnamed: 0  Unnamed: 0.1  number  year  \\\n",
       "2            2             2       2  1990   \n",
       "6            6             6       6  1990   \n",
       "9            9             9       9  1990   \n",
       "11          11            11      11  1990   \n",
       "13          13            13      13  1990   \n",
       "\n",
       "                                                  url  DJ score  WT score  \\\n",
       "2   https://www-sciencedirect-com.offcampus.lib.wa...       NaN       NaN   \n",
       "6   https://www-sciencedirect-com.offcampus.lib.wa...       NaN       NaN   \n",
       "9   https://www-sciencedirect-com.offcampus.lib.wa...       NaN       NaN   \n",
       "11  https://www-sciencedirect-com.offcampus.lib.wa...       NaN       NaN   \n",
       "13  https://www-sciencedirect-com.offcampus.lib.wa...       NaN       NaN   \n",
       "\n",
       "    AC score  JO score  AJ score pdf only?  success  full text index  \\\n",
       "2        NaN       NaN       NaN       NaN        1              0.0   \n",
       "6        NaN       NaN       NaN       NaN        1              1.0   \n",
       "9        NaN       NaN       NaN       NaN        1              2.0   \n",
       "11       NaN       NaN       NaN       NaN        1              3.0   \n",
       "13       NaN       NaN       NaN       NaN        1              4.0   \n",
       "\n",
       "   tfidf score  model classification  \n",
       "2          NaN                     0  \n",
       "6          NaN                     0  \n",
       "9          NaN                     0  \n",
       "11         NaN                     0  \n",
       "13         NaN                     0  "
      ]
     },
     "execution_count": 185,
     "metadata": {},
     "output_type": "execute_result"
    }
   ],
   "source": [
    "df_success.head()"
   ]
  },
  {
   "cell_type": "code",
   "execution_count": 195,
   "metadata": {},
   "outputs": [
    {
     "data": {
      "text/plain": [
       "1.0"
      ]
     },
     "execution_count": 195,
     "metadata": {},
     "output_type": "execute_result"
    }
   ],
   "source": [
    "df_success.iloc[1,14]"
   ]
  },
  {
   "cell_type": "code",
   "execution_count": 196,
   "metadata": {},
   "outputs": [],
   "source": [
    "with open('rank-0-CIpubs.txt','w') as file:\n",
    "    for i in range(len(df_success)):\n",
    "        if df_success.iloc[i,14] == 0:\n",
    "            file.write(ci_pubs[i])"
   ]
  },
  {
   "cell_type": "code",
   "execution_count": 198,
   "metadata": {},
   "outputs": [],
   "source": [
    "test = np.array([1,2,3,4,5])\n",
    "test2 = np.array([6,7,8,9,10])"
   ]
  },
  {
   "cell_type": "code",
   "execution_count": 201,
   "metadata": {},
   "outputs": [],
   "source": [
    "test = np.vstack((test,test2))"
   ]
  },
  {
   "cell_type": "code",
   "execution_count": 202,
   "metadata": {},
   "outputs": [
    {
     "data": {
      "text/plain": [
       "array([[ 1,  2,  3,  4,  5],\n",
       "       [ 6,  7,  8,  9, 10]])"
      ]
     },
     "execution_count": 202,
     "metadata": {},
     "output_type": "execute_result"
    }
   ],
   "source": [
    "test"
   ]
  },
  {
   "cell_type": "code",
   "execution_count": null,
   "metadata": {},
   "outputs": [],
   "source": []
  }
 ],
 "metadata": {
  "kernelspec": {
   "display_name": "Python 3",
   "language": "python",
   "name": "python3"
  },
  "language_info": {
   "codemirror_mode": {
    "name": "ipython",
    "version": 3
   },
   "file_extension": ".py",
   "mimetype": "text/x-python",
   "name": "python",
   "nbconvert_exporter": "python",
   "pygments_lexer": "ipython3",
   "version": "3.7.3"
  }
 },
 "nbformat": 4,
 "nbformat_minor": 2
}
